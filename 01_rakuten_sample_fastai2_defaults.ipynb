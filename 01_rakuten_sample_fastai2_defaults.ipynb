{
  "nbformat": 4,
  "nbformat_minor": 0,
  "metadata": {
    "kernelspec": {
      "display_name": "Python 3",
      "language": "python",
      "name": "python3"
    },
    "language_info": {
      "codemirror_mode": {
        "name": "ipython",
        "version": 3
      },
      "file_extension": ".py",
      "mimetype": "text/x-python",
      "name": "python",
      "nbconvert_exporter": "python",
      "pygments_lexer": "ipython3",
      "version": "3.7.6"
    },
    "colab": {
      "name": "01-rakuten-sample-fastai2-defaults.ipynb",
      "provenance": [],
      "collapsed_sections": [
        "0ILENTRHXSfd"
      ]
    },
    "accelerator": "GPU"
  },
  "cells": [
    {
      "cell_type": "markdown",
      "metadata": {
        "id": "l1lB2KzbGKuR",
        "colab_type": "text"
      },
      "source": [
        "This starter notebook makes use of the pandas dataframe generated from Tendo EDA notebook and uses the file called 'df_all.csv'\n",
        "\n",
        "Using this file we will sample 20% of the data to create a sample submission."
      ]
    },
    {
      "cell_type": "code",
      "metadata": {
        "id": "00ZU4g2mXSfN",
        "colab_type": "code",
        "colab": {
          "base_uri": "https://localhost:8080/",
          "height": 51
        },
        "outputId": "59c6a5fb-6af9-4388-a8d9-3c79f430aa4d"
      },
      "source": [
        "%%capture\n",
        "!pip install fastcore fastai2 nbdev -q"
      ],
      "execution_count": 1,
      "outputs": [
        {
          "output_type": "stream",
          "text": [
            "\u001b[K     |████████████████████████████████| 194kB 8.7MB/s \n",
            "\u001b[K     |████████████████████████████████| 51kB 6.8MB/s \n",
            "\u001b[?25h"
          ],
          "name": "stdout"
        }
      ]
    },
    {
      "cell_type": "markdown",
      "metadata": {
        "id": "2YwW8peiXSfT",
        "colab_type": "text"
      },
      "source": [
        "# Imports"
      ]
    },
    {
      "cell_type": "code",
      "metadata": {
        "id": "RrBj_pmuXSfU",
        "colab_type": "code",
        "colab": {}
      },
      "source": [
        "from fastai2.text.all import *\n",
        "from fastai2.tabular.all import *\n",
        "import pandas as pd\n",
        "\n",
        "from pathlib import Path"
      ],
      "execution_count": 0,
      "outputs": []
    },
    {
      "cell_type": "code",
      "metadata": {
        "id": "a2oMBqdFXSfY",
        "colab_type": "code",
        "colab": {}
      },
      "source": [
        "ALL = 'df_all.csv'\n",
        "FILENAME='df_sample.csv'"
      ],
      "execution_count": 0,
      "outputs": []
    },
    {
      "cell_type": "code",
      "metadata": {
        "id": "R_sPYTqgF90r",
        "colab_type": "code",
        "colab": {}
      },
      "source": [
        "df_all = pd.read_csv(Path(f'{ALL}'))"
      ],
      "execution_count": 0,
      "outputs": []
    },
    {
      "cell_type": "markdown",
      "metadata": {
        "id": "83qX1qieG-BJ",
        "colab_type": "text"
      },
      "source": [
        ""
      ]
    },
    {
      "cell_type": "code",
      "metadata": {
        "id": "JA8Nrr7yGfIk",
        "colab_type": "code",
        "colab": {}
      },
      "source": [
        "df_sample = df_all.sample(frac=0.2, random_state=42)"
      ],
      "execution_count": 0,
      "outputs": []
    },
    {
      "cell_type": "code",
      "metadata": {
        "id": "uC41SO0uGnII",
        "colab_type": "code",
        "colab": {
          "base_uri": "https://localhost:8080/",
          "height": 34
        },
        "outputId": "1796bfbd-697d-434b-bb62-4ea6ddee5213"
      },
      "source": [
        "len(df_sample)"
      ],
      "execution_count": 80,
      "outputs": [
        {
          "output_type": "execute_result",
          "data": {
            "text/plain": [
              "16983"
            ]
          },
          "metadata": {
            "tags": []
          },
          "execution_count": 80
        }
      ]
    },
    {
      "cell_type": "code",
      "metadata": {
        "id": "L2U9gIkoHE4-",
        "colab_type": "code",
        "colab": {}
      },
      "source": [
        "#In order to reproduce this, please uncomment and execute this cell and continue from the DataBlock section\n",
        "df_sample.to_csv('df_sample.csv', index=False)"
      ],
      "execution_count": 0,
      "outputs": []
    },
    {
      "cell_type": "markdown",
      "metadata": {
        "id": "0ILENTRHXSfd",
        "colab_type": "text"
      },
      "source": [
        "# Loading Data"
      ]
    },
    {
      "cell_type": "code",
      "metadata": {
        "id": "3ztg8A4nXSfi",
        "colab_type": "code",
        "colab": {}
      },
      "source": [
        "df = pd.read_csv(Path(f'{FILENAME}'))"
      ],
      "execution_count": 0,
      "outputs": []
    },
    {
      "cell_type": "code",
      "metadata": {
        "id": "wbW33pMYXSfl",
        "colab_type": "code",
        "colab": {
          "base_uri": "https://localhost:8080/",
          "height": 153
        },
        "outputId": "d8000796-7817-4312-812d-829dfa04421c"
      },
      "source": [
        "len(df),list(df.columns.values)"
      ],
      "execution_count": 65,
      "outputs": [
        {
          "output_type": "execute_result",
          "data": {
            "text/plain": [
              "(84916,\n",
              " ['Title',\n",
              "  'Description',\n",
              "  'Image_id',\n",
              "  'Product_id',\n",
              "  'Prdtypecode',\n",
              "  'Prdlbl',\n",
              "  'image_path'])"
            ]
          },
          "metadata": {
            "tags": []
          },
          "execution_count": 65
        }
      ]
    },
    {
      "cell_type": "code",
      "metadata": {
        "id": "n6Mwbt18XSfp",
        "colab_type": "code",
        "colab": {
          "base_uri": "https://localhost:8080/",
          "height": 740
        },
        "outputId": "66dd30b0-3e34-4799-8208-0953a30ebbf6"
      },
      "source": [
        "df.sample(n=3)"
      ],
      "execution_count": 66,
      "outputs": [
        {
          "output_type": "execute_result",
          "data": {
            "text/html": [
              "<div>\n",
              "<style scoped>\n",
              "    .dataframe tbody tr th:only-of-type {\n",
              "        vertical-align: middle;\n",
              "    }\n",
              "\n",
              "    .dataframe tbody tr th {\n",
              "        vertical-align: top;\n",
              "    }\n",
              "\n",
              "    .dataframe thead th {\n",
              "        text-align: right;\n",
              "    }\n",
              "</style>\n",
              "<table border=\"1\" class=\"dataframe\">\n",
              "  <thead>\n",
              "    <tr style=\"text-align: right;\">\n",
              "      <th></th>\n",
              "      <th>Title</th>\n",
              "      <th>Description</th>\n",
              "      <th>Image_id</th>\n",
              "      <th>Product_id</th>\n",
              "      <th>Prdtypecode</th>\n",
              "      <th>Prdlbl</th>\n",
              "      <th>image_path</th>\n",
              "    </tr>\n",
              "  </thead>\n",
              "  <tbody>\n",
              "    <tr>\n",
              "      <th>78739</th>\n",
              "      <td>Alimentation Chargeur Secteur Officiel Sony Pour Sony Playstation 2 Slim Ps2 Pstwo</td>\n",
              "      <td>NaN</td>\n",
              "      <td>1186557830</td>\n",
              "      <td>3032960250</td>\n",
              "      <td>2462</td>\n",
              "      <td>Entertainment</td>\n",
              "      <td>Rakuten/dataset/image/image_training/image_1186557830_product_3032960250.jpg</td>\n",
              "    </tr>\n",
              "    <tr>\n",
              "      <th>53316</th>\n",
              "      <td>6 Numéros De La Revue Mad Movies.</td>\n",
              "      <td>NaN</td>\n",
              "      <td>1230866174</td>\n",
              "      <td>3642604587</td>\n",
              "      <td>2403</td>\n",
              "      <td>Books</td>\n",
              "      <td>Rakuten/dataset/image/image_training/image_1230866174_product_3642604587.jpg</td>\n",
              "    </tr>\n",
              "    <tr>\n",
              "      <th>58667</th>\n",
              "      <td>Madkanao Hélicoptère 5116 Prise Xt60 De La Batterie Zop 11.1v 1500mah 3s 40c Pour La Partie D'hélicoptère D'avion De Voiture De Rc</td>\n",
              "      <td>ZOP 11.1V 1500Mah 3S 40C Batterie XT60 Prise pour hélicoptère d&amp;#39;avion de voiture RC Description de la pièce: Batterie rechargeableHaute capacité et haute capacitéEmballage favorable à l&amp;#39;environnementStable de sortie actuel protégez votre modèle RCDécharge durable et à haut débit durable Facile à installer et durableType de produit: Batterie rechargeable lithium polymère batterie rechargeable paramètre: Puissance ZOP 11.1V 1500Mah 40CCapacité de la batterie: 1500MAhTaux de décharge en continu: 40C MAX 60Ctaille de la batterie: 110g Connecteur: XT60 plugL&amp;#39;emballage comprend: 1 pile</td>\n",
              "      <td>1328578347</td>\n",
              "      <td>4250646061</td>\n",
              "      <td>1280</td>\n",
              "      <td>Child</td>\n",
              "      <td>Rakuten/dataset/image/image_training/image_1328578347_product_4250646061.jpg</td>\n",
              "    </tr>\n",
              "  </tbody>\n",
              "</table>\n",
              "</div>"
            ],
            "text/plain": [
              "                                                                                                                                    Title  ...                                                                    image_path\n",
              "78739                                                  Alimentation Chargeur Secteur Officiel Sony Pour Sony Playstation 2 Slim Ps2 Pstwo  ...  Rakuten/dataset/image/image_training/image_1186557830_product_3032960250.jpg\n",
              "53316                                                                                                   6 Numéros De La Revue Mad Movies.  ...  Rakuten/dataset/image/image_training/image_1230866174_product_3642604587.jpg\n",
              "58667  Madkanao Hélicoptère 5116 Prise Xt60 De La Batterie Zop 11.1v 1500mah 3s 40c Pour La Partie D'hélicoptère D'avion De Voiture De Rc  ...  Rakuten/dataset/image/image_training/image_1328578347_product_4250646061.jpg\n",
              "\n",
              "[3 rows x 7 columns]"
            ]
          },
          "metadata": {
            "tags": []
          },
          "execution_count": 66
        }
      ]
    },
    {
      "cell_type": "code",
      "metadata": {
        "id": "-TVFTUiJXSfu",
        "colab_type": "code",
        "colab": {}
      },
      "source": [
        "df['Description'].fillna(' ', inplace=True)"
      ],
      "execution_count": 0,
      "outputs": []
    },
    {
      "cell_type": "code",
      "metadata": {
        "id": "i9jSK7R5XSfx",
        "colab_type": "code",
        "colab": {
          "base_uri": "https://localhost:8080/",
          "height": 587
        },
        "outputId": "a83c3ebb-c960-4cdb-963c-204d5de04695"
      },
      "source": [
        "df.sample(n=3)"
      ],
      "execution_count": 68,
      "outputs": [
        {
          "output_type": "execute_result",
          "data": {
            "text/html": [
              "<div>\n",
              "<style scoped>\n",
              "    .dataframe tbody tr th:only-of-type {\n",
              "        vertical-align: middle;\n",
              "    }\n",
              "\n",
              "    .dataframe tbody tr th {\n",
              "        vertical-align: top;\n",
              "    }\n",
              "\n",
              "    .dataframe thead th {\n",
              "        text-align: right;\n",
              "    }\n",
              "</style>\n",
              "<table border=\"1\" class=\"dataframe\">\n",
              "  <thead>\n",
              "    <tr style=\"text-align: right;\">\n",
              "      <th></th>\n",
              "      <th>Title</th>\n",
              "      <th>Description</th>\n",
              "      <th>Image_id</th>\n",
              "      <th>Product_id</th>\n",
              "      <th>Prdtypecode</th>\n",
              "      <th>Prdlbl</th>\n",
              "      <th>image_path</th>\n",
              "    </tr>\n",
              "  </thead>\n",
              "  <tbody>\n",
              "    <tr>\n",
              "      <th>70714</th>\n",
              "      <td>Another Statuette 1/8 Misaki Mei 19 Cm</td>\n",
              "      <td>Statuette en PVC haute qualité à l'échelle 1/8 sur socle. Taille env. 19 cm en emballage boîte-fenêtre.</td>\n",
              "      <td>934916637</td>\n",
              "      <td>193529845</td>\n",
              "      <td>1140</td>\n",
              "      <td>Entertainment</td>\n",
              "      <td>Rakuten/dataset/image/image_training/image_934916637_product_193529845.jpg</td>\n",
              "    </tr>\n",
              "    <tr>\n",
              "      <th>82075</th>\n",
              "      <td>Sid Meier's Civilization Iv: Beyond The Sword - Ensemble Complet - Pc - Dvd - Win - Français</td>\n",
              "      <td></td>\n",
              "      <td>946269034</td>\n",
              "      <td>56442955</td>\n",
              "      <td>40</td>\n",
              "      <td>Entertainment</td>\n",
              "      <td>Rakuten/dataset/image/image_training/image_946269034_product_56442955.jpg</td>\n",
              "    </tr>\n",
              "    <tr>\n",
              "      <th>11812</th>\n",
              "      <td>Elle N° 165 Du 24/01/1949 - Roman  -   L'inconnue De La Dune - Des Robes   -   De La Lingerie  -   Du Tricot.</td>\n",
              "      <td></td>\n",
              "      <td>1007812478</td>\n",
              "      <td>435272454</td>\n",
              "      <td>2280</td>\n",
              "      <td>Books</td>\n",
              "      <td>Rakuten/dataset/image/image_training/image_1007812478_product_435272454.jpg</td>\n",
              "    </tr>\n",
              "  </tbody>\n",
              "</table>\n",
              "</div>"
            ],
            "text/plain": [
              "                                                                                                               Title  ...                                                                   image_path\n",
              "70714                                                                         Another Statuette 1/8 Misaki Mei 19 Cm  ...   Rakuten/dataset/image/image_training/image_934916637_product_193529845.jpg\n",
              "82075                   Sid Meier's Civilization Iv: Beyond The Sword - Ensemble Complet - Pc - Dvd - Win - Français  ...    Rakuten/dataset/image/image_training/image_946269034_product_56442955.jpg\n",
              "11812  Elle N° 165 Du 24/01/1949 - Roman  -   L'inconnue De La Dune - Des Robes   -   De La Lingerie  -   Du Tricot.  ...  Rakuten/dataset/image/image_training/image_1007812478_product_435272454.jpg\n",
              "\n",
              "[3 rows x 7 columns]"
            ]
          },
          "metadata": {
            "tags": []
          },
          "execution_count": 68
        }
      ]
    },
    {
      "cell_type": "code",
      "metadata": {
        "id": "BE5r3PWfXSf1",
        "colab_type": "code",
        "colab": {
          "base_uri": "https://localhost:8080/",
          "height": 34
        },
        "outputId": "8c25a530-551d-4657-9058-bed2ae0145ca"
      },
      "source": [
        "df.Prdtypecode.nunique()"
      ],
      "execution_count": 69,
      "outputs": [
        {
          "output_type": "execute_result",
          "data": {
            "text/plain": [
              "27"
            ]
          },
          "metadata": {
            "tags": []
          },
          "execution_count": 69
        }
      ]
    },
    {
      "cell_type": "code",
      "metadata": {
        "id": "vFDAAltEXSf4",
        "colab_type": "code",
        "colab": {}
      },
      "source": [
        "df['Title'] = df['Title'].astype(str)\n",
        "df['Description'] = df['Description'].astype(str)\n",
        "df['Prdtypecode'] = df['Prdtypecode'].astype('category') "
      ],
      "execution_count": 0,
      "outputs": []
    },
    {
      "cell_type": "code",
      "metadata": {
        "id": "6R_kuSqQXSf8",
        "colab_type": "code",
        "colab": {
          "base_uri": "https://localhost:8080/",
          "height": 153
        },
        "outputId": "ee037b3f-b814-431f-a246-54b9361af4da"
      },
      "source": [
        "df.dtypes"
      ],
      "execution_count": 71,
      "outputs": [
        {
          "output_type": "execute_result",
          "data": {
            "text/plain": [
              "Title            object\n",
              "Description      object\n",
              "Image_id          int64\n",
              "Product_id        int64\n",
              "Prdtypecode    category\n",
              "Prdlbl           object\n",
              "image_path       object\n",
              "dtype: object"
            ]
          },
          "metadata": {
            "tags": []
          },
          "execution_count": 71
        }
      ]
    },
    {
      "cell_type": "code",
      "metadata": {
        "id": "v4vqyKtDXSgH",
        "colab_type": "code",
        "colab": {
          "base_uri": "https://localhost:8080/",
          "height": 717
        },
        "outputId": "80087476-9210-4805-e6df-c2a65d4f305e"
      },
      "source": [
        "df.Prdtypecode.value_counts(ascending=True).plot.barh(figsize=(12,12))"
      ],
      "execution_count": 72,
      "outputs": [
        {
          "output_type": "execute_result",
          "data": {
            "text/plain": [
              "<matplotlib.axes._subplots.AxesSubplot at 0x7f9176055fd0>"
            ]
          },
          "metadata": {
            "tags": []
          },
          "execution_count": 72
        },
        {
          "output_type": "display_data",
          "data": {
            "image/png": "[encoded data removed]",
            "text/plain": [
              "<Figure size 864x864 with 1 Axes>"
            ]
          },
          "metadata": {
            "tags": [],
            "needs_background": "light"
          }
        }
      ]
    },
    {
      "cell_type": "markdown",
      "metadata": {
        "id": "o45HWniWXSgL",
        "colab_type": "text"
      },
      "source": [
        "# DataBlock"
      ]
    },
    {
      "cell_type": "code",
      "metadata": {
        "id": "ZJTmmbGrYELm",
        "colab_type": "code",
        "colab": {}
      },
      "source": [
        "import pandas as pd\n",
        "prod_sample= pd.read_csv('df_sample.csv')"
      ],
      "execution_count": 0,
      "outputs": []
    },
    {
      "cell_type": "markdown",
      "metadata": {
        "id": "r5yUpeInXSgM",
        "colab_type": "text"
      },
      "source": [
        "## Language Model"
      ]
    },
    {
      "cell_type": "code",
      "metadata": {
        "id": "9badgyJQXSgM",
        "colab_type": "code",
        "colab": {}
      },
      "source": [
        "txt_blk_lm = TextBlock.from_df(text_cols=['Title', 'Description'], \n",
        "                               is_lm=True, \n",
        "                               seq_len=72,                                 \n",
        "                               tok_func=SpacyTokenizer, \n",
        "                               lang='fr', \n",
        "                               res_col_name='text')"
      ],
      "execution_count": 0,
      "outputs": []
    },
    {
      "cell_type": "code",
      "metadata": {
        "id": "O6MyzlFHXSgQ",
        "colab_type": "code",
        "colab": {}
      },
      "source": [
        "db_lm = DataBlock(blocks=txt_blk_lm, \n",
        "                  get_x=ColReader('text'), \n",
        "                  splitter=RandomSplitter(valid_pct=0.1, seed=42))"
      ],
      "execution_count": 0,
      "outputs": []
    },
    {
      "cell_type": "code",
      "metadata": {
        "id": "5XJ6tmUiXSgT",
        "colab_type": "code",
        "colab": {
          "base_uri": "https://localhost:8080/",
          "height": 17
        },
        "outputId": "e8197f00-6b37-4ec1-c099-c1ce40836337"
      },
      "source": [
        "dls_lm = db_lm.dataloaders(prod_sample, bs=64, seq_len=72)"
      ],
      "execution_count": 16,
      "outputs": [
        {
          "output_type": "display_data",
          "data": {
            "text/html": [
              ""
            ],
            "text/plain": [
              "<IPython.core.display.HTML object>"
            ]
          },
          "metadata": {
            "tags": []
          }
        }
      ]
    },
    {
      "cell_type": "code",
      "metadata": {
        "id": "CxhL7cQkXSgW",
        "colab_type": "code",
        "colab": {
          "base_uri": "https://localhost:8080/",
          "height": 34
        },
        "outputId": "dcf03e09-2a72-4cd9-a86e-a7e5fae9e19d"
      },
      "source": [
        "b = dls_lm.one_batch(); len(b), len(b[0]), len(b[1]), b[0].shape, b[1].shape"
      ],
      "execution_count": 17,
      "outputs": [
        {
          "output_type": "execute_result",
          "data": {
            "text/plain": [
              "(2, 64, 64, torch.Size([64, 72]), torch.Size([64, 72]))"
            ]
          },
          "metadata": {
            "tags": []
          },
          "execution_count": 17
        }
      ]
    },
    {
      "cell_type": "code",
      "metadata": {
        "id": "0aQBbA1VXSgZ",
        "colab_type": "code",
        "colab": {
          "base_uri": "https://localhost:8080/",
          "height": 787
        },
        "outputId": "2dfd2e67-48cf-4460-9ecf-036c27a23d5c"
      },
      "source": [
        "dls_lm.show_batch()"
      ],
      "execution_count": 18,
      "outputs": [
        {
          "output_type": "display_data",
          "data": {
            "text/html": [
              "<table border=\"1\" class=\"dataframe\">\n",
              "  <thead>\n",
              "    <tr style=\"text-align: right;\">\n",
              "      <th></th>\n",
              "      <th>text</th>\n",
              "      <th>text_</th>\n",
              "    </tr>\n",
              "  </thead>\n",
              "  <tbody>\n",
              "    <tr>\n",
              "      <th>0</th>\n",
              "      <td>xxbos xxfld 1 xxmaj jurassic xxmaj park ( version xxmaj us ) xxfld 2 xxbos xxfld 1 xxmaj galactic xxmaj destiny xxmaj the xxmaj board xxmaj game xxmaj of xxmaj galactic xxmaj xxunk xxfld 2 xxbos xxfld 1 xxmaj l' xxunk xxmaj emeraude 2010 ( xxunk - xxunk - xxunk - xxunk - saint xxmaj xxunk ) 2010 xxfld 2 xxbos xxfld 1 xxmaj xxunk xxmaj de xxmaj xxunk xxmaj xxunk -</td>\n",
              "      <td>xxfld 1 xxmaj jurassic xxmaj park ( version xxmaj us ) xxfld 2 xxbos xxfld 1 xxmaj galactic xxmaj destiny xxmaj the xxmaj board xxmaj game xxmaj of xxmaj galactic xxmaj xxunk xxfld 2 xxbos xxfld 1 xxmaj l' xxunk xxmaj emeraude 2010 ( xxunk - xxunk - xxunk - xxunk - saint xxmaj xxunk ) 2010 xxfld 2 xxbos xxfld 1 xxmaj xxunk xxmaj de xxmaj xxunk xxmaj xxunk - xxmaj</td>\n",
              "    </tr>\n",
              "    <tr>\n",
              "      <th>1</th>\n",
              "      <td>xxfld 1 xxmaj pokémon - xxunk / 131 - xxmaj xxunk - xxmaj reverse xxfld 2 xxbos xxfld 1 xxmaj arebos xxmaj coussin xxmaj de xxmaj protection xxmaj des xxmaj ressorts xxmaj pour xxmaj trampoline 366 cm xxmaj vert xxmaj clair xxfld 2 xxbos xxfld 1 85 xxmaj xxunk xxunk - lounge - xxmaj ready xxmaj to xxmaj run -- xxmaj union xxmaj pacific ( xxunk xxmaj yellow xxmaj gray xxmaj red</td>\n",
              "      <td>1 xxmaj pokémon - xxunk / 131 - xxmaj xxunk - xxmaj reverse xxfld 2 xxbos xxfld 1 xxmaj arebos xxmaj coussin xxmaj de xxmaj protection xxmaj des xxmaj ressorts xxmaj pour xxmaj trampoline 366 cm xxmaj vert xxmaj clair xxfld 2 xxbos xxfld 1 85 xxmaj xxunk xxunk - lounge - xxmaj ready xxmaj to xxmaj run -- xxmaj union xxmaj pacific ( xxunk xxmaj yellow xxmaj gray xxmaj red )</td>\n",
              "    </tr>\n",
              "    <tr>\n",
              "      <th>2</th>\n",
              "      <td>xxmaj hydratation xxmaj randonnée xxmaj camping xxunk xxmaj hp xxmaj stream xxfld 2 xxbos xxfld 1 xxmaj siège pour piscine tubulaire - xxmaj intex xxfld 2 xxbos xxfld 1 xxmaj européenne xxmaj home xxmaj decor 45 * 45 cm xxmaj coussin xxmaj en xxmaj lin xxmaj de xxmaj coton xxmaj couverture xxmaj jeter xxmaj taie f xxmaj xxunk xxfld 2 xxbos xxfld 1 xxmaj jouet xxmaj pour xxmaj animaux xxmaj chien xxmaj</td>\n",
              "      <td>hydratation xxmaj randonnée xxmaj camping xxunk xxmaj hp xxmaj stream xxfld 2 xxbos xxfld 1 xxmaj siège pour piscine tubulaire - xxmaj intex xxfld 2 xxbos xxfld 1 xxmaj européenne xxmaj home xxmaj decor 45 * 45 cm xxmaj coussin xxmaj en xxmaj lin xxmaj de xxmaj coton xxmaj couverture xxmaj jeter xxmaj taie f xxmaj xxunk xxfld 2 xxbos xxfld 1 xxmaj jouet xxmaj pour xxmaj animaux xxmaj chien xxmaj de</td>\n",
              "    </tr>\n",
              "    <tr>\n",
              "      <th>3</th>\n",
              "      <td>xxunk xxfld 2 xxbos xxfld 1 xxmaj matelas 150x210 xxmaj xxunk xxmaj alitea xxfld 2 xxbos xxfld 1 moakoada ® led 3d xxmaj lumineux xxmaj lumière xxmaj illusion xxmaj bureau xxmaj usb xxmaj lampe xxmaj de xxmaj nuit xxmaj lumière 7 xxmaj changement xxmaj de xxmaj coul xxmaj cadeaux xxfld 2 xxbos xxfld 1 xxmaj xxunk xxmaj of xxmaj the xxmaj xxunk xxfld 2 xxbos xxfld 1 xxunk xxmaj xxunk xxmaj barbecue</td>\n",
              "      <td>xxfld 2 xxbos xxfld 1 xxmaj matelas 150x210 xxmaj xxunk xxmaj alitea xxfld 2 xxbos xxfld 1 moakoada ® led 3d xxmaj lumineux xxmaj lumière xxmaj illusion xxmaj bureau xxmaj usb xxmaj lampe xxmaj de xxmaj nuit xxmaj lumière 7 xxmaj changement xxmaj de xxmaj coul xxmaj cadeaux xxfld 2 xxbos xxfld 1 xxmaj xxunk xxmaj of xxmaj the xxmaj xxunk xxfld 2 xxbos xxfld 1 xxunk xxmaj xxunk xxmaj barbecue xxmaj</td>\n",
              "    </tr>\n",
              "    <tr>\n",
              "      <th>4</th>\n",
              "      <td>xxmaj modèle xxmaj cadeaux xxmaj jouets éducatifs xxmaj shen xxunk xxfld 2 xxbos xxfld 1 xxmaj silicone xxmaj egg xxmaj xxunk xxmaj xxunk xxmaj xxunk xxmaj xxunk xxmaj cooking xxmaj kitchen xxmaj gadget xxmaj xxunk xxfld 2 xxbos xxfld 1 xxmaj diy xxmaj auvent xxunk xxmaj xxunk xxunk xxmaj cm xxfld 2 xxbos xxfld 1 xxmaj epuisette de surface xxmaj elite - xxmaj kokido xxfld 2 xxbos xxfld 1 xxmaj pokémon -</td>\n",
              "      <td>modèle xxmaj cadeaux xxmaj jouets éducatifs xxmaj shen xxunk xxfld 2 xxbos xxfld 1 xxmaj silicone xxmaj egg xxmaj xxunk xxmaj xxunk xxmaj xxunk xxmaj xxunk xxmaj cooking xxmaj kitchen xxmaj gadget xxmaj xxunk xxfld 2 xxbos xxfld 1 xxmaj diy xxmaj auvent xxunk xxmaj xxunk xxunk xxmaj cm xxfld 2 xxbos xxfld 1 xxmaj epuisette de surface xxmaj elite - xxmaj kokido xxfld 2 xxbos xxfld 1 xxmaj pokémon - 34</td>\n",
              "    </tr>\n",
              "    <tr>\n",
              "      <th>5</th>\n",
              "      <td>1 cache turbine robot dolphin xxfld 2 xxbos xxfld 1 xxmaj xk xxup xxunk xxmaj xxunk xxunk mm xxmaj xxunk 2.4 g 3ch xxmaj bricolage xxmaj planeur xxmaj rc xxmaj avion xxmaj rtf xxmaj intégré xxmaj xxunk @cocoworld - générique xxfld 2 xxbos xxfld 1 xxmaj album xxmaj pour xxmaj timbre xxmaj xxunk xxmaj verte xxmaj page xxmaj blanches xxmaj xxunk xxmaj et xxmaj xxunk xxfld 2 xxbos xxfld 1 xxmaj pokémon</td>\n",
              "      <td>cache turbine robot dolphin xxfld 2 xxbos xxfld 1 xxmaj xk xxup xxunk xxmaj xxunk xxunk mm xxmaj xxunk 2.4 g 3ch xxmaj bricolage xxmaj planeur xxmaj rc xxmaj avion xxmaj rtf xxmaj intégré xxmaj xxunk @cocoworld - générique xxfld 2 xxbos xxfld 1 xxmaj album xxmaj pour xxmaj timbre xxmaj xxunk xxmaj verte xxmaj page xxmaj blanches xxmaj xxunk xxmaj et xxmaj xxunk xxfld 2 xxbos xxfld 1 xxmaj pokémon -</td>\n",
              "    </tr>\n",
              "    <tr>\n",
              "      <th>6</th>\n",
              "      <td>xxmaj construit xxmaj en 300 xxmaj jeux xxmaj pour xxmaj psp xxmaj jeu xxmaj caméra xxmaj vidéo e-book xxfld 2 xxbos xxfld 1 xxmaj happy xxmaj xxunk xxmaj day canapé - lit xxmaj accueil xxmaj décoration xxmaj coussin xxmaj festival xxmaj de xxmaj taie xxmaj d' oreiller xxmaj couverture xxfld 2 xxbos xxfld 1 multi-fonctions xxmaj boîte xxmaj de xxmaj rangement xxmaj en xxmaj cuir xxmaj change xxmaj box xxmaj car xxmaj</td>\n",
              "      <td>construit xxmaj en 300 xxmaj jeux xxmaj pour xxmaj psp xxmaj jeu xxmaj caméra xxmaj vidéo e-book xxfld 2 xxbos xxfld 1 xxmaj happy xxmaj xxunk xxmaj day canapé - lit xxmaj accueil xxmaj décoration xxmaj coussin xxmaj festival xxmaj de xxmaj taie xxmaj d' oreiller xxmaj couverture xxfld 2 xxbos xxfld 1 multi-fonctions xxmaj boîte xxmaj de xxmaj rangement xxmaj en xxmaj cuir xxmaj change xxmaj box xxmaj car xxmaj boîte</td>\n",
              "    </tr>\n",
              "    <tr>\n",
              "      <th>7</th>\n",
              "      <td>xxmaj noir xxfld 2 xxbos xxfld 1 xxmaj lot 2 xxmaj sante xxmaj magazine xxmaj décembre 1994 xxmaj janvier 1995 xxfld 2 xxbos xxfld 1 xxmaj maquette xxmaj d' avion xxmaj remote xxmaj control xxmaj toy xxmaj car xxmaj light four - wheel xxmaj drive off - road 2.4 g xxmaj climbing xxmaj car xxup q65 xxunk - générique xxfld 2 xxbos xxfld 1 xxmaj noël canapé - lit xxmaj accueil xxmaj</td>\n",
              "      <td>noir xxfld 2 xxbos xxfld 1 xxmaj lot 2 xxmaj sante xxmaj magazine xxmaj décembre 1994 xxmaj janvier 1995 xxfld 2 xxbos xxfld 1 xxmaj maquette xxmaj d' avion xxmaj remote xxmaj control xxmaj toy xxmaj car xxmaj light four - wheel xxmaj drive off - road 2.4 g xxmaj climbing xxmaj car xxup q65 xxunk - générique xxfld 2 xxbos xxfld 1 xxmaj noël canapé - lit xxmaj accueil xxmaj décoration</td>\n",
              "    </tr>\n",
              "    <tr>\n",
              "      <th>8</th>\n",
              "      <td>xxmaj pcs / xxmaj set xxmaj enfants xxmaj reborn xxmaj bébé xxmaj poupée xxmaj vinyle xxmaj réaliste nouveau - né xxmaj poupée xxmaj fille xxmaj meilleur xxmaj cadeau xxfld 2 xxbos xxfld 1 xxmaj xxunk xxmaj ultimate xxmaj carnage - xxmaj jeu xxmaj en xxmaj téléchargement xxfld 2 xxbos xxfld 1 xxmaj bâche de piscine en xxup pe xxmaj ronde 450 - 457 cm 90 g / m2 xxfld 2 xxbos xxfld</td>\n",
              "      <td>pcs / xxmaj set xxmaj enfants xxmaj reborn xxmaj bébé xxmaj poupée xxmaj vinyle xxmaj réaliste nouveau - né xxmaj poupée xxmaj fille xxmaj meilleur xxmaj cadeau xxfld 2 xxbos xxfld 1 xxmaj xxunk xxmaj ultimate xxmaj carnage - xxmaj jeu xxmaj en xxmaj téléchargement xxfld 2 xxbos xxfld 1 xxmaj bâche de piscine en xxup pe xxmaj ronde 450 - 457 cm 90 g / m2 xxfld 2 xxbos xxfld 1</td>\n",
              "    </tr>\n",
              "  </tbody>\n",
              "</table>"
            ],
            "text/plain": [
              "<IPython.core.display.HTML object>"
            ]
          },
          "metadata": {
            "tags": []
          }
        }
      ]
    },
    {
      "cell_type": "code",
      "metadata": {
        "id": "AkEMyoScXSgc",
        "colab_type": "code",
        "colab": {
          "base_uri": "https://localhost:8080/",
          "height": 34
        },
        "outputId": "89216acd-9ce4-4b3a-f15a-7b11c6ff8a43"
      },
      "source": [
        "len(dls_lm.vocab)"
      ],
      "execution_count": 19,
      "outputs": [
        {
          "output_type": "execute_result",
          "data": {
            "text/plain": [
              "7920"
            ]
          },
          "metadata": {
            "tags": []
          },
          "execution_count": 19
        }
      ]
    },
    {
      "cell_type": "markdown",
      "metadata": {
        "id": "2MUxA546XSgf",
        "colab_type": "text"
      },
      "source": [
        "## Classification"
      ]
    },
    {
      "cell_type": "code",
      "metadata": {
        "id": "2fv5cgN7XSgi",
        "colab_type": "code",
        "colab": {}
      },
      "source": [
        "txt_blk_cls = TextBlock.from_df(text_cols=['Title', 'Description'],\n",
        "                                vocab=dls_lm.vocab,\n",
        "                                is_lm=False, \n",
        "                                seq_len=72,                                 \n",
        "                                tok_func=SpacyTokenizer, \n",
        "                                lang='fr', \n",
        "                                res_col_name='text')"
      ],
      "execution_count": 0,
      "outputs": []
    },
    {
      "cell_type": "code",
      "metadata": {
        "id": "nJv-BJooXSgo",
        "colab_type": "code",
        "colab": {}
      },
      "source": [
        "db_cls = DataBlock(blocks=(txt_blk_cls,CategoryBlock),                  \n",
        "                   get_x=ColReader('text'),\n",
        "                   get_y=ColReader('Prdtypecode'),\n",
        "                   splitter=RandomSplitter(valid_pct=0.15, seed=42))"
      ],
      "execution_count": 0,
      "outputs": []
    },
    {
      "cell_type": "code",
      "metadata": {
        "id": "y4jscBCvXSgu",
        "colab_type": "code",
        "colab": {
          "base_uri": "https://localhost:8080/",
          "height": 1000
        },
        "outputId": "66fa0f17-7126-44ad-a282-815fd10521ac"
      },
      "source": [
        "db_cls.summary(prod_sample)"
      ],
      "execution_count": 18,
      "outputs": [
        {
          "output_type": "stream",
          "text": [
            "Setting-up type transforms pipelines\n",
            "Collecting items from                                                                                                        Title  ...                                                                    image_path\n",
            "0                     Remplacement Bracelet En Cuir De Luxe Bracelet Bracelet Pour Fitbit Charge 2 Bk Stream  ...  Rakuten/dataset/image/image_training/image_1324199486_product_4236297869.jpg\n",
            "1                                           Geometric Pillow Case Waist Cushion Cover Sofa Home Decor Cc3668  ...  Rakuten/dataset/image/image_training/image_1275151361_product_4004088812.jpg\n",
            "2                       Simple Linen Creative Belle Oreiller Taie D'oreiller Taie D'oreiller Car Cover Cc400  ...  Rakuten/dataset/image/image_training/image_1275050731_product_4004067981.jpg\n",
            "3                                       The Uncanny X-Men (Marvel Comics) - #296-297-298-299-300 - Comics Vo  ...  Rakuten/dataset/image/image_training/image_1150001483_product_2567988729.jpg\n",
            "4      3pcs Non-Slip De Bain Tapis De Bain Tapis Cuisine Paillassons Décor Accessoires De Salle De Bain 1920  ...  Rakuten/dataset/image/image_training/image_1317085608_product_4211268511.jpg\n",
            "...                                                                                                      ...  ...                                                                           ...\n",
            "16978                                                  Raccord union femelle 3 pièces à coller Ø63 - 16 bars  ...  Rakuten/dataset/image/image_training/image_1249535510_product_3819982785.jpg\n",
            "16979                                                       Douche Solaire de piscine Happy 4x4 - 44L - Bleu  ...  Rakuten/dataset/image/image_training/image_1176045950_product_2952983764.jpg\n",
            "16980   DC 12V Mini brushless Pompe à eau Pompe à eau de refroidissement pour Fontaine Piscine Jardin Lujuik  ...  Rakuten/dataset/image/image_training/image_1322493530_product_4229979993.jpg\n",
            "16981                            Crocodile gonflable - 203 x 114 cm de marque Intex - Catégorie Jeux piscine  ...  Rakuten/dataset/image/image_training/image_1195807852_product_3177051686.jpg\n",
            "16982                 6pcs Crème Glacée Molle Colorée Gâteau Aux Fruits Parfumés Lent Toys Rising @Yahuoa123  ...  Rakuten/dataset/image/image_training/image_1268718073_product_3951838503.jpg\n",
            "\n",
            "[16983 rows x 7 columns]\n",
            "Found 16983 items\n",
            "2 datasets of sizes 14436,2547\n",
            "Setting up Pipeline: ColReader -> Tokenizer -> Numericalize\n"
          ],
          "name": "stdout"
        },
        {
          "output_type": "display_data",
          "data": {
            "text/html": [
              ""
            ],
            "text/plain": [
              "<IPython.core.display.HTML object>"
            ]
          },
          "metadata": {
            "tags": []
          }
        },
        {
          "output_type": "stream",
          "text": [
            "Setting up Pipeline: ColReader -> Categorize\n",
            "\n",
            "Building one sample\n",
            "  Pipeline: ColReader -> Tokenizer -> Numericalize\n",
            "    starting from\n",
            "      Image_id                                                                                                                                                                                                                    1273141786\n",
            "Product_id                                                                                                                                                                                                                  3993164358\n",
            "Prdtypecode                                                                                                                                                                                                                       1560\n",
            "Prdlbl                                                                                                                                                                                                                       Household\n",
            "image_path                                                                                                                                                Rakuten/dataset/image/image_training/image_1273141786_product_3993164358.jpg\n",
            "text           [xxbos, xxfld, 1, xxmaj, ensemble, xxmaj, essenzia, xxmaj, louisianne, +, xxmaj, sommier, xxmaj, tradition, +, xxmaj, pieds, xxmaj, king, xxmaj, size, xxmaj, stretch, xxmaj, bamboo, 180x200, xxmaj, mousse, xxfld, 2]\n",
            "text_length                                                                                                                                                                                                                         30\n",
            "Name: 768, dtype: object\n",
            "    applying ColReader gives\n",
            "      (#30) ['xxbos','xxfld','1','xxmaj','ensemble','xxmaj','essenzia','xxmaj','louisianne','+'...]\n",
            "    applying Tokenizer gives\n",
            "      (#30) ['xxbos','xxfld','1','xxmaj','ensemble','xxmaj','essenzia','xxmaj','louisianne','+'...]\n",
            "    applying Numericalize gives\n",
            "      TensorText of size 30\n",
            "  Pipeline: ColReader -> Categorize\n",
            "    starting from\n",
            "      Image_id                                                                                                                                                                                                                    1273141786\n",
            "Product_id                                                                                                                                                                                                                  3993164358\n",
            "Prdtypecode                                                                                                                                                                                                                       1560\n",
            "Prdlbl                                                                                                                                                                                                                       Household\n",
            "image_path                                                                                                                                                Rakuten/dataset/image/image_training/image_1273141786_product_3993164358.jpg\n",
            "text           [xxbos, xxfld, 1, xxmaj, ensemble, xxmaj, essenzia, xxmaj, louisianne, +, xxmaj, sommier, xxmaj, tradition, +, xxmaj, pieds, xxmaj, king, xxmaj, size, xxmaj, stretch, xxmaj, bamboo, 180x200, xxmaj, mousse, xxfld, 2]\n",
            "text_length                                                                                                                                                                                                                         30\n",
            "Name: 768, dtype: object\n",
            "    applying ColReader gives\n",
            "      1560\n",
            "    applying Categorize gives\n",
            "      TensorCategory(13)\n",
            "\n",
            "Final sample: (TensorText([   2,    4,    9,    8,  243,    8, 1103,    8,    0,   24,    8,  689,\n",
            "           8, 1976,   24,    8,  410,    8, 1641,    8, 2960,    8, 2679,    8,\n",
            "        2452, 2911,    8,  356,    4,   10]), TensorCategory(13))\n",
            "\n",
            "\n"
          ],
          "name": "stdout"
        },
        {
          "output_type": "display_data",
          "data": {
            "text/html": [
              ""
            ],
            "text/plain": [
              "<IPython.core.display.HTML object>"
            ]
          },
          "metadata": {
            "tags": []
          }
        },
        {
          "output_type": "stream",
          "text": [
            "Setting up after_item: Pipeline: ToTensor\n",
            "Setting up before_batch: Pipeline: partial\n",
            "Setting up after_batch: Pipeline: \n",
            "\n",
            "Building one batch\n",
            "Applying item_tfms to the first sample:\n",
            "  Pipeline: ToTensor\n",
            "    starting from\n",
            "      (TensorText of size 30, TensorCategory(13))\n",
            "    applying ToTensor gives\n",
            "      (TensorText of size 30, TensorCategory(13))\n",
            "\n",
            "Adding the next 3 samples\n",
            "\n",
            "Applying before_batch to the list of samples\n",
            "  Pipeline: partial\n",
            "    starting from\n",
            "      [(TensorText of size 30, TensorCategory(13)), (TensorText of size 27, TensorCategory(14)), (TensorText([   2,    4,    9,    8,   97,    8,  838,   16,    8, 3021,    8,   14,\n",
            "           8, 1393,  815,    8,   21,  168,    4,   10]), TensorCategory(17)), (TensorText of size 29, TensorCategory(13))]\n",
            "    applying partial gives\n",
            "      [(TensorText of size 30, TensorCategory(13)), (TensorText of size 30, TensorCategory(14)), (TensorText of size 30, TensorCategory(17)), (TensorText of size 30, TensorCategory(13))]\n",
            "\n",
            "Collating items in a batch\n",
            "\n",
            "No batch_tfms to apply\n"
          ],
          "name": "stdout"
        }
      ]
    },
    {
      "cell_type": "code",
      "metadata": {
        "id": "69JX_lH_YtFC",
        "colab_type": "code",
        "colab": {
          "base_uri": "https://localhost:8080/",
          "height": 17
        },
        "outputId": "babbefb5-3297-4958-a43a-d84ef58ee253"
      },
      "source": [
        "dls_cls = db_cls.dataloaders(prod_sample, bs=64, seq_len=72)"
      ],
      "execution_count": 22,
      "outputs": [
        {
          "output_type": "display_data",
          "data": {
            "text/html": [
              ""
            ],
            "text/plain": [
              "<IPython.core.display.HTML object>"
            ]
          },
          "metadata": {
            "tags": []
          }
        }
      ]
    },
    {
      "cell_type": "markdown",
      "metadata": {
        "id": "jAMJO2zqY5Ta",
        "colab_type": "text"
      },
      "source": [
        "# Language Model"
      ]
    },
    {
      "cell_type": "code",
      "metadata": {
        "id": "Cj1MajEuZAWq",
        "colab_type": "code",
        "colab": {
          "base_uri": "https://localhost:8080/",
          "height": 17
        },
        "outputId": "657f299e-e149-4779-839c-baf5ded5b7e3"
      },
      "source": [
        "learn_lm = language_model_learner(dls=dls_lm,\n",
        "                                  arch=AWD_LSTM,\n",
        "                                  metrics=[accuracy, Perplexity()])"
      ],
      "execution_count": 23,
      "outputs": [
        {
          "output_type": "display_data",
          "data": {
            "text/html": [
              ""
            ],
            "text/plain": [
              "<IPython.core.display.HTML object>"
            ]
          },
          "metadata": {
            "tags": []
          }
        }
      ]
    },
    {
      "cell_type": "code",
      "metadata": {
        "id": "j3LGANwouNZ3",
        "colab_type": "code",
        "colab": {
          "base_uri": "https://localhost:8080/",
          "height": 34
        },
        "outputId": "1b703766-d569-47dd-de8f-8355c7e263c5"
      },
      "source": [
        "Path('/root/.fastai/models/wt103-fwd').ls()"
      ],
      "execution_count": 114,
      "outputs": [
        {
          "output_type": "execute_result",
          "data": {
            "text/plain": [
              "(#2) [Path('/root/.fastai/models/wt103-fwd/itos_wt103.pkl'),Path('/root/.fastai/models/wt103-fwd/lstm_fwd.pth')]"
            ]
          },
          "metadata": {
            "tags": []
          },
          "execution_count": 114
        }
      ]
    },
    {
      "cell_type": "code",
      "metadata": {
        "id": "PoAlAViKtoRX",
        "colab_type": "code",
        "colab": {}
      },
      "source": [
        "import pickle\n",
        "with open('/root/.fastai/models/wt103-fwd/itos_wt103.pkl', 'rb') as f:\n",
        "  orig_itos = pickle.load(f)"
      ],
      "execution_count": 0,
      "outputs": []
    },
    {
      "cell_type": "code",
      "metadata": {
        "id": "ByUKLnQUtqDy",
        "colab_type": "code",
        "colab": {
          "base_uri": "https://localhost:8080/",
          "height": 34
        },
        "outputId": "d25058e3-f8fc-40eb-ac55-09ebf14b0974"
      },
      "source": [
        "len(orig_itos)"
      ],
      "execution_count": 107,
      "outputs": [
        {
          "output_type": "execute_result",
          "data": {
            "text/plain": [
              "60000"
            ]
          },
          "metadata": {
            "tags": []
          },
          "execution_count": 107
        }
      ]
    },
    {
      "cell_type": "code",
      "metadata": {
        "id": "U9ow7SybuWpX",
        "colab_type": "code",
        "colab": {
          "base_uri": "https://localhost:8080/",
          "height": 1000
        },
        "outputId": "929fcc4b-3119-43c3-e2d9-bf2deaa26c1a"
      },
      "source": [
        "orig_itos[:100]"
      ],
      "execution_count": 115,
      "outputs": [
        {
          "output_type": "execute_result",
          "data": {
            "text/plain": [
              "['xxunk',\n",
              " 'xxpad',\n",
              " 'xxbos',\n",
              " 'xxeos',\n",
              " 'xxfld',\n",
              " 'xxmaj',\n",
              " 'xxup',\n",
              " 'xxrep',\n",
              " 'xxwrep',\n",
              " 'the',\n",
              " ',',\n",
              " '.',\n",
              " 'of',\n",
              " 'and',\n",
              " 'in',\n",
              " 'to',\n",
              " 'a',\n",
              " '=',\n",
              " '\"',\n",
              " 'was',\n",
              " 'on',\n",
              " '-',\n",
              " \"'s\",\n",
              " 'as',\n",
              " 'for',\n",
              " 'that',\n",
              " 'with',\n",
              " 'by',\n",
              " '\\n ',\n",
              " ')',\n",
              " '(',\n",
              " '\\n \\n ',\n",
              " 'is',\n",
              " 'his',\n",
              " 'at',\n",
              " 'he',\n",
              " 'it',\n",
              " 'from',\n",
              " 'were',\n",
              " 'an',\n",
              " 'had',\n",
              " 'which',\n",
              " 'be',\n",
              " 'this',\n",
              " 'but',\n",
              " \"'\",\n",
              " 'are',\n",
              " 'not',\n",
              " 'first',\n",
              " 'their',\n",
              " 'after',\n",
              " ';',\n",
              " 'one',\n",
              " 'her',\n",
              " '–',\n",
              " 'also',\n",
              " 'its',\n",
              " ':',\n",
              " 'they',\n",
              " 'two',\n",
              " 'or',\n",
              " 'have',\n",
              " 'who',\n",
              " 'new',\n",
              " 'been',\n",
              " 'has',\n",
              " 'she',\n",
              " 'when',\n",
              " 'time',\n",
              " 'during',\n",
              " 'other',\n",
              " 'would',\n",
              " 'into',\n",
              " 'all',\n",
              " 'more',\n",
              " 'while',\n",
              " 'over',\n",
              " 'i',\n",
              " 'him',\n",
              " 'game',\n",
              " 'only',\n",
              " 'later',\n",
              " 'up',\n",
              " 'most',\n",
              " 'three',\n",
              " 'about',\n",
              " 'out',\n",
              " 'between',\n",
              " 'there',\n",
              " 'than',\n",
              " 'some',\n",
              " 'film',\n",
              " 'may',\n",
              " 'no',\n",
              " 'before',\n",
              " 'made',\n",
              " 'such',\n",
              " 'season',\n",
              " 'second',\n",
              " 'where']"
            ]
          },
          "metadata": {
            "tags": []
          },
          "execution_count": 115
        }
      ]
    },
    {
      "cell_type": "code",
      "metadata": {
        "id": "T2Jhb8Tqt7_T",
        "colab_type": "code",
        "colab": {
          "base_uri": "https://localhost:8080/",
          "height": 1000
        },
        "outputId": "2e79293e-2f43-42b0-98b5-c891331d153a"
      },
      "source": [
        "dls_lm.vocab"
      ],
      "execution_count": 110,
      "outputs": [
        {
          "output_type": "execute_result",
          "data": {
            "text/plain": [
              "['xxunk',\n",
              " 'xxpad',\n",
              " 'xxbos',\n",
              " 'xxeos',\n",
              " 'xxfld',\n",
              " 'xxrep',\n",
              " 'xxwrep',\n",
              " 'xxup',\n",
              " 'xxmaj',\n",
              " '1',\n",
              " '2',\n",
              " '-',\n",
              " 'de',\n",
              " '/',\n",
              " 'pour',\n",
              " 'en',\n",
              " 'à',\n",
              " 'la',\n",
              " \"d'\",\n",
              " 'et',\n",
              " '(',\n",
              " 'cm',\n",
              " ')',\n",
              " 'x',\n",
              " '+',\n",
              " 'du',\n",
              " '3',\n",
              " ':',\n",
              " 'le',\n",
              " 'piscine',\n",
              " 'jeu',\n",
              " 'les',\n",
              " '.',\n",
              " 'n°',\n",
              " 'm',\n",
              " 'lot',\n",
              " 'avec',\n",
              " \"l'\",\n",
              " 'coussin',\n",
              " '4',\n",
              " 'des',\n",
              " '\"',\n",
              " 'kit',\n",
              " 'enfants',\n",
              " 'rc',\n",
              " 'taie',\n",
              " 'blanc',\n",
              " 'a',\n",
              " 'oreiller',\n",
              " 'mm',\n",
              " 'the',\n",
              " '&',\n",
              " '10',\n",
              " 'bébé',\n",
              " 'bois',\n",
              " 'led',\n",
              " 'sac',\n",
              " 'g',\n",
              " 'décor',\n",
              " '6',\n",
              " '5',\n",
              " 'noir',\n",
              " 'home',\n",
              " 'bleu',\n",
              " 'décoration',\n",
              " 'noël',\n",
              " 'drone',\n",
              " 'notes',\n",
              " 'carte',\n",
              " 'jeux',\n",
              " 'bâche',\n",
              " 'of',\n",
              " 'mini',\n",
              " '°',\n",
              " 'n',\n",
              " 'canapé',\n",
              " 'portable',\n",
              " 'journal',\n",
              " 'acier',\n",
              " 'couverture',\n",
              " '8',\n",
              " 'par',\n",
              " 'au',\n",
              " 'générique',\n",
              " '12',\n",
              " 'voiture',\n",
              " 'console',\n",
              " '0',\n",
              " 'dji',\n",
              " 'spa',\n",
              " 'magideal',\n",
              " 'cadeau',\n",
              " 'l',\n",
              " 'jardin',\n",
              " 'set',\n",
              " 'gris',\n",
              " 'cuisine',\n",
              " 'lampe',\n",
              " 'sur',\n",
              " 'jouet',\n",
              " 'h',\n",
              " 'figurine',\n",
              " 'pompe',\n",
              " 'coton',\n",
              " 'housse',\n",
              " 'carnet',\n",
              " 'tapis',\n",
              " ']',\n",
              " 'table',\n",
              " 'bulles',\n",
              " '…',\n",
              " 'rouge',\n",
              " 'lit',\n",
              " 'tissu',\n",
              " '7',\n",
              " 'jouets',\n",
              " 's',\n",
              " '®',\n",
              " 'classique',\n",
              " '!',\n",
              " 'intex',\n",
              " 'collection',\n",
              " 'un',\n",
              " '[',\n",
              " 'nouveau',\n",
              " '100',\n",
              " 'ronde',\n",
              " 'for',\n",
              " 'support',\n",
              " 'case',\n",
              " 'toy',\n",
              " 'gonflable',\n",
              " 'couleur',\n",
              " 'vert',\n",
              " 'maison',\n",
              " 'bricolage',\n",
              " 'bloc',\n",
              " 'peluche',\n",
              " 'enfant',\n",
              " 'téléchargement',\n",
              " 'rose',\n",
              " 'quadcopter',\n",
              " '20',\n",
              " 'car',\n",
              " 'cover',\n",
              " 'eau',\n",
              " 'air',\n",
              " 'protection',\n",
              " 'modèle',\n",
              " 'edition',\n",
              " 'sans',\n",
              " \"'\",\n",
              " 'taille',\n",
              " 'peinture',\n",
              " '3d',\n",
              " 'cahier',\n",
              " 'douche',\n",
              " 'stream',\n",
              " 'filtre',\n",
              " 'bureau',\n",
              " 'lumière',\n",
              " 'accueil',\n",
              " 'pvc',\n",
              " '01',\n",
              " 'sofa',\n",
              " 'nintendo',\n",
              " '30',\n",
              " '18',\n",
              " '|',\n",
              " 'papier',\n",
              " 'france',\n",
              " 'pièces',\n",
              " 'matelas',\n",
              " 'salle',\n",
              " 'super',\n",
              " 'bain',\n",
              " 'une',\n",
              " 'livres',\n",
              " 'and',\n",
              " 'hiver',\n",
              " 'rangement',\n",
              " 'métal',\n",
              " 'silicone',\n",
              " 'poche',\n",
              " 'c',\n",
              " 'places',\n",
              " 'throw',\n",
              " 'pouces',\n",
              " '15',\n",
              " 'magic',\n",
              " 'plastique',\n",
              " 'boîte',\n",
              " 'pro',\n",
              " 'art',\n",
              " 'double',\n",
              " 'mode',\n",
              " 'caméra',\n",
              " 'pcs',\n",
              " '25',\n",
              " 'vidéo',\n",
              " 'import',\n",
              " 'solaire',\n",
              " 'kg',\n",
              " 'gré',\n",
              " 'accessoires',\n",
              " 'dans',\n",
              " 'pc',\n",
              " 'avion',\n",
              " 'decor',\n",
              " 'tome',\n",
              " '16',\n",
              " '9',\n",
              " 'main',\n",
              " 'petit',\n",
              " 'yu',\n",
              " 'oh',\n",
              " 'ball',\n",
              " 'gi',\n",
              " 'chaussettes',\n",
              " 'chien',\n",
              " 'batterie',\n",
              " 'mavic',\n",
              " '50',\n",
              " 'chaise',\n",
              " 'fpv',\n",
              " 'a5',\n",
              " 'sol',\n",
              " 'star',\n",
              " 'in',\n",
              " 'halloween',\n",
              " 'entretien',\n",
              " 'plus',\n",
              " 'pack',\n",
              " '11',\n",
              " 'étanche',\n",
              " 'game',\n",
              " 'cartoon',\n",
              " 'filtration',\n",
              " 'mignon',\n",
              " 'design',\n",
              " 'paris',\n",
              " 'grand',\n",
              " 'pêche',\n",
              " 'ensemble',\n",
              " '122',\n",
              " 'forme',\n",
              " 'porte',\n",
              " 'sweetheart93',\n",
              " 't',\n",
              " 'hd',\n",
              " 'i',\n",
              " 'xbox',\n",
              " '?',\n",
              " 'oogarden',\n",
              " 'animaux',\n",
              " 'pliable',\n",
              " 'extérieur',\n",
              " 'rétro',\n",
              " 'marron',\n",
              " 'pillow',\n",
              " 'dragon',\n",
              " 'sable',\n",
              " 'wifi',\n",
              " 'playstation',\n",
              " 'diamant',\n",
              " '24',\n",
              " 'imprimé',\n",
              " 'polyester',\n",
              " 'party',\n",
              " 'imperméable',\n",
              " 'new',\n",
              " '40',\n",
              " 'voyage',\n",
              " 'ovale',\n",
              " 'metal',\n",
              " '60',\n",
              " 'aluminium',\n",
              " 'doudou',\n",
              " 'd',\n",
              " 'lin',\n",
              " '90',\n",
              " '300',\n",
              " 'feuilles',\n",
              " '360',\n",
              " 'chambre',\n",
              " '*',\n",
              " 'mtg',\n",
              " 'usb',\n",
              " '200',\n",
              " 'robot',\n",
              " 'creative',\n",
              " 'série',\n",
              " 'outil',\n",
              " 'maquette',\n",
              " 'point',\n",
              " 'revue',\n",
              " '2.4',\n",
              " 'baby',\n",
              " 'pop',\n",
              " 'cartes',\n",
              " 'one',\n",
              " 'monde',\n",
              " 'stress',\n",
              " 'ou',\n",
              " 'rechange',\n",
              " '14',\n",
              " 'mur',\n",
              " 'fil',\n",
              " 'manette',\n",
              " 'rare',\n",
              " 'light',\n",
              " 'rideau',\n",
              " 'wars',\n",
              " 'filles',\n",
              " 'kitchen',\n",
              " 'festival',\n",
              " '80',\n",
              " 'haute',\n",
              " 'verre',\n",
              " 'sunbay',\n",
              " 'mural',\n",
              " 'tuyau',\n",
              " 'black',\n",
              " 'style',\n",
              " 'tv',\n",
              " 'pierre',\n",
              " 'vie',\n",
              " 'grande',\n",
              " 'murale',\n",
              " 'stickers',\n",
              " 'tomes',\n",
              " 'stylo',\n",
              " 'livre',\n",
              " '43',\n",
              " 'stockage',\n",
              " 'vf',\n",
              " 'bar',\n",
              " 'broderie',\n",
              " 'puzzle',\n",
              " 'or',\n",
              " 'croix',\n",
              " 'dos',\n",
              " '32',\n",
              " '05',\n",
              " 'fenêtre',\n",
              " 'toys',\n",
              " 'électrique',\n",
              " 'réglable',\n",
              " 'brosse',\n",
              " '500',\n",
              " 'disney',\n",
              " 'inoxydable',\n",
              " 'hélicoptère',\n",
              " '5d',\n",
              " 'cas',\n",
              " 'wii',\n",
              " 'mousse',\n",
              " 'fournitures',\n",
              " 'auucne',\n",
              " 'jaune',\n",
              " 'fleur',\n",
              " 'cuir',\n",
              " 'm²',\n",
              " 'ligne',\n",
              " 'chat',\n",
              " 'travail',\n",
              " 'télécommande',\n",
              " '02',\n",
              " 'ø',\n",
              " '120',\n",
              " 'photo',\n",
              " 'brushless',\n",
              " '13',\n",
              " 'animal',\n",
              " 'orange',\n",
              " 'pocket',\n",
              " 'vol',\n",
              " 'hors',\n",
              " 'box',\n",
              " 'slime',\n",
              " 'deux',\n",
              " 'né',\n",
              " 'poupée',\n",
              " 'nouvelle',\n",
              " 'pokemon',\n",
              " 'neuf',\n",
              " 'diy',\n",
              " 'résine',\n",
              " '#',\n",
              " 'bestway',\n",
              " 'moakoada',\n",
              " '21',\n",
              " 'histoire',\n",
              " 'aspirateur',\n",
              " 'moteur',\n",
              " 'a4',\n",
              " 'mariage',\n",
              " '132',\n",
              " 'to',\n",
              " 'doux',\n",
              " 'tente',\n",
              " 'auto',\n",
              " 'happy',\n",
              " 'album',\n",
              " 'sport',\n",
              " 'u',\n",
              " 'volumes',\n",
              " 'mono',\n",
              " 'magazine',\n",
              " 'aux',\n",
              " 'pieds',\n",
              " 'intégré',\n",
              " 'sticker',\n",
              " '22',\n",
              " 'couleurs',\n",
              " 'ps4',\n",
              " 'pot',\n",
              " 'siège',\n",
              " 'arbre',\n",
              " 'souple',\n",
              " 'parfumée',\n",
              " 'rectangulaire',\n",
              " 'version',\n",
              " 'tête',\n",
              " 'cadeaux',\n",
              " '07',\n",
              " 'bavoir',\n",
              " 'linge',\n",
              " '180',\n",
              " 'guide',\n",
              " 'édition',\n",
              " '250',\n",
              " 'bande',\n",
              " 'pet',\n",
              " 'son',\n",
              " 'vendu',\n",
              " 'acrylique',\n",
              " 'carré',\n",
              " 'm3',\n",
              " 'mat',\n",
              " 'chargeur',\n",
              " 'r',\n",
              " 'imprimer',\n",
              " 'guerre',\n",
              " 'commune',\n",
              " 'tubulaire',\n",
              " 'beige',\n",
              " 'zhufuwme',\n",
              " 'hauteur',\n",
              " '03',\n",
              " 'liner',\n",
              " 'simple',\n",
              " 'camping',\n",
              " 'cartouche',\n",
              " 'ii',\n",
              " 'decoration',\n",
              " 'année',\n",
              " 'garçons',\n",
              " 'salon',\n",
              " 'écran',\n",
              " 'panier',\n",
              " 'camion',\n",
              " 'anniversaire',\n",
              " 'with',\n",
              " 'blanche',\n",
              " 'marvel',\n",
              " '04',\n",
              " 'chaussures',\n",
              " 'sécurité',\n",
              " 'fr',\n",
              " 'meuble',\n",
              " 'rond',\n",
              " 'magasin',\n",
              " 'multicolore',\n",
              " 'sauna',\n",
              " 'bracelet',\n",
              " 'racing',\n",
              " 'taies',\n",
              " '45',\n",
              " 'largeur',\n",
              " 'bag',\n",
              " 'aspect',\n",
              " '150',\n",
              " 'cv',\n",
              " '¿',\n",
              " 'lumières',\n",
              " 'traitement',\n",
              " 'flottant',\n",
              " 'sacs',\n",
              " 'café',\n",
              " '19',\n",
              " 'jean',\n",
              " 'pas',\n",
              " 'pad',\n",
              " 'coupe',\n",
              " 'wall',\n",
              " 'nettoyage',\n",
              " 'longueur',\n",
              " 'mobile',\n",
              " 'fête',\n",
              " 'plein',\n",
              " 'chlore',\n",
              " 'intérieur',\n",
              " 'fleurs',\n",
              " 'toile',\n",
              " '09',\n",
              " 'autocollant',\n",
              " 'switch',\n",
              " '2pcs',\n",
              " 'motif',\n",
              " 'belle',\n",
              " 'coffret',\n",
              " 'kids',\n",
              " '75',\n",
              " 'est',\n",
              " 'hanging',\n",
              " 'alarme',\n",
              " '28',\n",
              " 'complet',\n",
              " 'outils',\n",
              " 'poignée',\n",
              " 'ps3',\n",
              " 'pokémon',\n",
              " 'figure',\n",
              " '35',\n",
              " 'clair',\n",
              " 'allemand',\n",
              " 'fille',\n",
              " 'doll',\n",
              " '70',\n",
              " 'numérique',\n",
              " 'osmo',\n",
              " 'world',\n",
              " 'microns',\n",
              " 'lecteur',\n",
              " '%',\n",
              " 'plage',\n",
              " 'joyeux',\n",
              " 'strass',\n",
              " 'ferme',\n",
              " 'vêtements',\n",
              " '08',\n",
              " 'mémoire',\n",
              " 'linen',\n",
              " 'power',\n",
              " '140',\n",
              " 'fauteuil',\n",
              " 'boule',\n",
              " 'câble',\n",
              " 'premium',\n",
              " 'germenly',\n",
              " 'type',\n",
              " 'balle',\n",
              " 'vintage',\n",
              " 'manger',\n",
              " 'remplacement',\n",
              " 'pliant',\n",
              " 'ml',\n",
              " 'lapin',\n",
              " 'impression',\n",
              " 'm.',\n",
              " 'lujuik',\n",
              " 'roues',\n",
              " 'soft',\n",
              " 'film',\n",
              " '38',\n",
              " 'poussette',\n",
              " 'carnets',\n",
              " 'comics',\n",
              " 'action',\n",
              " 'pasted',\n",
              " 'foot',\n",
              " 'noire',\n",
              " '400',\n",
              " '160',\n",
              " 'clay',\n",
              " 'marque',\n",
              " 'ultra',\n",
              " 'anthracite',\n",
              " 'hayward',\n",
              " 'angle',\n",
              " 'nuit',\n",
              " 'christmas',\n",
              " 'format',\n",
              " 'zodiac',\n",
              " 'piscines',\n",
              " 'dossier',\n",
              " 'chaleur',\n",
              " '4pcs',\n",
              " 'z',\n",
              " 'famille',\n",
              " 'charge',\n",
              " 'extension',\n",
              " 'japonais',\n",
              " 'montre',\n",
              " 'musique',\n",
              " 'chimie',\n",
              " 'coloré',\n",
              " 'peintures',\n",
              " 'pen',\n",
              " '1pc',\n",
              " 'camera',\n",
              " 'warhammer',\n",
              " 'femmes',\n",
              " 'protecteur',\n",
              " '26',\n",
              " 'frame',\n",
              " '2p',\n",
              " 'chaud',\n",
              " 'dessin',\n",
              " 'go',\n",
              " '17',\n",
              " 'revues',\n",
              " 'traxxas',\n",
              " 'contrôleur',\n",
              " 'night',\n",
              " 'plateau',\n",
              " 'xl',\n",
              " 'violet',\n",
              " 'reverse',\n",
              " '23',\n",
              " 'vitesse',\n",
              " 'optique',\n",
              " 'saint',\n",
              " 'scrapbooking',\n",
              " 'rising',\n",
              " 'non',\n",
              " '399',\n",
              " 'rapide',\n",
              " 'crème',\n",
              " 'collier',\n",
              " 'up',\n",
              " '27',\n",
              " 'w',\n",
              " 'dies',\n",
              " 'on',\n",
              " 'bille',\n",
              " 'partitions',\n",
              " 'controller',\n",
              " 'vinyle',\n",
              " 'qui',\n",
              " 'miniature',\n",
              " 'machine',\n",
              " 'huile',\n",
              " 'presse',\n",
              " 'organisateur',\n",
              " 'control',\n",
              " 'très',\n",
              " 'électronique',\n",
              " 'transport',\n",
              " 'simulation',\n",
              " 'amovible',\n",
              " 'route',\n",
              " 'uni',\n",
              " 'voile',\n",
              " 'fond',\n",
              " 'cartouches',\n",
              " 'vo',\n",
              " 'polaris',\n",
              " 'bio',\n",
              " 'altitude',\n",
              " 'supplies',\n",
              " 'foil',\n",
              " 'ans',\n",
              " 'pages',\n",
              " 'feuille',\n",
              " 'ph',\n",
              " 'drapeau',\n",
              " 's4sassy',\n",
              " 'shirt',\n",
              " 'catégorie',\n",
              " 'français',\n",
              " 'neige',\n",
              " 'plat',\n",
              " 'cadre',\n",
              " 'lumineux',\n",
              " 'tour',\n",
              " 'slim',\n",
              " 'blue',\n",
              " 'place',\n",
              " '2018',\n",
              " 'prix',\n",
              " 'bandoulière',\n",
              " 'mon',\n",
              " '55',\n",
              " 'transparent',\n",
              " 'nuage',\n",
              " 'crochet',\n",
              " 'micro',\n",
              " 'sommier',\n",
              " '119',\n",
              " 'pochette',\n",
              " 'tout',\n",
              " '06',\n",
              " 'automatique',\n",
              " 'photos',\n",
              " 'tabouret',\n",
              " 'dog',\n",
              " 'compatible',\n",
              " 'boite',\n",
              " 'trois',\n",
              " 'partie',\n",
              " 'pièce',\n",
              " 'avant',\n",
              " 'ps2',\n",
              " 'card',\n",
              " 'horloge',\n",
              " 'e',\n",
              " '4ch',\n",
              " 'figurines',\n",
              " 'couvercle',\n",
              " 'force',\n",
              " 'éclairage',\n",
              " 'adaptateur',\n",
              " 'squeeze',\n",
              " 'purespa',\n",
              " 'ours',\n",
              " 'autocollants',\n",
              " 'pied',\n",
              " 'dents',\n",
              " 'contre',\n",
              " 'gimbal',\n",
              " 'paper',\n",
              " 'gâteau',\n",
              " 'diffuseur',\n",
              " 'clairefontaine',\n",
              " '146',\n",
              " 'standard',\n",
              " 'road',\n",
              " '2020',\n",
              " 'vidaxl',\n",
              " 'massif',\n",
              " 'ds',\n",
              " 'mer',\n",
              " '36',\n",
              " 'calcul',\n",
              " 'petite',\n",
              " 'personnes',\n",
              " 'décoratif',\n",
              " '_',\n",
              " 'corde',\n",
              " 'color',\n",
              " 'crawler',\n",
              " 'coloris',\n",
              " 'steel',\n",
              " 'humidificateur',\n",
              " 'base',\n",
              " 'b',\n",
              " 'éducation',\n",
              " 'veilleuse',\n",
              " 'habillage',\n",
              " 'pression',\n",
              " 'football',\n",
              " 'coeur',\n",
              " 'tools',\n",
              " 'm³',\n",
              " 'bouteille',\n",
              " 'niveau',\n",
              " 'lettre',\n",
              " 'se',\n",
              " 'pool',\n",
              " 'distance',\n",
              " 'v',\n",
              " 'sous',\n",
              " 'alimentation',\n",
              " 'nature',\n",
              " 'couette',\n",
              " 'bits',\n",
              " 'serie',\n",
              " 'crayon',\n",
              " 'tri',\n",
              " 'japan',\n",
              " 'moderne',\n",
              " 'pointe',\n",
              " 'soleil',\n",
              " 'pe',\n",
              " 'white',\n",
              " 'échelle',\n",
              " 'relief',\n",
              " 'clip',\n",
              " 'tapisserie',\n",
              " '1080p',\n",
              " 'lame',\n",
              " 'storage',\n",
              " 'spot',\n",
              " '2.4ghz',\n",
              " 'dark',\n",
              " 'science',\n",
              " 'contrôle',\n",
              " '65',\n",
              " 'téléphone',\n",
              " 'smart',\n",
              " 'argent',\n",
              " 'sony',\n",
              " 'francaise',\n",
              " 'chêne',\n",
              " 'lindner',\n",
              " 'suspendu',\n",
              " 'lune',\n",
              " 'gel',\n",
              " '29',\n",
              " 'filtres',\n",
              " '2019',\n",
              " 'corps',\n",
              " 'extérieure',\n",
              " 'mickey',\n",
              " 'respirant',\n",
              " 'accessoire',\n",
              " 'tressée',\n",
              " 'spécial',\n",
              " 'retour',\n",
              " 'foncé',\n",
              " 'fer',\n",
              " 'long',\n",
              " 'volume',\n",
              " '48',\n",
              " 'durable',\n",
              " 'citrouille',\n",
              " 'cristal',\n",
              " 'décorative',\n",
              " 'lent',\n",
              " 'lcd',\n",
              " 'kw',\n",
              " 'dur',\n",
              " 'big',\n",
              " '95',\n",
              " 'play',\n",
              " 'complète',\n",
              " 'loisirs',\n",
              " 'été',\n",
              " 'fun',\n",
              " 'bora',\n",
              " 'hélice',\n",
              " 'ballon',\n",
              " 'canard',\n",
              " 'spark',\n",
              " 'chocolat',\n",
              " 'poupées',\n",
              " 'bleue',\n",
              " 'je',\n",
              " 'chaîne',\n",
              " 'mise',\n",
              " 'bateau',\n",
              " 'moule',\n",
              " 'prince',\n",
              " 'piano',\n",
              " 'gr',\n",
              " 'portes',\n",
              " '2016',\n",
              " 'love',\n",
              " 'lettres',\n",
              " '210',\n",
              " '64',\n",
              " 'père',\n",
              " 'boy',\n",
              " 'off',\n",
              " '2010',\n",
              " 'cd',\n",
              " 'anti-slip',\n",
              " 'stylos',\n",
              " 'classiques',\n",
              " 'decal',\n",
              " 'capacité',\n",
              " 'confortable',\n",
              " 'confort',\n",
              " 'piece',\n",
              " 'véhicule',\n",
              " 'collector',\n",
              " 'diamètre',\n",
              " 'sortie',\n",
              " 'lens',\n",
              " '37',\n",
              " 'suspension',\n",
              " 'hivernage',\n",
              " 'encre',\n",
              " 'temps',\n",
              " 'tube',\n",
              " 'zoom',\n",
              " 'soutien',\n",
              " '370',\n",
              " '33',\n",
              " 'luxe',\n",
              " 'us',\n",
              " 'clé',\n",
              " 'appareil',\n",
              " 'bébés',\n",
              " 'series',\n",
              " 'jouer',\n",
              " 'filet',\n",
              " 'toi',\n",
              " 'deluxe',\n",
              " 'course',\n",
              " 'p',\n",
              " 'bas',\n",
              " 'phantom',\n",
              " 'homme',\n",
              " 'lente',\n",
              " 'easy',\n",
              " 'pliante',\n",
              " 'bains',\n",
              " 'putty',\n",
              " 'éducatifs',\n",
              " 'no',\n",
              " '720p',\n",
              " 'drap',\n",
              " 'anglais',\n",
              " 'chaises',\n",
              " 'astralpool',\n",
              " 'gps',\n",
              " 'radio',\n",
              " 'day',\n",
              " 'plaque',\n",
              " 'cotton',\n",
              " 'noel',\n",
              " 'esc',\n",
              " 'panini',\n",
              " 'heureux',\n",
              " 'projecteur',\n",
              " 'cute',\n",
              " 'foyer',\n",
              " 'joystick',\n",
              " 'nylon',\n",
              " 'souris',\n",
              " 'rechargeable',\n",
              " 'trousse',\n",
              " 'girl',\n",
              " 'part',\n",
              " 'pv',\n",
              " 'parasol',\n",
              " 'manettes',\n",
              " 'tondeuse',\n",
              " 'alliage',\n",
              " 'sel',\n",
              " 'petits',\n",
              " 'buyiesky',\n",
              " 'red',\n",
              " 'brun',\n",
              " 'convertible',\n",
              " 'système',\n",
              " 'poisson',\n",
              " 'war',\n",
              " 'flower',\n",
              " 'reine',\n",
              " 'mois',\n",
              " 'selfie',\n",
              " 'basse',\n",
              " 'pays',\n",
              " 'il',\n",
              " 'taupe',\n",
              " 'plante',\n",
              " 'cases',\n",
              " 'grip',\n",
              " 'marche',\n",
              " 'mario',\n",
              " 'bayrol',\n",
              " 'muraux',\n",
              " '2008',\n",
              " 'poli',\n",
              " 'dc',\n",
              " 'ice',\n",
              " 'réparation',\n",
              " 'classic',\n",
              " 'waterproof',\n",
              " 'remote',\n",
              " '2012',\n",
              " '2015',\n",
              " 'politique',\n",
              " ';',\n",
              " 'carton',\n",
              " 'miroir',\n",
              " 'manuel',\n",
              " 'club',\n",
              " 'anti',\n",
              " 'ubbink',\n",
              " 'secret',\n",
              " 'kid',\n",
              " 'max',\n",
              " 'gb',\n",
              " 'linxor',\n",
              " 'jour',\n",
              " 'high',\n",
              " 'video',\n",
              " 'roue',\n",
              " 'scx10',\n",
              " 'artisanat',\n",
              " 'lego',\n",
              " 'man',\n",
              " 'manche',\n",
              " 'pin',\n",
              " '3pcs',\n",
              " 'board',\n",
              " 'filtrante',\n",
              " 'solide',\n",
              " 'rectangle',\n",
              " 'caoutchouc',\n",
              " '600',\n",
              " '480',\n",
              " 'fruits',\n",
              " 'droit',\n",
              " 'décorations',\n",
              " ...]"
            ]
          },
          "metadata": {
            "tags": []
          },
          "execution_count": 110
        }
      ]
    },
    {
      "cell_type": "code",
      "metadata": {
        "id": "aLEYGtQotr8D",
        "colab_type": "code",
        "colab": {
          "base_uri": "https://localhost:8080/",
          "height": 34
        },
        "outputId": "48ad5c3f-5680-4337-c059-f4aa815d82f7"
      },
      "source": [
        "old_tokens = list(set(dls_lm.vocab).intersection(orig_itos))\n",
        "new_tokens = list(set(dls_lm.vocab) - set(orig_itos))\n",
        "len(old_tokens), len(new_tokens)"
      ],
      "execution_count": 112,
      "outputs": [
        {
          "output_type": "execute_result",
          "data": {
            "text/plain": [
              "(4081, 3835)"
            ]
          },
          "metadata": {
            "tags": []
          },
          "execution_count": 112
        }
      ]
    },
    {
      "cell_type": "code",
      "metadata": {
        "id": "HyvNdrtztK9e",
        "colab_type": "code",
        "colab": {
          "base_uri": "https://localhost:8080/",
          "height": 292
        },
        "outputId": "530d0ca6-9e8d-43ae-d574-8f6dd8b03006"
      },
      "source": [
        "learn_lm.dls.train_ds"
      ],
      "execution_count": 105,
      "outputs": [
        {
          "output_type": "execute_result",
          "data": {
            "text/plain": [
              "(#15285) [(TensorText([   2,    4,    9,    8,    0,  119,  119,    8, 3939,    8, 2821,    8,\n",
              "         101,    8, 3010,    8,  214,    8,    0,   52,    8,   21,    4,   10]),),(TensorText([   2,    4,    9,    8,   15,    8,    0,    8,   18,    0,   11,    8,\n",
              "        5351,    0,   11,    0,    7,   33, 4419,   27,    8,  176, 4910,    8,\n",
              "          12,    8, 1947,    8,   19,    8,   18,  339,    4,   10]),),(TensorText([  2,   4,   9,   8,   0,  60,  73,   8, 149,   8, 890,   4,  10]),),(TensorText([   2,    4,    9,    8, 1533,    8,   14,    8,   53,    8, 1545,    8,\n",
              "           0,    8, 1667,    8,   56, 1963,   11,  692,    8, 6510,    8,  566,\n",
              "           8,  446,    4,   10]),),(TensorText([   2,    4,    9,    8,    0,    8,  174,    8,  289,    8, 2847,    8,\n",
              "         108,    8,  159,  154,    8,  706,    8,   55,    4,   10]),),(TensorText([   2,    4,    9,    8, 5263,   12,  881,    8,    0,   11,   59,  185,\n",
              "           4,   10]),),(TensorText([   2,    4,    9,    8,   89,  131,    8,  120,  715,    8, 1016,   19,\n",
              "           8,  109,   59,  737,   24,    8,  784,  675,   24,    8, 1971, 2739,\n",
              "           4,   10]),),(TensorText([   2,    4,    9,    8,   37,    0,    8,   65,    8,   12,    8, 1915,\n",
              "          32,    8, 1240,    8, 1388,    8,    0,    8,  849,    4,   10]),),(TensorText([   2,    4,    9, 5138,    8,  686,    8,  103,    8,  379,    8,  399,\n",
              "           8,   19,    8,  626,    8, 4451,    8, 2145,    8,  379,    8,   42,\n",
              "           8,   14,    8,   31,    8,   43,    8,  115,  901,    8, 1305,    0,\n",
              "           4,   10]),),(TensorText([   2,    4,    9,    8, 3808,    8, 6833,    7,   74,   73,    0,   11,\n",
              "           8,    0,    4,   10]),)...]"
            ]
          },
          "metadata": {
            "tags": []
          },
          "execution_count": 105
        }
      ]
    },
    {
      "cell_type": "code",
      "metadata": {
        "id": "QfvM4wS5ZY1P",
        "colab_type": "code",
        "colab": {
          "base_uri": "https://localhost:8080/",
          "height": 300
        },
        "outputId": "947ffdbc-c457-41ea-cade-944e86f7471e"
      },
      "source": [
        "learn_lm.lr_find()"
      ],
      "execution_count": 23,
      "outputs": [
        {
          "output_type": "display_data",
          "data": {
            "text/html": [
              ""
            ],
            "text/plain": [
              "<IPython.core.display.HTML object>"
            ]
          },
          "metadata": {
            "tags": []
          }
        },
        {
          "output_type": "execute_result",
          "data": {
            "text/plain": [
              "SuggestedLRs(lr_min=0.15848932266235352, lr_steep=0.0831763744354248)"
            ]
          },
          "metadata": {
            "tags": []
          },
          "execution_count": 23
        },
        {
          "output_type": "display_data",
          "data": {
            "image/png": "[encoded data removed]",
            "text/plain": [
              "<Figure size 432x288 with 1 Axes>"
            ]
          },
          "metadata": {
            "tags": [],
            "needs_background": "light"
          }
        }
      ]
    },
    {
      "cell_type": "code",
      "metadata": {
        "id": "ru1rkRY9Zhsj",
        "colab_type": "code",
        "colab": {
          "base_uri": "https://localhost:8080/",
          "height": 174
        },
        "outputId": "dcffe996-326d-4d17-e49b-bc612aa3228d"
      },
      "source": [
        "learn_lm.fine_tune(2,base_lr=8e-2)"
      ],
      "execution_count": 24,
      "outputs": [
        {
          "output_type": "display_data",
          "data": {
            "text/html": [
              "<table border=\"1\" class=\"dataframe\">\n",
              "  <thead>\n",
              "    <tr style=\"text-align: left;\">\n",
              "      <th>epoch</th>\n",
              "      <th>train_loss</th>\n",
              "      <th>valid_loss</th>\n",
              "      <th>accuracy</th>\n",
              "      <th>perplexity</th>\n",
              "      <th>time</th>\n",
              "    </tr>\n",
              "  </thead>\n",
              "  <tbody>\n",
              "    <tr>\n",
              "      <td>0</td>\n",
              "      <td>3.633034</td>\n",
              "      <td>2.888071</td>\n",
              "      <td>0.562835</td>\n",
              "      <td>17.958632</td>\n",
              "      <td>00:26</td>\n",
              "    </tr>\n",
              "  </tbody>\n",
              "</table>"
            ],
            "text/plain": [
              "<IPython.core.display.HTML object>"
            ]
          },
          "metadata": {
            "tags": []
          }
        },
        {
          "output_type": "display_data",
          "data": {
            "text/html": [
              "<table border=\"1\" class=\"dataframe\">\n",
              "  <thead>\n",
              "    <tr style=\"text-align: left;\">\n",
              "      <th>epoch</th>\n",
              "      <th>train_loss</th>\n",
              "      <th>valid_loss</th>\n",
              "      <th>accuracy</th>\n",
              "      <th>perplexity</th>\n",
              "      <th>time</th>\n",
              "    </tr>\n",
              "  </thead>\n",
              "  <tbody>\n",
              "    <tr>\n",
              "      <td>0</td>\n",
              "      <td>2.689984</td>\n",
              "      <td>2.524642</td>\n",
              "      <td>0.584752</td>\n",
              "      <td>12.486424</td>\n",
              "      <td>00:28</td>\n",
              "    </tr>\n",
              "    <tr>\n",
              "      <td>1</td>\n",
              "      <td>2.384318</td>\n",
              "      <td>2.390096</td>\n",
              "      <td>0.603800</td>\n",
              "      <td>10.914546</td>\n",
              "      <td>00:28</td>\n",
              "    </tr>\n",
              "  </tbody>\n",
              "</table>"
            ],
            "text/plain": [
              "<IPython.core.display.HTML object>"
            ]
          },
          "metadata": {
            "tags": []
          }
        }
      ]
    },
    {
      "cell_type": "code",
      "metadata": {
        "id": "ZoH8S20baAau",
        "colab_type": "code",
        "colab": {
          "base_uri": "https://localhost:8080/",
          "height": 265
        },
        "outputId": "d9f9c09d-5df1-4f11-e7fe-7a2df3416fa3"
      },
      "source": [
        "learn_lm.recorder.plot_loss()"
      ],
      "execution_count": 25,
      "outputs": [
        {
          "output_type": "display_data",
          "data": {
            "image/png": "[encoded data removed]",
            "text/plain": [
              "<Figure size 432x288 with 1 Axes>"
            ]
          },
          "metadata": {
            "tags": [],
            "needs_background": "light"
          }
        }
      ]
    },
    {
      "cell_type": "code",
      "metadata": {
        "id": "khQLsdwEamh3",
        "colab_type": "code",
        "colab": {}
      },
      "source": [
        "learn_lm.save_encoder('fine_tuned_enc_2ep_8e_2lr')"
      ],
      "execution_count": 0,
      "outputs": []
    },
    {
      "cell_type": "markdown",
      "metadata": {
        "id": "DCMP3wRGacIA",
        "colab_type": "text"
      },
      "source": [
        "# Classification"
      ]
    },
    {
      "cell_type": "code",
      "metadata": {
        "id": "Ol1_XnWab1XB",
        "colab_type": "code",
        "colab": {
          "base_uri": "https://localhost:8080/",
          "height": 54
        },
        "outputId": "5c98deee-b270-41b5-c50b-2159e55bd10a"
      },
      "source": [
        "dls_cls.train_ds.vocab"
      ],
      "execution_count": 27,
      "outputs": [
        {
          "output_type": "execute_result",
          "data": {
            "text/plain": [
              "(#2) [['xxunk', 'xxpad', 'xxbos', 'xxeos', 'xxfld', 'xxrep', 'xxwrep', 'xxup', 'xxmaj', '1', '2', '-', 'de', '/', 'pour', 'en', 'à', 'la', \"d'\", 'et', '(', 'cm', ')', 'x', '+', 'du', '3', ':', 'le', 'piscine', 'jeu', 'les', '.', 'n°', 'm', 'lot', 'avec', \"l'\", 'coussin', '4', 'des', '\"', 'kit', 'enfants', 'rc', 'taie', 'blanc', 'a', 'oreiller', 'mm', 'the', '&', '10', 'bébé', 'bois', 'led', 'sac', 'g', 'décor', '6', '5', 'noir', 'home', 'bleu', 'décoration', 'noël', 'drone', 'notes', 'carte', 'jeux', 'bâche', 'of', 'mini', '°', 'n', 'canapé', 'portable', 'journal', 'acier', 'couverture', '8', 'par', 'au', 'générique', '12', 'voiture', 'console', '0', 'dji', 'spa', 'magideal', 'cadeau', 'l', 'jardin', 'set', 'gris', 'cuisine', 'lampe', 'sur', 'jouet', 'h', 'figurine', 'pompe', 'coton', 'housse', 'carnet', 'tapis', ']', 'table', 'bulles', '…', 'rouge', 'lit', 'tissu', '7', 'jouets', 's', '®', 'classique', '!', 'intex', 'collection', 'un', '[', 'nouveau', '100', 'ronde', 'for', 'support', 'case', 'toy', 'gonflable', 'couleur', 'vert', 'maison', 'bricolage', 'bloc', 'peluche', 'enfant', 'téléchargement', 'rose', 'quadcopter', '20', 'car', 'cover', 'eau', 'air', 'protection', 'modèle', 'edition', 'sans', \"'\", 'taille', 'peinture', '3d', 'cahier', 'douche', 'stream', 'filtre', 'bureau', 'lumière', 'accueil', 'pvc', '01', 'sofa', 'nintendo', '30', '18', '|', 'papier', 'france', 'pièces', 'matelas', 'salle', 'super', 'bain', 'une', 'livres', 'and', 'hiver', 'rangement', 'métal', 'silicone', 'poche', 'c', 'places', 'throw', 'pouces', '15', 'magic', 'plastique', 'boîte', 'pro', 'art', 'double', 'mode', 'caméra', 'pcs', '25', 'vidéo', 'import', 'solaire', 'kg', 'gré', 'accessoires', 'dans', 'pc', 'avion', 'decor', 'tome', '16', '9', 'main', 'petit', 'yu', 'oh', 'ball', 'gi', 'chaussettes', 'chien', 'batterie', 'mavic', '50', 'chaise', 'fpv', 'a5', 'sol', 'star', 'in', 'halloween', 'entretien', 'plus', 'pack', '11', 'étanche', 'game', 'cartoon', 'filtration', 'mignon', 'design', 'paris', 'grand', 'pêche', 'ensemble', '122', 'forme', 'porte', 'sweetheart93', 't', 'hd', 'i', 'xbox', '?', 'oogarden', 'animaux', 'pliable', 'extérieur', 'rétro', 'marron', 'pillow', 'dragon', 'sable', 'wifi', 'playstation', 'diamant', '24', 'imprimé', 'polyester', 'party', 'imperméable', 'new', '40', 'voyage', 'ovale', 'metal', '60', 'aluminium', 'doudou', 'd', 'lin', '90', '300', 'feuilles', '360', 'chambre', '*', 'mtg', 'usb', '200', 'robot', 'creative', 'série', 'outil', 'maquette', 'point', 'revue', '2.4', 'baby', 'pop', 'cartes', 'one', 'monde', 'stress', 'ou', 'rechange', '14', 'mur', 'fil', 'manette', 'rare', 'light', 'rideau', 'wars', 'filles', 'kitchen', 'festival', '80', 'haute', 'verre', 'sunbay', 'mural', 'tuyau', 'black', 'style', 'tv', 'pierre', 'vie', 'grande', 'murale', 'stickers', 'tomes', 'stylo', 'livre', '43', 'stockage', 'vf', 'bar', 'broderie', 'puzzle', 'or', 'croix', 'dos', '32', '05', 'fenêtre', 'toys', 'électrique', 'réglable', 'brosse', '500', 'disney', 'inoxydable', 'hélicoptère', '5d', 'cas', 'wii', 'mousse', 'fournitures', 'auucne', 'jaune', 'fleur', 'cuir', 'm²', 'ligne', 'chat', 'travail', 'télécommande', '02', 'ø', '120', 'photo', 'brushless', '13', 'animal', 'orange', 'pocket', 'vol', 'hors', 'box', 'slime', 'deux', 'né', 'poupée', 'nouvelle', 'pokemon', 'neuf', 'diy', 'résine', '#', 'bestway', 'moakoada', '21', 'histoire', 'aspirateur', 'moteur', 'a4', 'mariage', '132', 'to', 'doux', 'tente', 'auto', 'happy', 'album', 'sport', 'u', 'volumes', 'mono', 'magazine', 'aux', 'pieds', 'intégré', 'sticker', '22', 'couleurs', 'ps4', 'pot', 'siège', 'arbre', 'souple', 'parfumée', 'rectangulaire', 'version', 'tête', 'cadeaux', '07', 'bavoir', 'linge', '180', 'guide', 'édition', '250', 'bande', 'pet', 'son', 'vendu', 'acrylique', 'carré', 'm3', 'mat', 'chargeur', 'r', 'imprimer', 'guerre', 'commune', 'tubulaire', 'beige', 'zhufuwme', 'hauteur', '03', 'liner', 'simple', 'camping', 'cartouche', 'ii', 'decoration', 'année', 'garçons', 'salon', 'écran', 'panier', 'camion', 'anniversaire', 'with', 'blanche', 'marvel', '04', 'chaussures', 'sécurité', 'fr', 'meuble', 'rond', 'magasin', 'multicolore', 'sauna', 'bracelet', 'racing', 'taies', '45', 'largeur', 'bag', 'aspect', '150', 'cv', '¿', 'lumières', 'traitement', 'flottant', 'sacs', 'café', '19', 'jean', 'pas', 'pad', 'coupe', 'wall', 'nettoyage', 'longueur', 'mobile', 'fête', 'plein', 'chlore', 'intérieur', 'fleurs', 'toile', '09', 'autocollant', 'switch', '2pcs', 'motif', 'belle', 'coffret', 'kids', '75', 'est', 'hanging', 'alarme', '28', 'complet', 'outils', 'poignée', 'ps3', 'pokémon', 'figure', '35', 'clair', 'allemand', 'fille', 'doll', '70', 'numérique', 'osmo', 'world', 'microns', 'lecteur', '%', 'plage', 'joyeux', 'strass', 'ferme', 'vêtements', '08', 'mémoire', 'linen', 'power', '140', 'fauteuil', 'boule', 'câble', 'premium', 'germenly', 'type', 'balle', 'vintage', 'manger', 'remplacement', 'pliant', 'ml', 'lapin', 'impression', 'm.', 'lujuik', 'roues', 'soft', 'film', '38', 'poussette', 'carnets', 'comics', 'action', 'pasted', 'foot', 'noire', '400', '160', 'clay', 'marque', 'ultra', 'anthracite', 'hayward', 'angle', 'nuit', 'christmas', 'format', 'zodiac', 'piscines', 'dossier', 'chaleur', '4pcs', 'z', 'famille', 'charge', 'extension', 'japonais', 'montre', 'musique', 'chimie', 'coloré', 'peintures', 'pen', '1pc', 'camera', 'warhammer', 'femmes', 'protecteur', '26', 'frame', '2p', 'chaud', 'dessin', 'go', '17', 'revues', 'traxxas', 'contrôleur', 'night', 'plateau', 'xl', 'violet', 'reverse', '23', 'vitesse', 'optique', 'saint', 'scrapbooking', 'rising', 'non', '399', 'rapide', 'crème', 'collier', 'up', '27', 'w', 'dies', 'on', 'bille', 'partitions', 'controller', 'vinyle', 'qui', 'miniature', 'machine', 'huile', 'presse', 'organisateur', 'control', 'très', 'électronique', 'transport', 'simulation', 'amovible', 'route', 'uni', 'voile', 'fond', 'cartouches', 'vo', 'polaris', 'bio', 'altitude', 'supplies', 'foil', 'ans', 'pages', 'feuille', 'ph', 'drapeau', 's4sassy', 'shirt', 'catégorie', 'français', 'neige', 'plat', 'cadre', 'lumineux', 'tour', 'slim', 'blue', 'place', '2018', 'prix', 'bandoulière', 'mon', '55', 'transparent', 'nuage', 'crochet', 'micro', 'sommier', '119', 'pochette', 'tout', '06', 'automatique', 'photos', 'tabouret', 'dog', 'compatible', 'boite', 'trois', 'partie', 'pièce', 'avant', 'ps2', 'card', 'horloge', 'e', '4ch', 'figurines', 'couvercle', 'force', 'éclairage', 'adaptateur', 'squeeze', 'purespa', 'ours', 'autocollants', 'pied', 'dents', 'contre', 'gimbal', 'paper', 'gâteau', 'diffuseur', 'clairefontaine', '146', 'standard', 'road', '2020', 'vidaxl', 'massif', 'ds', 'mer', '36', 'calcul', 'petite', 'personnes', 'décoratif', '_', 'corde', 'color', 'crawler', 'coloris', 'steel', 'humidificateur', 'base', 'b', 'éducation', 'veilleuse', 'habillage', 'pression', 'football', 'coeur', 'tools', 'm³', 'bouteille', 'niveau', 'lettre', 'se', 'pool', 'distance', 'v', 'sous', 'alimentation', 'nature', 'couette', 'bits', 'serie', 'crayon', 'tri', 'japan', 'moderne', 'pointe', 'soleil', 'pe', 'white', 'échelle', 'relief', 'clip', 'tapisserie', '1080p', 'lame', 'storage', 'spot', '2.4ghz', 'dark', 'science', 'contrôle', '65', 'téléphone', 'smart', 'argent', 'sony', 'francaise', 'chêne', 'lindner', 'suspendu', 'lune', 'gel', '29', 'filtres', '2019', 'corps', 'extérieure', 'mickey', 'respirant', 'accessoire', 'tressée', 'spécial', 'retour', 'foncé', 'fer', 'long', 'volume', '48', 'durable', 'citrouille', 'cristal', 'décorative', 'lent', 'lcd', 'kw', 'dur', 'big', '95', 'play', 'complète', 'loisirs', 'été', 'fun', 'bora', 'hélice', 'ballon', 'canard', 'spark', 'chocolat', 'poupées', 'bleue', 'je', 'chaîne', 'mise', 'bateau', 'moule', 'prince', 'piano', 'gr', 'portes', '2016', 'love', 'lettres', '210', '64', 'père', 'boy', 'off', '2010', 'cd', 'anti-slip', 'stylos', 'classiques', 'decal', 'capacité', 'confortable', 'confort', 'piece', 'véhicule', 'collector', 'diamètre', 'sortie', 'lens', '37', 'suspension', 'hivernage', 'encre', 'temps', 'tube', 'zoom', 'soutien', '370', '33', 'luxe', 'us', 'clé', 'appareil', 'bébés', 'series', 'jouer', 'filet', 'toi', 'deluxe', 'course', 'p', 'bas', 'phantom', 'homme', 'lente', 'easy', 'pliante', 'bains', 'putty', 'éducatifs', 'no', '720p', 'drap', 'anglais', 'chaises', 'astralpool', 'gps', 'radio', 'day', 'plaque', 'cotton', 'noel', 'esc', 'panini', 'heureux', 'projecteur', 'cute', 'foyer', 'joystick', 'nylon', 'souris', 'rechargeable', 'trousse', 'girl', 'part', 'pv', 'parasol', 'manettes', 'tondeuse', 'alliage', 'sel', 'petits', 'buyiesky', 'red', 'brun', 'convertible', 'système', 'poisson', 'war', 'flower', 'reine', 'mois', 'selfie', 'basse', 'pays', 'il', 'taupe', 'plante', 'cases', 'grip', 'marche', 'mario', 'bayrol', 'muraux', '2008', 'poli', 'dc', 'ice', 'réparation', 'classic', 'waterproof', 'remote', '2012', '2015', 'politique', ';', 'carton', 'miroir', 'manuel', 'club', 'anti', 'ubbink', 'secret', 'kid', 'max', 'gb', 'linxor', 'jour', 'high', 'video', 'roue', 'scx10', 'artisanat', 'lego', 'man', 'manche', 'pin', '3pcs', 'board', 'filtrante', 'solide', 'rectangle', 'caoutchouc', '600', '480', 'fruits', 'droit', 'décorations', 'marine', 'arrière', 'vacances', 'funko', 'europe', '42', 'paul', 'lattex', 'special', 'vous', 'ciel', '31', 'moto', 'gear', 'outdoor', 'gold', 'jets', 'vis', 'anneaux', 'mort', 'cat', 'pte', '634', 'française', 'hot', 'torche', 'pochoirs', 'tous', 'rouleau', 'yoga', 'audio', 'pull', 'gre', 'école', 'pâques', 'élément', '2005', '550', 'étiquettes', 'holder', 'paire', 'waterblue', 'peau', 'grey', 'shell', 'commutateur', 'arrosage', 'ceinture', 'sports', 'nappe', 'coque', 'paquet', 'spring', 'panneau', 'motrices', 'editions', 'naturel', 'lavable', 'feu', 'amour', 'time', 'ex', 'construction', 'mélange', 'by', 'crochets', '220', 'extensible', 'longue', 'magnétique', 'echelle', 'ressorts', '2003', 'fruit', 'batman', 'non-slip', 'nouvelles', 'rack', 'truck', 'garde', 'décoratifs', 'verte', 'fibre', '240', 'joueur', 'bd', 'dragons', 'cellule', 'atlas', 'chapeau', 'leurres', 'moyenne', 'brome', 'haut', 'av', 'que', 'house', 'voir', 'rock', '366', 'guitare', 'latex', 'vhbw', 'essenzia', '2014', 'volant', 'hommes', 'déco', 'cap', 'multi', 'spas', 'laqué', 'adrenalyn', 'robe', 'velours', 'fitness', '110', 'vapeur', 'skylanders', 'roller', 'li', 'aventure', 'bluetooth', '327', 'bon', 'langer', 'ce', 'ps1', 'hr', 'jet', 'model', 'rite', 'notice', 'tampon', 'fidji', '52', 'fermeture', 'éponge', 'die', 'recharge', 'ref', 'armoire', 'universel', 'masque', 'oxford', '3ds', 'tulle', '2013', 'oiseau', 'thermomètre', 'jours', 'schneider', 'illustration', 'lanterne', 'studio', 'uv', '260', 'doauhao', 'cars', 'side', 'pure', 'cutting', 'age', 'garden', 'groupe', 'numéro', 'garçon', 'grands', 'empire', 'bac', '130', 'arcade', 'poster', 'éducatif', 'marbré', 'nettoyeur', 'sega', 'tiroirs', 'der', 'trampoline', 'princesse', 'société', 'etui', 'drapé', 'y', 'objectif', 'étagère', 'band', 'capteur', '549', 'géométrique', 'barbecue', 'anti-stress', 'ampoule', 'consoles', 'billard', '96', 'clear', 'âge', 'exacompta', 'axial', 'siècle', 'hdmi', 'fin', '280', 'rd', 'protector', 'best', 'coin', '2007', 'soie', 'book', 'lite', 'pochettes', 'hangar', 'statuette', 'flexible', 'hubsan', 'clp', 'ses', 'quatre', 'draps', 'gamepad', 'net', 'drill', 'retro', 'fashion', 'dr', \"s'\", 'dernière', 'ornement', 'hausse', 'hth', 'plantes', 'fée', 'roi', 'plush', '44', 'tintin', 'rtf', 'jack', 'tournevis', 'cuillère', 'pp', 'géant', 'sachet', 'wet', 'terre', 'tableau', 'vue', 'vs', 'body', 'canne', 'serre', 'puppy', 'tablier', 'serviette', 'abri', 'lattes', 'props', 'mesh', 'silver', 'psp', 'jetez', 'bonbons', 'automne', 'infrarouge', 'step', 'chef', '5pcs', 'structure', 'univers', 'annee', 'monster', 'permanent', 'choc', 'illustre', 'numéros', 'étui', 'classeur', 'ft', 'entre', 'casque', 'prise', 'goverie', 'bras', 'ruban', 'ultimate', 'quickio', '527', 'bordeaux', 'euro', 'four', 'turquoise', '10pcs', 'train', 'hors-sol', '190', 'harry', 'chez', 'douce', 'match', 'scandinave', 'line', '457', 'shen', 'arts', 'faire', 'danse', 'jacques', 'xy', 'heroes', '72', 'hélices', 'comment', 'diam', 'dinosaur', 'carry', 'balai', 'meubles', 'sciences', 'unité', 'headless', 'sa', '124', 'yeux', 'flash', '74', 'applique', 'bouton', 'japon', 'thé', 'drôle', 'sweet', 'floral', 'béton', 'back', 'sta', '133', 'carrée', 'master', 'jumbo', 'mac', 'allemagne', 'lait', 'skimmer', 'large', 'seat', 'figaro', '125', 'cup', 'marches', '350', 'wltoys', 'fantasy', 'chauffage', 'rotin', 'o', 'extra', '1997', 'gamme', 'face', 'femme', 'meilleur', 'tout-petits', 'potter', 'image', 'holo', 'marqueur', 'soirée', 'manches', 'ho', '34', 'rideaux', 'junior', 'perle', 'bulle', 'education', 'aventures', 'xxl', \"j'\", 'g.', 'chair', 'blanches', 'cheveux', 'votre', '450', 'hero', 'mug', 'hochet', '99', '135', 'blocs', 'aquarium', 'complete', 'mint', 'heart', 'carbone', 'top', 'pouf', 'life', '1980', 'bataille', 'mars', 'gift', '1pcs', 'scale', 'pratique', '1989', 'cube', 'full', 'bassin', 'article', 'valance', '744', 'microsoft', 'ne', '270', 'zones', 'génération', 'bouée', 'me', 'vélo', 'saint-valentin', '2017', 'développement', '51', '2009', '47', 'candy', 'barre', 'hard', 'intelligent', 'aroma', 'parure', 'green', 'space', 'tricot', '320', 'boutique', 'épaule', '1ère', 'paysage', '2004', 'lecture', 'x4', 'nos', 'sweetheart', 'plancher', 'bebe', 'f', 'balles', 'iv', 'michel', 'boucle', 'bk', 'nous', 'recettes', 'jjrc', 'oreillers', 'espace', 'facile', 'ballons', '4k', 'enrouleur', 'couchage', '1995', 'inox', 'chariot', 'elle', 'head', 'magique', 'watch', 'renault', 'puissance', 'equipe', 'conseil', '305', '59', 'feutre', 'perles', '76', 'premier', 'température', 'ixo', \"jusqu'\", 'vin', 'parisien', 'enveloppes', 'kinder', 'nes', 'bandes', '1988', 'pilot', 'ergonomique', 'métallique', '3.7v', 'vaisselle', 'militaire', 'm2', 'lipo', 'grise', 'cuisson', 'guirlande', 'royal', 'boue', 'énergie', '0.3mp', 'hsp', 'joueurs', 'fléchettes', '1981', 'droite', 'appât', 'juin', 'tunnel', 'toilettes', 'illusion', 'coussins', 'moi', 'games', 'seigneur', 'romans', 'plate', 'deck', 'ventilateur', 'blanket', 'qualité', '1987', '46', 'papillon', 'xtr', 'lamp', 'biberon', 'men', 'oeuvres', '85', 'gauche', 'ouverture', 'janvier', 'couvertures', 'technique', 'apres', 'chemise', 'flotteur', 'thermique', 'axe', 'spéciale', '7.4v', 'final', 'albums', 'valentine', '108', 'chine', '2pc', 'trou', 'combat', 'escalier', 'éditions', 'cou', 'd90', 'capsules', 'dolphin', 'water', 'pistolet', 'maker', 'charles', 'francais', 'artificielle', 'ps', 'etoiles', 'aromathérapie', 'enfance', 'escalade', 'office', 'résistant', 'k', 'stainless', '1996', 'aléatoire', 'trx-4', 'bâton', 'galaxy', 'culture', '1er', 'squishy', 'années', 'norev', 'plastic', 'wrap', 'savon', 'container', 'raccord', '1976', 'rétractable', 'pain', 'battle', 'rince', 'bubble', 'écharpe', 'livraison', 'axes', 'gilet', 'voix', 'digital', 'cushion', 'po', 'parts', 'musical', 'essentielle', 'infinity', 'nouvel', 'rapido', 'store', 'fait', '2006', 'union', 'galets', 'coul', 'neiges', 'créatif', 'acacia', 'aqua', 'induction', 'chiens', 'fils', 'quick', 'casual', 'tiroir', 'encreur', 'apprentissage', 'nettoyant', 'repose', 'assise', 'jungle', 'tortue', 'my', 'from', 'kits', 'vanne', 'rider', 'king', 'couches', 'nd4', 'étudiant', 'clavier', 'fifa', 'music', 'noyau', '12v', 'crayons', 'revêtement', \"n'\", '1998', 'bache', 'j', 'comme', 'station', 'octogonal', 'garbage', 'photographie', '1985', 'tactique', 'plume', 'fan', 'barbie', 'gn', 'maman', 'cross', 'room', 'bottes', 'valise', 'céramique', 'voitures', 'eva', 'anti-dérapant', 'electrique', 'château', 'filaire', 'nerf', 'android', 'liquide', 'multifonctions', 'cards', 'sucre', 'tenture', 'pleine', 'décompression', 'gaming', 'american', 'michael', 'safe', '175', 'intégrale', 'gym', 'jeune', 'nord', 'ordinateur', '2011', 'polaire', 'beach', 'an', 'pince', 'fixe', 'xiaomi', 'trx4', 'ford', '1979', 'call', 'your', '2001', 'flux', 'ocean', 'changement', 'mah', 'buffet', '427', 'microfibre', '3.5', 'spirale', 'nostalgique', 'géométrie', 'spare', 'children', 'ville', '84', 'van', 'alphabet', 'marqueurs', 'glissière', 'ma', 'madkanao', 'magazines', 'pentair', 'maxi', 'buggy', '41', 'hachette', 'effet', 'lampes', 'attax', '2x', 'jeunesse', 'vent', 'ver', 'scène', 'avengers', 'fiche', \"assassin'\", 'creed', 'john', 'trodat', 'naruto', 'similicuir', 'fine', 'camouflage', 'tapomeis', 'pare-chocs', 'flanelle', 'clips', 'randonnée', 'flip', '4pc', 'gt', 'balançoire', 'chinois', '1p', 'natation', 'mesure', 'mots', 'robert', 'jap', 'avenir', 'dinosaure', 'iron', '60ml', '488', 'refroidissement', '101', 'alimentaire', '54', 'nouveaux', 'porte-clés', '3.0', 'gundam', 'prism', 'ghost', 'fusion', 'espa', 'cage', 'mai', 'pendentif', 'montage', 'chasse', 'paillassons', 'pqt', 'toilette', 'écrit', 'autres', 'aire', 'valentin', '94', 'baignoire', '@fua1997', 'mercedes', '140x200', 'mouvement', 'etat', 'pk', 'jeter', 'mixte', 'faber', 'castell', '412', 'papeterie', 'kraft', 'simulator', 'duty', 'rigide', 'leurre', 'stars', 'premiere', 'étoile', '230', 'international', '89', 'massage', 'hamac', 'compagnie', '58', 'électrolyseur', 'vide', 'lots', 'fc', 'express', 'joint', 'régulateur', '87', 'mission', 'ménage', 'bougie', '4x4', '60a', 'programme', 'dictionnaire', 'chevet', 'cdaffaires', '2002', 'surface', 'paires', 'roman', 'louis', '57', 'femelle', 'déhoussable', 'ramadan', '1960', '53', 'first', 'village', 'notre', 'combinée', 'chiot', 'tenir', 'comfort', 'wpl', 'pirates', 'gazon', 'multifonction', 'dimensions', 'interview', 'speed', 'tele', '78', 'ornements', 'contemporain', 'véhicules', 'maquillage', 'cours', 'antique', 'cahiers', 'divers', 'couronne', 'david', 'little', 'duo', 'helloshop26', 'j.', 'aluminum', 'annales', '551', '351', 'véritable', 'boutons', 'bambou', 'argenté', 'cinéma', '1970', 'guard', 'frais', 'pomme', 'medium', 'laine', 'charme', 'sangle', 'sachets', 'nicotoy', 'turbo', 'semaine', 'lui1997', 'panda', 'princess', 'cleaner', 'manteau', '88', 'mr', 'fitbit', 'batteries', 'family', 'victor', 'plumes', 'gaz', '115', 'bijoux', 'coffre', 'billes', 'tree', 'eco', 'basket', 'cercle', 'élastique', 'vase', 'voyages', 'pieces', 'minichamps', 'general', '2.5', 'hand', '140x190', 'national', 'féminine', 'éveil', 'mjx', 'system', '1978', 'harrows', 'mega', 'sang', 'city', 'loamdake', '1914', 'wild', 'gathering', 'puzzles', 'episode', 'pink', 'espagne', 'sticks', 'team', 'seau', 'ghz', 'réveil', 'bell', 'fourre', '1200', 'cordes', 'grandes', 'cpl', 'parrot', 'couvre', '..', 'enceinte', 'balance', 'vers', 'fixation', 'how', 'tradition', '66', 'protège', 'réservoir', 'hors-série', 'parapluie', '1.5', 'litres', 'stripe', 'affaire', 'queue', 'italie', 'illustree', 'pail', '1993', 'miniatures', 'costume', 'pouch', 't6', 'tello', 'peugeot', 'unité(s', 'glow', 'multi-fonction', 'a.', 'bandeau', 'lavage', 'mobilier', 'bic', 'skull', 'accessories', 'iii', 'neo', 'nd16', '1959', 'plug', 'slipper', 'règle', 'made', 'stéréo', '1994', 'couple', 'affichage', 'range', 'casa', 'h.', 'exercice', 'sont', 'naissance', 'epuisette', 'couche', 'cutter', 'page', 'colliers', 'mouton', 'familles', '98', 'printemps', 'sun', 'veste', '156', 'pique-nique', 'gyro', 'purificateur', 'ajustable', 'armée', 'tie', 'surpresseur', 'atterrissage', 'remover', 'soins', 'septembre', 'lames', '116', 'rear', 'sept', 'carreaux', \"c'\", 'être', 'décembre', 'intérieure', 'literie', 'fiction', '0.5', 'tactile', 'chaos', 'rayures', 'colle', '93', 'tablette', 'ray', 'patchwork', 'don', 'buse', 'sonic', 'mondiale', 'secrets', 'appâts', 'afrique', 'stick', 'gratuit', 'anneau', 'ferrari', 'securite', 'originale', 'gba', '@dfgjlkni1', 'histoires', 'agipa', 'helicopter', 'filtrant', 'messenger', 'embout', 'cerdeña', 'télescopique', '1992', 'toboggan', 'level', 'soir', 'scrubber', 'tronçonneuse', 't1', 'adhésif', 'professionnel', 'school', 'module', 'feutres', 'charbon', 'grilles', 'atlantis', 'réchauffeur', 'original', 'degrés', 'intelligence', 'bmw', 'incolore', 'release', 'op', '68', 'automobile', 'arc', 'crados', 'dentelle', 'cache', 'ni', 'réutilisable', 'joy', 'fontaine', '91', 'anniversary', 'court', 'trépied', '@okadaopa', 'astral', 'nage', 'courant', 'rod', 'upgrade', '4.3', 'tempête', 'discours', 'serrage', 'chevalier', 'sud', 'entraînement', 'slow', 'connecteur', '105', 'mondes', 'fluffy', 'chemin', '640', '62', 'formation', 'ancienne', 'cannelle', 'bonnet', '165', 'kitty', '6pcs', 'pouvoir', 'juillet', '162', 'fantôme', 'flamme', 'moulin', 'saga', 'avery', 'attache', 'el', 'isolation', 'exclusive', 'insectes', 'avril', 'league', 'tout-petit', 'antiderapant', 'adventure', '170', 'trigger', 'it', 'simili', 'xs', 'lights', '112', '520', 'sceller', 'shark', 'romantique', 'police', 'martine', '114', '117', 'bu', 'commode', 'craft', 'plomb', 'guerrier', 'tasse', 'toit', 'détecteur', 'satin', 'oreilles', 'universelle', 'masters', 'service', 'leur', '1991', 'squishies', 'oiseaux', 'ski', 'voilage', 'chacun', 'fois', 'iflight', 'logo', 'reborn', 'boîtier', 'levier', '1982', 'fly', 'heroclix', 'abs', 'vieux', 'pastilles', 'passe', 'soldat', 'chaude', 'hub', 'pelouse', 'bonne', 'auto-adhésif', 'modulable', 'esprit', 'thomas', 'centre', 'glace', 'royaume', 'combo', '4pro', 'motor', 'chic', 'manga', 'oeuvre', 'dessinée', 'flocon', 'nd8', '90x200', 'walking', 'cabinet', 'glacée', 'triphasé', '472', '@cocoworld', 'officiel', 'bec', '69', 'story', 'sculpture', 'analyse', 'glitter', 'iphone', 'limited', 'autoportée', 'ancien', 'america', 'autre', 'rome', 'disque', 'platinum', 'bottle', 'sucette', 'cloth', 'tcg', 'legends', 'mères', 'compartiments', 'sheer', 'nid', 'cake', 'mold', 'square', 'kawaii', 'dimanche', '102', 'porcelaine', 'bord', 'plant', 'cour', 'samsung', 'foldable', 'worms', 'scolaire', 'roll', 'peu', 'etuis', '61', 'premiers', 'tonnelle', 'impact', 'etc', 'ombre', '56', 'napperon', 'pacific', 'tackle', '1962', 'hold', 'front', 'stencil', 'lifelike', 'you', 'exquis', '800', 'brillant', 'ai', 'brosses', 'ed', 'joyeuse', 'etats-unis', 'unique', 'battery', 'moniteur', 'pumpkin', 'out', 'p.', 'port', 'parti', 'cuivre', 'hello', 'verrouillage', 'dry', 'padrino', 'crystal', 'beaux', 'six', '160x200', 'moins', '90x190', 'moyen', 'polypropylène', 'lithium', 'légumes', 'réfrigérateur', 'simulé', 'aime', 'wooden', 'cool', '3en1', 'syma', '1958', 'spider', 'piètement', 'clothes', 'knight', 'gaulle', '620', 'marque-pages', 'rainbow', 'magnet', 'flight', 'cerf', 'peint', 'travel', 'fs', '1984', 'code', 'servo', 'distributeur', 'cinema', 'tiger', 'parc', 'socle', 'anglaise', 'rugby', '460', 'dinosaures', 'roulettes', 'summer', 'elba', 'os', 'cinq', 'perfect', 'bouchon', 'draeger', 'con', 'ouest', 'direct', 'xmas', 'schtroumpfs', 'parfum', 'multifonctionnel', 'emballage', '=', 'rgb', 'suisse', 'claude', 'américain', 'graphite', 'unisexe', 'hugo', 'couverts', 'rollers', 'jeunes', 'pr', 'loupe', '39', '380', 'repas', 'modern', 'foret', 'absorbant', 'gadget', 'pump', 'murales', 'autoportante', 'f1', 'baseball', 'vinyl', 'ac', 'jaquette', 'silhouette', 'osier', 'décalque', '12pcs', '2.0', 'ø50', 'bretagne', 'picnic', 'pendant', 'citron', 'echo', 'usa', 'ultrasons', 'cw', 'ccw', 'usage', 'litteraire', 'closer', 'sophie', 'classics', 'vivre', 'jardinière', 'dead', 'statue', 'sapin', 'intégrée', 'dbz', '1938', 'vortex', 'matrix', 'chaudes', 'tom', 'vision', 'solid', 'chalet', 'bamboo', 'aile', 'bibliothèque', 'friends', 'cl', 'classe', 'lion', 'spirou', 'cable', 'résistance', 'santé', 'lumineuse', 'rallonge', 'e27', 'multi-usages', 'cascade', 'bagages', 'arbres', 'réaliste', 'dragonne', 'etudes', 'campagne', 'citroen', 'topps', 'tectake', '1952', 'quotidien', 'bowl', 'chasseur', 'andre', 'rembourré', 'nicolas', 'dinky', 'flatware', 'ont', 'aube', 'beauté', 'soulager', 'wow', 'présentoir', 'italien', '1977', '1986', 'pincez', 'ciseaux', 'novembre', 'crocodile', 'visage', 'bonhomme', 'restaurant', 'change', 'entoilées', 'récepteur', 'monte', 'officielle', 'dont', 'jouef', 'scientifique', 'coller', 'nouveauté', 'fonte', 'total', 'maxx', 'ufo', '2.8', 'revolution', '81', 'violette', 'visco', 'bourse', 'uk', 'sections', 'tirer', 'points', 'tempsa', 'marie', 'cassettes', 'warcraft', 'origine', 'cosplay', 'agenda', '1944', 'fabric', 'mes', 'bien', 'ange', 'pouce', 'vita', 'pentel', 'leitz', 'mètres', 'online', 'protèges', 'aspiration', 'prop', 'transparente', 'small', 'snowflake', 'x2', '1990', 'diable', 'pulvérisation', 'rail', 'justice', 'catalogue', 'boitier', 'parfumé', 'hardshell', 'siege', 'laser', 'english', 'monaco', 'training', 'r.', 'harnais', 'bol', 'warriors', 'decorative', 'dvd', 'portables', 'saiyan', 'bath', 'eye', 'year', 'stencils', 'street', '1l', 'panneaux', 'round', '244', 'fast', 'littérature', 'okadaopa', '570', 'canapi', 'terrasse', 'sf', 'essai', 'assiette', 'poissons', 'starter', 'girafe', 'shower', 'sec', 'solido', '147', 'modèles', 'will', 'lavabo', 'mot', '511', 'mains', 'filter', '123', '168', 'épurateur', 'attente', 'dbb', 'disc', 'birthday', 'jambe', '97', 'ressort', '1:10', 'mit', 'winnie', 'ring', 'interrupteur', 'ir', 'role', 'chevaux', '1929', 'sea', 'wave', 'bulletin', 'amis', 'si', '6s', 'smoby', 'imprime', 'étage', 'peluches', 'gigoteuse', 'île', 'mines', 'europa', 'republique', 'construit', 'tabourets', 'larousse', 'alliance', 'baleine', 'protect', 'ns', 'gros', 'ampoules', 'assemblée', 'xv', 'supplément', 'martin', 'reliure', 'rio', 'anafi', 'darts', 'dernier', 'rire', 'texte', 't2', 'fort', 'hasbro', 'but', 'ultrasonique', 'land', 'girls', 'maroc', 'poudre', 'stabilo', 'all', 'rustique', 'madame', 'island', 'étiquette', 'fondant', 'cabane', 'skin', 'limitée', 'elite', 'stretch', 'company', 'spiderman', 'tool', 'capitaine', '79', 'robinet', '167', 'jute', 'live', 'paix', 'fidget', 'minus', 'st', 'tbe', 'historia', '--', 'vanille', 'sorcière', 'schema', 'ral', 'partha', '«', 'heat', 'mate', 'be', 'voeux', 'hanger', '1939', 'albert', 'va', 'captain', 'georges', 'hook', 'furniture', 'bed', 'pinceau', 'interieur', 'chauffant', 'saison', 'décoratives', 'vache', 'nationale', 'mc', 'spoon', 'chevaliers', 'petshop', 'hochets', 'chemins', 'honda', 'images', 'bear', 'cooking', 'chicco', 'oeillets', 'trio', 'mal', '83', 'move', '1.20', 'flottante', 'soudure', 'heroclix-', 'boîtes', \"qu'\", 'suspendre', 'plaques', 'extracteur', 'dolce', 'adorable', 'crâne', '1964', 'zipper', 'kmh', '1918', 'sicilia', 'traction', 'bathroom', 'door', 'poids', 'dames', 'cob', 'poignet', 'préformées', 'atari', 'banc', 'egypte', '45x45', 'ombrage', 'dollhouse', 'dlc', 'inclus', 'auvent', 'great', 'voie', 'bean', 'brush', 'strip', 'traditionnel', 'urgence', 'plaid', 'canon', 'dîner', 'françois', '5mp', 'chemises', '580', 'glass', 'sauvage', 'dice', 'hallyday', 'charlotte', '92', 'tétine', 'bannière', 'x8', 'velda', 'bis', '195', 'nin', 'signe', 'mx', 'planche', 'prestige', 'london', 'pirate', 'souvenirs', '1948', 'universal', 'zoo', 'clés', 'recueil', 'scie', 'napoléon', '1945', 'octobre', 'chenilles', 'organizer', 'berceau', 'supplement', 'und', 'dresseur', 'season', 'aquarelle', 'dieu', 'seule', 'johnny', 'advance', 'just', 'race', 'ourson', 'londres', 'ben', 'leon', 'gant', 'yellow', 'fiches', 'lunettes', 'étape', 'ardoise', 'hespéride', '2.6', 'trimestre', 'bonheur', '274', 'bank', 'pig', 'cosmétique', 'héros', 'dream', 'etoile', 'promo', 'redcat', 'faux', 'dossiers', 'amortisseur', 'philippe', 'peut', '375', 'donald', 'champions', 'mp3', 'flute', '1920', 'f.', 'machines', 'fire', 'débit', 'renatonisi', 'trop', '113', 'integrale', 'kamen', 'leuchtturm', '1971', 'gardiens', 'official', 'populaire', 'étoiles', 'phare', '277', 'spinning', 'peuple', 'doreiller', 'où', 'exposition', 'rogue', 'note', 'vehicle', '86', 'composite', 'télé', 'zero', 'joyeuses', 'harlequin', 'oop', '1957', 'regard', 'écriture', 'ete', 'marcel', 'covers', 'tail', 'nursery', 'park', 'japanese', 'mille', 'tablet', '1975', 'rocker', 'tf', 'hydroponique', '180x200', 'fées', 'quand', 'russie', 'exit', 'corail', 'suspendue', 'simba', 'losange', 'chrome', 'microphone', 'rom', 'vii', 'gonfleur', 'kamigawa', 'compact', 'thème', 'polycarbonate', 'challenger', 'shock', 'swimmey', 'kart', 'tales', 'nacelle', 'today', 'commande', '251', 'triton', 'jedi', 'castle', '310', '77', 'instruments', 'cahierle', 'zombie', '145', 'im', 'august', 'musulman', 'dessins', 'lazy', 'granulés', '381', 'tricotée', 'marin', 'do', 'secteur', 'ème', 'evolution', 'size', 'collants', 'leggings', 'monnaie', 'tamiya', 'champion', '\\x96', '385', 'libre', 'pikachu', 'bars', '107', 'mark', 'courrier', 'billaudot', 'sock', 'kayak', 'solo', 'jules', 'modélisme', 'km', 'appel', 'san', '2e', 'après', 'amovibles', 'angel', 'bowknot', 'sauce', 'multi-usage', 'laiton', '»', 'faut', 'bait', 'solar', 'fairy', 'kinect', 'rene', 'lm', 'seiya', 'général', '4in1', 'positions', 'blood', '1934', '71', 'meal', 'crash', 'drift', 'interactive', 'nendoroid', 'laisse', 'forage', 'gras', 'grille', 'alèse', 'wheel', 'decks', 'solaires', 'nordique', 'rubber', 'del', 'platine', 'août', '3w', 'pes', 'mdf', 'flysky', 'plan', '3s', 'tire', 'casse-tête', 'adhésives', 'creux', 'industry', '1500', 'chant', 'henry', '73', 'nd32', 'cent', 'id', 'questions', 'éléphant', 'postales', 'merveilles', 'coaster', 'bandai', 'sky', 'lure', 'lady', 'langue', 'polypro', 'neutres', 'fumée', 'ensembles', 'direction', 'emile', 'cape', 'sl', 'mauritius', 'jazz', '610', 'siecle', 'food', '1965', '30x50', 'bohême', '127', 'roses', 'pan', 'allemande', 'sommeil', '10x', 'local', 'hier', 'fleer', 'embouts', 'pass', 'forte', 'rabats', 'basic', 'mécanique', 'verni', 'triangulaire', 'carddass', 'córcega', 'offerts', '3900kv', 'haribo', 'brodé', 'sabre', '1967', 'menthe', 'colorée', 'serviettes', 'même', 'antidérapantes', 'earth', 'tomate', '25l', 'articles', 'conteneur', 'allaitement', 'fuchsia', 'blades', 'es', \"t'\", 'commander', '40l', 'moustiquaire', 'hamster', 'refoulement', 'miss', 'kong', 'documents', 'légère', 'remond', 'alpha', 'textilène', 'nitro', 'ecole', '2rm', 'sound', 'eveil', 'mystery', 'golf', 'illustrations', 'sp', '159', 'destiny', 'musicale', 'belles', 'émetteur', 'recharges', 'encyclopédie', 'ivoire', 'heures', 'fish', 'curtain', 'at', 'passion', 'giant', 'leds', 'blade', 'spin', 'hui', 'coucher', 'appareils', 'theatre', 'chroniques', 'rayé', '154', 'popeline', 'graphic', 'organique', 'étude', 'patrick', 'convertisseur', 'aviation', '126', 'voies', 'pac', 'porte-bébé', 'intercalaires', '155', 'alfa', 'guirlandes', '1961', 'garmin', 'schtroumpf', 'bultex', 'séchage', 'enveloppe', 'chinoise', 'dessert', 'violon', 'trick', 'concerto', 'coffee', 'stand', 'insert', 'v2', 'couture', 'potager', 'convient', 'fat', 'stella', 'business', 'quest', 'humain', 'manguier', 'contes', 'fraise', 'astérix', 'aimant', 'zhu', '6axis', 'zip', 'graines', 'quilt', '181', 'enfer', '1ere', 'fresh', 'eiffel', 'hits', 'poker', 'zoomables', 'rondes', 'mère', 'broches', 'mi', 'séparation', 'bumper', 'feuillets', 'préimprimées', 'côté', 'olivier', '2mp', 'project', 'physique', 'gobelet', 'marbella', 'electrolyseur', 'clignotant', 'sam', 'alta', 'blancs', 'mattel', 'mine', 'alain', 'paddle', 'maître', '1cv', 'animé', 's1', 'jetable', 'universalis', 'bosch', 'bleus', 'grosse', 'legend', 'han', 'sous-marin', 'vertical', 'sirène', 'lire', 'jupe', 'zino', 'jus', 'cactus', 'titan', 'pilote', 'lord', 'snow', 'minnow', 'sponge', '149', 'paroi', 'nom', '40k', 'hotel', 'cine', 'depuis', 'ténèbres', 'partielle', 'longe', 'colorful', 'jigsaw', 'plafonnier', 'première', 'fonction', 'quadricoptère', 'n64', 'gants', '942', '592', 'kokido', 'léger', '700', 'pneus', 'chenille', 'slide', 'rattan', 'urban', 'camions', 'juliette', 'alexandre', 'joypad', 'hebdo', 'doré', 'plateaux', 'learning', 'anime', 'shop', 'nain', '1923', 'patron', 'cookie', '17ml', 'charm', 'sevilla', 'noires', 'libere', 'cordon', 'matelassée', 'savoir', 'polypropylene', 'solides', 'axiale', 'tarot', 'mensuel', 'cleaning', 'playmobil', 'agent', 'energie', '540', 'brossé', 'hawid', 'naturelle', 'industriel', '144', 'réincarné', 'carrefour', 'silent', 'hill', 'testeur', 'dress', 'essence', 'alu', 'enseignement', 'gta', 'entrée', 'picsou', 'vierge', 'donjons', 'd&d', 'ad&d', 'krystal', 'échangeur', 'string', 'natural', 'coeurs', 'herbes', '18650', 'historique', '202', 'drive', 'lounge', 'cell', 'di', 'last', 'vente', 'sort', 'conception', '82', 'triomphe', 'fascicule', 'seul', 'apli', 'handheld', 'fork', 'sweat', 'poitrine', 'movie', 'bright', 'patio', 'vtech', 'rebelle', 'docteur', 'titres', 'azura', '330', 'cream', 'barrière', 'essentials', 'altaya', '10pc', 'george', '182', 'expansion', 'adjustable', 'wh', 'marché', 'accoudoirs', 'assorties', 'evo', 'memory', 'boules', 'sims', 'titane', 'antenne', 'bus', 'bonbon', 'dsi', 'palette', 'shining', 'soit', 'teck', 'gusto', 'plastiques', '3pc', 'devant', 'price', 'boat', 'noeud', 'educational', '1917', 'amerique', 'l.', 'shape', 'fantômes', 'ue', 'hall', '6.5', '120x190', 'xk', 'maitre', 'flamant', 'colonne', 'chronique', 'show', 'diecast', 'lorwyn', '2600', 'peach', 'sign', 'politiques', 'stunt', '1949', '8bit', 'yves', 'phone', 'indien', 'bascule', 'h502s', 'mirror', 'froid', 'ios', 'niveaux', 'drain', 'ravnica', 'comforter', 'silencieux', 'blister', 'vac', 'plafond', 'stone', 'opaque', 'fua1997', 'who', 'lac', 'miracle', 'diamond', 'clock', 'mètre', '20led', 'indéformable', 'brigitte', 'james', 'habitat', 'folding', 'cubes', 'marionnette', 'cirque', 'superman', 'transfert', 'filetage', 'panel', 'collectionner', 'generique', 'paillettes', 'polyéthylène', 'brise', 'manchon', 'pelle', 'remède', 'lancer', 'sensorless', 'crown', '138', 'maul', 'housekeeping', 'créative', 'comte', 'gp', '1969', 'wolf', 'état', '672', 'ldk', 'vrac', 'déshumidificateur', 'wedding', 'fauteuils', 'trading', 'orient', 'whirlpool', 'netspa', 'capot', 'bienvenue', 'relaxation', 'bahut', 'poil', '4s', '732', 'gluten', 'jjr', 'huiles', 'différents', 'von', 'swim', 'actif', 'douille', 'samurai', 'poubelle', 'pédale', '20l', 'érable', 'vi', 'blanchisserie', 'ronin', 'pavillon', 'réception', 'anne', 'dame', 'so', 'touch', 'gamecube', 'elsa', 'chauds', 'amscan', 'archives', '1926', '178', 'canada', 'spirit', 'h117s', 'loi', 'colors', 'sera', 'nadorself', 'fichier', 'smartphone', 'jardinage', '49', 'future', 'test', 'gestion', 'manique', 'poké', 'goku', 'grinder', '1951', 'dual', 'assortiment', 'romeo', 'embosser', 'parois', 'magie', '410', '2cv', '6-axis', 'aurore', 'wireless', 'destructeur', 'fleuve', 'bague', 'atomiseur', 'ye', 'dino', 'frog', 'santorini', 'origines', 'courante', 'catcher', 'calendrier', 'piège', 'externe', 'canal', 'mix', 'espresso', 'rangers', 'aliments', 'vipool', 'plasma', 'days', 'strike', 'désinfectant', 'pulvérisateur', 'essieu', 'tabac', 'that', 'saisons', 'mcdo', 'esselte', 'tennis', 'speck', 'détection', 'x12', 'tables', 'tours', 'hepa', '302', 'h120', 'russe', '076', 'ameublement', 'record', '1974', 'rôle', 'unie', 'thanksgiving', 'pyramide', 'snap', 'self', '106', '621', 'booster', 'rc4wd', '24x32', 'enterrée', 'christian', 'japonaise', 'care', '1968', 'coolbaby', 'cheminée', '297', 'chips', 'gray', 'ryobi', 'projection', 'appui', 'pastel', 'cloison', 'für', 'wc', 'mont', '355', 'artiste', 'squelette', 'two', 'get', 'économie', 'antidérapante', 'ambiance', 'open', 'bouche', 'lisse', 'chats', 'satiné', 'parfait', '1950', 'mâle', 'mystique', 'staedtler', 'death', 'auchan', 'safran', 'siècles', 'mignons', 'daniel', 'diviseur', 'gpv', 'oeufs', \"''\", 'lave', 'étudiants', 'normandie', 'fini', 'lyon', 'magnetic', '20pcs', 'pitt', 'god', 'rage', 'saxophone', 'suit', 'légendes', 'arche', 'meurtrière', '100pc', 'bugs', 'toss', '214', 'ami', 'hardbass', 'régions', '3x', 'ailette', '5x', 'blocks', 'bit', 'wolverine', 'coup', 'jr', 'µ', 'pergola', 'discs', 'grain', 'elegant', 'mâcher', 'anti-rayures', 'in1', 'banquette', '1937', 'colorés', 'fantaisie', 'imperméables', 'snes', 'pompiers', 'avila', '186', 'gpm', 'slash', 'flacon', 'foi', 'zelda', '143', 'balboa', 'pur', 'apposé', 'sauvegarde', 'croc', 'aircraft', 'lock', '-eté', 'claire', 'cadres', '257', 'alien', 'portrait', 'denis', 'mcuv', 'brique', 'bbq', 'planches', '80x200', 'usine', 'gazette', 'slam', \"d&'aspirateur\", 'chiffon', 'philosophie', 'inverter', '1983', 'co', 'sensor', 'produits', '5.5', 'récit', '193', 'victoire', 'cafe', 'bob', 'megadrive', '900', '1903', '249', 'clipping', 'emoji', 'réglage', '1927', 'legion', 'lucien', 'techniques', 'mask', 'précision', 'notebook', 'propos', 'sainte', 'heros', 'lance', 'rôles', 'eric', 'recyclé', 'aiguille', 'fate', 'gouvernement', 'flex', 'cassette', 'intelligente', 'râteau', 'amant', 'tft', '246', 'may', 'proces', 'jacuzzi', 'shippuden', 'xqmax', 'rouille', 'velour', 'brown', 'trous', 'flotteurs', 'sets', 'amiibo', '5x3', 'b24', 'oeil', '185', 'encore', 'doseur', 'parties', 'voici', 'perry', 'tut', 'mèche', 'electric', 'hobby', 'etre', 'alloy', 'licorne', 'handle', 'wakfu', 'chapeaux', 'empilable', 'safety', 'sonoma', 'assortis', 'dab', 'vrai', 'réduit', 'women', 'toutes', 'trainer', 'procopi', 'finition', 'floor', 'link', 'sacoche', 'hat', 'salt', 'loto', 'wrc', 'carlo', 'sierra', 'rennes', \"o'\", '3e', '4p', 'resistance', '1912', 'question', 'essentiel', 'zen', 'reusable', 'correcteur', 'source', 'poo', 'hérisson', 'bronze', '300ml', 'saut', 'matin', 'fisher', 'dx', 'porsche', 'return', 'mme', 'ogive', 'peintres', 'incendie', '1941', 'loup', 'free', 'slip', 'pvp', 'dust', 'pont', 'synthétique', 'platinium', 'walt', '1901', 'clermont', 'inspection', '152', 'kung', 'salut', 'public', 'maurice', 'expression', '134', 'matériel', 'peigne', '1:16', 'lu', 'combinaison', 'climatiseur', 'choisir', 'république', 'pataugeoire', 'lentille', 'frozen', 'bistro', 'mémo', 'aqualux', 'h502e', 'mallette', 'objet', '139', 'blaster', 'passoire', \"aujourd'hui\", 'rencontre', 'sonde', \"cfacil'\", 'far', 'cry', 'porte-mines', 'empilables', '720', 'bridge', 'alice', 'ombres', 'planète', 'circuit', 'luxury', 'banquet', 't3', 'jam', 'amélioration', 'bl3650', 'méthode', 'appoint', 'épais', 'hover', '157', 'galet', '100x200', 'pgy', 'dirll', 'rtr', 'rêve', 'defense', '100pcs', 'second', '161', 'socks', 'sujet', '5.1', 'radiocommandé', 'can', 'fall', 'propeller', 'professional', 'garland', 'arroseur', 'combiné', 'display', 'mag', 'africa', 'fraises', 'playshoes', '6ch', 'vampire', 'molleton', 'ile', 'egg', 'ty', 'beau', 'quad', '5w', 'fsc', 'laurent', 'elastique', 'pots', 'wheels', 'lee', 'verite', 'keychain', 'riz', 'calligraphie', 'embrayage', 'fortune', 'mp4', '184', 'eda', 'bible', '5pc', 'artificiel', '1955', 'trempé', 'vitra', 'aucune', 'croquis', 'uefa', 'paillasson', 'build', 'gomme', 'chromé', 'destins', 'bat', 'noirs', '50pcs', 'modes', 'ancrage', 'illustré', '750', 'scented', 'alimenté', 'tissé', 'isofix', 'xixe', 'courir', 'introduction', 'baroque', 'idéal', '136', 'hydraulique', 'wing', 'forever', 'ananas', 'translucide', 'chiffres', 'bouquet', 'systeme', 'renaissance', 'toujours', '4500kv', 'numero', 'connaissance', 'canaux', 'oz', 'fighter', 'cardfight', 'vanguard', '730x366x120', 'fonctions', 'majorette', 'ailes', 'poches', 'tunes', 'evil', 'saumon', 'maintien', 'francaises', 'pourquoi', 'italienne', 'tony', '245', 'town', 'yuneec', '90046', 'déjeuner', 'shaper', 'sauvages', 'toute', 'badu', 'matchbox', 'raccords', 'santa', 'horreur', 'démarrage', '201', 'ab', 'boites', 'pâle', '173', 'vos', 'accessory', 'bird', 'équipement', 'sparkly', 'professeur', 'crazy', 'playset', 'essentielles', 'leo', 'monstre', 'avent', 'aérienne', 'violoncelle', 'sonate', 'portail', 'modele', 'bête', 'low', 'housses', 'sleep', 'gardez', 'barbe', 'dungeons', 'asterix', 'wash', 'tres', 'sticky', 'construire', 'caisse', 'roty', 'secrète', 'dés', 'tricycle', 'piles', '183', 'mieux', 'sante', 'upper', 'x9', 'suis', 'nano', 'bce', 'nest', 'huit', 'vermela', '1922', 'épaisseur', 'briques', 'lotus', 'is', 'coll', 'landing', 's.', 'pluie', 'ecru', 'posca', 'vt', 'encyclopedie', '11.1v', 'jersey', 'domicile', 'sim', 'bow', 'suspendus', 'minceur', 'omega', 'madagascar', 'philips', 'suivez', 'rotation', 'pantalon', 'squad', \"aujourd'\", 'françaises', 'traité', 'tenales', 'atelier', 'uvc', 'berg', 'tropicale', 'after', 'germi', 'héritage', 'herpa', 'compression', 'souvenir', 'taille-haie', 'geometric', '40x40', 'yes', 'pare-soleil', 'litteraires', 'xp', 'invasion', 'saver', 'moon', 'anti-dérapants', '118', 'mobiles', '21x297', 'tote', 'mangas', 'relax', 'pinolino', 'dumas', 'maisons', '67', 'manta', 'épices', 'emax', 'révolution', '00', 'millions', '213', 'régulation', 'multicolor', 'queen', 'lui', 'insertion', 'ports', '1889', 'universe', '637', 'danser', 'makeup', 'craies', 'mgr', '211', 'forgotten', 'capuchon', 'colop', '273', 'était', '120x200', 'yugioh', 'coco', 'boissons', 'wagon', 'leaf', 'herlitz', '1963', 'grace', 'operation', 'cicatrices', 'infant', 'hood', 'travaux', 'windows', 'francois', 'fléchette', 'dosettes', 'tu', '128', 'lost', 'guides', 'luminaire', 'tassimo', 'jacobs', 'portions', 'vr', 'tag', 'pompier', 'tap', 'sofia', 'codex', 'deco', 'placard', 'poney', 'irrigation', 'al', 'simulateur', 'btes', 'gommettes', 'sarkozy', '1700kv', 'karcher', 'unités', 'sale', 'mauve', 'sling', 'holiday', 'aquatique', 'vins', 'bouclier', 'tige', 'plongée', 'précis', 'beac', 'geographie', 'peter', 'reed', 'diffuseurs', 'bougies', 'clôture', 'president', 'francs', 'geo', 'barriere', '1943', 'mondial', 'fabricant', 'bros', 'smrc', 'flips', 'carport', 'pliée', '160x160', 'toiles', 'nice', 'starry', 'stock', 'passants', 'minutes', 'vu', 'ordre', '50x50', 'réf', 'nmp', 'ø38', 'chefs', '24h', 'anno', 'william', 'luke', 'sunnylife', 'découverte', '1\"1', 'hexagonal', 'evora', 'd.', 'survie', 'ventre', 'débris', '872', 'pêcheur', '013', 'guérison', 'maisonnette', 'battlefront', 'publique', 'ventilation', 'navy', 'electronique', 'lignes', 'poils', 'plats', 'étagères', 'baldiflex', 'directeur', 'connaître', 'palais', 'supérieur', 'azur', 'familiale', 'cristaux', 'pharmaspa', 'biseautée', 'paradis', 'adapter', 'tes', 'anna', \"noukie'\", 'surpass', 'aquareva', 'plaqué', 'benzoni', 'wwe', 'elvis', 'ame', 'designer', 'olive', 'ere', 'stories', 'faller', 'terres', 'leduc', 'dora', 'réserve', 'collectif', 'concept', 'gpk', 'courses', 'militaires', 'initiation', 'styles', 'réutilisables', 'inkjoy', '109', 'casier', '1911', 'algerie', 'eo', 'lustrée', '237', '43ème', 'draw', 'washington', 'pivotante', '5p', 'alex', 'uncharted', 'tongs', 'effacer', 'cachemire', 'b36', 'petites', 'startrc', 'tower', 'doctor', 'jig', 'fq', '530', 'palmier', 'scolaires', 'éléments', 'spawn', 'cote', 'poupee', 'elements', 'crépuscule', 'berlin', 'danger', 'gc', 'surmatelas', 'practical', '3660', 'farmer', 'rapid', 'drinking', 'antidérapants', 'folie', 'print', 'semestre', 'smiley', 'hebdomadaire', 'hollande', 'x3', 'cahierla', 'run', 'babymoov', 'tyrannosaurus', 'rex', 'maille', 'stihl', 'rue', 'leurs', 'présent', 'barnum', 'charging', 'ppm', 'haïti', 'nat', 'créatifs', 'letter', 'reforme', 'elfie', '442', 'paint', 'vogue', 'swaddle', 'col', 'rembourrage', 'suivre', 'formidra', 'cobra', '1972', 'newton', 'catholique', 'fibres', 'swing', 'mortal', 'kombat', '1.50', 'nba', 'lits', 'conversation', 'vocabulaire', 'pony', 'twilight', 'culot', 'leg', '548', 'théâtre', 'pn16', '24v', 'synopsis', 'sylvanian', 'roulant', 'collant', 'mirrodin', 'mother', 'fortnite', 'reponse', 'seconde', 'moules', 'secours', '032', 'hêtre', 'adhesive', '5.8', 'carpet', 'md16', 'generale', 'anis', 'planeur', 'yoda', 'ils', 'anciens', 'blaze', 'expert', 'v3s5-pro', 'raptor', 'lunch', '313', \"cahierl'\", 'remorque', 'province', 'kerlis', 'fellowes', 'playhouse', 'perméable', 'heavy', 'européen', 'b3', '2s', 'carre', 'semi', 'mouse', 'mandala', 's3', 'andré', 'basketball', 'pal', 'independence', 'shelf', 'ch', 'tirelire', 'lolly', 'non-tissé', 'argile', '1966', 'renfort', 'tragique', '2200mah', 'living', 'rené', 'insten', 'jj', 'zendikar', 'classes', 'réversible', '275', 'bière', 'drapeaux', 'sided', 'motifs', 'sandows', 'scraper', 'cliquet', 'charlie', 'liberté', 'globe', 'nightmare', 'before', 'centenaire', 'camille', 'comic', '269', 'cork', 'jennifer', 'stormtrooper', 'piétement', 'frêne', 'adieu', 'antidérapant', 'chene', 'champagne', 'circulaire', 'peindre', 'interne', 'clarinette', 'géo', 'oeillet', 'eaux', 'lutte', 'bte', 'hss', 'din', 'fimi', 'om', 'roulement', 'griffe', 'graffiti', 'symbole', 'personne', 'boss', 'quartz', 'darkness', 'brouette', 'classement', 'yard', 'apprendre', '188', '218', 'powkiddy', 'kare', 'e.', 'fileté', 'interactif', 'sand', 'ouvre', 'attaque', 'titans', 'ornament', 'inertie', 'historiques', 'twist', 'building', 'ip44', 'over', 'commentaires', 'piqué', 'changeantes', 'imitation', '172', 'rivière', 'punch', 'bernard', 'hs', 'giants', 'pir', 'spice', 'gy', '500go', 'beanie', 'musée', 'desert', 'touring', 'poêle', 'ninja', 'quoi', 'idees', 'ø63', 'straws', 'sesham', 'jauge', 'ménages', 'balls', 'mouchoir', 'slicer', '212', 'signal', 'volkswagen', 'pivotantes', 'finger', 'fabrication', 'allongée', 'bug', 'blu', 'parole', 'guitar', 'three', 'drainage', 'arrêt', 'leather', 'sucker', '3p', 'février', 'sangles', 'ruche', 'apiculture', 'beetle', 'winter', 'victoria', 'vipack', 'key', 'boudins', 'kai', 'changer', '2ème', 'lovely', 'eponge', 'tank', 'eames', 'triumph', 'coral', 'velvet', 'tableaux', 'légende', '0.75', 'mage', 'inspire', 'jackson', 'minions', 'nathan', '142', 'mécanisme', 'bali', 'section', 'saveur', 'toddler', 'works', 'carpentras', 'sword', 'selection', 'nourriture', 'orientable', 'watts', 'electronic', 'accord', 'futures', 'courbe', 'compacte', 'genou', 'formule', 'portique', 'rêves', 'dragonball', 'ro', 'potable', 'straw', 'mystère', 'delon', 'discovery', 'delcourt', '1:24', 'way', 'ea', 'juicer', 'blender', 'imprimés', 'recherche', 'liberation', 'cosmétiques', 'évolution', 'guy', 'ecrivains', 'xxe', 'baguettes', 'cire', 'ferroviaire', 'travers', 'end', '104', 'senat', 'geant', 'multi-fonctions', 'paille', 'as', 'coude', 'avocat', 'canape', 'ceiling', '1946', 'plaisir', 'idu', 'child', 'bain@', 'linéa', 'pu', 'nocturne', 'marchand', 'sti', 'shadow', 'jane', 'resident', 'arrosoir', 'routes', '1973', '1:43', 'tubes', 'brut', 'poivre', 'mosaic', 'publicite', '320go', 'rg', 'locomotive', 'sommiers', 'aertech+', 'propellers', 'ouvrages', '8pcs', 'actions', 'feuilleton', 'bâches', 'boire', '1932', 'kartell', 'daisy', 'joe', 'morale', '2nd', 'cantonnières', 'linux', 'pgytech', 'i.', 'surprise', 'haut-parleur', 'h37', 'mounted', 'croisée', 'ranger', 'scoop', 'york', 'souder', 'emoticon', 'a3', '650', 'scene', 'monsters', 'pigeon', 'rope', 'bahco', 'explosion', 'baguette', 'dyeing', 'fr028', 'young', 'saints', 'quelques', 'positionnement', '4x', 'asie', 'personnalisable', 'filtrantes', 'kyosho', 'stamp', 'niche', 'swap', 'princes', 'quadrocopter', 'racer', 'conte', '403', 'making', 'rings', 'manual', 'latte', '1877', 'chimiques', 'âme', 'viande', 'mad', 'branches', 'armes', 'mariée', 'joker', 'deuxième', 'isolé', 'mémoires', 'vibration', 'secondaire', 'bavette', 'back-24', 'mais', 'semic', 'spiral', 'demain', 'c.', 'plantation', 'work', '204', 'law', 'mount', 'vachette', 'common', 'da', 'talking', 'aquavac', 'paillage', 'brief', 'exclu', '6w', 'legacy', '5.0', 'sniper', 'arthur', 'grs', 'eurostar', 'a969', 'data', 'tech', '500mah', 'peur', 'xt60', 'confiture', 'zéolite', 'aiguillage', 'monopoly', 'trimmer', 'portatif', 'elections', 'renforts', 'bp', 'alitea', 'mêle', 'lovers', '198', 'gbc', 'knights', 'peinte', 'hama', 'crise', 'sauvetage', 'roche', '207', '1847', '975', 'compatibles', 'touches', 'trek', 'taylor', 'charger', '1930', 'sièges', 'racine', 'lola', 'cupcake', 'arrow', 'amérique', 'hip', 'angleterre', 'indoor', '131', 'fantastique', '3.05', 'singe', 'beer', 'cinquante', 'réel', 'porte-monnaie', 'lb', 'occultant', 'soi', 'temple', 'armchair', '6pc', 'pantalons', 'mers', 'tex', 'geometry', 'americain', 'balcon', '70x190', 'couvre-lit', 'ventouse', 'époque', 'bouteilles', 'minnie', 'xm', 'artisanal', 'élémentaire', 'refrigerator', 'présente', 'arkham', 'vijvertechniek', 'burago', 'tailles', 'marseille', '1018', 'mince', 'forêt', 'core', 'stabilisateur', 'aout', 'couffin', 'tycoon', 'publicitaire', 'mubea', 'poussière', 'attitude', 'joplin', 'xs809', 'jim', 'am', 'fm', 'arome', 'stérilisateur', 'heritage', 'fermoir', 'dawn', 'stool', 'chaussure', 'numériques', 'venus', 'pastels', 'anise', '918', 'vidange', 'platiclair', 'citation', 'perceuse', 'q65', 'matt', 'partir', 'bronco', 'verts', 'tin', 'emeraude', 'nemo', 'familier', 'couteau', '4.5', 'silen', 'interdit', 'app', 'expérience', '264', 'naf', 'elie', 'ei', 'smd', 'douleur', 'comprendre', 'lois', 'sociale', 'équitable', 'nattou', 'totem', 'états-unis', 'humaine', 'lo', 'maitres', 'ecran', 'polymère', 'domino', 'bite', '150x90', '1880', '1956', 'horizon', 'meyer', 'assassinat', 'tekken', 'miller', '6x12', 'portal', 'printer', 'artist', 'burst', 'revelation', 'coupes', 'marklin', 'référence', 'kärcher', 'cachée', 'jdr', 'shadows', '765', '★', 'mp5', 'only', 'motoculture', 'regards', 'luxor', 'muscle', 'tournament', 'metro', 'declaration', 'graphique', 'prestigio', 'ground', 'haunted', 'lily', 'sauthon', 'tpu', 'signalisation', 'carpe', 'évier', 'reservoir', 'real', 'seagrass', 'cg033', 'pinces', 'sons', 'split', 'diary', 'umbrella', 'ep', 'destruction', 'pipe', '30m3', 'illustrée', '169', 'naturelles', 'tresor', 'state', 'meteor', 'ouvriers', 'env', 'troll', 'championship', 's20', '1908', 'guillaume', 'faveur', 'trésor', 'américaine', '4300kv', 'rouleaux', 'beyblade', 'wood', '425', 'succes', '10l', 'richard', 'early', 'information', '153', 'clamp', 'vols', 'pourpre', 'loco', 'biscuits', 'motion', 'jacquard', 'chef-24', 'mensuelle', 'julien', 'unicorn', 'florida', 'moscou', 'canisse', 'vegeta', 'bibliotheque', 'monophasé', 'fluo', 'carrelage', 'grow', 'croissance', '050', 'bobo', 'bill', 'rendez', 'sisal', 'rotatif', 'éthique', 'bburago', '1814', 'etrangeres', 'chaton', 'facade', 'aquariums', 'montagne', 'installation', 'aspirateurs', 'quelle', 'sade', 'chauds-auucne', 'éclair', 'los', '163', 'bicycle', 'playing', 'dish', 'washing', 'cannes', '415', 'lamborghini', 'lp', 'circus', 'wake', 'benz', 'autoart', 'klasse', 'cendrillon', 'roland', 'evasion', 'perdu', 'india', 'present', 'parents', 'tek', 'ambre', '120ml', 'pelikan', 'poser', 'utilisateur', 'not', 'abattant', 'dj', 'rick', 'five', 'électricité', 'honneur', 'lavé', 'canards', 'exercices', 'horror', '61x91', '1900', 'garniture', 'cle', '514', 'sheriff', 'matching', 'mystic', 'cocktail', 'az', 'prendre', 'sardines', 'indépendance', '63', '1921', 'reliures', '100f', 'turbine', 'troupes', 'islam', 'clown', 'fishing', 'dymo', 'decoratio', 'fonds', 'cerise', 'derniers', 'evenements', 'commerce', 'concours', 'essential', 'racines', 'guerriers', 'rayon', 'theros', 'famicom', 'papa', 'vary', 'bw', 'chancelière', 'illustrés', 'librairie', '216', 'ici', 'marines', 'angels', 'folia', 'rotor', 'sakura', 'composition', 'crank', 'pokeball', 'pub', '01:12', 'inside', 'hair', 'leaves', 'mould', 'chocolate', 'pil', 'parker', 'néon', 'mastic', 'murano', 'trace', 'lagoon', 'sunwater', 'bands', 'mardi', 'meme', 'u818a', 'permanente', 'pitch', 'fff', '137', 'elektra', 'jetstream', 'économiser', 'majestueuse', 'topper', 's2', 'dujardin', 'cyril', '1:18', 'originales', 'slider', 'evelyne', 'rim', 'finale', 'salée', '5p6r', '656', 'heroquest', '29.7', 'offert', 'activités', 'littéraire', 'rally', 'wide', 'backpack', 'jilong', 'betty', 'amakna', '1882', 'robes', 'joke', 'sw', 'dp', 'rvb', 'flashing', 'hammam', 'silencieuse', 'hôtel', 'teether', 'gratuits', 'têtes', 'ustensile', 'sourire', 'adaptable', 'récupération', 'floss', 'legendary', 'psycho', 'bib', 'apron', 'villes', 'miami', 'couch', 'amelie', \"l&'eau\", 'queues', '1954', 'wa', 'babynat', '210x297', 'merci', 'nestlé', 'ravensburger', 'penguin', 'encastrer', '1x', 'patrons', 'soul', '660', 'tressé', 'préhistoire', 'unframed', 'remous', 'prototype', 'lis', 'revised', 'chopper', 'unesco', 'porte-gobelet', 'éd', 'nescafé', 'assemblez', 'disjoncteur', 'puff', '1909', 'glowing', 'parler', 'catherine', 'bordas', 'families', 'supplie', 'produit', 'cognitive', 'rabbit', 'nintend', 'artillerie', 'meilleurs', 'herve', 'vaporiser', 'selon', 'mrc', '158', 'invincible', 'thor', 'hulk', 'tuteur', 'pic', 'rs', 'v1', 'ceux', 'extrait', 'xcsource', 'xbox360', 'henri', 'exterieur', '1919', 'scx', 'vilaine', 'diddl', 'antiques', 'badminton', 'engrenage', 'mercure', 'odile', 'bruce', 'caps', 'pampers', 'central', 'rivet', 'forces', 'assis', 'pcb', 'bandelettes', 'theme', 'c¿ur', 'champignon', 'temperature', 'anti-poussière', 'liaison', 'grossesse', 'unite', 'landau', 'tray', 'republicain', 'amiral', '\\\\', 'planet', 'stylet', 'insta360', 'snake', 'barres', 'candidat', 'expédition', 'creuse', 'fabriqué', 'locator', 'opération', 'gare', 'snooze', 'pacfirst', 'phares', 'miel', 'amplificateur', 'réducteur', 'herma', 'intégrés', 'voiturerc', 'soup', 'réfléchissant', 'socket', 'piscinette', 'ctx', 'brûler', 'graisses', 'courants', 't4', 'commando', 'photography', 'engineering', 'bundle', 'duc', 'select', 'waterman', 'macron', 'franco', 'pâtisserie', 'colonel', 'astro', 'marvin', 'fallout', 'factice', '362', 'beginners', 'inde', 'payer', 'grave', 'sr', 'étranges', 'pere', 'étang', \"d&'or\", 'africaine', '430', 'robuste', 'objets', 'caches', 'décorez', 'elk', 'dôme', 'aimants', 'nordic', 'transition', '12x12', '28685', '1815', 'nourrisson', 'spectacle', '25a', 'hug', 'jogging', 'splash', 'prize', 'couls', 'echangeur', 'joints', 'coupure', 'séyès', 'chanson', \"p'\", 'futé', 'aiguilles', 'carra', 'cuvette', 'donkey', 'guardian', 'daily', 'denim', 'radiateur', '3a', 'form', 'ernest', '1910', 'crédit', 'pehd', 'internet', 'dolls', 'bratz', 'rentree', 'suivi', 'respirante', 'resistant', 'films', 'harmonie', 'rebelles', 'tooth', 'indiens', 'hobbies', 'magnum', 'evoli', '300w', 'panorama', 'engrais', 'suzette', 'mg', 'grade', 'figma', 'nu', 'vitrine', '4.57', 'jan', '15pcs', 'marbre', 'contre-courant', '309', 'medecine', 'insurrection', 'apprentie', 'scorpion', '2500mah', 'pologne', 'auguste', 'gourmet', 'tweed', 'persia', 'garage', 'révolte', 'desk', 'hippocampe', 'malin', 'chaussons', 'carabiner', 'bas-auucne', 'coq', 'hardi', 'contrat', 'fight', 'figuarts', 'kate', 'demi-masque', 'arsenal', 'hippopotame', 'generation', 'armee', 'faible', 'lilas', 'fraîche', 'minuit', 'metalframe', 'elve', 'beast', 'tomb', 'raider', 'easter', 'sjrc', 'cam', 'chapiteau', 'cb', 'font', 'gardena', 'squeezable', 'rug', 'jelly', 'md', 'texas', 'devil', 'trixie', 'beautiful', 'cut', 'poolex', 'casquette', '780', 'burrito', 'commercial', 'prisonnier', 'tete', 'jambes', 'ministre', 'blumfeldt', 'étendu', 'opera', 'spinner', 'epeda', 'hunter', 'axle', 'housing', 'rayman', 'maternelle', 'tropical', 'pinata', 'longs', 'scratch', '422', 'deep', 'attrape', 'lulu', 'pillowcase', 'oubliées', 'nathalie', 'clean', 'branchez', 'marchande', 'trompe', 'carnage', 'sociales', 'puissant', 'mosaïque', 'milieu', 'rouges', 'handbag', 'quiz', 'wwii', 'alara', 'european', 'soccer', 'nutrition', 'caraibes', 'systems', 'analysis', 'monophasée', 'motorcycle', 'télécommandée', 'flo', 'marina', 'timbre', 'storm', 'rebond', 'week', 'bresil', 'a7', 'memoires', 'demande', '500ml', 'catch', 'tdil', 'region', 'multiples', '100ème', 'maladies', 'interface', 'vulcan', 'vues', 'alfred', 'bordures', 'britannique', 'journée', 'diameter', 'porte-brosse', 'poulain', 'venise', '6.40', 'écologique', 'looney', 'ligné', 'nez', 'sardou', 'her', 'doigt', 'classeurs', 'ms', 'cyclone', 'textile', '6m3', 'alsace', 'market', 'kangourou', 'fr012', 'chausson', 'performance', '50ml', 'propre', 'ane', 'articulés', 'juniors', 'daudet', 'obseques', 'x1', 'duel', 'lou', 'orcs', 'jolly', 'boxes', 'valve', 'gagner', 'internationales', 'beurre', 'ru', 'monnaies', 'trailer', 'guerrière', 'oeuf', 'niagara', 'badge', 'journaux', 'label', 'courroie', 'honor', 'cuiller', 'arôme', 'brume', 'artificielles', 'eu', 'toulouse', 'dé', 'plasticine', 'tuyaux', 'della', 'assaut', '3.66', 'aqualoon', 'preuve', 'sncf', 'bonbonnière', 'sharpener', 'peacock', 'fenix', 'rf', 'down', 'bt4', '3650', 'aero', 'triangle', 'noblesse', 'hsm', 'towel', 'atlantic', 'joie', 'clan', '1100', 'mitterrand', 'infinite', 'intime', 'formula', 'magasine', 'coutal', 'fragments', 'principes', 'mary', 'raison', 'figures', 'génie', 'brest', 'mist', 'pat', 'mans', 'tdgs', 'peppa', 'venser', 'bebop', 'mitigeur', 'modulaire', 'caroline', '10x15', 'nick', 'forets', 'stay', 'paradise', 'composé', 'défense', 'transmitter', 'warfare', 'triple', '166', 'cèdre', 'louvre', 'promenade', 'beanbag', 'analogique', 'visser', 'animation', 'bach', 'cloche', 'myth', 'spray', 'beauty', 'nds', 'lara', 'tunisie', 'scènes', 'effrayant', 'smash', 'pratiques', 'jar', 'glamour', 'surveillance', 'instrument', 'cyclisme', 'adventures', 'retenue', 'oslo', 'century', 'opener', 'societe', 'annees', 'ge', 'vga', '3in1', 'actualite', 'nostalgie', 'middle', 'b14', 'etagère', 'crossing', 'conteneurs', 'polyédrique', 'langage', 'pixel', 'fascicules', 'contexte', 'surélevé', 'supreme', 'allume', 'sous-vêtements', '1250', 'faits', 'civilisation', 'élève', 'etats', 'dormir', 'réseau', 'tub', '325', 'suite', 'câbles', 'parus', 'usages', 'jaguar', 'troubles', 'logement', '-générique', 'moulins', 'ingénierie', 'marriage', 'dalle', 'xing', 'bonzini', 'loft', 'fireproof', 'skeleton', 'zimmer', 'dekoration', 'kissen', 'englisch', 'orque', 'enquête', '1set', 'indigo', 'pole', 'emploi', 'succulent', 'flowerpot', 'ct', 'plane', 'packs', 'unlimited', 'timbres', 'bouquins', 'a979', 'panzer', 'comité', 'energel', 'need', 'matco', 'occident', 'poste', 'focus', 'porc', 'noise', 'cabine', '40x60', 'semelles', 'borderlands', \"spyro'\", 'conservation', '80x190', 'pompons', 'fiat', 'gorge', 'techit', 'courte', 'edding', 'c.c.e.i', 'tommee', 'tippee', 'rowenta', 'asmodee', 'pattes', 'trap', 'pillowcases', 'might', 'pneu', '80a', 'marteau', 'pinceaux', 'magnétiques', 'superposé', 'biberons', 'para', 'web', 'provence', 'grains', 'pads', 'genesis', 'kennel', 'cms', 'sirocco', 'economic', 'lingettes', 'pretend', 'rihanna', 'sd', 'seal', 'mélamine', 'confessions', '30w', 'bêche', 'more', 'flag', 'aura', 'élégante', 'pyjama', 'midi', 'serviteur', 'inrockuptibles', 'fits', 'filament', '©', 'forgé', 'ntsc', 'peeler', 'poule', 'progressive', 'volley', 'serpent', 'jupiter', 'scott', 'cendrier', 'peg', 'wallet', 'dessinées', 'mousqueton', 'transformers', 'sochaux', 'collectors', 'decker', 'activité', 'quo', 'wiimote', 'européenne', 'cabriolet', 'babies', 'gifts', 'sequin', 'ames', 'electro', '203', 'tribute', 'grue', 'memorial', 'libres', 'ion', 'effaçable', 'software', 'jean-pierre', 'camylle', 'collecteur', 'centrale', 'h0', 'bullet', 'tetris', 'manager', 'taxi', '0.76', '4cv', 'country', 'vanessa', 'killer', 'nation', 'biz', 'châssis', 'gu10', 'polyvalent', 'multiwave', 'cheville', 'belge', 'cardinal', 'vw', 'player', 'gothic', 'tigre', 'las', 'corvette', 'lima', 'italy', 'mrs', '18m3', 'opus', 'ready', 'droits', 'solution', 'clic', '6x4', 'kennedy', 'grammaire', 'characters', 'sommaire', 'workshop', 'coating', 'rampe', 'bruno', 'lecteurs', 'removable', 'spalnéa', 'edc', 'poèmes', 'marins', 'perforateur', 'duck', 'slot', 'châteaux', 'horse', 'anti-skid', 'ultra-mince', 'ventilat', 'cheval', 'eyes', 'huawei', 'ôçô', '268', 'imprégné', 'people', 'gate', '121', 'coudre', 'ki', 'agricole', 'assemblé', 'telerama', 'window', 'télécommandé', 'forts', 'sous-marine', 'confettis', 'fourchette', 'administration', 'shopping', 'bones', 'dot', 'carotte', '45a', 'latéral', 'origins', 'durites', 'lemoine', 's10', 'dissolution', 'b16', 'märklin', '298', '299', 'marc', 'arabica', 'bocal', 'application', 'piccolo', 'x7', '200pcs', 'sonore', '1928', 'w.', 'fixator', '110x155', 'capucine', 'hope', 'emmanuelle', 'bristol', 'mind', 'traversin', 'in-es.artdesign', 'nebulite', 'sailor', 'grandir', 'remplacer', 'cuve', 'taraudé', '4wd', 'tivola', 'valeurs', 'vitesses', 'bad', 'trip', 'lorient', 'banne', 'pixar', 'importation', 'quarante', 'ornaments', 'decors', 'galaxie', 'groot', 'lectures', 'balais', 'lien', 'follows', 'garni', 'multicolores', 'apocalypse', 'times', 'schéma', 'tuiles', 'prio', 'toise', 'meilakoa', 'drink', 'rotating', 'michelet', 'true', 'fear', 'âmes', 'bords', 'recto', 'verso', 'skimfiltre', 'c5', 'maximum', 'carbon', '760', 'domaine', 'cette', 'terrier', 'boys', 'conflux', 'transformation', 'planaire', 'emmanché', '65x65', 'koala', 'sterilor', 'dec', 'evans', 'pastille', 'automatic', 'bleues', 'n.', 'institut', 'dédié', 'idées', 'trader', 'farm', '1925', 'sortir', 'concert', 'sergent', 'mercier', 'frederic', 'flipper', 'tenor', 'beyond', 'arrivée', 'prime', 'pillar', 'testament', 'ghe', 'chaînes', 'sombre', 'orage', 'jurassic', 'bonux', 'ajena', 'active', 'surligneur', 'files', '788', 'replacement', 'plantations', '323', '1833', 'imprimante', 'bells', 'adornment', 'blocage', 'montagnes', 'percussion', 'utilisation', 'poing', 'post', 'autour', 'frontières', 'bella', 'vega', 'douglas', 'lamiclair', 'cappuccino', 'rainforest', 'shaft', 'turismo', 'julia', 'euros', 'etrange', 'profonde', 'toxique', 'octopus', 'crimson', 'slaughter', 'domestique', 'una', 'sup', 'ancre', 'grenade', 'soldats', 'remplissage', 'doubles', 'extreme', 'ghostbusters', 'portefeuille', '850mah', 'détachée', 'v912', 'dès', 'dieux', 'mineur', 'traitres', 'male', '2ds', 'll', 'filtra', 'sherlock', 'holmes', 'antonio', 'joseph', 'erik', 'poteau', 'fr017', 'dit', 'reserve', 'atteint', 'affaires', 'gravité', 'rustler', 'congo', '1789', 'oboe', 'flensted', 'surf', 'syndicale', 'toad', 'yoshi', 'dsb', 'chlorilong', 'zaini', 'voyageur', '50x70', 'antibactériennes', '9450s', 'fevrier', 'pignon', 'orchidée', 'twin', 'axis', 'aerial', 'jewelry', 'identité', 'shabby', 'wengé', '1to', '775', 'chirac', 'sauf', 'tr140', '367', 'cartonnés', '1953', 'langlois', 'pill', 'tissus', '1865', 'humour', 'partout', 'legende', 'fluide', 'marceau', 'serrure', 'raisins', 'lucky', 'poubelles', 'adam', 'bouddhisme', 'touche', 'elizabeth', 'ibiza', 'choix', 'bronzes', 'ø350', 'anti-algues', '20w', 'chicago', 'soulagement', 'tibet', 'squadron', 'hygiene', 'façon', 'autriche', 'rita', 'california', 'voulu', 'lieutenant', 'chaumières', 'poolstyle', '7.6v', 'carburant', 'vernis', 'mixing', 'rives', 'séries', 'piste', 'boisson', 'gravity', 'palace', 'class', 'ramette', 'surligneurs', 'pv50', 'limitee', 'glossy', 'télévision', 'trieur', 'parmi', 'babyzen', 'bouddha', 'lässig', 'abonnement', 'vip', 'anatomie', 'souffle', 'm12', 'mcfarlane', 'starwars', 're', 'sh5hd', 'revision', 'renard', 'verne', 'chateau', 'orchidées', 'natales', '015', 'torchon', 'études', 'diego', 'anti-statique', 'library', 'vieilli', 'bip', 'jeanne', 'manuscrit', 'crime', '5.49', 'bâtons', 'ta', 'couv', 'transp', 'embrasses', 'galvanisé', 'dragonlance', 'armé', 'succulente', '075', 'tina', 'arena', 'thierry', '1400', '1942', '26644gs', 'saber', 'crabe', 'tracé', 'bonsai', 'powered', 'vaillants', 'jaunes', 'deneuve', 'robotique', 'leclerc', '030', 'ras', 'adrien', 'musee', '5p2r', 'michelin', 'futur', 'educatif', 'sunshine', '260x240', 'reliés', 'technologie', 'laure', 'elodie', 'remastered', 'empreintes', 'policiers', 'nickel', 'spool', 'kado', 'fourche', '284', 'trivial', 'pursuit', 'realms', 'entretiens', 'antidéflagrants', '9.5', 'protective', 'tue', 'udi', 'edg', 'creations', 'cooling', 'types', 'genre', 'bandana', 'powder', '459', 'russia', 'sergei', 'tourisme', 'chimique', 'oriental', 'cerveau', 'numeros', 'oxydose', 'ultra-violet', 'aus', 'dem', 'ignifugé', 'document', '250go', 'battlefield', 'exclusif', 'cruise', 'dupont', 'bloom', '263', '2wd', '130x190', 'mylene', 'quality', 'mexique', 'spoons', 'poignées', 'nexus', 'jacket', 'scarf', 'confrérie', 'critique', 'précédé', 'ces', 'avenue', 'abréagir', 'lightning', 'herbe', 'couples', 'bush', 'pets', 'collar', 'contemporaine', 'roulette', 'bedding', 'euroswim', 'missions', 'moonlight', '01:10', 'steelbook', 'robots', 'horloges', 'ages', 'abeille', 'fallen', 'feux', 'déjà', 'aspirante', 'contenant', 'communes', 'psg', 'cantabric', 'bordée', 'porte-serviette', 'oneconcept', 'bidirectionnel', '2250kv', '120a', '324', 'crafts', 'artistique', 'magnetique', 'dure', 'oase', 'récolte', 'inférieur', '2207', '3.50', 'cher', 'olivia', 'rencontres', 'cuba', 'fineliner', 'dialogues', 'stopper', 'sealed', 'bâtiment', 'rollercoaster', 'explorateur', 'mât', '272', '253', 'karl', 'nés', 'mousses', 'majestic', 'trains', 'gs', 'simples', 'secrètes', 'overwatch', 'accrocher', 'culturel', 'good', 'formateur', 'contemporaines', 'caffè', 'intenso', 'fusible', 'porte-fusible', 'monument', 'milan', '171', 'piédestal', 'inédits', 'quête', '432', 'congres', 'calibre', 'smith', 'v.o', 'extender', 'etiquettes', 'eat', 'longoni', '265', 'dumont', 'pape', 'catastrophe', 'documentation', 'guardians', '020', 'friction', '001', 'hoth', 'modélisation', 'blesses', '-t', 'relation', 'jones', 'sensible', 'screw', 'industrial', 'mats', 'gladiator', 'pxp', 'poncho', 'capuche', '3ch', 'muller', 'cobalt', 'hydroponics', 'corbeau', '5ème', 'maya', '1902', 'allies', 'rousseau', 'decembre', 'géante', 'edge', 'briggs', 'stratton', 'voice', 'dion', 'antoine', '3x3', 'optical', '3407', '28638gs', 'bielle', 'tout-terrain', '5080', 'fu', 'conference', 'vocal', 'blond', 'kaiser', 'ouverte', 'rover', 'pulsar', '372', 'bancs', 'conan', '781', 'fix', 'tendre', 'tonnerre', 'tournoi', '12w', 'équilibre', 'ustensiles', 'rival', 'méditation', 'ottoman', 'vietnam', 'c4', 'path', 'cities', 'mania', 'predator', 'inrayable', '12428', 'multiple', 'entier', 'popsicle', 'seine', 'marne', 'manifestations', 'rpg', 'trotteur', 'fripounet', 'marisette', 'julie', 'joue', '610mah', 'harvia', '-kezlin', 'enquete', 'sentiment', 'ron', 'printy', 'zop', 'futaba', '1875', 'modernes', 'jean-paul', 'pris', '194', 'orchestra', 'pools', 'océan', 'cale', 'corneille', 'textes', 'arms', 'highway', 'xpe', 'adaptation', 'lada', 'blonde', 'près', '635', 'tipp', 'pizza', '5th', 'complètes', 'soucoupe', 'diametre', 'chapelu', 'lustre', 'chassis', 'eid', 'mubarak', 'décoré', 'trilène', 'plomberie', 'raccordement', 'minecraft', 'humidifier', 'along', 'québec', '2en1', 'another', 'tshirt', 'planisphère', 'chocs', '60x60', 'patrol', '8e', 'fn', 'paso', 'doble', 'kaladesh', 'rambo', 'phosphorescent', 'anti-choc', \"children'\", 'ace', 'bonus', '1913', \"d&'eau\", 'trolls', 'créations', '-le', 'laeticia', 'gall', 'pâte', '192', 'enfilade', 'gauge', 'edit', 'sid', 'annonce', 'smile', 'lycra', 'inverse', 'visuo', 'gélifié', '60x70', 'elder', 'scrolls', 'learn', 'clarinet', 'bunting', 'bo', 'soif', 'grim', 'antitache', 'disparition', 'raton', 'laveur', 'splatter', 'micro-ondes', '231', 'humanite', 'universite', 'xx', 'relations', 'maternité', 's28', 'marque-page', 'bano', 'woods', 'pouvoirs', 'iderama', 'emission', 'flammarion', 'palier', 'en22568', 'phoque', 'castlevania', 'veteran', 'heaven', 'turtle', 'tranches', 'occultation', 'enigmes', 'a.d', '150ml', 'colours', 'organisation', '189', 'patrie', 'payne', 'eugène', 'wind', 'roba', 'chargement', 'installer', 'simpson', 'projects', 'make', '01:20', 'telecommande', 'others', 'gf', 'hq', 'dictionary', 'bonde', 'min', 'lancement', 'renforcée', 'amanda', 'foudre', 'largo', 'aspects', 'reel', 'dévidoir', 'xii', 'nd64', 'kuji', 'reliée', 'correction', '1832', '312', 'qp', 'hpi', 'thrones', \"d&'oreiller\", 'seurat', 'côte', 'brake', 'rust', 'tribune', '150x210', 'armorel', 'américaines', 'iq', 'stealth', 'elf', 'ailettes', 'grenouille', 'bikini', 'jeans', 'hong', 'orthopédique', 'extérie', '12423', 'porte-documents', 'ci', 'portraits', 'barcelona', 'vélos', 'grelot', 'pédales', '396', '8-bit', 'boyz', 'intissé', 'grises', 'turner', 'comfy', 'paws', 'relev', 'avions', 'transmission', 'gm', 'suicide', 'cocktails', 'gloves', 'requin', 'almanach', '236', 'rhodan', 'zebra', 'xgfo', 'tape', 'organza', 'backdrop', 'recent', 'bien-être', '4730f', 'doublure', 'ccei', 'pa', 'géographie', '314', 'religion', '8pc', 'ficelle', 'écru', 'percer', 'memphis', 'grec', 'mouche', 'sabrina', 'labyrinthe', 'roof', 'jovi', 'leonard', 'poésie', 'belgique', '1940', 'principale', 'purple', 'portant', 'éthérique', 'chance', 'crankbaits', 'cahiercaract?re', 'mocassins', 'anti-dérapant-auucne', 'portative', 'bond', '802', 'epee', 'text', 'cassidy', '247', 'popper', 'vest', 'enterré', 'gashapon', '854', 'ideal', 'haie', 'rolling', 'gaufrée', 'mighty', 'amonkhet', 'mclaren', 'roadster', 'algérie', 'beckham', 'secrete', '200x200', 'hippolyte', 'hexagonale', 'métrique', 'grece', 'robocop', '1.0', '80ml', 'deutsch', 'chante', 'infusion', 'fantastiques', 'command', 'odeur', 'best)[import', 'bbq-24', 'colorado', 'clemenceau', 'champignons', 'dinner', 'terry', 'héritiers', 'toucan', 'current', 'number', 'flamingo', 'infini', 'chasseurs', 'connecting', 's.h.figuarts', 'driver', 'r2', 'l2', 'theft', 'mana', 'bravo', 'parle', \"d&'angle\", 'contact', 'rembourrés', 'printed', 'dining', 'bedroom', 'sing', 'australie', 'lamincards', 'pistolets', 'hitman', 'handy', '3l', 'andy', 'v16', 'curse', '1.8', 'selected', 'w8', 'old', 'saint-tropez', 'ip67', 'spots', 'rocket', 'magenta', 'agneau', 'sermons', 'rexel', 'redakai', 'étanchéité', 'nancy', 'spirella', '70x120', 'major', 'americains', 'galactic', 'obi', 'darth', 'arriere', 'notre-dame', 'sax', 'challenge', 'borne', 'dada', 'vampires', '1857', 'courts', 'snorkel', 'lentement', 'draisienne', 'peignoir', 'tiges', 'nouveautés', 'amusant', 'words', 'rétroviseur', 'calendar', 'comoedia', 'tombe', '-c', 'oncle', 'écouteurs', '4d', 'mph', 'republic', 'african', '3eme', 'violence', 'poly', 'minuterie', 'perlé', 'cuillères', 'gentil', 'fonce', 'electorale', 'tournant', 'actuelle', 'chevrolet', 'ivan', 'auteurs', 'bonnes', 'branche', 'basics', 'balayage', 'pectorale', 'bucket', 'funny', 'autrement', 'lourdes', 'progressives', 'gammes', 'diane', '10a', 'leader', 'corsage', 'ncc', 'faune', 'début', 'riga', 'glare', 'den', 'cerisier', 'pate', 'ikat', 'cuddle', 'cups', 'benjamin', '32bit', 'bombe', 'jetables', 'flying', 'douceur', 'grâce', 'elemental', 'juge', '75m3', 'odyssée', 'israel', '0.75cv', 'picross', '390', '1931', 'algicide', 'suppression', 'snack', 'dentition', 'orge', '3cv', 'dépliant', 'terreur', 'chunky', 'futon', 'dualshock', '2.50', 'carrie', '480p', 'acme', 'tumbler', 'ear', 'hs700', 'assorti', 'multifonctionnelle', 'plateforme', 'tac', 'renforcé', 'spirits', 'cosmique', 'projet', 'damper', 'villa', '177', 'autonettoyante', 'manuels', 'mod', 'export', 'copper', 'exvc', 'jetline', 'britanniques', 'merinos', 'epaisseur', 'eucalyptus', 'scrabble', 'sentence', 'manifeste', 'tyler', 'jordan', 'silence', 'p929', 'k979', 'k989', 'k969', 'themed', 'attack', 'chaudes-auucne', 'réforme', 'signes', 'étoilé', 'pairs', 'typhoon', 'h480', 'perche', 'climbing', 'flow', 'x5', 'souples', 'schleich', 'résurrection', 'aquazendo', 'fit', 'insigne', 'd¿¿coration', 'cardan', 'crisis', 'mercenaries', 'coups', 'perte', '597', 'graine', 'juste', 'emporter', 'blé', 'perforées', '129', '517', '1re', 'libération', 'animan', 'connexions', 'pcclair', '1933', 'mspa', '6wd', 'encadrée', 'anti-dérapante', '617', 'quadrirotor', 'geste', 'skylander', 'desktop', 'montantes', 'sioapoa', '1pairs', 'précoce', 'jolies', 'sangoku', '3x6', 'china', 'matériau', 'laboratoire', 'braga', 'beaba', 'sleeping', 'serviteurs', '140x210', '26716gn', 'echarpe', 'transformables', 'patins', 'titeuf', 'diet', 'polystyrène', 'eon', 'absorbent', 'humide', 'artisan', 'variable', 'see', 'wonday', 'biere', 'crema', 'helit', 'maped', 'peps', 'chili', 'baking', 'lumiplus', 'ancient', 'canin', 'b5', 'ecoles', 'pair', 'matière', 'e-revo', 'limites', '8.5', 'actes', 'cible', 'bianca', 'sydney', 'baton', 'fete', 'merry', 'pointes', 'tip', 'pommeau', 'tracker', 'device', 'bling', 'met', 'resine', 'prisme', 'destinees', 'beignet', 'inconnu', 'personnalité', 'glaciaire', 'destinée', 'digest', 'vacation', 'hex', 'église', 'océanie', 'laque', 'eme', 'eligor', 'conique', 'receiver', 'écureuil', 'voilages', 'neufu', 'utiliser', 'suavinex', 'destin', 'etanche', 'sandwich', 'abris', 'schumann', 'commission', 'musicales', 'cauchemar', 'etiquette', 'supplémentaire', 'brahms', 'répulsif', 'methode', 'solaris', 'ouvert', 'kiddy', 'pastèque', 'intense', '6099', 'aeg', 'romance', 'lighting', 'tranche', 'xlr', 'frappant', 'mason', 'ha', 'veux', 'nr', 'zinc', 'crises', 'ah', 'stratégie', 'biofill', 'savoie', 'aqualarm', '307', 'bustier', 'plongeoir', 'mini-récits', '395', 'italian', 'cultures', 'roger', 'x5c-1', 'postale', 'rollver', 'améliorer', 'concentration', 'eden', 'granit', 'therese', 'géopolitique', 'ink', 'thermale', 'patient', '1050', 'tapestry', 'swimmer', 'alone', 'debroussailleuse', 'brain', 'hélium', 'lol', 'hawaï', 'volants', 'amazone', 'd4-j20', 'south', '1840', 'gilles', 'xvi', 'cite', 'bookmark', 'sheep', 'ccg', 'cigare', 'dent', '585', 'competition', 'tigex', '4e', '28602gs', 'rectangular', '30l', '446', 'halo', '2500', 'antidérapage', 'détachées', 'bike', 'rain', 'bouchons', 'boussole', 'mou', 'every', 'ruée', 'affranchissement', 'right', 'alix', 'pearl', 'aurora', 'temporelle', '279', 'agathe', '460x120', 'collège', 'chute', 'bal', 'plon', 'communication', 'trash', 'lift', 'mini-série', 'aérien', 'gvirt_np_nn_nnps', 'tiamo', 'zhiyun', 'vif', 'urbanpool', '5s', '695', '5x5', 'empereur', 'tarkir', 'concepts', '2.2', 'zeus', 'block', 'souffleur', 'liège', 'gastronomie', 'peints', 'électriques', 'jp', 'uncommon', 'traversée', 'simpsons', 'tent', 'amewi', 'découpe', 'belly', 'strawberry', 'what', 'peche', 'half', 'civilization', 'tronconneuse', 'vasque', 'capsule', 'chris', '16m3', 'e-book', 'midinette', '1936', 'chancelier', 'phoenix', 'caran', 'ache', 'couvrante', 'pharaons', 'a949', 'a959', 'xml', 'babycalin', 'afro-américaine', 'superbe', 'formes', 'lighted', 'tissage', 'porte-stylo', '14.8v', 'rickune', 'cosmetic', 'wonder', '5050', '5v', 'coupé', 'hydratation', 'multimédia', 'noeuds', 'dialogue', 'académie', 'parfums', 'position', 'anti-pression', 'bionic', 'monter', 'perroquet', 'baignade', 'banding', 'trolley', 'x5hc', 'x5hw', 'monochrome', 'quadcoptertoy', '292', 'french', 'drogue', 'troisième', 'rupture', 'dictionnaires', 'pattinson', 'monarch', 'promatic', 'arme', 'compagnons', 'griffoir', 'vague', 'cie', 'velleda', 'aider', 'urza', 'parade', '340', 'weltico', 'dessus', 'electrolux', 'portfolio', 'grades', 'rattle', 'lug', '16.5', 'générale', 'bot', 'hotspring', 'river', 'comprenant', 'impossible', 'trilogy', 'als', 'close', 'accrochage', 'doit', 'brillante', 'lange', 'shot', 'madness', 'dakar', 'perler', 'shampooing', 'maestro', 'metabo', 'nardi', 'rat', 'usher', 'reaction', 'fabbri', '850', 'spanish', 'rosa', 'fourni', 'dynamic', 'patiné', 'forum', '336', 'tricoté', 'toppers', 'principal', 'smoothie', 'pacte', 'cochon', 'plumier', 'breitkopf', 'maillot', 'jesus', 'frontale', 'steps', 'senseo', '470', 'crawl', 'edouard', 'exploitation', 'eclairage', 'origin', 'coated', 'heighten', 'barista', 'marechal', 'camo', 'tableware', 'win', 'vends', 'ecriture', '16bit', 'update', 'myr', 'alcool', 'caddy', 'donut', 'supply', 'obélix', 'épée', \"l&'amour\", '70x140', '4l', 'montana', 'assassin', 'east', 'coast', 'railway', 'nt', 'british', 'rescue', 'england', 'hills', 'élastiques', 'simplicité', 'mystere', '1.07', 'gladiateurs', 'cure', 'silice', 'embossing', 'celeste', 'lecons', 'arm', '8)', 'ondulé', 'passeggino', 'jambon', 'frigidaire', 'panama', 'voyageurs', 'mosquito', 'brass', 'mayhem', 'fr032', 'motormax', 'enseignants', 'esquisses', 'glaciation', 'broken', 'robinets', 'stripped', 'taraud', 'jojo', 'pères', 'r3', 'animals', 'énigmes', 'mpg', 'rurale', 'outre', 'digimon', 'perego', '256', 'reno', '485', '349', 'alerte', 'umd', 'mensuelles', 'sahara', 'babysun', 'valley', 'ruby', 'elfes', 'missile', 'tiles', 'vadis', 'nuances', 'sables', 'tablettes', 'sécateur', 'dim', 'déporté', 'message', 'hemma', 'dodge', 'hobbywing', 'trafic', 'ocre', 'jardins', '735', 'tournesol', 'vacuum', 'contenu', 'patch', 'électroménagers', 'dpi', 'xhp70', 'coté', 'croft', 'bons', 'brouillard', 'bilingue', 'chantier', 'etienne', 'hp', 'torque', 'bordelais', 'corsaires', 'maritime', 'felix', 'avon', 'traque', 'diner', 'tr', 'xt-', 'atm', 'bottom', 'amazing', 'fossiles', 'protège-cahier', 'tapisseries', 'samoa', 'money', 'gizzmo', 'fou', 'schweitzer', 'voiture-générique', 'regle', 'rotring', 'brian', 'quelles', 'joysticks', 'chants', 'vallée', 'thalassa', 'uniquement', 'offensive', 'rebondissante', 'pailles', 'pédagogique', 'mlle', 'departement', 'frère', 'ø32', 'hoodie', 'strong', 'management', 'fourrure', 'tentes', '702', 'mordre', 'indy', 'kenner', 'imprimi', 'neutre', 'iles', 'playmate', 'narration', 'malade', 'chlorinateur', 'grenadine', 'oregon', 'primaire', '575', 'scrapbook', '3.6', 'nobby', 'oxygène', 'wedo', 'impulsion', 'observateur', 'tornado', 'attend', 'ny', 'recits', 'history', 'bt2', 'activity', 'econo', 'fenetre', 'glas', 'mémorial', 'hélène', 'hommage', 'memoire', '1869', 'journee', 'aramith', 'tarière', 'macramé', 'atlantique', '556', 'siku', 'baptême', 'divisé', 'gabriel', 'attaches', 'doodle', 'warrior', 'markers', 'romain', 'prima', 'haine', 'vegetation', 'pois', '174', 'prophete', 'berry', 'accuse', 'add', 'ordinateurs', 'echos', 'rivarol', 'metz', 'révélation', '611', 'loz', 'cosses', 'adaptateurs', 'hunt', 'superchargers', 'amours', '2.0mp', 'réhabilitation', 'magiques', 'patrimoine', 'enjoy', 'algues', 'tea', 'uf', '648', '730', 'damia', 'sage', 'toronto', 'dishes', 'disques', 'gallimard', 'dance', 'â', '8ème', 'coupe-bordures', 'noukies', 'cheerson', 'advanced', 'croisés', 'doigts', 'sack', 'convergence', 'mgd', 'pick', 'picots', 'désinfection', 'naufrage', 'parking', 'bouilloire', 'sheet', '151', 'compte', 'society', 'tomy', 'pollen', 'xt-1', 'pittoresque', 'électrolyseurs', 'clearwater', '1895', 'concentré', '164', 'k100', '1947', 'longues', 'corbeille', 'oreille', 'lampadaire', '130x200', 'nettoyer', 'height', 'button', '1849', 'mettre', 'coach', 'arebos', 'per', '2pack', 'porte-bagages', 'diana', 'foundations', 'x10', 'confession', 'perret', 'f540', 'alexandra', 'printedsofa', 'entertainment', 'ledermann', 'pl', 'models', 'appliance', '160x190', 'birds', 'étrangère', 'chopsticks', 'voyager', 'h2', 'pelerin', 'morphozone', '2600kv', 'debit', 'quel', 'tole', 'président', 'ambulance', 'extract', 'sunmer', 'traveler', \"koa'\", 'meiru', 'inclinable', 'vegetto', 'strap', 'trente', 'aos', 'serres', 'w1', 'tigershark', 'lords', 'western', 'marchandises', '10w', 'astore', 'sg900-s', 'held', 'reves', 'bb', 'zweckform', 'very', 'if', 'immortels', 'yonis', 'medaille', 'humbert', 'marabu', 'arctic', 'rubis', 'citroën', 'cx', 'absorber', 'ann', 'gravure', 'fr060', 'rte', 'furry', 'kaamelott', 'marketing', 'tendance', '420', 'douanes', 'chester', 'auteur', 'lay', 'breeze', 'luna', 'approche', 'envoi', 'mexicain', '197', 'tattoo', '419', 'portemine', 'hitler', 'équipe', 'labrador', 'rasoir', 'choupi', 'faeries', 'espoir', 'chinese', 'shield', 'mathematics', 'ø75', 'appelle', 'droguet', 'sprinkler', 'liquid', 'écrou', 'oie', 'débutant', 'harpe', '60x90', 'snoopy', 'mentor', 'novel', 'einstein', 'ténor', 'xxfake', 'xxfake', 'xxfake', 'xxfake', 'xxfake'],(#27) [10,40,50,60,1140,1160,1180,1280,1281,1300...]]"
            ]
          },
          "metadata": {
            "tags": []
          },
          "execution_count": 27
        }
      ]
    },
    {
      "cell_type": "code",
      "metadata": {
        "id": "tYClt3NEbce0",
        "colab_type": "code",
        "colab": {
          "base_uri": "https://localhost:8080/",
          "height": 34
        },
        "outputId": "065459cf-e125-4d1c-ba1a-158b599722ff"
      },
      "source": [
        "dls_cls.train.categorize.vocab"
      ],
      "execution_count": 28,
      "outputs": [
        {
          "output_type": "execute_result",
          "data": {
            "text/plain": [
              "(#27) [10,40,50,60,1140,1160,1180,1280,1281,1300...]"
            ]
          },
          "metadata": {
            "tags": []
          },
          "execution_count": 28
        }
      ]
    },
    {
      "cell_type": "code",
      "metadata": {
        "id": "xgbr5DugawFp",
        "colab_type": "code",
        "colab": {}
      },
      "source": [
        "learn_cls = text_classifier_learner(dls=dls_cls,\n",
        "                                    arch=AWD_LSTM,\n",
        "                                    metrics=[accuracy, error_rate])"
      ],
      "execution_count": 0,
      "outputs": []
    },
    {
      "cell_type": "code",
      "metadata": {
        "id": "12_M6_KAbEuR",
        "colab_type": "code",
        "colab": {}
      },
      "source": [
        "learn_cls = learn_cls.load_encoder('fine_tuned_enc_2ep_8e_2lr')"
      ],
      "execution_count": 0,
      "outputs": []
    },
    {
      "cell_type": "code",
      "metadata": {
        "id": "993No6BLbJV1",
        "colab_type": "code",
        "colab": {
          "base_uri": "https://localhost:8080/",
          "height": 300
        },
        "outputId": "fc9db729-0a8d-4a1f-b80a-d49c41558299"
      },
      "source": [
        "learn_cls.lr_find()"
      ],
      "execution_count": 32,
      "outputs": [
        {
          "output_type": "display_data",
          "data": {
            "text/html": [
              ""
            ],
            "text/plain": [
              "<IPython.core.display.HTML object>"
            ]
          },
          "metadata": {
            "tags": []
          }
        },
        {
          "output_type": "execute_result",
          "data": {
            "text/plain": [
              "SuggestedLRs(lr_min=0.05248074531555176, lr_steep=0.0831763744354248)"
            ]
          },
          "metadata": {
            "tags": []
          },
          "execution_count": 32
        },
        {
          "output_type": "display_data",
          "data": {
            "image/png": "[encoded data removed]",
            "text/plain": [
              "<Figure size 432x288 with 1 Axes>"
            ]
          },
          "metadata": {
            "tags": [],
            "needs_background": "light"
          }
        }
      ]
    },
    {
      "cell_type": "code",
      "metadata": {
        "id": "_7vcoxrrbTTy",
        "colab_type": "code",
        "colab": {
          "base_uri": "https://localhost:8080/",
          "height": 173
        },
        "outputId": "f449a8ac-c304-4784-a3fb-4dc6ecd4b8a6"
      },
      "source": [
        "learn_cls.fit_one_cycle(4, lr_max=4e-2)"
      ],
      "execution_count": 33,
      "outputs": [
        {
          "output_type": "display_data",
          "data": {
            "text/html": [
              "<table border=\"1\" class=\"dataframe\">\n",
              "  <thead>\n",
              "    <tr style=\"text-align: left;\">\n",
              "      <th>epoch</th>\n",
              "      <th>train_loss</th>\n",
              "      <th>valid_loss</th>\n",
              "      <th>accuracy</th>\n",
              "      <th>error_rate</th>\n",
              "      <th>time</th>\n",
              "    </tr>\n",
              "  </thead>\n",
              "  <tbody>\n",
              "    <tr>\n",
              "      <td>0</td>\n",
              "      <td>1.590293</td>\n",
              "      <td>1.212402</td>\n",
              "      <td>0.622301</td>\n",
              "      <td>0.377699</td>\n",
              "      <td>00:22</td>\n",
              "    </tr>\n",
              "    <tr>\n",
              "      <td>1</td>\n",
              "      <td>1.431759</td>\n",
              "      <td>1.147877</td>\n",
              "      <td>0.654888</td>\n",
              "      <td>0.345112</td>\n",
              "      <td>00:22</td>\n",
              "    </tr>\n",
              "    <tr>\n",
              "      <td>2</td>\n",
              "      <td>1.302337</td>\n",
              "      <td>1.036491</td>\n",
              "      <td>0.676875</td>\n",
              "      <td>0.323125</td>\n",
              "      <td>00:22</td>\n",
              "    </tr>\n",
              "    <tr>\n",
              "      <td>3</td>\n",
              "      <td>1.219847</td>\n",
              "      <td>1.001180</td>\n",
              "      <td>0.690224</td>\n",
              "      <td>0.309776</td>\n",
              "      <td>00:22</td>\n",
              "    </tr>\n",
              "  </tbody>\n",
              "</table>"
            ],
            "text/plain": [
              "<IPython.core.display.HTML object>"
            ]
          },
          "metadata": {
            "tags": []
          }
        }
      ]
    },
    {
      "cell_type": "code",
      "metadata": {
        "id": "oWJf2PMEdQG6",
        "colab_type": "code",
        "colab": {
          "base_uri": "https://localhost:8080/",
          "height": 300
        },
        "outputId": "f17891c6-14ac-404d-fb85-b02fc2ec6b0c"
      },
      "source": [
        "learn_cls.freeze_to(-2)\n",
        "learn_cls.lr_find()"
      ],
      "execution_count": 34,
      "outputs": [
        {
          "output_type": "display_data",
          "data": {
            "text/html": [
              ""
            ],
            "text/plain": [
              "<IPython.core.display.HTML object>"
            ]
          },
          "metadata": {
            "tags": []
          }
        },
        {
          "output_type": "execute_result",
          "data": {
            "text/plain": [
              "SuggestedLRs(lr_min=0.00010000000474974513, lr_steep=1.9054607491852948e-06)"
            ]
          },
          "metadata": {
            "tags": []
          },
          "execution_count": 34
        },
        {
          "output_type": "display_data",
          "data": {
            "image/png": "[encoded data removed]",
            "text/plain": [
              "<Figure size 432x288 with 1 Axes>"
            ]
          },
          "metadata": {
            "tags": [],
            "needs_background": "light"
          }
        }
      ]
    },
    {
      "cell_type": "code",
      "metadata": {
        "id": "y2q-Q5G4caIY",
        "colab_type": "code",
        "colab": {
          "base_uri": "https://localhost:8080/",
          "height": 204
        },
        "outputId": "a9a912ac-d194-4939-f7ea-2858bdc84d7c"
      },
      "source": [
        "learn_cls.fit_one_cycle(5, lr_max=slice(5e-3/(2.6**4), 5e-3))"
      ],
      "execution_count": 35,
      "outputs": [
        {
          "output_type": "display_data",
          "data": {
            "text/html": [
              "<table border=\"1\" class=\"dataframe\">\n",
              "  <thead>\n",
              "    <tr style=\"text-align: left;\">\n",
              "      <th>epoch</th>\n",
              "      <th>train_loss</th>\n",
              "      <th>valid_loss</th>\n",
              "      <th>accuracy</th>\n",
              "      <th>error_rate</th>\n",
              "      <th>time</th>\n",
              "    </tr>\n",
              "  </thead>\n",
              "  <tbody>\n",
              "    <tr>\n",
              "      <td>0</td>\n",
              "      <td>1.124976</td>\n",
              "      <td>0.968514</td>\n",
              "      <td>0.696506</td>\n",
              "      <td>0.303494</td>\n",
              "      <td>00:23</td>\n",
              "    </tr>\n",
              "    <tr>\n",
              "      <td>1</td>\n",
              "      <td>1.095544</td>\n",
              "      <td>0.899773</td>\n",
              "      <td>0.713781</td>\n",
              "      <td>0.286219</td>\n",
              "      <td>00:22</td>\n",
              "    </tr>\n",
              "    <tr>\n",
              "      <td>2</td>\n",
              "      <td>0.999667</td>\n",
              "      <td>0.842387</td>\n",
              "      <td>0.735375</td>\n",
              "      <td>0.264625</td>\n",
              "      <td>00:23</td>\n",
              "    </tr>\n",
              "    <tr>\n",
              "      <td>3</td>\n",
              "      <td>0.898797</td>\n",
              "      <td>0.823150</td>\n",
              "      <td>0.742835</td>\n",
              "      <td>0.257165</td>\n",
              "      <td>00:23</td>\n",
              "    </tr>\n",
              "    <tr>\n",
              "      <td>4</td>\n",
              "      <td>0.851038</td>\n",
              "      <td>0.818149</td>\n",
              "      <td>0.744405</td>\n",
              "      <td>0.255595</td>\n",
              "      <td>00:23</td>\n",
              "    </tr>\n",
              "  </tbody>\n",
              "</table>"
            ],
            "text/plain": [
              "<IPython.core.display.HTML object>"
            ]
          },
          "metadata": {
            "tags": []
          }
        }
      ]
    },
    {
      "cell_type": "code",
      "metadata": {
        "id": "h82PVplneMNl",
        "colab_type": "code",
        "colab": {
          "base_uri": "https://localhost:8080/",
          "height": 300
        },
        "outputId": "b16a2837-496c-4da8-bd28-573c713082ab"
      },
      "source": [
        "learn_cls.freeze_to(-3)\n",
        "learn_cls.lr_find()"
      ],
      "execution_count": 36,
      "outputs": [
        {
          "output_type": "display_data",
          "data": {
            "text/html": [
              ""
            ],
            "text/plain": [
              "<IPython.core.display.HTML object>"
            ]
          },
          "metadata": {
            "tags": []
          }
        },
        {
          "output_type": "execute_result",
          "data": {
            "text/plain": [
              "SuggestedLRs(lr_min=6.309573450380412e-08, lr_steep=2.75422871709452e-06)"
            ]
          },
          "metadata": {
            "tags": []
          },
          "execution_count": 36
        },
        {
          "output_type": "display_data",
          "data": {
            "image/png": "[encoded data removed]",
            "text/plain": [
              "<Figure size 432x288 with 1 Axes>"
            ]
          },
          "metadata": {
            "tags": [],
            "needs_background": "light"
          }
        }
      ]
    },
    {
      "cell_type": "code",
      "metadata": {
        "id": "raIYmuApf5RK",
        "colab_type": "code",
        "colab": {
          "base_uri": "https://localhost:8080/",
          "height": 111
        },
        "outputId": "aee8fb02-4678-4686-b9b6-baf061dcd5b6"
      },
      "source": [
        "learn_cls.fit_one_cycle(2, lr_max=slice(5e-4/(2.6**4), 5e-4))"
      ],
      "execution_count": 37,
      "outputs": [
        {
          "output_type": "display_data",
          "data": {
            "text/html": [
              "<table border=\"1\" class=\"dataframe\">\n",
              "  <thead>\n",
              "    <tr style=\"text-align: left;\">\n",
              "      <th>epoch</th>\n",
              "      <th>train_loss</th>\n",
              "      <th>valid_loss</th>\n",
              "      <th>accuracy</th>\n",
              "      <th>error_rate</th>\n",
              "      <th>time</th>\n",
              "    </tr>\n",
              "  </thead>\n",
              "  <tbody>\n",
              "    <tr>\n",
              "      <td>0</td>\n",
              "      <td>0.806478</td>\n",
              "      <td>0.807907</td>\n",
              "      <td>0.749509</td>\n",
              "      <td>0.250491</td>\n",
              "      <td>00:23</td>\n",
              "    </tr>\n",
              "    <tr>\n",
              "      <td>1</td>\n",
              "      <td>0.814139</td>\n",
              "      <td>0.805442</td>\n",
              "      <td>0.747939</td>\n",
              "      <td>0.252061</td>\n",
              "      <td>00:24</td>\n",
              "    </tr>\n",
              "  </tbody>\n",
              "</table>"
            ],
            "text/plain": [
              "<IPython.core.display.HTML object>"
            ]
          },
          "metadata": {
            "tags": []
          }
        }
      ]
    },
    {
      "cell_type": "code",
      "metadata": {
        "id": "waqg3UXGgFUt",
        "colab_type": "code",
        "colab": {}
      },
      "source": [
        "learn_cls.unfreeze()"
      ],
      "execution_count": 0,
      "outputs": []
    },
    {
      "cell_type": "code",
      "metadata": {
        "id": "SJRfmRhJgp8q",
        "colab_type": "code",
        "colab": {
          "base_uri": "https://localhost:8080/",
          "height": 300
        },
        "outputId": "8d28eff7-29dd-4731-9146-413564a126be"
      },
      "source": [
        "learn_cls.lr_find()"
      ],
      "execution_count": 39,
      "outputs": [
        {
          "output_type": "display_data",
          "data": {
            "text/html": [
              ""
            ],
            "text/plain": [
              "<IPython.core.display.HTML object>"
            ]
          },
          "metadata": {
            "tags": []
          }
        },
        {
          "output_type": "execute_result",
          "data": {
            "text/plain": [
              "SuggestedLRs(lr_min=1.0964781722577755e-07, lr_steep=9.12010818865383e-07)"
            ]
          },
          "metadata": {
            "tags": []
          },
          "execution_count": 39
        },
        {
          "output_type": "display_data",
          "data": {
            "image/png": "[encoded data removed]",
            "text/plain": [
              "<Figure size 432x288 with 1 Axes>"
            ]
          },
          "metadata": {
            "tags": [],
            "needs_background": "light"
          }
        }
      ]
    },
    {
      "cell_type": "code",
      "metadata": {
        "id": "uFiylKKNgr3Q",
        "colab_type": "code",
        "colab": {
          "base_uri": "https://localhost:8080/",
          "height": 142
        },
        "outputId": "253acdb8-35a9-46b2-e432-2fbb4920bbb3"
      },
      "source": [
        "learn_cls.fit_one_cycle(3, lr_max=slice(5e-3/(2.6**4), 5e-3))"
      ],
      "execution_count": 40,
      "outputs": [
        {
          "output_type": "display_data",
          "data": {
            "text/html": [
              "<table border=\"1\" class=\"dataframe\">\n",
              "  <thead>\n",
              "    <tr style=\"text-align: left;\">\n",
              "      <th>epoch</th>\n",
              "      <th>train_loss</th>\n",
              "      <th>valid_loss</th>\n",
              "      <th>accuracy</th>\n",
              "      <th>error_rate</th>\n",
              "      <th>time</th>\n",
              "    </tr>\n",
              "  </thead>\n",
              "  <tbody>\n",
              "    <tr>\n",
              "      <td>0</td>\n",
              "      <td>0.838035</td>\n",
              "      <td>0.828289</td>\n",
              "      <td>0.736553</td>\n",
              "      <td>0.263447</td>\n",
              "      <td>00:25</td>\n",
              "    </tr>\n",
              "    <tr>\n",
              "      <td>1</td>\n",
              "      <td>0.715013</td>\n",
              "      <td>0.757715</td>\n",
              "      <td>0.770318</td>\n",
              "      <td>0.229682</td>\n",
              "      <td>00:25</td>\n",
              "    </tr>\n",
              "    <tr>\n",
              "      <td>2</td>\n",
              "      <td>0.604174</td>\n",
              "      <td>0.743098</td>\n",
              "      <td>0.770711</td>\n",
              "      <td>0.229289</td>\n",
              "      <td>00:25</td>\n",
              "    </tr>\n",
              "  </tbody>\n",
              "</table>"
            ],
            "text/plain": [
              "<IPython.core.display.HTML object>"
            ]
          },
          "metadata": {
            "tags": []
          }
        }
      ]
    },
    {
      "cell_type": "code",
      "metadata": {
        "id": "OHsosrdKhDYB",
        "colab_type": "code",
        "colab": {
          "base_uri": "https://localhost:8080/",
          "height": 265
        },
        "outputId": "5e2527d0-d623-4969-914a-89556fd7d538"
      },
      "source": [
        "learn_cls.recorder.plot_loss()"
      ],
      "execution_count": 41,
      "outputs": [
        {
          "output_type": "display_data",
          "data": {
            "image/png": "[encoded data removed]",
            "text/plain": [
              "<Figure size 432x288 with 1 Axes>"
            ]
          },
          "metadata": {
            "tags": [],
            "needs_background": "light"
          }
        }
      ]
    },
    {
      "cell_type": "code",
      "metadata": {
        "id": "JkvoBzm1hfYT",
        "colab_type": "code",
        "colab": {
          "base_uri": "https://localhost:8080/",
          "height": 17
        },
        "outputId": "47973c57-3d7d-4204-bd0a-548f98342e6e"
      },
      "source": [
        "inter = ClassificationInterpretation.from_learner(learn_cls)"
      ],
      "execution_count": 61,
      "outputs": [
        {
          "output_type": "display_data",
          "data": {
            "text/html": [
              ""
            ],
            "text/plain": [
              "<IPython.core.display.HTML object>"
            ]
          },
          "metadata": {
            "tags": []
          }
        }
      ]
    },
    {
      "cell_type": "code",
      "metadata": {
        "id": "07uV7dv3hqjF",
        "colab_type": "code",
        "colab": {
          "base_uri": "https://localhost:8080/",
          "height": 1000
        },
        "outputId": "26418fe5-d644-4a7c-8212-b3a591dff6ff"
      },
      "source": [
        "inter.most_confused(min_val=3)"
      ],
      "execution_count": 63,
      "outputs": [
        {
          "output_type": "execute_result",
          "data": {
            "text/plain": [
              "[(2705, 10, 34),\n",
              " (2705, 2403, 19),\n",
              " (2403, 10, 17),\n",
              " (2280, 2403, 16),\n",
              " (10, 2403, 15),\n",
              " (2582, 2060, 13),\n",
              " (1281, 1280, 12),\n",
              " (1280, 1300, 11),\n",
              " (1560, 2060, 11),\n",
              " (2060, 1560, 11),\n",
              " (10, 2705, 9),\n",
              " (40, 10, 8),\n",
              " (1180, 1140, 8),\n",
              " (1280, 1140, 8),\n",
              " (1320, 1280, 8),\n",
              " (2582, 1560, 8),\n",
              " (2583, 2585, 8),\n",
              " (1140, 1280, 7),\n",
              " (1300, 1280, 7),\n",
              " (1320, 1560, 7),\n",
              " (1320, 2060, 7),\n",
              " (1560, 2582, 7),\n",
              " (1920, 2060, 7),\n",
              " (2060, 2582, 7),\n",
              " (10, 2280, 6),\n",
              " (40, 1140, 6),\n",
              " (60, 2462, 6),\n",
              " (1180, 10, 6),\n",
              " (1280, 1281, 6),\n",
              " (1280, 1302, 6),\n",
              " (1280, 1320, 6),\n",
              " (1320, 1920, 6),\n",
              " (2585, 2583, 6),\n",
              " (1302, 1280, 5),\n",
              " (1560, 1320, 5),\n",
              " (1560, 1920, 5),\n",
              " (2060, 1320, 5),\n",
              " (2280, 10, 5),\n",
              " (2403, 2280, 5),\n",
              " (2522, 1560, 5),\n",
              " (2522, 2403, 5),\n",
              " (40, 2705, 4),\n",
              " (1140, 2403, 4),\n",
              " (1280, 2582, 4),\n",
              " (1281, 40, 4),\n",
              " (2403, 2705, 4),\n",
              " (40, 50, 3),\n",
              " (1160, 2280, 3),\n",
              " (1280, 10, 3),\n",
              " (1280, 1160, 3),\n",
              " (1281, 10, 3),\n",
              " (1281, 1160, 3),\n",
              " (1302, 1140, 3),\n",
              " (1302, 2582, 3),\n",
              " (1320, 10, 3),\n",
              " (2060, 1280, 3),\n",
              " (2060, 1920, 3),\n",
              " (2220, 1940, 3),\n",
              " (2403, 1160, 3),\n",
              " (2462, 50, 3),\n",
              " (2522, 2582, 3)]"
            ]
          },
          "metadata": {
            "tags": []
          },
          "execution_count": 63
        }
      ]
    },
    {
      "cell_type": "code",
      "metadata": {
        "id": "7JaWGnke0-s2",
        "colab_type": "code",
        "colab": {}
      },
      "source": [
        "learn_cls.save('final_learned')"
      ],
      "execution_count": 0,
      "outputs": []
    },
    {
      "cell_type": "markdown",
      "metadata": {
        "id": "hVbNzneYhtBI",
        "colab_type": "text"
      },
      "source": [
        "# Evaluation"
      ]
    },
    {
      "cell_type": "code",
      "metadata": {
        "id": "j2nWMXFciHef",
        "colab_type": "code",
        "colab": {}
      },
      "source": [
        "learn_cls.export(fname='rakuten-fastai2-defaults-sample.pkl')"
      ],
      "execution_count": 0,
      "outputs": []
    },
    {
      "cell_type": "code",
      "metadata": {
        "id": "yI4URAEai4JM",
        "colab_type": "code",
        "colab": {}
      },
      "source": [
        "TEST_FILENAME='x_test_task1_phase1.tsv'\n",
        "test_df = pd.read_csv(TEST_FILENAME, sep='\\t')"
      ],
      "execution_count": 0,
      "outputs": []
    },
    {
      "cell_type": "code",
      "metadata": {
        "id": "3TFec8AwjKoK",
        "colab_type": "code",
        "colab": {
          "base_uri": "https://localhost:8080/",
          "height": 34
        },
        "outputId": "3471615a-fb8e-442f-bef3-78d4c9573e9e"
      },
      "source": [
        "len(test_df)"
      ],
      "execution_count": 44,
      "outputs": [
        {
          "output_type": "execute_result",
          "data": {
            "text/plain": [
              "937"
            ]
          },
          "metadata": {
            "tags": []
          },
          "execution_count": 44
        }
      ]
    },
    {
      "cell_type": "code",
      "metadata": {
        "id": "RiyN-gHrjM4y",
        "colab_type": "code",
        "colab": {
          "base_uri": "https://localhost:8080/",
          "height": 119
        },
        "outputId": "e74b036a-6b4b-4f20-e5d5-01e0697ef190"
      },
      "source": [
        "test_df.isna().sum()"
      ],
      "execution_count": 45,
      "outputs": [
        {
          "output_type": "execute_result",
          "data": {
            "text/plain": [
              "Integer_id       0\n",
              "Title            0\n",
              "Description    339\n",
              "Image_id         0\n",
              "Product_id       0\n",
              "dtype: int64"
            ]
          },
          "metadata": {
            "tags": []
          },
          "execution_count": 45
        }
      ]
    },
    {
      "cell_type": "code",
      "metadata": {
        "id": "WEPMg_fzjWDc",
        "colab_type": "code",
        "colab": {}
      },
      "source": [
        "test_df['Description'] = test_df['Description'].fillna(' ')"
      ],
      "execution_count": 0,
      "outputs": []
    },
    {
      "cell_type": "code",
      "metadata": {
        "id": "PdhsPggbji32",
        "colab_type": "code",
        "colab": {
          "base_uri": "https://localhost:8080/",
          "height": 119
        },
        "outputId": "010bed1a-8b50-4568-c2a6-b9096a710cea"
      },
      "source": [
        "test_df.isna().sum()"
      ],
      "execution_count": 47,
      "outputs": [
        {
          "output_type": "execute_result",
          "data": {
            "text/plain": [
              "Integer_id     0\n",
              "Title          0\n",
              "Description    0\n",
              "Image_id       0\n",
              "Product_id     0\n",
              "dtype: int64"
            ]
          },
          "metadata": {
            "tags": []
          },
          "execution_count": 47
        }
      ]
    },
    {
      "cell_type": "code",
      "metadata": {
        "id": "SzwPV5Mhjl8O",
        "colab_type": "code",
        "colab": {
          "base_uri": "https://localhost:8080/",
          "height": 17
        },
        "outputId": "61d5c6fd-0584-4524-a2dc-e05c75ec0c35"
      },
      "source": [
        "test_items = tokenize_df(df=test_df, text_cols=['Title', 'Description'], mark_fields=True, tok_func=SpacyTokenizer, lang='fr', res_col_name='text')"
      ],
      "execution_count": 48,
      "outputs": [
        {
          "output_type": "display_data",
          "data": {
            "text/html": [
              ""
            ],
            "text/plain": [
              "<IPython.core.display.HTML object>"
            ]
          },
          "metadata": {
            "tags": []
          }
        }
      ]
    },
    {
      "cell_type": "code",
      "metadata": {
        "id": "jYlK6B-1ibeq",
        "colab_type": "code",
        "colab": {}
      },
      "source": [
        "test_dl = learn_cls.dls.test_dl(test_items=test_items[0])"
      ],
      "execution_count": 0,
      "outputs": []
    },
    {
      "cell_type": "code",
      "metadata": {
        "id": "mBagEPrbkBtr",
        "colab_type": "code",
        "colab": {
          "base_uri": "https://localhost:8080/",
          "height": 1000
        },
        "outputId": "28324a6c-d576-44c4-d032-b599972ae586"
      },
      "source": [
        "test_dl.show_batch()"
      ],
      "execution_count": 50,
      "outputs": [
        {
          "output_type": "display_data",
          "data": {
            "text/html": [
              "<table border=\"1\" class=\"dataframe\">\n",
              "  <thead>\n",
              "    <tr style=\"text-align: right;\">\n",
              "      <th></th>\n",
              "      <th>text</th>\n",
              "    </tr>\n",
              "  </thead>\n",
              "  <tbody>\n",
              "    <tr>\n",
              "      <th>0</th>\n",
              "      <td>xxbos xxfld 1 xxmaj xxunk - 3 xxmaj monster xxmaj truck xxmaj xxunk xxmaj xxunk xxmaj traxxas xxunk 1 / 10 xxmaj brushless xxmaj wireless xxmaj xxunk xxunk xxmaj rtr gris - traxxas xxfld 2 xxunk xxunk xxunk couleur : xxunk / strong xxunk xxmaj gris xxunk / p xxunk xxunk p xxunk xxunk xxup xxunk xxmaj traxxas xxmaj brushless xxunk - 3 xxunk / p xxunk xxunk p xxunk type : xxmaj monster truck xxunk / p xxunk xxunk p xxunk nouveau système xxup xxunk xxunk / p xxunk xxunk p xxunk xxunk : électrique xxmaj brushless xxunk / p xxunk xxunk p xxunk echelle : 1 / 10 xxunk / p xxunk xxunk xxunk roues motrices xxunk / p xxunk xxunk p xxunk xxunk xxunk 3 voies xxunk xxunk / p xxunk xxunk p xxunk xxunk xxmaj traxxas 3 xxrep 3 0 mah 84 xxmaj xxunk xxup id</td>\n",
              "    </tr>\n",
              "    <tr>\n",
              "      <th>1</th>\n",
              "      <td>xxbos xxfld 1 xxmaj castlevania : xxmaj lords xxmaj of xxmaj shadow - xxmaj ultimate xxmaj edition - xxmaj jeu xxmaj en xxmaj téléchargement xxfld 2 xxunk xxunk xxunk xxunk p xxunk xxunk strong xxunk note : xxunk / strong xxunk un compte xxmaj xxunk et une xxunk internet sont xxunk pour xxunk xxunk et utiliser ce produit . xxunk / p xxunk xxmaj ultimate xxmaj edition xxunk xxunk xxunk castlevania : xxmaj lords of xxmaj shadow xxunk / strong xxunk xxunk / xxunk xxunk xxunk ? xxup dlc : xxunk / strong xxunk xxmaj xxunk marque le retour au xxunk château xxunk que xxmaj gabriel tente de xxunk en xxunk à la xxunk xxunk de la reine vampire . xxmaj le téléchargement xxunk trois niveaux et xxunk un xxunk coup de théâtre à xxunk du jeu . xxunk / xxunk xxunk résurrection ? xxup dlc : xxunk / strong</td>\n",
              "    </tr>\n",
              "    <tr>\n",
              "      <th>2</th>\n",
              "      <td>xxbos xxfld 1 xxmaj rollercoaster xxmaj tycoon xxmaj world - xxmaj jeu xxmaj en xxmaj téléchargement xxfld 2 xxup note : xxmaj code xxunk à utiliser xxunk sur un compte xxmaj xxunk xxunk xxunk xxmaj internet xxunk . xxunk xxmaj xxunk xxunk : xxmaj english xxmaj french xxmaj italian xxmaj xxunk xxmaj spanish xxunk - xxunk xxmaj xxunk xxmaj xxunk xxmaj xxunk xxmaj chinese xxmaj japanese xxmaj xxunk xxmaj xxunk xxmaj xxunk xxmaj xxunk xxmaj xxunk xxunk xxunk strong xxunk à xxup propos xxup du xxup jeu xxunk / strong xxunk xxunk b xxunk rollercoaster xxmaj tycoon xxmaj world ? xxunk / b xxunk est le nouvel xxunk de la xxunk xxunk xxup xxunk . xxmaj cette simulation de parc xxunk et de construction xxunk les éléments xxunk des xxunk xxunk que xxunk nouvelles xxunk comme de xxunk xxunk 3d xxunk de grands huit des xxunk xxunk des xxunk xxunk</td>\n",
              "    </tr>\n",
              "    <tr>\n",
              "      <th>3</th>\n",
              "      <td>xxbos xxfld 1 xxmaj train xxmaj simulator : xxmaj xxunk xxmaj xxunk xxmaj railway xxmaj route ( extension xxmaj dlc ) - xxmaj jeu xxmaj en xxmaj téléchargement xxfld 2 xxunk xxunk xxunk xxunk xxunk xxunk note : xxunk / strong xxunk xxmaj xxunk le jeu original xxunk b xxunk train xxmaj simulator xxunk / b xxunk pour xxunk . xxmaj un compte xxmaj xxunk et une xxunk internet sont xxunk pour xxunk xxunk et utiliser ce produit . xxunk / p xxunk xxunk p xxunk jeu en anglais xxunk / p xxunk à propos du jeu xxunk p xxunk le plus long chemin de fer du patrimoine de xxunk xxunk vie dans cette superbe extension xxmaj xxunk xxmaj xxunk xxmaj railway xxmaj route pour xxmaj train xxmaj simulator . xxunk / p xxunk xxunk p xxunk xxunk de ce que est à présent xxunk des lignes de chemin de</td>\n",
              "    </tr>\n",
              "    <tr>\n",
              "      <th>4</th>\n",
              "      <td>xxbos xxfld 1 moakoada ® jouets xxmaj en xxmaj peluche xxmaj jouet xxmaj développement xxmaj chambre xxmaj d' landau xxmaj douce xxmaj peluche xxmaj jouets xxmaj hanging xxmaj son xxfld 2 xxmaj jouets en peluche xxmaj jouet développement xxmaj chambre xxunk xxmaj hanging doux en peluche xxmaj jouets son xxmaj xxunk : xxmaj ce jouet de poussette est fait de peluche en coton doux pour le confort et la sécurité des bébés de nouveaux nés . xxmaj autour des xxunk se fixe xxunk xxunk xxunk poignées de siège bébé shopping poignées de panier xxunk xxunk suspendus lumineux colorés et mignons xxunk aider bébé à xxunk et à xxunk la vision du bébé . xxmaj améliorer la force des activités de main et du poignet et xxunk le développement des xxunk de la main et de xxunk le développement xxunk xxunk du bébé pour xxunk tirer et xxunk . xxmaj non</td>\n",
              "    </tr>\n",
              "    <tr>\n",
              "      <th>5</th>\n",
              "      <td>xxbos xxfld 1 xxmaj armoire xxmaj adhésif xxmaj xxunk xxmaj art xxmaj xxunk xxmaj stickers xxmaj muraux xxmaj sticker xxmaj bricolage xxmaj cuisine xxmaj salle xxmaj de xxmaj bain xxmaj décor xxfld 2 xxmaj armoire adhésif xxmaj xxunk xxmaj art xxunk xxmaj stickers muraux xxmaj sticker bricolage xxmaj cuisine xxmaj salle de bain xxmaj décor xxmaj xxunk du produit xxmaj autocollants xxunk de haute qualité de xxunk image haute xxunk le style européen traditionnel xxunk en haute qualité xxmaj xxunk à la décoration des xxunk décoration de sol décoration des xxunk des décorations de ligne et jupe taille peau xxunk carreaux et &amp; bâton peut être xxunk sur les carreaux de salle de bain carrelage de la cuisine des portes des tiroirs ou toute autre surface lisse . xxmaj simple à coller peut changer le plancher blanc xxunk et xxunk types xxunk xxunk à votre maison un tout nouveau xxunk</td>\n",
              "    </tr>\n",
              "    <tr>\n",
              "      <th>6</th>\n",
              "      <td>xxbos xxfld 1 xxmaj warhammer : xxmaj xxunk 2 - xxmaj xxunk xxmaj of xxmaj magic ( extension xxmaj dlc ) - xxmaj jeu xxmaj en xxmaj téléchargement xxfld 2 xxunk xxunk xxunk xxunk xxunk xxunk note : xxunk / strong xxunk xxmaj xxunk le jeu original xxunk b xxunk warhammer : xxmaj xxunk 2 xxunk / b xxunk pour xxunk . xxmaj un compte xxmaj xxunk et une xxunk internet sont xxunk pour xxunk xxunk et utiliser ce produit . xxunk / p xxunk à propos du jeu xxunk p xxunk la première extension de xxmaj warhammer : xxmaj xxunk 2 xxunk une toute nouvelle xxunk xxunk et de nouveaux xxunk au jeu . xxmaj xxunk xxunk xxunk dans le xxmaj xxunk des xxunk xxunk des xxunk de la forêt de xxmaj xxunk et se xxunk vers son xxunk xxunk de le xxunk comme une pierre des xxmaj xxunk</td>\n",
              "    </tr>\n",
              "    <tr>\n",
              "      <th>7</th>\n",
              "      <td>xxbos xxfld 1 xxmaj contrôleur xxmaj de xxmaj charge xxmaj double xxmaj xxunk xxmaj usb xxmaj station xxmaj de xxmaj recharge xxmaj rapide xxmaj pour xxmaj ps4 / xxmaj ps4 xxmaj pro / xxmaj slim xxmaj quickio xxfld 2 xxmaj contrôleur de charge double xxup usb xxmaj station de recharge rapide xxmaj xxunk xxmaj pour playstation xxup ps4 / xxmaj ps4 pro / xxup ps4 xxmaj slim xxmaj xxunk xxmaj pour xxup ps4 xxmaj contrôleur de charge xxmaj xxunk xxup usb xxmaj station de recharge rapide double double port micro xxup usb - xxmaj xxunk vous chargeur deux pour les xxunk de xxup ps4 xxunk sans xxunk à les xxunk à xxmaj pour xxup ps4 système . xxmaj quatre xxunk antidérapants pour xxunk xxunk xxunk xxunk la station de charge du mal xxunk . xxmaj xxunk xxmaj store - ports xxup usb standard xxmaj micro double avec le pad anti-rayures</td>\n",
              "    </tr>\n",
              "    <tr>\n",
              "      <th>8</th>\n",
              "      <td>xxbos xxfld 1 xxmaj siège xxmaj auto xxmaj xxunk xxunk - fix xxmaj gray xxmaj rabbit 2017 xxfld 2 xxunk h2 xxunk siège auto xxmaj xxunk xxunk - fix xxmaj gray xxmaj rabbit 2017 xxunk / xxunk xxunk xxunk du siège auto xxmaj xxunk xxunk - fix xxunk / xxunk xxunk siège auto du groupe 1 xxunk d' un bouclier le xxup xxunk xxmaj xxunk a xxunk la note « très bien » aux xxunk xxunk par xxmaj xxunk . xxmaj pour les enfants de 3 ans ou plus le siège auto peut être xxunk xxunk en siège du groupe 2 / 3 . xxunk / xxunk xxunk bouclier ajustable ( xxunk ) xxunk / xxunk xxunk dossier inclinable xxunk / xxunk xxunk insert de siège amovible xxunk / xxunk xxunk protection xxmaj xxunk contre les xxmaj xxunk xxmaj xxunk ( système xxup xxunk . ) xxunk / xxunk xxunk</td>\n",
              "    </tr>\n",
              "  </tbody>\n",
              "</table>"
            ],
            "text/plain": [
              "<IPython.core.display.HTML object>"
            ]
          },
          "metadata": {
            "tags": []
          }
        }
      ]
    },
    {
      "cell_type": "code",
      "metadata": {
        "id": "Mumvlxc5kZQF",
        "colab_type": "code",
        "colab": {
          "base_uri": "https://localhost:8080/",
          "height": 136
        },
        "outputId": "5f892347-2c94-414e-e531-fca8ce4e1099"
      },
      "source": [
        "test_dl.one_batch()"
      ],
      "execution_count": 51,
      "outputs": [
        {
          "output_type": "execute_result",
          "data": {
            "text/plain": [
              "(TensorText([[  2,   4,   9,  ...,  13, 892,   0],\n",
              "         [  2,   4,   9,  ...,   1,   1,   1],\n",
              "         [  1,   1,   1,  ...,   1,   1,   1],\n",
              "         ...,\n",
              "         [  1,   1,   1,  ...,   1,   1,   1],\n",
              "         [  1,   1,   1,  ...,   1,   1,   1],\n",
              "         [  1,   1,   1,  ...,   1,   1,   1]], device='cuda:0'),)"
            ]
          },
          "metadata": {
            "tags": []
          },
          "execution_count": 51
        }
      ]
    },
    {
      "cell_type": "code",
      "metadata": {
        "id": "G19g2AJskJ6Y",
        "colab_type": "code",
        "colab": {
          "base_uri": "https://localhost:8080/",
          "height": 17
        },
        "outputId": "a1004958-14c8-4e8b-831a-ec6bdd240c55"
      },
      "source": [
        "preds_raw, _, preds = learn_cls.get_preds(dl=test_dl, with_decoded=True)"
      ],
      "execution_count": 52,
      "outputs": [
        {
          "output_type": "display_data",
          "data": {
            "text/html": [
              ""
            ],
            "text/plain": [
              "<IPython.core.display.HTML object>"
            ]
          },
          "metadata": {
            "tags": []
          }
        }
      ]
    },
    {
      "cell_type": "code",
      "metadata": {
        "id": "0p-tFFoOmGtX",
        "colab_type": "code",
        "colab": {
          "base_uri": "https://localhost:8080/",
          "height": 34
        },
        "outputId": "18760f19-bbca-49f8-fd46-d749f1b32f05"
      },
      "source": [
        "learn_cls.dls.categorize.vocab"
      ],
      "execution_count": 53,
      "outputs": [
        {
          "output_type": "execute_result",
          "data": {
            "text/plain": [
              "(#27) [10,40,50,60,1140,1160,1180,1280,1281,1300...]"
            ]
          },
          "metadata": {
            "tags": []
          },
          "execution_count": 53
        }
      ]
    },
    {
      "cell_type": "code",
      "metadata": {
        "id": "Io3QduCNlkjO",
        "colab_type": "code",
        "colab": {
          "base_uri": "https://localhost:8080/",
          "height": 34
        },
        "outputId": "17abd24e-7cba-4efb-bde4-b2ff81f7e179"
      },
      "source": [
        "learn_cls.dls.categorize.vocab[preds]"
      ],
      "execution_count": 54,
      "outputs": [
        {
          "output_type": "execute_result",
          "data": {
            "text/plain": [
              "(#937) [1300,2583,2585,2585,2522,2280,2220,1302,2585,2585...]"
            ]
          },
          "metadata": {
            "tags": []
          },
          "execution_count": 54
        }
      ]
    },
    {
      "cell_type": "code",
      "metadata": {
        "id": "uqXW2Hk6k6AI",
        "colab_type": "code",
        "colab": {}
      },
      "source": [
        "test_df['Prdtypecode'] = learn_cls.dls.categorize.vocab[preds]"
      ],
      "execution_count": 0,
      "outputs": []
    },
    {
      "cell_type": "code",
      "metadata": {
        "id": "f_MbSJJdlS_y",
        "colab_type": "code",
        "colab": {
          "base_uri": "https://localhost:8080/",
          "height": 1000
        },
        "outputId": "3326e73a-2b43-4ede-973b-0c9a1a782e34"
      },
      "source": [
        "test_df.head()"
      ],
      "execution_count": 58,
      "outputs": [
        {
          "output_type": "execute_result",
          "data": {
            "text/html": [
              "<div>\n",
              "<style scoped>\n",
              "    .dataframe tbody tr th:only-of-type {\n",
              "        vertical-align: middle;\n",
              "    }\n",
              "\n",
              "    .dataframe tbody tr th {\n",
              "        vertical-align: top;\n",
              "    }\n",
              "\n",
              "    .dataframe thead th {\n",
              "        text-align: right;\n",
              "    }\n",
              "</style>\n",
              "<table border=\"1\" class=\"dataframe\">\n",
              "  <thead>\n",
              "    <tr style=\"text-align: right;\">\n",
              "      <th></th>\n",
              "      <th>Integer_id</th>\n",
              "      <th>Title</th>\n",
              "      <th>Description</th>\n",
              "      <th>Image_id</th>\n",
              "      <th>Product_id</th>\n",
              "      <th>preds</th>\n",
              "      <th>Prdtypecode</th>\n",
              "    </tr>\n",
              "  </thead>\n",
              "  <tbody>\n",
              "    <tr>\n",
              "      <th>0</th>\n",
              "      <td>0</td>\n",
              "      <td>Jeep Police - Gevarm-Gevarm</td>\n",
              "      <td></td>\n",
              "      <td>1193217616</td>\n",
              "      <td>3136702026</td>\n",
              "      <td>1300</td>\n",
              "      <td>1300</td>\n",
              "    </tr>\n",
              "    <tr>\n",
              "      <th>1</th>\n",
              "      <td>1</td>\n",
              "      <td>Court Joyeux Noël En Peluche Taie Sofa Set Pad Décoration 18x18 Pouces Pillow Case 28537</td>\n",
              "      <td>Joyeux Noël en peluche court Taie Sofa Set Pad Décoration 18x18 pouces Spécification: Matériel: style court peluche: Taille de mode (approx.): 45x45cm La taille peut avoir un écart de 0.5-2cm en raison de produit par date. Entretien: Lavable à la main ou lavage à l&amp;#39;eau froide au cycle délicat. Ne pas utiliser l&amp;#39;eau de Javel. Fermeture à glissière cachée. Insérer est vendu séparément Il peut être utilisé pour décorer le salon faire paraître à la maison chaleur plus confortable. Remarque: S&amp;#39;il vous plaît permettre erreur mineure en raison de la mesure manuelle. En raison de la di...</td>\n",
              "      <td>1323615566</td>\n",
              "      <td>4231863665</td>\n",
              "      <td>2583</td>\n",
              "      <td>2583</td>\n",
              "    </tr>\n",
              "    <tr>\n",
              "      <th>2</th>\n",
              "      <td>2</td>\n",
              "      <td>Sauna infrarouge Largo - 170 x 105 x 190 - Pin blanc</td>\n",
              "      <td>Dimensions : 150x105x190 cm ou 170x105x190 cm //// Nombre de places : 2 - 3 places assises //// Extérieur : Au choix : érable ou pin blanc ou cèdre rouge //// Intérieur : Au choix : érable ou pin blanc ou cèdre rouge //// Verre : Verre trempé 8-10 mm //// Température ajustable : Oui //// Contrôles et réglages : Panneau de commande tactile GD530 //// Multimédia : Radio station à mémoire avec connexion CD //// Poêle : Conduite chauffante //// Lumières : Lampe à lumière colorée Panneau en bois rétroéclairé.</td>\n",
              "      <td>1158121321</td>\n",
              "      <td>2695198357</td>\n",
              "      <td>2585</td>\n",
              "      <td>2585</td>\n",
              "    </tr>\n",
              "    <tr>\n",
              "      <th>3</th>\n",
              "      <td>3</td>\n",
              "      <td>BAGUE POUR LAME SOUS-SOLEUSE G. ET D.</td>\n",
              "      <td></td>\n",
              "      <td>1096607258</td>\n",
              "      <td>1657064583</td>\n",
              "      <td>2585</td>\n",
              "      <td>2585</td>\n",
              "    </tr>\n",
              "    <tr>\n",
              "      <th>4</th>\n",
              "      <td>4</td>\n",
              "      <td>Carnet De Notes Bloc-Notes Cahierindian Squelette Flamen Pr¿º Tre Sacrifice Totem Taustration Sch¿¿Ma Les Carnets De Travail Classique Sur Support Papier Cadeau Tissu</td>\n",
              "      <td>Taille: En format A5 (144 cm x 21 cm) Caract¿¿ristique: -Excellente durabilit¿¿ avec couverture solide design. 96 pages jaune pale (recto et verso) -Texture de papier de haute qualit¿¿:  ¿¿crire facilement sur et assez ¿¿paisse.</td>\n",
              "      <td>1303625028</td>\n",
              "      <td>4159071068</td>\n",
              "      <td>2522</td>\n",
              "      <td>2522</td>\n",
              "    </tr>\n",
              "  </tbody>\n",
              "</table>\n",
              "</div>"
            ],
            "text/plain": [
              "   Integer_id  ... Prdtypecode\n",
              "0           0  ...        1300\n",
              "1           1  ...        2583\n",
              "2           2  ...        2585\n",
              "3           3  ...        2585\n",
              "4           4  ...        2522\n",
              "\n",
              "[5 rows x 7 columns]"
            ]
          },
          "metadata": {
            "tags": []
          },
          "execution_count": 58
        }
      ]
    },
    {
      "cell_type": "code",
      "metadata": {
        "id": "wlYVTTs8lUnT",
        "colab_type": "code",
        "colab": {}
      },
      "source": [
        "test_df[['Integer_id', 'Image_id', 'Product_id', 'Prdtypecode']].to_csv('y_test_task1_phase1_pred.tsv', index=False, sep='\\t')"
      ],
      "execution_count": 0,
      "outputs": []
    },
    {
      "cell_type": "code",
      "metadata": {
        "id": "YH1ItvPCnKPr",
        "colab_type": "code",
        "colab": {}
      },
      "source": [
        "TASK1_EVAL_COL = \"Prdtypecode\"\n",
        "TASK2_EVAL_COL = \"Image_id\"\n",
        "def evaluate_task_1(y_pred, y_test):\n",
        "    y_test_array = np.array(y_pred[TASK1_EVAL_COL])\n",
        "    y_pred_array = np.array(y_test[TASK1_EVAL_COL])\n",
        "\n",
        "    score = f1_score(y_test_array, y_pred_array, average=\"macro\")\n",
        "\n",
        "    return score"
      ],
      "execution_count": 0,
      "outputs": []
    },
    {
      "cell_type": "code",
      "metadata": {
        "id": "1rFPdi9CpN-y",
        "colab_type": "code",
        "colab": {}
      },
      "source": [
        ""
      ],
      "execution_count": 0,
      "outputs": []
    }
  ]
}