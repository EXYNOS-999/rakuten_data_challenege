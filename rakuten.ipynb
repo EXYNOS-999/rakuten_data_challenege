{
  "nbformat": 4,
  "nbformat_minor": 0,
  "metadata": {
    "colab": {
      "name": "rakuten.ipynb",
      "provenance": [],
      "collapsed_sections": [],
      "authorship_tag": "ABX9TyPbcvqzdSDzE/DL3btplHdN"
    },
    "kernelspec": {
      "name": "python3",
      "display_name": "Python 3"
    }
  },
  "cells": [
    {
      "cell_type": "markdown",
      "metadata": {
        "id": "ojVNxYojvluc",
        "colab_type": "text"
      },
      "source": [
        "## CORE"
      ]
    },
    {
      "cell_type": "code",
      "metadata": {
        "id": "_ECpdOsxvpIL",
        "colab_type": "code",
        "colab": {
          "base_uri": "https://localhost:8080/",
          "height": 34
        },
        "outputId": "b35966d8-763b-4dfe-be2a-5bd6f2dae7f5"
      },
      "source": [
        "!pip install fastcore fastai2 -q"
      ],
      "execution_count": 13,
      "outputs": [
        {
          "output_type": "stream",
          "text": [
            "\u001b[?25l\r\u001b[K     |█▊                              | 10kB 28.4MB/s eta 0:00:01\r\u001b[K     |███▌                            | 20kB 6.1MB/s eta 0:00:01\r\u001b[K     |█████▏                          | 30kB 6.6MB/s eta 0:00:01\r\u001b[K     |███████                         | 40kB 7.9MB/s eta 0:00:01\r\u001b[K     |████████▋                       | 51kB 5.9MB/s eta 0:00:01\r\u001b[K     |██████████▍                     | 61kB 6.8MB/s eta 0:00:01\r\u001b[K     |████████████                    | 71kB 7.8MB/s eta 0:00:01\r\u001b[K     |█████████████▉                  | 81kB 8.2MB/s eta 0:00:01\r\u001b[K     |███████████████▌                | 92kB 7.2MB/s eta 0:00:01\r\u001b[K     |█████████████████▎              | 102kB 7.8MB/s eta 0:00:01\r\u001b[K     |███████████████████             | 112kB 7.8MB/s eta 0:00:01\r\u001b[K     |████████████████████▊           | 122kB 7.8MB/s eta 0:00:01\r\u001b[K     |██████████████████████▍         | 133kB 7.8MB/s eta 0:00:01\r\u001b[K     |████████████████████████▏       | 143kB 7.8MB/s eta 0:00:01\r\u001b[K     |█████████████████████████▉      | 153kB 7.8MB/s eta 0:00:01\r\u001b[K     |███████████████████████████▋    | 163kB 7.8MB/s eta 0:00:01\r\u001b[K     |█████████████████████████████▎  | 174kB 7.8MB/s eta 0:00:01\r\u001b[K     |███████████████████████████████ | 184kB 7.8MB/s eta 0:00:01\r\u001b[K     |████████████████████████████████| 194kB 7.8MB/s \n",
            "\u001b[?25h"
          ],
          "name": "stdout"
        }
      ]
    },
    {
      "cell_type": "code",
      "metadata": {
        "id": "_8n-epaRvstb",
        "colab_type": "code",
        "colab": {}
      },
      "source": [
        "from fastcore.foundation import *\n",
        "from fastai2.vision.all import *\n",
        "import pathlib"
      ],
      "execution_count": 0,
      "outputs": []
    },
    {
      "cell_type": "code",
      "metadata": {
        "id": "NRNfH41qvya5",
        "colab_type": "code",
        "colab": {}
      },
      "source": [
        "@patch\n",
        "def ls(x: pathlib.Path):\n",
        "    return list(x.iterdir())"
      ],
      "execution_count": 0,
      "outputs": []
    },
    {
      "cell_type": "markdown",
      "metadata": {
        "id": "yQNK70EuxrRr",
        "colab_type": "text"
      },
      "source": [
        "## Colab_setup"
      ]
    },
    {
      "cell_type": "code",
      "metadata": {
        "id": "RiTyipOvcPQA",
        "colab_type": "code",
        "colab": {}
      },
      "source": [
        "import os\n",
        "\n",
        "from pathlib import Path\n",
        "from google.colab import drive"
      ],
      "execution_count": 0,
      "outputs": []
    },
    {
      "cell_type": "code",
      "metadata": {
        "id": "nipZBIQ2amuD",
        "colab_type": "code",
        "colab": {}
      },
      "source": [
        "def create_path(path):\n",
        "    if not os.path.isdir(path):\n",
        "        path.mkdir(parents=True, exist_ok=True)\n",
        "    return path"
      ],
      "execution_count": 0,
      "outputs": []
    },
    {
      "cell_type": "code",
      "metadata": {
        "id": "GdKS3nNT0IKp",
        "colab_type": "code",
        "outputId": "78ddad80-8a25-4191-95a9-5b4ef2575bc5",
        "colab": {
          "base_uri": "https://localhost:8080/",
          "height": 70
        }
      },
      "source": [
        "from google.colab import drive\n",
        "drive.mount('/content/drive')\n",
        "root_dir = Path('/content/drive/My Drive')\n",
        "base_path = create_path(root_dir/'Rakuten')\n",
        "base_path"
      ],
      "execution_count": 8,
      "outputs": [
        {
          "output_type": "stream",
          "text": [
            "Drive already mounted at /content/drive; to attempt to forcibly remount, call drive.mount(\"/content/drive\", force_remount=True).\n"
          ],
          "name": "stdout"
        },
        {
          "output_type": "execute_result",
          "data": {
            "text/plain": [
              "Path('/content/drive/My Drive/Rakuten')"
            ]
          },
          "metadata": {
            "tags": []
          },
          "execution_count": 8
        }
      ]
    },
    {
      "cell_type": "code",
      "metadata": {
        "id": "oIXgl6523wqb",
        "colab_type": "code",
        "colab": {}
      },
      "source": [
        "colab_path = Path('/content')"
      ],
      "execution_count": 0,
      "outputs": []
    },
    {
      "cell_type": "code",
      "metadata": {
        "id": "8BTdMY8caahd",
        "colab_type": "code",
        "colab": {}
      },
      "source": [
        "data_path = create_path(base_path/'dataset')"
      ],
      "execution_count": 0,
      "outputs": []
    },
    {
      "cell_type": "code",
      "metadata": {
        "id": "Gw59N97DV63P",
        "colab_type": "code",
        "colab": {}
      },
      "source": [
        "model_path = create_path(base_path/'models')"
      ],
      "execution_count": 0,
      "outputs": []
    },
    {
      "cell_type": "code",
      "metadata": {
        "id": "fOGLsdjCx8kE",
        "colab_type": "code",
        "colab": {}
      },
      "source": [
        "# shutil.rmtree(data_path)"
      ],
      "execution_count": 0,
      "outputs": []
    },
    {
      "cell_type": "markdown",
      "metadata": {
        "id": "KTjrkANjx9tM",
        "colab_type": "text"
      },
      "source": [
        "## download data"
      ]
    },
    {
      "cell_type": "code",
      "metadata": {
        "id": "KmrUf9jQy7UK",
        "colab_type": "code",
        "colab": {}
      },
      "source": [
        "os.chdir(data_path)\n",
        "# data_url = \"'http://rakutendatachallenge.net/downloads/496da313-4b78-43e7-81bb-320e74670087/sigir-2020-ecomdc-release-phase1.tgz'\"\n",
        "# !wget {data_url} -O 'temp.tgz'"
      ],
      "execution_count": 0,
      "outputs": []
    },
    {
      "cell_type": "code",
      "metadata": {
        "id": "hCYXKpXx9Ue7",
        "colab_type": "code",
        "colab": {
          "base_uri": "https://localhost:8080/",
          "height": 67
        },
        "outputId": "cdcea8a3-8096-49c4-9d14-b5f3e0d89dc2"
      },
      "source": [
        "data_path.ls()"
      ],
      "execution_count": 13,
      "outputs": [
        {
          "output_type": "execute_result",
          "data": {
            "text/plain": [
              "[Path('/content/drive/My Drive/Rakuten/dataset/temp.tgz'),\n",
              " Path('/content/drive/My Drive/Rakuten/dataset/._SIGIR-2020-EComDC-release'),\n",
              " Path('/content/drive/My Drive/Rakuten/dataset/SIGIR-2020-EComDC-release')]"
            ]
          },
          "metadata": {
            "tags": []
          },
          "execution_count": 13
        }
      ]
    },
    {
      "cell_type": "code",
      "metadata": {
        "id": "PMhQRUE0zfTR",
        "colab_type": "code",
        "colab": {}
      },
      "source": [
        "!tar -xzf '/content/drive/My Drive/Rakuten/dataset/temp.tgz' -C '/content/'"
      ],
      "execution_count": 0,
      "outputs": []
    },
    {
      "cell_type": "code",
      "metadata": {
        "id": "ABOa7GeA6_ZD",
        "colab_type": "code",
        "colab": {
          "base_uri": "https://localhost:8080/",
          "height": 118
        },
        "outputId": "61988c7d-5bdf-4bcc-b751-0be301ad138a"
      },
      "source": [
        "(colab_path/'SIGIR-2020-EComDC-release').ls()"
      ],
      "execution_count": 16,
      "outputs": [
        {
          "output_type": "execute_result",
          "data": {
            "text/plain": [
              "[Path('/content/SIGIR-2020-EComDC-release/._.DS_Store'),\n",
              " Path('/content/SIGIR-2020-EComDC-release/image'),\n",
              " Path('/content/SIGIR-2020-EComDC-release/data'),\n",
              " Path('/content/SIGIR-2020-EComDC-release/._image'),\n",
              " Path('/content/SIGIR-2020-EComDC-release/._data'),\n",
              " Path('/content/SIGIR-2020-EComDC-release/.DS_Store')]"
            ]
          },
          "metadata": {
            "tags": []
          },
          "execution_count": 16
        }
      ]
    },
    {
      "cell_type": "code",
      "metadata": {
        "id": "jIxRnejCzHMU",
        "colab_type": "code",
        "colab": {}
      },
      "source": [
        "# eval_url = \"'http://rakutendatachallenge.net/downloads/496da313-4b78-43e7-81bb-320e74670087/eval_script.py'\"\n",
        "# !wget -q {eval_url}\n",
        "# os.chdir(colab_path)"
      ],
      "execution_count": 0,
      "outputs": []
    },
    {
      "cell_type": "markdown",
      "metadata": {
        "id": "SHYFY6mH6H8E",
        "colab_type": "text"
      },
      "source": [
        "## EDA"
      ]
    },
    {
      "cell_type": "markdown",
      "metadata": {
        "id": "9Uj3x56WNwiy",
        "colab_type": "text"
      },
      "source": [
        "As see in the competition paper\n",
        "\n",
        "> The dataset consists of product titles,product descriptions,product images and their corresponding product type code\n",
        "\n"
      ]
    },
    {
      "cell_type": "code",
      "metadata": {
        "id": "jVq9Lu3cKaOr",
        "colab_type": "code",
        "colab": {}
      },
      "source": [
        "path = colab_path/'SIGIR-2020-EComDC-release'"
      ],
      "execution_count": 0,
      "outputs": []
    },
    {
      "cell_type": "code",
      "metadata": {
        "id": "N8OqMSmzKunA",
        "colab_type": "code",
        "colab": {
          "base_uri": "https://localhost:8080/",
          "height": 218
        },
        "outputId": "9c975f15-0165-4ede-c1c5-be9e17e65ab5"
      },
      "source": [
        "(path/'data').ls()"
      ],
      "execution_count": 22,
      "outputs": [
        {
          "output_type": "execute_result",
          "data": {
            "text/plain": [
              "[Path('/content/SIGIR-2020-EComDC-release/data/._.DS_Store'),\n",
              " Path('/content/SIGIR-2020-EComDC-release/data/._x_test_task1_phase1.tsv'),\n",
              " Path('/content/SIGIR-2020-EComDC-release/data/._x_test_task2_phase1.tsv'),\n",
              " Path('/content/SIGIR-2020-EComDC-release/data/._catalog_english_taxonomy.tsv'),\n",
              " Path('/content/SIGIR-2020-EComDC-release/data/x_test_task1_phase1.tsv'),\n",
              " Path('/content/SIGIR-2020-EComDC-release/data/X_train.tsv'),\n",
              " Path('/content/SIGIR-2020-EComDC-release/data/._X_train.tsv'),\n",
              " Path('/content/SIGIR-2020-EComDC-release/data/Y_train.tsv'),\n",
              " Path('/content/SIGIR-2020-EComDC-release/data/._Y_train.tsv'),\n",
              " Path('/content/SIGIR-2020-EComDC-release/data/catalog_english_taxonomy.tsv'),\n",
              " Path('/content/SIGIR-2020-EComDC-release/data/.DS_Store'),\n",
              " Path('/content/SIGIR-2020-EComDC-release/data/x_test_task2_phase1.tsv')]"
            ]
          },
          "metadata": {
            "tags": []
          },
          "execution_count": 22
        }
      ]
    },
    {
      "cell_type": "code",
      "metadata": {
        "id": "E5ccyL2s6J9C",
        "colab_type": "code",
        "colab": {
          "base_uri": "https://localhost:8080/",
          "height": 1000
        },
        "outputId": "22859c3e-4f44-4bc2-8622-c236eb0955a6"
      },
      "source": [
        "x_train = pd.read_csv(path/'data/X_train.tsv', sep='\\t'); x_train.head(2)"
      ],
      "execution_count": 23,
      "outputs": [
        {
          "output_type": "execute_result",
          "data": {
            "text/html": [
              "<div>\n",
              "<style scoped>\n",
              "    .dataframe tbody tr th:only-of-type {\n",
              "        vertical-align: middle;\n",
              "    }\n",
              "\n",
              "    .dataframe tbody tr th {\n",
              "        vertical-align: top;\n",
              "    }\n",
              "\n",
              "    .dataframe thead th {\n",
              "        text-align: right;\n",
              "    }\n",
              "</style>\n",
              "<table border=\"1\" class=\"dataframe\">\n",
              "  <thead>\n",
              "    <tr style=\"text-align: right;\">\n",
              "      <th></th>\n",
              "      <th>Integer_id</th>\n",
              "      <th>Title</th>\n",
              "      <th>Description</th>\n",
              "      <th>Image_id</th>\n",
              "      <th>Product_id</th>\n",
              "    </tr>\n",
              "  </thead>\n",
              "  <tbody>\n",
              "    <tr>\n",
              "      <th>0</th>\n",
              "      <td>0</td>\n",
              "      <td>Olivia: Personalisiertes Notizbuch / 150 Seiten / Punktraster / Ca Din A5 / Rosen-Design</td>\n",
              "      <td>NaN</td>\n",
              "      <td>1263597046</td>\n",
              "      <td>3804725264</td>\n",
              "    </tr>\n",
              "    <tr>\n",
              "      <th>1</th>\n",
              "      <td>1</td>\n",
              "      <td>Journal Des Arts (Le) N° 133 Du 28/09/2001 - L'art Et Son Marche Salon D'art Asiatique A Paris - Jacques Barrere - Francois Perrier - La Reforme Des Ventes Aux Encheres Publiques - Le Sna Fete Ses Cent Ans.</td>\n",
              "      <td>NaN</td>\n",
              "      <td>1008141237</td>\n",
              "      <td>436067568</td>\n",
              "    </tr>\n",
              "    <tr>\n",
              "      <th>2</th>\n",
              "      <td>2</td>\n",
              "      <td>Grand Stylet Ergonomique Bleu Gamepad Nintendo Wii U - Speedlink Pilot Style</td>\n",
              "      <td>PILOT STYLE Touch Pen de marque Speedlink est 1 stylet ergonomique pour GamePad Nintendo Wii U.&lt;br&gt; Pour un confort optimal et une précision maximale sur le GamePad de la Wii U: ce grand stylet hautement ergonomique est non seulement parfaitement adapté à votre main mais aussi très élégant.&lt;br&gt; Il est livré avec un support qui se fixe sans adhésif à l'arrière du GamePad&lt;br&gt; &lt;br&gt; Caractéristiques:&lt;br&gt; Modèle: Speedlink PILOT STYLE Touch Pen&lt;br&gt; Couleur: Bleu&lt;br&gt; Ref. Fabricant: SL-3468-BE&lt;br&gt; Compatibilité: GamePad Nintendo Wii U&lt;br&gt; Forme particulièrement ergonomique excellente tenue en ma...</td>\n",
              "      <td>938777978</td>\n",
              "      <td>201115110</td>\n",
              "    </tr>\n",
              "    <tr>\n",
              "      <th>3</th>\n",
              "      <td>3</td>\n",
              "      <td>Peluche Donald - Europe - Disneyland 2000 (Marionnette À Doigt)</td>\n",
              "      <td>NaN</td>\n",
              "      <td>457047496</td>\n",
              "      <td>50418756</td>\n",
              "    </tr>\n",
              "    <tr>\n",
              "      <th>4</th>\n",
              "      <td>4</td>\n",
              "      <td>La Guerre Des Tuques</td>\n",
              "      <td>Luc a des id&amp;eacute;es de grandeur. Il veut organiser un jeu de guerre de boules de neige et s'arranger pour en &amp;ecirc;tre le vainqueur incontest&amp;eacute;. Mais Sophie s'en m&amp;ecirc;le et chambarde tous ses plans...</td>\n",
              "      <td>1077757786</td>\n",
              "      <td>278535884</td>\n",
              "    </tr>\n",
              "  </tbody>\n",
              "</table>\n",
              "</div>"
            ],
            "text/plain": [
              "   Integer_id  ...  Product_id\n",
              "0           0  ...  3804725264\n",
              "1           1  ...   436067568\n",
              "2           2  ...   201115110\n",
              "3           3  ...    50418756\n",
              "4           4  ...   278535884\n",
              "\n",
              "[5 rows x 5 columns]"
            ]
          },
          "metadata": {
            "tags": []
          },
          "execution_count": 23
        }
      ]
    },
    {
      "cell_type": "code",
      "metadata": {
        "id": "43EQCx2X6f6O",
        "colab_type": "code",
        "colab": {
          "base_uri": "https://localhost:8080/",
          "height": 195
        },
        "outputId": "71dd5078-53c0-4d72-a5bc-06c54ed25167"
      },
      "source": [
        "y_train = pd.read_csv(path/'data/Y_train.tsv', sep='\\t'); y_train.head()"
      ],
      "execution_count": 26,
      "outputs": [
        {
          "output_type": "execute_result",
          "data": {
            "text/html": [
              "<div>\n",
              "<style scoped>\n",
              "    .dataframe tbody tr th:only-of-type {\n",
              "        vertical-align: middle;\n",
              "    }\n",
              "\n",
              "    .dataframe tbody tr th {\n",
              "        vertical-align: top;\n",
              "    }\n",
              "\n",
              "    .dataframe thead th {\n",
              "        text-align: right;\n",
              "    }\n",
              "</style>\n",
              "<table border=\"1\" class=\"dataframe\">\n",
              "  <thead>\n",
              "    <tr style=\"text-align: right;\">\n",
              "      <th></th>\n",
              "      <th>Integer_id</th>\n",
              "      <th>Image_id</th>\n",
              "      <th>Product_id</th>\n",
              "      <th>Prdtypecode</th>\n",
              "    </tr>\n",
              "  </thead>\n",
              "  <tbody>\n",
              "    <tr>\n",
              "      <th>0</th>\n",
              "      <td>0</td>\n",
              "      <td>1263597046</td>\n",
              "      <td>3804725264</td>\n",
              "      <td>10</td>\n",
              "    </tr>\n",
              "    <tr>\n",
              "      <th>1</th>\n",
              "      <td>1</td>\n",
              "      <td>1008141237</td>\n",
              "      <td>436067568</td>\n",
              "      <td>2280</td>\n",
              "    </tr>\n",
              "    <tr>\n",
              "      <th>2</th>\n",
              "      <td>2</td>\n",
              "      <td>938777978</td>\n",
              "      <td>201115110</td>\n",
              "      <td>50</td>\n",
              "    </tr>\n",
              "    <tr>\n",
              "      <th>3</th>\n",
              "      <td>3</td>\n",
              "      <td>457047496</td>\n",
              "      <td>50418756</td>\n",
              "      <td>1280</td>\n",
              "    </tr>\n",
              "    <tr>\n",
              "      <th>4</th>\n",
              "      <td>4</td>\n",
              "      <td>1077757786</td>\n",
              "      <td>278535884</td>\n",
              "      <td>2705</td>\n",
              "    </tr>\n",
              "  </tbody>\n",
              "</table>\n",
              "</div>"
            ],
            "text/plain": [
              "   Integer_id    Image_id  Product_id  Prdtypecode\n",
              "0           0  1263597046  3804725264           10\n",
              "1           1  1008141237   436067568         2280\n",
              "2           2   938777978   201115110           50\n",
              "3           3   457047496    50418756         1280\n",
              "4           4  1077757786   278535884         2705"
            ]
          },
          "metadata": {
            "tags": []
          },
          "execution_count": 26
        }
      ]
    },
    {
      "cell_type": "code",
      "metadata": {
        "id": "9N9VG-8xSZij",
        "colab_type": "code",
        "colab": {
          "base_uri": "https://localhost:8080/",
          "height": 106
        },
        "outputId": "ec8f6378-49ac-408f-8c35-1e88fc815c31"
      },
      "source": [
        "id2cat_df = pd.read_csv(path/'data/catalog_english_taxonomy.tsv', sep='\\t'); id2cat_df.sample(2)"
      ],
      "execution_count": 64,
      "outputs": [
        {
          "output_type": "execute_result",
          "data": {
            "text/html": [
              "<div>\n",
              "<style scoped>\n",
              "    .dataframe tbody tr th:only-of-type {\n",
              "        vertical-align: middle;\n",
              "    }\n",
              "\n",
              "    .dataframe tbody tr th {\n",
              "        vertical-align: top;\n",
              "    }\n",
              "\n",
              "    .dataframe thead th {\n",
              "        text-align: right;\n",
              "    }\n",
              "</style>\n",
              "<table border=\"1\" class=\"dataframe\">\n",
              "  <thead>\n",
              "    <tr style=\"text-align: right;\">\n",
              "      <th></th>\n",
              "      <th>Prdtypecode</th>\n",
              "      <th>Top level category</th>\n",
              "    </tr>\n",
              "  </thead>\n",
              "  <tbody>\n",
              "    <tr>\n",
              "      <th>21</th>\n",
              "      <td>60</td>\n",
              "      <td>Entertainment</td>\n",
              "    </tr>\n",
              "    <tr>\n",
              "      <th>20</th>\n",
              "      <td>50</td>\n",
              "      <td>Entertainment</td>\n",
              "    </tr>\n",
              "  </tbody>\n",
              "</table>\n",
              "</div>"
            ],
            "text/plain": [
              "    Prdtypecode Top level category\n",
              "21           60      Entertainment\n",
              "20           50      Entertainment"
            ]
          },
          "metadata": {
            "tags": []
          },
          "execution_count": 64
        }
      ]
    },
    {
      "cell_type": "code",
      "metadata": {
        "id": "Ud8xC3orXF3-",
        "colab_type": "code",
        "colab": {
          "base_uri": "https://localhost:8080/",
          "height": 34
        },
        "outputId": "95955e0d-ef2b-4722-fcaa-71e54d7abbe2"
      },
      "source": [
        "id2cat_df['Top level category'].unique()"
      ],
      "execution_count": 82,
      "outputs": [
        {
          "output_type": "execute_result",
          "data": {
            "text/plain": [
              "array(['Child', 'Household', 'Entertainment', 'Books'], dtype=object)"
            ]
          },
          "metadata": {
            "tags": []
          },
          "execution_count": 82
        }
      ]
    },
    {
      "cell_type": "code",
      "metadata": {
        "id": "b-rrVR9tOM3V",
        "colab_type": "code",
        "colab": {
          "base_uri": "https://localhost:8080/",
          "height": 34
        },
        "outputId": "8186f10a-cb95-468c-cefa-65181246140c"
      },
      "source": [
        "x_train.shape, y_train.shape"
      ],
      "execution_count": 27,
      "outputs": [
        {
          "output_type": "execute_result",
          "data": {
            "text/plain": [
              "((84916, 5), (84916, 4))"
            ]
          },
          "metadata": {
            "tags": []
          },
          "execution_count": 27
        }
      ]
    },
    {
      "cell_type": "code",
      "metadata": {
        "id": "ZBfEIsEyOn-2",
        "colab_type": "code",
        "colab": {
          "base_uri": "https://localhost:8080/",
          "height": 185
        },
        "outputId": "972cf42f-46ec-40a2-cc57-5e64bbfc9d1e"
      },
      "source": [
        "x_train.isna().sum(), y_train.isna().sum()"
      ],
      "execution_count": 34,
      "outputs": [
        {
          "output_type": "execute_result",
          "data": {
            "text/plain": [
              "(Integer_id         0\n",
              " Title              0\n",
              " Description    29800\n",
              " Image_id           0\n",
              " Product_id         0\n",
              " dtype: int64, Integer_id     0\n",
              " Image_id       0\n",
              " Product_id     0\n",
              " Prdtypecode    0\n",
              " dtype: int64)"
            ]
          },
          "metadata": {
            "tags": []
          },
          "execution_count": 34
        }
      ]
    },
    {
      "cell_type": "markdown",
      "metadata": {
        "id": "ulW6-zR_OrU0",
        "colab_type": "text"
      },
      "source": [
        "Merge the `x_train` and `y_train` on their `Image_id`"
      ]
    },
    {
      "cell_type": "code",
      "metadata": {
        "id": "w8rpLZdoP58S",
        "colab_type": "code",
        "colab": {}
      },
      "source": [
        "for data in [x_train, y_train]:\n",
        "    data.drop(columns='Integer_id', inplace=True)"
      ],
      "execution_count": 0,
      "outputs": []
    },
    {
      "cell_type": "code",
      "metadata": {
        "id": "74pTEs_cPL93",
        "colab_type": "code",
        "colab": {
          "base_uri": "https://localhost:8080/",
          "height": 174
        },
        "outputId": "28e7f1a4-577c-48f0-a39a-cee7a25449ec"
      },
      "source": [
        "df_all = x_train.merge(y_train, on=['Image_id', 'Product_id']); df_all.sample(2)"
      ],
      "execution_count": 44,
      "outputs": [
        {
          "output_type": "execute_result",
          "data": {
            "text/html": [
              "<div>\n",
              "<style scoped>\n",
              "    .dataframe tbody tr th:only-of-type {\n",
              "        vertical-align: middle;\n",
              "    }\n",
              "\n",
              "    .dataframe tbody tr th {\n",
              "        vertical-align: top;\n",
              "    }\n",
              "\n",
              "    .dataframe thead th {\n",
              "        text-align: right;\n",
              "    }\n",
              "</style>\n",
              "<table border=\"1\" class=\"dataframe\">\n",
              "  <thead>\n",
              "    <tr style=\"text-align: right;\">\n",
              "      <th></th>\n",
              "      <th>Title</th>\n",
              "      <th>Description</th>\n",
              "      <th>Image_id</th>\n",
              "      <th>Product_id</th>\n",
              "      <th>Prdtypecode</th>\n",
              "    </tr>\n",
              "  </thead>\n",
              "  <tbody>\n",
              "    <tr>\n",
              "      <th>14352</th>\n",
              "      <td>Bâche hiver ronde - Ø360 m de Astralpool - Bâche hiver piscine</td>\n",
              "      <td>Bâche hiver ronde - Ø360 m de Astralpool - Bâche hiver piscine</td>\n",
              "      <td>1138967486</td>\n",
              "      <td>2377810068</td>\n",
              "      <td>2583</td>\n",
              "    </tr>\n",
              "    <tr>\n",
              "      <th>1481</th>\n",
              "      <td>Batterie Gamepad Wii U</td>\n",
              "      <td>Batterie d'origine pour Gamepad - 1500mAh</td>\n",
              "      <td>1018112358</td>\n",
              "      <td>491255795</td>\n",
              "      <td>50</td>\n",
              "    </tr>\n",
              "  </tbody>\n",
              "</table>\n",
              "</div>"
            ],
            "text/plain": [
              "                                                                Title  ... Prdtypecode\n",
              "14352  Bâche hiver ronde - Ø360 m de Astralpool - Bâche hiver piscine  ...        2583\n",
              "1481                                           Batterie Gamepad Wii U  ...          50\n",
              "\n",
              "[2 rows x 5 columns]"
            ]
          },
          "metadata": {
            "tags": []
          },
          "execution_count": 44
        }
      ]
    },
    {
      "cell_type": "markdown",
      "metadata": {
        "id": "NDHWMYZzUjsD",
        "colab_type": "text"
      },
      "source": [
        "change the prdtype codes to the actual cat labels"
      ]
    },
    {
      "cell_type": "code",
      "metadata": {
        "id": "1FVBnTGyVeba",
        "colab_type": "code",
        "colab": {}
      },
      "source": [
        "id2lbl_dict={i: x for i, x in zip(id2cat_df.Prdtypecode.values, id2cat_df['Top level category'].values)}"
      ],
      "execution_count": 0,
      "outputs": []
    },
    {
      "cell_type": "code",
      "metadata": {
        "id": "6zFxWam-Upm7",
        "colab_type": "code",
        "colab": {}
      },
      "source": [
        "def id2lbl(id_):\n",
        "    return id2lbl_dict[id_]"
      ],
      "execution_count": 0,
      "outputs": []
    },
    {
      "cell_type": "code",
      "metadata": {
        "id": "S0YgFyOvWLTU",
        "colab_type": "code",
        "colab": {}
      },
      "source": [
        "df_all['Prdlbl'] = df_all.Prdtypecode.apply(id2lbl)"
      ],
      "execution_count": 0,
      "outputs": []
    },
    {
      "cell_type": "markdown",
      "metadata": {
        "id": "9I0JppNiR1c5",
        "colab_type": "text"
      },
      "source": [
        "Check if the individual images and products are unique"
      ]
    },
    {
      "cell_type": "code",
      "metadata": {
        "id": "A7a0zzWYRraM",
        "colab_type": "code",
        "colab": {
          "base_uri": "https://localhost:8080/",
          "height": 34
        },
        "outputId": "99edee0f-34ab-4bc0-be38-19b604af2f85"
      },
      "source": [
        "df_all.Image_id.nunique(), df_all.Product_id.nunique(), len(df_all)"
      ],
      "execution_count": 54,
      "outputs": [
        {
          "output_type": "execute_result",
          "data": {
            "text/plain": [
              "(84916, 84916, 84916)"
            ]
          },
          "metadata": {
            "tags": []
          },
          "execution_count": 54
        }
      ]
    },
    {
      "cell_type": "markdown",
      "metadata": {
        "id": "ByTAb1INTmIr",
        "colab_type": "text"
      },
      "source": [
        "check the classes that are in the training set"
      ]
    },
    {
      "cell_type": "code",
      "metadata": {
        "id": "mqHPfT4WUJml",
        "colab_type": "code",
        "colab": {
          "base_uri": "https://localhost:8080/",
          "height": 34
        },
        "outputId": "8d22b6c9-1185-4a1d-d627-95b21feb01e2"
      },
      "source": [
        "df_all.Prdlbl.unique() # we have just 27 classes"
      ],
      "execution_count": 76,
      "outputs": [
        {
          "output_type": "execute_result",
          "data": {
            "text/plain": [
              "array(['Books', 'Entertainment', 'Child', 'Household'], dtype=object)"
            ]
          },
          "metadata": {
            "tags": []
          },
          "execution_count": 76
        }
      ]
    },
    {
      "cell_type": "markdown",
      "metadata": {
        "id": "hRP1nK9KQx1B",
        "colab_type": "text"
      },
      "source": [
        "How many products are in each class?"
      ]
    },
    {
      "cell_type": "code",
      "metadata": {
        "id": "I8fGC9CiQx-d",
        "colab_type": "code",
        "colab": {
          "base_uri": "https://localhost:8080/",
          "height": 34
        },
        "outputId": "9f0b2b3e-be3a-4317-b0ea-aa6b6755f83e"
      },
      "source": [
        "{group: len(items) for group, items in df_all.groupby('Prdlbl').groups.items()}"
      ],
      "execution_count": 83,
      "outputs": [
        {
          "output_type": "execute_result",
          "data": {
            "text/plain": [
              "{'Books': 20400, 'Child': 18524, 'Entertainment': 14702, 'Household': 31290}"
            ]
          },
          "metadata": {
            "tags": []
          },
          "execution_count": 83
        }
      ]
    },
    {
      "cell_type": "markdown",
      "metadata": {
        "id": "wF_jl1nYUd1C",
        "colab_type": "text"
      },
      "source": [
        "Add the path to each image to the `df_all`"
      ]
    },
    {
      "cell_type": "code",
      "metadata": {
        "id": "ioxkQx91ZKgY",
        "colab_type": "code",
        "colab": {
          "base_uri": "https://localhost:8080/",
          "height": 34
        },
        "outputId": "16f03c17-7757-4375-8421-54af33eb3392"
      },
      "source": [
        "len((path/'image/image_training').ls())"
      ],
      "execution_count": 100,
      "outputs": [
        {
          "output_type": "execute_result",
          "data": {
            "text/plain": [
              "169832"
            ]
          },
          "metadata": {
            "tags": []
          },
          "execution_count": 100
        }
      ]
    },
    {
      "cell_type": "markdown",
      "metadata": {
        "id": "qRSsp9P9aM7P",
        "colab_type": "text"
      },
      "source": [
        "Why? Some images in the folder start with `._` after untarring. These files are corrupt so we exclude them"
      ]
    },
    {
      "cell_type": "code",
      "metadata": {
        "id": "cRwq_Wv1anCm",
        "colab_type": "code",
        "colab": {
          "base_uri": "https://localhost:8080/",
          "height": 34
        },
        "outputId": "c397043b-5cdc-40ba-e5ed-2356ef223517"
      },
      "source": [
        "files = get_image_files(path/'image/image_training', recurse=True); len(files)"
      ],
      "execution_count": 110,
      "outputs": [
        {
          "output_type": "execute_result",
          "data": {
            "text/plain": [
              "84916"
            ]
          },
          "metadata": {
            "tags": []
          },
          "execution_count": 110
        }
      ]
    },
    {
      "cell_type": "code",
      "metadata": {
        "id": "Ri0qy4UTays9",
        "colab_type": "code",
        "colab": {
          "base_uri": "https://localhost:8080/",
          "height": 54
        },
        "outputId": "1a335e3d-1c52-4ec6-8240-a83fdd89b4f2"
      },
      "source": [
        "files"
      ],
      "execution_count": 111,
      "outputs": [
        {
          "output_type": "execute_result",
          "data": {
            "text/plain": [
              "(#84916) [Path('/content/SIGIR-2020-EComDC-release/image/image_training/image_1269065463_product_3953864279.jpg'),Path('/content/SIGIR-2020-EComDC-release/image/image_training/image_1289807039_product_4089927082.jpg'),Path('/content/SIGIR-2020-EComDC-release/image/image_training/image_1111482606_product_1911620052.jpg'),Path('/content/SIGIR-2020-EComDC-release/image/image_training/image_846534875_product_64318908.jpg'),Path('/content/SIGIR-2020-EComDC-release/image/image_training/image_1015918061_product_109547943.jpg'),Path('/content/SIGIR-2020-EComDC-release/image/image_training/image_1322309226_product_4229922806.jpg'),Path('/content/SIGIR-2020-EComDC-release/image/image_training/image_1277693292_product_4023013854.jpg'),Path('/content/SIGIR-2020-EComDC-release/image/image_training/image_921948032_product_170165698.jpg'),Path('/content/SIGIR-2020-EComDC-release/image/image_training/image_1313200797_product_4182729555.jpg'),Path('/content/SIGIR-2020-EComDC-release/image/image_training/image_1026245330_product_560951271.jpg')...]"
            ]
          },
          "metadata": {
            "tags": []
          },
          "execution_count": 111
        }
      ]
    },
    {
      "cell_type": "code",
      "metadata": {
        "id": "g238pAvzaGDU",
        "colab_type": "code",
        "colab": {}
      },
      "source": [
        "prdid2path_dict = dict()\n",
        "for img_path in files:\n",
        "    idx = re.search(pat, str(img_path)).group(0)\n",
        "    # if int(idx[:-4]) == id_:\n",
        "    prdid2path_dict[int(idx[:-4])] = img_path"
      ],
      "execution_count": 0,
      "outputs": []
    },
    {
      "cell_type": "code",
      "metadata": {
        "id": "z_M2hr0_r1GS",
        "colab_type": "code",
        "colab": {}
      },
      "source": [
        "def add_img_path(id_):\n",
        "    return prdid2path_dict[id_]"
      ],
      "execution_count": 0,
      "outputs": []
    },
    {
      "cell_type": "code",
      "metadata": {
        "id": "Pk85cq4tcR72",
        "colab_type": "code",
        "colab": {}
      },
      "source": [
        "df_all['image_path'] = df_all.Product_id.apply(add_img_path)"
      ],
      "execution_count": 0,
      "outputs": []
    },
    {
      "cell_type": "code",
      "metadata": {
        "id": "D2AHbCQZf6Ik",
        "colab_type": "code",
        "colab": {
          "base_uri": "https://localhost:8080/",
          "height": 517
        },
        "outputId": "ec58dc02-b81b-4a20-d100-5cb22c379883"
      },
      "source": [
        "PILImage.create(df_all.image_path[11])"
      ],
      "execution_count": 171,
      "outputs": [
        {
          "output_type": "execute_result",
          "data": {
            "image/png": "[encoded data removed]",
            "text/plain": [
              "PILImage mode=RGB size=500x500"
            ]
          },
          "metadata": {
            "tags": []
          },
          "execution_count": 171
        }
      ]
    },
    {
      "cell_type": "code",
      "metadata": {
        "id": "NnL-rJDOi-j2",
        "colab_type": "code",
        "colab": {}
      },
      "source": [
        "df_all.to_csv(data_path/'df_all.csv', index=False)"
      ],
      "execution_count": 0,
      "outputs": []
    },
    {
      "cell_type": "markdown",
      "metadata": {
        "id": "4UtzJH-TjSTZ",
        "colab_type": "text"
      },
      "source": [
        "## Fin"
      ]
    },
    {
      "cell_type": "code",
      "metadata": {
        "id": "6HdyaCSqjJH3",
        "colab_type": "code",
        "colab": {
          "base_uri": "https://localhost:8080/",
          "height": 1000
        },
        "outputId": "966799e1-a0ea-4fc6-af41-6b2e122da578"
      },
      "source": [
        "df_all = pd.read_csv(data_path/'df_all.csv'); df_all.head()"
      ],
      "execution_count": 174,
      "outputs": [
        {
          "output_type": "execute_result",
          "data": {
            "text/html": [
              "<div>\n",
              "<style scoped>\n",
              "    .dataframe tbody tr th:only-of-type {\n",
              "        vertical-align: middle;\n",
              "    }\n",
              "\n",
              "    .dataframe tbody tr th {\n",
              "        vertical-align: top;\n",
              "    }\n",
              "\n",
              "    .dataframe thead th {\n",
              "        text-align: right;\n",
              "    }\n",
              "</style>\n",
              "<table border=\"1\" class=\"dataframe\">\n",
              "  <thead>\n",
              "    <tr style=\"text-align: right;\">\n",
              "      <th></th>\n",
              "      <th>Title</th>\n",
              "      <th>Description</th>\n",
              "      <th>Image_id</th>\n",
              "      <th>Product_id</th>\n",
              "      <th>Prdtypecode</th>\n",
              "      <th>Prdlbl</th>\n",
              "      <th>image_path</th>\n",
              "    </tr>\n",
              "  </thead>\n",
              "  <tbody>\n",
              "    <tr>\n",
              "      <th>0</th>\n",
              "      <td>Olivia: Personalisiertes Notizbuch / 150 Seiten / Punktraster / Ca Din A5 / Rosen-Design</td>\n",
              "      <td>NaN</td>\n",
              "      <td>1263597046</td>\n",
              "      <td>3804725264</td>\n",
              "      <td>10</td>\n",
              "      <td>Books</td>\n",
              "      <td>/content/SIGIR-2020-EComDC-release/image/image_training/image_1263597046_product_3804725264.jpg</td>\n",
              "    </tr>\n",
              "    <tr>\n",
              "      <th>1</th>\n",
              "      <td>Journal Des Arts (Le) N° 133 Du 28/09/2001 - L'art Et Son Marche Salon D'art Asiatique A Paris - Jacques Barrere - Francois Perrier - La Reforme Des Ventes Aux Encheres Publiques - Le Sna Fete Ses Cent Ans.</td>\n",
              "      <td>NaN</td>\n",
              "      <td>1008141237</td>\n",
              "      <td>436067568</td>\n",
              "      <td>2280</td>\n",
              "      <td>Books</td>\n",
              "      <td>/content/SIGIR-2020-EComDC-release/image/image_training/image_1008141237_product_436067568.jpg</td>\n",
              "    </tr>\n",
              "    <tr>\n",
              "      <th>2</th>\n",
              "      <td>Grand Stylet Ergonomique Bleu Gamepad Nintendo Wii U - Speedlink Pilot Style</td>\n",
              "      <td>PILOT STYLE Touch Pen de marque Speedlink est 1 stylet ergonomique pour GamePad Nintendo Wii U.&lt;br&gt; Pour un confort optimal et une précision maximale sur le GamePad de la Wii U: ce grand stylet hautement ergonomique est non seulement parfaitement adapté à votre main mais aussi très élégant.&lt;br&gt; Il est livré avec un support qui se fixe sans adhésif à l'arrière du GamePad&lt;br&gt; &lt;br&gt; Caractéristiques:&lt;br&gt; Modèle: Speedlink PILOT STYLE Touch Pen&lt;br&gt; Couleur: Bleu&lt;br&gt; Ref. Fabricant: SL-3468-BE&lt;br&gt; Compatibilité: GamePad Nintendo Wii U&lt;br&gt; Forme particulièrement ergonomique excellente tenue en ma...</td>\n",
              "      <td>938777978</td>\n",
              "      <td>201115110</td>\n",
              "      <td>50</td>\n",
              "      <td>Entertainment</td>\n",
              "      <td>/content/SIGIR-2020-EComDC-release/image/image_training/image_938777978_product_201115110.jpg</td>\n",
              "    </tr>\n",
              "    <tr>\n",
              "      <th>3</th>\n",
              "      <td>Peluche Donald - Europe - Disneyland 2000 (Marionnette À Doigt)</td>\n",
              "      <td>NaN</td>\n",
              "      <td>457047496</td>\n",
              "      <td>50418756</td>\n",
              "      <td>1280</td>\n",
              "      <td>Child</td>\n",
              "      <td>/content/SIGIR-2020-EComDC-release/image/image_training/image_457047496_product_50418756.jpg</td>\n",
              "    </tr>\n",
              "    <tr>\n",
              "      <th>4</th>\n",
              "      <td>La Guerre Des Tuques</td>\n",
              "      <td>Luc a des id&amp;eacute;es de grandeur. Il veut organiser un jeu de guerre de boules de neige et s'arranger pour en &amp;ecirc;tre le vainqueur incontest&amp;eacute;. Mais Sophie s'en m&amp;ecirc;le et chambarde tous ses plans...</td>\n",
              "      <td>1077757786</td>\n",
              "      <td>278535884</td>\n",
              "      <td>2705</td>\n",
              "      <td>Books</td>\n",
              "      <td>/content/SIGIR-2020-EComDC-release/image/image_training/image_1077757786_product_278535884.jpg</td>\n",
              "    </tr>\n",
              "  </tbody>\n",
              "</table>\n",
              "</div>"
            ],
            "text/plain": [
              "                                                                                                                                                                                                            Title  ...                                                                                       image_path\n",
              "0                                                                                                                        Olivia: Personalisiertes Notizbuch / 150 Seiten / Punktraster / Ca Din A5 / Rosen-Design  ...  /content/SIGIR-2020-EComDC-release/image/image_training/image_1263597046_product_3804725264.jpg\n",
              "1  Journal Des Arts (Le) N° 133 Du 28/09/2001 - L'art Et Son Marche Salon D'art Asiatique A Paris - Jacques Barrere - Francois Perrier - La Reforme Des Ventes Aux Encheres Publiques - Le Sna Fete Ses Cent Ans.  ...   /content/SIGIR-2020-EComDC-release/image/image_training/image_1008141237_product_436067568.jpg\n",
              "2                                                                                                                                    Grand Stylet Ergonomique Bleu Gamepad Nintendo Wii U - Speedlink Pilot Style  ...    /content/SIGIR-2020-EComDC-release/image/image_training/image_938777978_product_201115110.jpg\n",
              "3                                                                                                                                                 Peluche Donald - Europe - Disneyland 2000 (Marionnette À Doigt)  ...     /content/SIGIR-2020-EComDC-release/image/image_training/image_457047496_product_50418756.jpg\n",
              "4                                                                                                                                                                                            La Guerre Des Tuques  ...   /content/SIGIR-2020-EComDC-release/image/image_training/image_1077757786_product_278535884.jpg\n",
              "\n",
              "[5 rows x 7 columns]"
            ]
          },
          "metadata": {
            "tags": []
          },
          "execution_count": 174
        }
      ]
    },
    {
      "cell_type": "code",
      "metadata": {
        "id": "_GVYlgp2tJFD",
        "colab_type": "code",
        "colab": {}
      },
      "source": [
        ""
      ],
      "execution_count": 0,
      "outputs": []
    }
  ]
}