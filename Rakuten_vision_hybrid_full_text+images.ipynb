{
  "nbformat": 4,
  "nbformat_minor": 0,
  "metadata": {
    "colab": {
      "name": "Rakuten_vision_hybrid_full_text+images.ipynb",
      "provenance": [],
      "collapsed_sections": [],
      "authorship_tag": "ABX9TyNvslYfRvdxiwCXZSM/EHGo"
    },
    "kernelspec": {
      "name": "python3",
      "display_name": "Python 3"
    },
    "accelerator": "GPU"
  },
  "cells": [
    {
      "cell_type": "markdown",
      "metadata": {
        "id": "ojVNxYojvluc",
        "colab_type": "text"
      },
      "source": [
        "## CORE"
      ]
    },
    {
      "cell_type": "code",
      "metadata": {
        "id": "_ECpdOsxvpIL",
        "colab_type": "code",
        "colab": {
          "base_uri": "https://localhost:8080/",
          "height": 34
        },
        "outputId": "a10ebce4-f0f6-41a5-d324-727bc43eb23c"
      },
      "source": [
        "!pip install fastcore fastai2 -q"
      ],
      "execution_count": null,
      "outputs": [
        {
          "output_type": "stream",
          "text": [
            "\u001b[?25l\r\u001b[K     |█▊                              | 10kB 30.9MB/s eta 0:00:01\r\u001b[K     |███▌                            | 20kB 36.7MB/s eta 0:00:01\r\u001b[K     |█████▏                          | 30kB 16.5MB/s eta 0:00:01\r\u001b[K     |███████                         | 40kB 6.3MB/s eta 0:00:01\r\u001b[K     |████████▋                       | 51kB 7.0MB/s eta 0:00:01\r\u001b[K     |██████████▍                     | 61kB 7.5MB/s eta 0:00:01\r\u001b[K     |████████████                    | 71kB 8.0MB/s eta 0:00:01\r\u001b[K     |█████████████▉                  | 81kB 8.4MB/s eta 0:00:01\r\u001b[K     |███████████████▌                | 92kB 8.9MB/s eta 0:00:01\r\u001b[K     |█████████████████▎              | 102kB 9.7MB/s eta 0:00:01\r\u001b[K     |███████████████████             | 112kB 9.7MB/s eta 0:00:01\r\u001b[K     |████████████████████▊           | 122kB 9.7MB/s eta 0:00:01\r\u001b[K     |██████████████████████▍         | 133kB 9.7MB/s eta 0:00:01\r\u001b[K     |████████████████████████▏       | 143kB 9.7MB/s eta 0:00:01\r\u001b[K     |█████████████████████████▉      | 153kB 9.7MB/s eta 0:00:01\r\u001b[K     |███████████████████████████▋    | 163kB 9.7MB/s eta 0:00:01\r\u001b[K     |█████████████████████████████▎  | 174kB 9.7MB/s eta 0:00:01\r\u001b[K     |███████████████████████████████ | 184kB 9.7MB/s eta 0:00:01\r\u001b[K     |████████████████████████████████| 194kB 9.7MB/s \n",
            "\u001b[?25h"
          ],
          "name": "stdout"
        }
      ]
    },
    {
      "cell_type": "code",
      "metadata": {
        "id": "_8n-epaRvstb",
        "colab_type": "code",
        "colab": {}
      },
      "source": [
        "from fastcore.foundation import *\n",
        "from fastai2.vision.all import *\n",
        "from fastai2.text.all import *\n",
        "import pathlib"
      ],
      "execution_count": null,
      "outputs": []
    },
    {
      "cell_type": "code",
      "metadata": {
        "id": "NRNfH41qvya5",
        "colab_type": "code",
        "colab": {}
      },
      "source": [
        "@patch\n",
        "def ls(x: pathlib.Path):\n",
        "    return list(x.iterdir())"
      ],
      "execution_count": null,
      "outputs": []
    },
    {
      "cell_type": "code",
      "metadata": {
        "id": "RiTyipOvcPQA",
        "colab_type": "code",
        "colab": {}
      },
      "source": [
        "# import os\n",
        "# from pathlib import Path\n",
        "from google.colab import drive"
      ],
      "execution_count": null,
      "outputs": []
    },
    {
      "cell_type": "code",
      "metadata": {
        "id": "nipZBIQ2amuD",
        "colab_type": "code",
        "colab": {}
      },
      "source": [
        "def create_path(path):\n",
        "    if not os.path.isdir(path):\n",
        "        path.mkdir(parents=True, exist_ok=True)\n",
        "    return path"
      ],
      "execution_count": null,
      "outputs": []
    },
    {
      "cell_type": "code",
      "metadata": {
        "id": "SY8hz8XI_GDl",
        "colab_type": "code",
        "colab": {}
      },
      "source": [
        "colab_path = Path('/content')"
      ],
      "execution_count": null,
      "outputs": []
    },
    {
      "cell_type": "markdown",
      "metadata": {
        "id": "jE3i8uUsdkvL",
        "colab_type": "text"
      },
      "source": [
        "handles all gdrive downloads for when running on cluster"
      ]
    },
    {
      "cell_type": "code",
      "metadata": {
        "id": "ieIwxYONdo83",
        "colab_type": "code",
        "colab": {}
      },
      "source": [
        "create_path(colab_path/'dataset');\n",
        "create_path(colab_path/'models');\n",
        "\n",
        "!git clone --quiet 'https://github.com/tezike/download_google_drive.git'\n",
        "os.chdir('download_google_drive')\n",
        "!python download_gdrive.py '10rH0nAxa7mWS289xIyRP-mOOowqiIolL' '../dataset/temp.tgz'\n",
        "# !python download_gdrive.py '136CD5oP9YCYeal0hwdtF5oRMAk4YWa2M' '../dataset/df_all.csv'\n",
        "shutil.rmtree('../download_google_drive')\n",
        "os.chdir('..')"
      ],
      "execution_count": null,
      "outputs": []
    },
    {
      "cell_type": "markdown",
      "metadata": {
        "id": "yQNK70EuxrRr",
        "colab_type": "text"
      },
      "source": [
        "## Colab_setup"
      ]
    },
    {
      "cell_type": "code",
      "metadata": {
        "id": "GdKS3nNT0IKp",
        "colab_type": "code",
        "colab": {
          "base_uri": "https://localhost:8080/",
          "height": 138
        },
        "outputId": "e36137f0-ec99-4795-bdb1-61fc0166dfa2"
      },
      "source": [
        "#you don't need when running from cluster\n",
        "\n",
        "# from google.colab import drive\n",
        "# drive.mount('/content/drive')\n",
        "# root_dir = Path('/content/drive/My Drive')\n",
        "# base_path = create_path(root_dir/'Rakuten')\n",
        "# base_path"
      ],
      "execution_count": null,
      "outputs": [
        {
          "output_type": "stream",
          "text": [
            "Go to this URL in a browser: https://accounts.google.com/o/oauth2/auth?client_id=947318989803-6bn6qk8qdgf4n4g3pfee6491hc0brc4i.apps.googleusercontent.com&redirect_uri=urn%3aietf%3awg%3aoauth%3a2.0%3aoob&response_type=code&scope=email%20https%3a%2f%2fwww.googleapis.com%2fauth%2fdocs.test%20https%3a%2f%2fwww.googleapis.com%2fauth%2fdrive%20https%3a%2f%2fwww.googleapis.com%2fauth%2fdrive.photos.readonly%20https%3a%2f%2fwww.googleapis.com%2fauth%2fpeopleapi.readonly\n",
            "\n",
            "Enter your authorization code:\n",
            "··········\n",
            "Mounted at /content/drive\n"
          ],
          "name": "stdout"
        },
        {
          "output_type": "execute_result",
          "data": {
            "text/plain": [
              "Path('/content/drive/My Drive/Rakuten')"
            ]
          },
          "metadata": {
            "tags": []
          },
          "execution_count": 8
        }
      ]
    },
    {
      "cell_type": "code",
      "metadata": {
        "id": "oIXgl6523wqb",
        "colab_type": "code",
        "colab": {}
      },
      "source": [
        "# colab_path = Path('/content')"
      ],
      "execution_count": null,
      "outputs": []
    },
    {
      "cell_type": "code",
      "metadata": {
        "id": "8BTdMY8caahd",
        "colab_type": "code",
        "colab": {}
      },
      "source": [
        "# data_path = create_path(base_path/'dataset')"
      ],
      "execution_count": null,
      "outputs": []
    },
    {
      "cell_type": "code",
      "metadata": {
        "id": "Gw59N97DV63P",
        "colab_type": "code",
        "colab": {}
      },
      "source": [
        "# model_path = create_path(base_path/'models')"
      ],
      "execution_count": null,
      "outputs": []
    },
    {
      "cell_type": "code",
      "metadata": {
        "id": "fOGLsdjCx8kE",
        "colab_type": "code",
        "colab": {}
      },
      "source": [
        "# shutil.rmtree(data_path)"
      ],
      "execution_count": null,
      "outputs": []
    },
    {
      "cell_type": "code",
      "metadata": {
        "id": "v4xBv4i13t7o",
        "colab_type": "code",
        "colab": {}
      },
      "source": [
        ""
      ],
      "execution_count": null,
      "outputs": []
    },
    {
      "cell_type": "markdown",
      "metadata": {
        "id": "KTjrkANjx9tM",
        "colab_type": "text"
      },
      "source": [
        "## download and untar data"
      ]
    },
    {
      "cell_type": "code",
      "metadata": {
        "id": "PMhQRUE0zfTR",
        "colab_type": "code",
        "colab": {
          "base_uri": "https://localhost:8080/",
          "height": 104
        },
        "outputId": "a55f86a6-c6a2-480a-b43a-560db9e2be8d"
      },
      "source": [
        "!tar -xzf 'dataset/temp.tgz'"
      ],
      "execution_count": null,
      "outputs": [
        {
          "output_type": "stream",
          "text": [
            "tar (child): $/content/lm-encoder-splits.tar.gz: Cannot open: No such file or directory\n",
            "tar (child): Error is not recoverable: exiting now\n",
            "tar: Child returned status 2\n",
            "tar: Error is not recoverable: exiting now\n"
          ],
          "name": "stdout"
        }
      ]
    },
    {
      "cell_type": "code",
      "metadata": {
        "id": "ABOa7GeA6_ZD",
        "colab_type": "code",
        "colab": {}
      },
      "source": [
        "# (colab_path/'SIGIR-2020-EComDC-release').ls()"
      ],
      "execution_count": null,
      "outputs": []
    },
    {
      "cell_type": "code",
      "metadata": {
        "id": "Q-e2loQelZ9e",
        "colab_type": "code",
        "colab": {}
      },
      "source": [
        "# path = colab_path/'SIGIR-2020-EComDC-release'"
      ],
      "execution_count": null,
      "outputs": []
    },
    {
      "cell_type": "code",
      "metadata": {
        "id": "6HdyaCSqjJH3",
        "colab_type": "code",
        "colab": {
          "base_uri": "https://localhost:8080/",
          "height": 937
        },
        "outputId": "7ecfc384-4761-4149-c402-b58cb4f05608"
      },
      "source": [
        "df_all = pd.read_csv(base_path/'dataset/df_all.csv'); df_all.sample(1)"
      ],
      "execution_count": null,
      "outputs": [
        {
          "output_type": "execute_result",
          "data": {
            "text/html": [
              "<div>\n",
              "<style scoped>\n",
              "    .dataframe tbody tr th:only-of-type {\n",
              "        vertical-align: middle;\n",
              "    }\n",
              "\n",
              "    .dataframe tbody tr th {\n",
              "        vertical-align: top;\n",
              "    }\n",
              "\n",
              "    .dataframe thead th {\n",
              "        text-align: right;\n",
              "    }\n",
              "</style>\n",
              "<table border=\"1\" class=\"dataframe\">\n",
              "  <thead>\n",
              "    <tr style=\"text-align: right;\">\n",
              "      <th></th>\n",
              "      <th>Title</th>\n",
              "      <th>Description</th>\n",
              "      <th>Image_id</th>\n",
              "      <th>Product_id</th>\n",
              "      <th>Prdtypecode</th>\n",
              "      <th>Prdlbl</th>\n",
              "      <th>image_path</th>\n",
              "    </tr>\n",
              "  </thead>\n",
              "  <tbody>\n",
              "    <tr>\n",
              "      <th>63603</th>\n",
              "      <td>Pompe pour fontaine 280 W 1 000 L / h</td>\n",
              "      <td>&lt;p&gt;Avec une capacité de 1 000 litres par heure cette pompe est un choix idéal pour les étangs de taille moyenne ou grande les cascades et les plans d&amp;#39;eau. Cette pompe de haute qualité vous permet de créer des plans d&amp;#39;eau uniques. La pompe de bassin est équipée d&amp;#39;un moteur économe en énergie qui a une grande capacité et une faible consommation d&amp;#39;énergie. La hauteur maximale de pompage de cette pompe est de 60 mètres. La conception compacte et le fonctionnement silencieux en font un choix parfait pour tous vos besoins aquatiques. De plus cette pompe est également livrée avec ...</td>\n",
              "      <td>1266792345</td>\n",
              "      <td>3939953275</td>\n",
              "      <td>2585</td>\n",
              "      <td>2585</td>\n",
              "      <td>/content/SIGIR-2020-EComDC-release/image/image_training/image_1266792345_product_3939953275.jpg</td>\n",
              "    </tr>\n",
              "  </tbody>\n",
              "</table>\n",
              "</div>"
            ],
            "text/plain": [
              "                                       Title  ...                                                                                       image_path\n",
              "63603  Pompe pour fontaine 280 W 1 000 L / h  ...  /content/SIGIR-2020-EComDC-release/image/image_training/image_1266792345_product_3939953275.jpg\n",
              "\n",
              "[1 rows x 7 columns]"
            ]
          },
          "metadata": {
            "tags": []
          },
          "execution_count": 16
        }
      ]
    },
    {
      "cell_type": "markdown",
      "metadata": {
        "id": "_GVYlgp2tJFD",
        "colab_type": "text"
      },
      "source": [
        "## Datasets and DataLoaders"
      ]
    },
    {
      "cell_type": "code",
      "metadata": {
        "id": "WvDVgfJIzUfN",
        "colab_type": "code",
        "colab": {}
      },
      "source": [
        "def seed_everything(seed=42):\n",
        "    random.seed(seed)\n",
        "    os.environ['PYTHONHASHSEED'] = str(seed)\n",
        "    np.random.seed(seed)\n",
        "    torch.manual_seed(seed)\n",
        "    torch.cuda.manual_seed(seed)\n",
        "    torch.backends.cudnn.deterministic = True\n",
        "    \n",
        "seed_everything()"
      ],
      "execution_count": null,
      "outputs": []
    },
    {
      "cell_type": "code",
      "metadata": {
        "id": "7DLPnoXkEM16",
        "colab_type": "code",
        "colab": {}
      },
      "source": [
        "MAX_SEQ_LEN = 128"
      ],
      "execution_count": null,
      "outputs": []
    },
    {
      "cell_type": "code",
      "metadata": {
        "id": "QX1oym2JZVbA",
        "colab_type": "code",
        "colab": {
          "base_uri": "https://localhost:8080/",
          "height": 34
        },
        "outputId": "55c984ac-bd9e-4099-87cd-9f924bd393be"
      },
      "source": [
        "files = get_image_files(colab_path/'SIGIR-2020-EComDC-release/image/image_training', recurse=True); len(files)"
      ],
      "execution_count": null,
      "outputs": [
        {
          "output_type": "execute_result",
          "data": {
            "text/plain": [
              "84916"
            ]
          },
          "metadata": {
            "tags": []
          },
          "execution_count": 19
        }
      ]
    },
    {
      "cell_type": "markdown",
      "metadata": {
        "id": "qErYgcNl5EZO",
        "colab_type": "text"
      },
      "source": [
        "I'll resize the images from 500px to 224px using LANCZOZ interpolation(tested and found it works better than BILINEAR, BICUBIC and NEAREST)"
      ]
    },
    {
      "cell_type": "markdown",
      "metadata": {
        "id": "NsYR464hyQiL",
        "colab_type": "text"
      },
      "source": [
        "Load the saved files by running cell below"
      ]
    },
    {
      "cell_type": "code",
      "metadata": {
        "id": "PpKAY8i95Vgc",
        "colab_type": "code",
        "colab": {}
      },
      "source": [
        "def pre_process_image(path, save_path = 'images_224', save_dir=colab_path, size=(224, 224)):\n",
        "    image_dir = create_path(save_dir/save_path)\n",
        "    im = Image.open(path).resize((size), resample=Image.LANCZOS)\n",
        "    im.save(image_dir/f'{str(path.name)}', quality=95)\n",
        "    return Path(image_dir/f'{str(path.name)}', quality=95)"
      ],
      "execution_count": null,
      "outputs": []
    },
    {
      "cell_type": "code",
      "metadata": {
        "id": "oPn-_7esDRrV",
        "colab_type": "code",
        "colab": {}
      },
      "source": [
        "# cleanup\n",
        "# shutil.rmtree('/content/images_224')"
      ],
      "execution_count": null,
      "outputs": []
    },
    {
      "cell_type": "markdown",
      "metadata": {
        "id": "SWBx8erKkpIW",
        "colab_type": "text"
      },
      "source": [
        "Resize the files to 224 and save in `colab_path/'images_224'`"
      ]
    },
    {
      "cell_type": "code",
      "metadata": {
        "id": "ObflKmLvDdsR",
        "colab_type": "code",
        "colab": {
          "base_uri": "https://localhost:8080/",
          "height": 37
        },
        "outputId": "61ce4b94-9a74-4adb-af2c-9d62f932c91a"
      },
      "source": [
        "resized_files = [pre_process_image(path) for path in progress_bar(files)]"
      ],
      "execution_count": null,
      "outputs": [
        {
          "output_type": "display_data",
          "data": {
            "text/html": [
              "\n",
              "    <div>\n",
              "        <style>\n",
              "            /* Turns off some styling */\n",
              "            progress {\n",
              "                /* gets rid of default border in Firefox and Opera. */\n",
              "                border: none;\n",
              "                /* Needs to be in here for Safari polyfill so background images work as expected. */\n",
              "                background-size: auto;\n",
              "            }\n",
              "            .progress-bar-interrupted, .progress-bar-interrupted::-webkit-progress-bar {\n",
              "                background: #F44336;\n",
              "            }\n",
              "        </style>\n",
              "      <progress value='10000' class='' max='10000' style='width:300px; height:20px; vertical-align: middle;'></progress>\n",
              "      100.00% [10000/10000 01:56<00:00]\n",
              "    </div>\n",
              "    "
            ],
            "text/plain": [
              "<IPython.core.display.HTML object>"
            ]
          },
          "metadata": {
            "tags": []
          }
        }
      ]
    },
    {
      "cell_type": "code",
      "metadata": {
        "id": "pgRzcyNMkFln",
        "colab_type": "code",
        "colab": {}
      },
      "source": [
        "def change_img_path(path):\n",
        "    return os.path.join(resized_files[0].parent, Path(path).name)"
      ],
      "execution_count": null,
      "outputs": []
    },
    {
      "cell_type": "code",
      "metadata": {
        "id": "qyQnuKrXhwHb",
        "colab_type": "code",
        "colab": {}
      },
      "source": [
        "df_all['image_path'] = df_all.image_path.apply(change_img_path)"
      ],
      "execution_count": null,
      "outputs": []
    },
    {
      "cell_type": "code",
      "metadata": {
        "id": "cKW1laDlrHSg",
        "colab_type": "code",
        "colab": {}
      },
      "source": [
        ""
      ],
      "execution_count": null,
      "outputs": []
    },
    {
      "cell_type": "code",
      "metadata": {
        "id": "mfP6a12qib4N",
        "colab_type": "code",
        "colab": {}
      },
      "source": [
        "splits = np.load(str(base_path/'dataset/rand_splits_10000_baseline.npy'), allow_pickle=True)\n",
        "splits = L(splits[0], splits[1])"
      ],
      "execution_count": null,
      "outputs": []
    },
    {
      "cell_type": "code",
      "metadata": {
        "id": "gGnP7TUKhjSK",
        "colab_type": "code",
        "colab": {}
      },
      "source": [
        "def custom_rand_splitter(noop):\n",
        "    return splits"
      ],
      "execution_count": null,
      "outputs": []
    },
    {
      "cell_type": "code",
      "metadata": {
        "id": "BGmoAUrQ43q_",
        "colab_type": "code",
        "colab": {}
      },
      "source": [
        "txt_blk_cls = TextBlock.from_df(text_cols=['Title', 'Description'],\n",
        "                                # vocab=dls_lm.vocab,\n",
        "                                is_lm=False, \n",
        "                                seq_len=MAX_SEQ_LEN,                                 \n",
        "                                tok_func=SpacyTokenizer, \n",
        "                                lang='fr', \n",
        "                                res_col_name='text')"
      ],
      "execution_count": null,
      "outputs": []
    },
    {
      "cell_type": "code",
      "metadata": {
        "id": "6cjZC-CHMcob",
        "colab_type": "code",
        "colab": {}
      },
      "source": [
        "class TextTfms(Transform):\n",
        "    def __init__(self, tfms): \n",
        "        self.tfms = tfms\n",
        "        \n",
        "    def encodes(self, x:TensorText):\n",
        "        x = compose_tfms(x, self.tfms)\n",
        "        return x\n",
        "    \n",
        "class ImageTfms(Transform):\n",
        "    def __init__(self, tfms): \n",
        "        self.tfms = tfms\n",
        "        \n",
        "    def encodes(self, x:TensorImage):\n",
        "        x = compose_tfms(x.float(), self.tfms)\n",
        "        return x"
      ],
      "execution_count": null,
      "outputs": []
    },
    {
      "cell_type": "code",
      "metadata": {
        "id": "_xkIxcjPZLvy",
        "colab_type": "code",
        "colab": {}
      },
      "source": [
        "affine_tfms, light_tfms, randrescrop = aug_transforms(max_zoom=0., max_warp=0., min_scale=0.8)\n",
        "# brightness = lambda x : x.brightness(p=0.75, max_lighting=0.9) #test\n",
        "# contrast   = lambda x : x.contrast(p=0.75, max_lighting=0.9) #test"
      ],
      "execution_count": null,
      "outputs": []
    },
    {
      "cell_type": "code",
      "metadata": {
        "id": "nk5Jz9oJg5jE",
        "colab_type": "code",
        "colab": {}
      },
      "source": [
        "data = DataBlock(blocks = (txt_blk_cls, ImageBlock, CategoryBlock),\n",
        "                 get_x = [[ColReader('text')], [ColReader('image_path')]],\n",
        "                 splitter=custom_rand_splitter,\n",
        "                 get_y=[ColReader('Prdlbl')],\n",
        "                 batch_tfms=[ImageTfms([affine_tfms, light_tfms, randrescrop])],\n",
        "                 n_inp = 2\n",
        "                 )"
      ],
      "execution_count": null,
      "outputs": []
    },
    {
      "cell_type": "code",
      "metadata": {
        "id": "jZgA1w4L6EPT",
        "colab_type": "code",
        "colab": {}
      },
      "source": [
        "# data.summary(df_all[:1000])"
      ],
      "execution_count": null,
      "outputs": []
    },
    {
      "cell_type": "code",
      "metadata": {
        "id": "oq7PlnhgAp8f",
        "colab_type": "code",
        "colab": {
          "base_uri": "https://localhost:8080/",
          "height": 17
        },
        "outputId": "ca17ed2c-407d-4384-dc3d-5e769d00e726"
      },
      "source": [
        "dls = data.dataloaders(df_all, bs=8, seq_len=MAX_SEQ_LEN)"
      ],
      "execution_count": null,
      "outputs": [
        {
          "output_type": "display_data",
          "data": {
            "text/html": [
              ""
            ],
            "text/plain": [
              "<IPython.core.display.HTML object>"
            ]
          },
          "metadata": {
            "tags": []
          }
        }
      ]
    },
    {
      "cell_type": "code",
      "metadata": {
        "id": "lodlnzCbt2Cr",
        "colab_type": "code",
        "colab": {
          "base_uri": "https://localhost:8080/",
          "height": 34
        },
        "outputId": "fe9b6da7-32de-4633-9f85-d972d49d67f2"
      },
      "source": [
        "len(dls.train_ds) + len(dls.valid_ds)"
      ],
      "execution_count": null,
      "outputs": [
        {
          "output_type": "execute_result",
          "data": {
            "text/plain": [
              "10000"
            ]
          },
          "metadata": {
            "tags": []
          },
          "execution_count": 37
        }
      ]
    },
    {
      "cell_type": "code",
      "metadata": {
        "id": "g4-PsVyoXw7W",
        "colab_type": "code",
        "colab": {}
      },
      "source": [
        "b = dls.one_batch()"
      ],
      "execution_count": null,
      "outputs": []
    },
    {
      "cell_type": "code",
      "metadata": {
        "id": "CcThUncgYI-E",
        "colab_type": "code",
        "colab": {
          "base_uri": "https://localhost:8080/",
          "height": 303
        },
        "outputId": "f9115cc2-16fb-4c77-9314-2df0d46c0d27"
      },
      "source": [
        "TensorImage(dls.decode(b)[1][0]).show();"
      ],
      "execution_count": null,
      "outputs": [
        {
          "output_type": "display_data",
          "data": {
            "image/png": "[encoded data removed]",
            "text/plain": [
              "<Figure size 360x360 with 1 Axes>"
            ]
          },
          "metadata": {
            "tags": [],
            "needs_background": "light"
          }
        }
      ]
    },
    {
      "cell_type": "code",
      "metadata": {
        "id": "m9Ez5UE_bRvL",
        "colab_type": "code",
        "colab": {}
      },
      "source": [
        "@typedispatch\n",
        "@patch\n",
        "def show_one_batch(b: TfmdDL=None, max_n=2, dls_=dls):\n",
        "    if b is None: b = dls_.one_batch()\n",
        "    # print(next(iter(b)))\n",
        "    items = dls_.decode_batch(b.one_batch())\n",
        "\n",
        "    x1 = [i[0] for i in items]\n",
        "    x2 = [Resize(50)(i[1].show()) for i in items];\n",
        "    y = [i[2] for i in items]\n",
        "    # display(x1[0])\n",
        "    # display(pd.DataFrame({'x':x1, 'y':y}, x2))\n",
        "    for i, (x1_, x2_, y_) in enumerate(zip(x1,x2,y)):\n",
        "        display(pd.DataFrame({'.':x1_, ' ':y_}, index= [i]),x2_)\n",
        "        i += 1\n",
        "        # display(x2_)"
      ],
      "execution_count": null,
      "outputs": []
    },
    {
      "cell_type": "code",
      "metadata": {
        "id": "gZpJbYQfcNyA",
        "colab_type": "code",
        "colab": {}
      },
      "source": [
        "# dls.show_one_batch()  #run to see one_batch"
      ],
      "execution_count": null,
      "outputs": []
    },
    {
      "cell_type": "code",
      "metadata": {
        "id": "_cHNLv9SwrdN",
        "colab_type": "code",
        "colab": {}
      },
      "source": [
        ""
      ],
      "execution_count": null,
      "outputs": []
    },
    {
      "cell_type": "markdown",
      "metadata": {
        "id": "1HUFkem2iaOm",
        "colab_type": "text"
      },
      "source": [
        "HYBRID MODEL"
      ]
    },
    {
      "cell_type": "code",
      "metadata": {
        "id": "BqsVCiejsXDV",
        "colab_type": "code",
        "colab": {}
      },
      "source": [
        "def bn_drop_lin_relu(nf, out, p, relu=True):\n",
        "    layers= [\n",
        "        nn.BatchNorm1d(nf),\n",
        "        nn.Dropout(p=p),\n",
        "        nn.Linear(nf, out)]\n",
        "    \n",
        "    if relu: layers.append(nn.ReLU(inplace=True))\n",
        "    return layers\n",
        "\n",
        "def load_body(body, pretrained_image_path=None):\n",
        "    # load resnet body dict from pretrained\n",
        "    body_model_dict = body.state_dict()\n",
        "    if pretrained_image_path is not None:\n",
        "        pretrained_dict = torch.load(pretrained_image_path, map_location=torch.device('cpu'))\n",
        "        needed_dict = {k:v for k, v in pretrained_dict['model'].items() if k in body_model_dict.keys()}\n",
        "        body_model_dict.update(needed_dict)\n",
        "    body.load_state_dict(body_model_dict)\n",
        "\n",
        "def create_body_feat(m, p, pretrained_image_path, last=512):\n",
        "    body = create_body(m)\n",
        "    nf = num_features_model(body)\n",
        "    layers = list(body.children()) + [AdaptiveConcatPool2d(), Flatten()] + bn_drop_lin_relu(nf*2, last, p)\n",
        "    body = nn.Sequential(*layers)\n",
        "    # load_body(body, pretrained_image_path)\n",
        "    return body, last\n",
        "\n",
        "def get_text_data(df):\n",
        "    txt_blk_cls = TextBlock.from_df(text_cols=['Title', 'Description'],\n",
        "                                vocab=dls.vocab[0],\n",
        "                                is_lm=False, \n",
        "                                seq_len=MAX_SEQ_LEN,                                 \n",
        "                                tok_func=SpacyTokenizer, \n",
        "                                lang='fr', \n",
        "                                res_col_name='text')\n",
        "    db_lm = DataBlock(blocks=txt_blk_cls, \n",
        "                    get_x=ColReader('text'), \n",
        "                    splitter=RandomSplitter(valid_pct=0.1, seed=42))\n",
        "    \n",
        "    dls_lm = db_lm.dataloaders(df, bs=8, seq_len=MAX_SEQ_LEN)\n",
        "    return dls_lm\n",
        "\n",
        "def prep_text_model(seq_len, p, encoder_path=None, last=50):\n",
        "    clas_learn = text_classifier_learner(get_text_data(df_all), arch=AWD_LSTM, loss_func=CrossEntropyLossFlat)\n",
        "    if encoder_path is not None: clas_learn.load_encoder(encoder_path)\n",
        "    layers = list(clas_learn.model.children())[:-1]\n",
        "    return SequentialRNN(*layers, PoolingLinearClassifier([1200, 100, last], ps=[p]*2, bptt=seq_len)), last"
      ],
      "execution_count": null,
      "outputs": []
    },
    {
      "cell_type": "code",
      "metadata": {
        "id": "4rKEQyqUibyX",
        "colab_type": "code",
        "colab": {}
      },
      "source": [
        "class HybridModel(nn.Module):\n",
        "    def __init__(self, img_body, text_body, imft, txtft, c):\n",
        "        super().__init__()\n",
        "        # image\n",
        "        self.img_body, self.imft = img_body, imft\n",
        "\n",
        "        # text\n",
        "        self.text_body, self.txtft = text_body, txtft\n",
        "\n",
        "        #merge\n",
        "        self.merge = nn.Sequential(*bn_drop_lin_relu(self.imft+self.txtft, 128, p))\n",
        "\n",
        "        #final\n",
        "        self.final = nn.Sequential(*bn_drop_lin_relu(128, c, 0., False))\n",
        "        \n",
        "    def forward(self, x1, x2):\n",
        "        # text\n",
        "        x1 = self.text_body(x1)[0] #Sselect only the true output, leave the dropout and raw outputs for use with RNNRegularizer        \n",
        "\n",
        "        # image\n",
        "        x2 = self.img_body(x2)\n",
        "\n",
        "        # concat\n",
        "        cat = torch.cat([x1, x2], dim=1)\n",
        "\n",
        "        # merge layer (bn+relu)\n",
        "        out = self.merge(cat)\n",
        "\n",
        "        # dense layer (bn+relu) to output\n",
        "        out = self.final(out)\n",
        "\n",
        "        return out"
      ],
      "execution_count": null,
      "outputs": []
    },
    {
      "cell_type": "code",
      "metadata": {
        "id": "vWWQBC5ZcQVQ",
        "colab_type": "code",
        "colab": {}
      },
      "source": [
        "# didn't yield good results\n",
        "\n",
        "# # grab the encoder mani trained\n",
        "# mani_path = colab_path/'models/mani_full_baseline.pth'\n",
        "\n",
        "# # grab the pretrained model tendo trained\n",
        "# tendo_path = colab_path/'models/img_10000_baseline.pth'"
      ],
      "execution_count": null,
      "outputs": []
    },
    {
      "cell_type": "code",
      "metadata": {
        "id": "DCCuYQ_YUQf0",
        "colab_type": "code",
        "colab": {
          "base_uri": "https://localhost:8080/",
          "height": 17
        },
        "outputId": "c2579261-14c2-4fdb-f2e0-550f5174c0f3"
      },
      "source": [
        "p = 0.25 #dropout\n",
        "seq_len = 72\n",
        "\n",
        "encoder_path = None #mani_path #language model encoder\n",
        "pretrained_image_path = None #tendo_path #tendo pretrained image model\n",
        "\n",
        "\n",
        "img_body, imft = create_body_feat(resnet50, p, pretrained_image_path)\n",
        "text_body, txtft = prep_text_model(encoder_path=encoder_path, seq_len=seq_len, p=p)"
      ],
      "execution_count": null,
      "outputs": [
        {
          "output_type": "display_data",
          "data": {
            "text/html": [
              ""
            ],
            "text/plain": [
              "<IPython.core.display.HTML object>"
            ]
          },
          "metadata": {
            "tags": []
          }
        }
      ]
    },
    {
      "cell_type": "code",
      "metadata": {
        "id": "XC2zkoseN8B1",
        "colab_type": "code",
        "colab": {}
      },
      "source": [
        "model = HybridModel(img_body, text_body, imft, txtft, dls.c)"
      ],
      "execution_count": null,
      "outputs": []
    },
    {
      "cell_type": "markdown",
      "metadata": {
        "id": "ZzL9NxCsFjKj",
        "colab_type": "text"
      },
      "source": [
        "## Training"
      ]
    },
    {
      "cell_type": "code",
      "metadata": {
        "id": "FS1CQFRsFh7_",
        "colab_type": "code",
        "colab": {}
      },
      "source": [
        "from sklearn.metrics import f1_score\n",
        "#Training Evaluation\n",
        "def macro_f1_score(y_pred, y_test):\n",
        "    score = f1_score(y_test, y_pred.argmax(-1), average=\"macro\")\n",
        "    return score"
      ],
      "execution_count": null,
      "outputs": []
    },
    {
      "cell_type": "code",
      "metadata": {
        "id": "dpvcnEXJKjft",
        "colab_type": "code",
        "colab": {}
      },
      "source": [
        "def hybrid_splitter(m):\n",
        "    'split the model from the body'\n",
        "    groups = [nn.Sequential(m.img_body, m.text_body)] + [m.merge, m.final]\n",
        "    return L(groups).map(params)"
      ],
      "execution_count": null,
      "outputs": []
    },
    {
      "cell_type": "code",
      "metadata": {
        "id": "TF7SJu1l_Axp",
        "colab_type": "code",
        "colab": {}
      },
      "source": [
        "learn = Learner(dls, model, loss_func=CrossEntropyLossFlat(), splitter=hybrid_splitter,\n",
        "                metrics=[accuracy, AccumMetric(macro_f1_score, flatten=False)])"
      ],
      "execution_count": null,
      "outputs": []
    },
    {
      "cell_type": "code",
      "metadata": {
        "id": "tDJWsLRERxhs",
        "colab_type": "code",
        "colab": {}
      },
      "source": [
        "learn.freeze()"
      ],
      "execution_count": null,
      "outputs": []
    },
    {
      "cell_type": "code",
      "metadata": {
        "id": "jwPZVpKr_8cR",
        "colab_type": "code",
        "colab": {}
      },
      "source": [
        "# learn.summary()"
      ],
      "execution_count": null,
      "outputs": []
    },
    {
      "cell_type": "code",
      "metadata": {
        "id": "0beyuXsb_93X",
        "colab_type": "code",
        "colab": {
          "base_uri": "https://localhost:8080/",
          "height": 34
        },
        "outputId": "54667fdb-6469-4a33-b2a1-c3b8f29a0e04"
      },
      "source": [
        "# learn.validate()"
      ],
      "execution_count": null,
      "outputs": [
        {
          "output_type": "display_data",
          "data": {
            "text/html": [
              ""
            ],
            "text/plain": [
              "<IPython.core.display.HTML object>"
            ]
          },
          "metadata": {
            "tags": []
          }
        },
        {
          "output_type": "execute_result",
          "data": {
            "text/plain": [
              "(#3) [2.8494129180908203,0.22750000655651093,0.08286069602062149]"
            ]
          },
          "metadata": {
            "tags": []
          },
          "execution_count": 76
        }
      ]
    },
    {
      "cell_type": "code",
      "metadata": {
        "id": "6S6_3kVeCvp0",
        "colab_type": "code",
        "colab": {
          "base_uri": "https://localhost:8080/",
          "height": 300
        },
        "outputId": "9cf360a9-775d-42b0-f6a4-14ff24abb0b3"
      },
      "source": [
        "learn.lr_find()"
      ],
      "execution_count": null,
      "outputs": [
        {
          "output_type": "display_data",
          "data": {
            "text/html": [
              ""
            ],
            "text/plain": [
              "<IPython.core.display.HTML object>"
            ]
          },
          "metadata": {
            "tags": []
          }
        },
        {
          "output_type": "execute_result",
          "data": {
            "text/plain": [
              "SuggestedLRs(lr_min=0.00010000000474974513, lr_steep=2.75422871709452e-06)"
            ]
          },
          "metadata": {
            "tags": []
          },
          "execution_count": 77
        },
        {
          "output_type": "display_data",
          "data": {
            "image/png": "[encoded data removed]",
            "text/plain": [
              "<Figure size 432x288 with 1 Axes>"
            ]
          },
          "metadata": {
            "tags": [],
            "needs_background": "light"
          }
        }
      ]
    },
    {
      "cell_type": "code",
      "metadata": {
        "id": "1w5U4tGnStEg",
        "colab_type": "code",
        "colab": {}
      },
      "source": [
        "learn.fit_one_cycle(6, 3e-03)"
      ],
      "execution_count": null,
      "outputs": []
    },
    {
      "cell_type": "code",
      "metadata": {
        "id": "8znZD-beA2EO",
        "colab_type": "code",
        "colab": {
          "base_uri": "https://localhost:8080/",
          "height": 300
        },
        "outputId": "49cf87ab-cfed-4666-e7a0-2bc48c2f8fc1"
      },
      "source": [
        "learn.unfreeze()\n",
        "learn.lr_find()"
      ],
      "execution_count": null,
      "outputs": [
        {
          "output_type": "display_data",
          "data": {
            "text/html": [
              ""
            ],
            "text/plain": [
              "<IPython.core.display.HTML object>"
            ]
          },
          "metadata": {
            "tags": []
          }
        },
        {
          "output_type": "execute_result",
          "data": {
            "text/plain": [
              "SuggestedLRs(lr_min=3.981071640737355e-05, lr_steep=9.12010818865383e-07)"
            ]
          },
          "metadata": {
            "tags": []
          },
          "execution_count": 69
        },
        {
          "output_type": "display_data",
          "data": {
            "image/png": "[encoded data removed]",
            "text/plain": [
              "<Figure size 432x288 with 1 Axes>"
            ]
          },
          "metadata": {
            "tags": [],
            "needs_background": "light"
          }
        }
      ]
    },
    {
      "cell_type": "code",
      "metadata": {
        "id": "oTj_NZ36V6AD",
        "colab_type": "code",
        "colab": {
          "base_uri": "https://localhost:8080/",
          "height": 472
        },
        "outputId": "66f5bd65-1ca8-44b1-e5c1-2b5e6990b36f"
      },
      "source": [
        "learn.fit_one_cycle(6, slice(1e-05, 1e-03))"
      ],
      "execution_count": null,
      "outputs": [
        {
          "output_type": "display_data",
          "data": {
            "text/html": [
              "<table border=\"1\" class=\"dataframe\">\n",
              "  <thead>\n",
              "    <tr style=\"text-align: left;\">\n",
              "      <th>epoch</th>\n",
              "      <th>train_loss</th>\n",
              "      <th>valid_loss</th>\n",
              "      <th>accuracy</th>\n",
              "      <th>macro_f1_score</th>\n",
              "      <th>time</th>\n",
              "    </tr>\n",
              "  </thead>\n",
              "  <tbody>\n",
              "    <tr>\n",
              "      <td>0</td>\n",
              "      <td>2.338493</td>\n",
              "      <td>2.106521</td>\n",
              "      <td>0.444500</td>\n",
              "      <td>0.313611</td>\n",
              "      <td>03:53</td>\n",
              "    </tr>\n",
              "    <tr>\n",
              "      <td>1</td>\n",
              "      <td>2.367722</td>\n",
              "      <td>2.048491</td>\n",
              "      <td>0.439500</td>\n",
              "      <td>0.298088</td>\n",
              "      <td>03:50</td>\n",
              "    </tr>\n",
              "    <tr>\n",
              "      <td>2</td>\n",
              "      <td>2.266754</td>\n",
              "      <td>2.138593</td>\n",
              "      <td>0.440000</td>\n",
              "      <td>0.299642</td>\n",
              "      <td>03:51</td>\n",
              "    </tr>\n",
              "    <tr>\n",
              "      <td>3</td>\n",
              "      <td>2.283725</td>\n",
              "      <td>00:04</td>\n",
              "    </tr>\n",
              "  </tbody>\n",
              "</table>"
            ],
            "text/plain": [
              "<IPython.core.display.HTML object>"
            ]
          },
          "metadata": {
            "tags": []
          }
        },
        {
          "output_type": "error",
          "ename": "KeyboardInterrupt",
          "evalue": "ignored",
          "traceback": [
            "\u001b[0;31m---------------------------------------------------------------------------\u001b[0m",
            "\u001b[0;31mKeyboardInterrupt\u001b[0m                         Traceback (most recent call last)",
            "\u001b[0;32m<ipython-input-71-d6eb2acecf2d>\u001b[0m in \u001b[0;36m<module>\u001b[0;34m()\u001b[0m\n\u001b[0;32m----> 1\u001b[0;31m \u001b[0mlearn\u001b[0m\u001b[0;34m.\u001b[0m\u001b[0mfit_one_cycle\u001b[0m\u001b[0;34m(\u001b[0m\u001b[0;36m6\u001b[0m\u001b[0;34m,\u001b[0m \u001b[0mslice\u001b[0m\u001b[0;34m(\u001b[0m\u001b[0;36m1e-05\u001b[0m\u001b[0;34m,\u001b[0m \u001b[0;36m1e-03\u001b[0m\u001b[0;34m)\u001b[0m\u001b[0;34m)\u001b[0m\u001b[0;34m\u001b[0m\u001b[0;34m\u001b[0m\u001b[0m\n\u001b[0m",
            "\u001b[0;32m/usr/local/lib/python3.6/dist-packages/fastcore/utils.py\u001b[0m in \u001b[0;36m_f\u001b[0;34m(*args, **kwargs)\u001b[0m\n\u001b[1;32m    429\u001b[0m         \u001b[0minit_args\u001b[0m\u001b[0;34m.\u001b[0m\u001b[0mupdate\u001b[0m\u001b[0;34m(\u001b[0m\u001b[0mlog\u001b[0m\u001b[0;34m)\u001b[0m\u001b[0;34m\u001b[0m\u001b[0;34m\u001b[0m\u001b[0m\n\u001b[1;32m    430\u001b[0m         \u001b[0msetattr\u001b[0m\u001b[0;34m(\u001b[0m\u001b[0minst\u001b[0m\u001b[0;34m,\u001b[0m \u001b[0;34m'init_args'\u001b[0m\u001b[0;34m,\u001b[0m \u001b[0minit_args\u001b[0m\u001b[0;34m)\u001b[0m\u001b[0;34m\u001b[0m\u001b[0;34m\u001b[0m\u001b[0m\n\u001b[0;32m--> 431\u001b[0;31m         \u001b[0;32mreturn\u001b[0m \u001b[0minst\u001b[0m \u001b[0;32mif\u001b[0m \u001b[0mto_return\u001b[0m \u001b[0;32melse\u001b[0m \u001b[0mf\u001b[0m\u001b[0;34m(\u001b[0m\u001b[0;34m*\u001b[0m\u001b[0margs\u001b[0m\u001b[0;34m,\u001b[0m \u001b[0;34m**\u001b[0m\u001b[0mkwargs\u001b[0m\u001b[0;34m)\u001b[0m\u001b[0;34m\u001b[0m\u001b[0;34m\u001b[0m\u001b[0m\n\u001b[0m\u001b[1;32m    432\u001b[0m     \u001b[0;32mreturn\u001b[0m \u001b[0m_f\u001b[0m\u001b[0;34m\u001b[0m\u001b[0;34m\u001b[0m\u001b[0m\n\u001b[1;32m    433\u001b[0m \u001b[0;34m\u001b[0m\u001b[0m\n",
            "\u001b[0;32m/usr/local/lib/python3.6/dist-packages/fastai2/callback/schedule.py\u001b[0m in \u001b[0;36mfit_one_cycle\u001b[0;34m(self, n_epoch, lr_max, div, div_final, pct_start, wd, moms, cbs, reset_opt)\u001b[0m\n\u001b[1;32m    111\u001b[0m     scheds = {'lr': combined_cos(pct_start, lr_max/div, lr_max, lr_max/div_final),\n\u001b[1;32m    112\u001b[0m               'mom': combined_cos(pct_start, *(self.moms if moms is None else moms))}\n\u001b[0;32m--> 113\u001b[0;31m     \u001b[0mself\u001b[0m\u001b[0;34m.\u001b[0m\u001b[0mfit\u001b[0m\u001b[0;34m(\u001b[0m\u001b[0mn_epoch\u001b[0m\u001b[0;34m,\u001b[0m \u001b[0mcbs\u001b[0m\u001b[0;34m=\u001b[0m\u001b[0mParamScheduler\u001b[0m\u001b[0;34m(\u001b[0m\u001b[0mscheds\u001b[0m\u001b[0;34m)\u001b[0m\u001b[0;34m+\u001b[0m\u001b[0mL\u001b[0m\u001b[0;34m(\u001b[0m\u001b[0mcbs\u001b[0m\u001b[0;34m)\u001b[0m\u001b[0;34m,\u001b[0m \u001b[0mreset_opt\u001b[0m\u001b[0;34m=\u001b[0m\u001b[0mreset_opt\u001b[0m\u001b[0;34m,\u001b[0m \u001b[0mwd\u001b[0m\u001b[0;34m=\u001b[0m\u001b[0mwd\u001b[0m\u001b[0;34m)\u001b[0m\u001b[0;34m\u001b[0m\u001b[0;34m\u001b[0m\u001b[0m\n\u001b[0m\u001b[1;32m    114\u001b[0m \u001b[0;34m\u001b[0m\u001b[0m\n\u001b[1;32m    115\u001b[0m \u001b[0;31m# Cell\u001b[0m\u001b[0;34m\u001b[0m\u001b[0;34m\u001b[0m\u001b[0;34m\u001b[0m\u001b[0m\n",
            "\u001b[0;32m/usr/local/lib/python3.6/dist-packages/fastcore/utils.py\u001b[0m in \u001b[0;36m_f\u001b[0;34m(*args, **kwargs)\u001b[0m\n\u001b[1;32m    429\u001b[0m         \u001b[0minit_args\u001b[0m\u001b[0;34m.\u001b[0m\u001b[0mupdate\u001b[0m\u001b[0;34m(\u001b[0m\u001b[0mlog\u001b[0m\u001b[0;34m)\u001b[0m\u001b[0;34m\u001b[0m\u001b[0;34m\u001b[0m\u001b[0m\n\u001b[1;32m    430\u001b[0m         \u001b[0msetattr\u001b[0m\u001b[0;34m(\u001b[0m\u001b[0minst\u001b[0m\u001b[0;34m,\u001b[0m \u001b[0;34m'init_args'\u001b[0m\u001b[0;34m,\u001b[0m \u001b[0minit_args\u001b[0m\u001b[0;34m)\u001b[0m\u001b[0;34m\u001b[0m\u001b[0;34m\u001b[0m\u001b[0m\n\u001b[0;32m--> 431\u001b[0;31m         \u001b[0;32mreturn\u001b[0m \u001b[0minst\u001b[0m \u001b[0;32mif\u001b[0m \u001b[0mto_return\u001b[0m \u001b[0;32melse\u001b[0m \u001b[0mf\u001b[0m\u001b[0;34m(\u001b[0m\u001b[0;34m*\u001b[0m\u001b[0margs\u001b[0m\u001b[0;34m,\u001b[0m \u001b[0;34m**\u001b[0m\u001b[0mkwargs\u001b[0m\u001b[0;34m)\u001b[0m\u001b[0;34m\u001b[0m\u001b[0;34m\u001b[0m\u001b[0m\n\u001b[0m\u001b[1;32m    432\u001b[0m     \u001b[0;32mreturn\u001b[0m \u001b[0m_f\u001b[0m\u001b[0;34m\u001b[0m\u001b[0;34m\u001b[0m\u001b[0m\n\u001b[1;32m    433\u001b[0m \u001b[0;34m\u001b[0m\u001b[0m\n",
            "\u001b[0;32m/usr/local/lib/python3.6/dist-packages/fastai2/learner.py\u001b[0m in \u001b[0;36mfit\u001b[0;34m(self, n_epoch, lr, wd, cbs, reset_opt)\u001b[0m\n\u001b[1;32m    198\u001b[0m                     \u001b[0;32mtry\u001b[0m\u001b[0;34m:\u001b[0m\u001b[0;34m\u001b[0m\u001b[0;34m\u001b[0m\u001b[0m\n\u001b[1;32m    199\u001b[0m                         \u001b[0mself\u001b[0m\u001b[0;34m.\u001b[0m\u001b[0mepoch\u001b[0m\u001b[0;34m=\u001b[0m\u001b[0mepoch\u001b[0m\u001b[0;34m;\u001b[0m          \u001b[0mself\u001b[0m\u001b[0;34m(\u001b[0m\u001b[0;34m'begin_epoch'\u001b[0m\u001b[0;34m)\u001b[0m\u001b[0;34m\u001b[0m\u001b[0;34m\u001b[0m\u001b[0m\n\u001b[0;32m--> 200\u001b[0;31m                         \u001b[0mself\u001b[0m\u001b[0;34m.\u001b[0m\u001b[0m_do_epoch_train\u001b[0m\u001b[0;34m(\u001b[0m\u001b[0;34m)\u001b[0m\u001b[0;34m\u001b[0m\u001b[0;34m\u001b[0m\u001b[0m\n\u001b[0m\u001b[1;32m    201\u001b[0m                         \u001b[0mself\u001b[0m\u001b[0;34m.\u001b[0m\u001b[0m_do_epoch_validate\u001b[0m\u001b[0;34m(\u001b[0m\u001b[0;34m)\u001b[0m\u001b[0;34m\u001b[0m\u001b[0;34m\u001b[0m\u001b[0m\n\u001b[1;32m    202\u001b[0m                     \u001b[0;32mexcept\u001b[0m \u001b[0mCancelEpochException\u001b[0m\u001b[0;34m:\u001b[0m   \u001b[0mself\u001b[0m\u001b[0;34m(\u001b[0m\u001b[0;34m'after_cancel_epoch'\u001b[0m\u001b[0;34m)\u001b[0m\u001b[0;34m\u001b[0m\u001b[0;34m\u001b[0m\u001b[0m\n",
            "\u001b[0;32m/usr/local/lib/python3.6/dist-packages/fastai2/learner.py\u001b[0m in \u001b[0;36m_do_epoch_train\u001b[0;34m(self)\u001b[0m\n\u001b[1;32m    173\u001b[0m         \u001b[0;32mtry\u001b[0m\u001b[0;34m:\u001b[0m\u001b[0;34m\u001b[0m\u001b[0;34m\u001b[0m\u001b[0m\n\u001b[1;32m    174\u001b[0m             \u001b[0mself\u001b[0m\u001b[0;34m.\u001b[0m\u001b[0mdl\u001b[0m \u001b[0;34m=\u001b[0m \u001b[0mself\u001b[0m\u001b[0;34m.\u001b[0m\u001b[0mdls\u001b[0m\u001b[0;34m.\u001b[0m\u001b[0mtrain\u001b[0m\u001b[0;34m;\u001b[0m                        \u001b[0mself\u001b[0m\u001b[0;34m(\u001b[0m\u001b[0;34m'begin_train'\u001b[0m\u001b[0;34m)\u001b[0m\u001b[0;34m\u001b[0m\u001b[0;34m\u001b[0m\u001b[0m\n\u001b[0;32m--> 175\u001b[0;31m             \u001b[0mself\u001b[0m\u001b[0;34m.\u001b[0m\u001b[0mall_batches\u001b[0m\u001b[0;34m(\u001b[0m\u001b[0;34m)\u001b[0m\u001b[0;34m\u001b[0m\u001b[0;34m\u001b[0m\u001b[0m\n\u001b[0m\u001b[1;32m    176\u001b[0m         \u001b[0;32mexcept\u001b[0m \u001b[0mCancelTrainException\u001b[0m\u001b[0;34m:\u001b[0m                         \u001b[0mself\u001b[0m\u001b[0;34m(\u001b[0m\u001b[0;34m'after_cancel_train'\u001b[0m\u001b[0;34m)\u001b[0m\u001b[0;34m\u001b[0m\u001b[0;34m\u001b[0m\u001b[0m\n\u001b[1;32m    177\u001b[0m         \u001b[0;32mfinally\u001b[0m\u001b[0;34m:\u001b[0m                                             \u001b[0mself\u001b[0m\u001b[0;34m(\u001b[0m\u001b[0;34m'after_train'\u001b[0m\u001b[0;34m)\u001b[0m\u001b[0;34m\u001b[0m\u001b[0;34m\u001b[0m\u001b[0m\n",
            "\u001b[0;32m/usr/local/lib/python3.6/dist-packages/fastai2/learner.py\u001b[0m in \u001b[0;36mall_batches\u001b[0;34m(self)\u001b[0m\n\u001b[1;32m    151\u001b[0m     \u001b[0;32mdef\u001b[0m \u001b[0mall_batches\u001b[0m\u001b[0;34m(\u001b[0m\u001b[0mself\u001b[0m\u001b[0;34m)\u001b[0m\u001b[0;34m:\u001b[0m\u001b[0;34m\u001b[0m\u001b[0;34m\u001b[0m\u001b[0m\n\u001b[1;32m    152\u001b[0m         \u001b[0mself\u001b[0m\u001b[0;34m.\u001b[0m\u001b[0mn_iter\u001b[0m \u001b[0;34m=\u001b[0m \u001b[0mlen\u001b[0m\u001b[0;34m(\u001b[0m\u001b[0mself\u001b[0m\u001b[0;34m.\u001b[0m\u001b[0mdl\u001b[0m\u001b[0;34m)\u001b[0m\u001b[0;34m\u001b[0m\u001b[0;34m\u001b[0m\u001b[0m\n\u001b[0;32m--> 153\u001b[0;31m         \u001b[0;32mfor\u001b[0m \u001b[0mo\u001b[0m \u001b[0;32min\u001b[0m \u001b[0menumerate\u001b[0m\u001b[0;34m(\u001b[0m\u001b[0mself\u001b[0m\u001b[0;34m.\u001b[0m\u001b[0mdl\u001b[0m\u001b[0;34m)\u001b[0m\u001b[0;34m:\u001b[0m \u001b[0mself\u001b[0m\u001b[0;34m.\u001b[0m\u001b[0mone_batch\u001b[0m\u001b[0;34m(\u001b[0m\u001b[0;34m*\u001b[0m\u001b[0mo\u001b[0m\u001b[0;34m)\u001b[0m\u001b[0;34m\u001b[0m\u001b[0;34m\u001b[0m\u001b[0m\n\u001b[0m\u001b[1;32m    154\u001b[0m \u001b[0;34m\u001b[0m\u001b[0m\n\u001b[1;32m    155\u001b[0m     \u001b[0;32mdef\u001b[0m \u001b[0mone_batch\u001b[0m\u001b[0;34m(\u001b[0m\u001b[0mself\u001b[0m\u001b[0;34m,\u001b[0m \u001b[0mi\u001b[0m\u001b[0;34m,\u001b[0m \u001b[0mb\u001b[0m\u001b[0;34m)\u001b[0m\u001b[0;34m:\u001b[0m\u001b[0;34m\u001b[0m\u001b[0;34m\u001b[0m\u001b[0m\n",
            "\u001b[0;32m/usr/local/lib/python3.6/dist-packages/fastai2/learner.py\u001b[0m in \u001b[0;36mone_batch\u001b[0;34m(self, i, b)\u001b[0m\n\u001b[1;32m    161\u001b[0m             \u001b[0mself\u001b[0m\u001b[0;34m.\u001b[0m\u001b[0mloss\u001b[0m \u001b[0;34m=\u001b[0m \u001b[0mself\u001b[0m\u001b[0;34m.\u001b[0m\u001b[0mloss_func\u001b[0m\u001b[0;34m(\u001b[0m\u001b[0mself\u001b[0m\u001b[0;34m.\u001b[0m\u001b[0mpred\u001b[0m\u001b[0;34m,\u001b[0m \u001b[0;34m*\u001b[0m\u001b[0mself\u001b[0m\u001b[0;34m.\u001b[0m\u001b[0myb\u001b[0m\u001b[0;34m)\u001b[0m\u001b[0;34m;\u001b[0m \u001b[0mself\u001b[0m\u001b[0;34m(\u001b[0m\u001b[0;34m'after_loss'\u001b[0m\u001b[0;34m)\u001b[0m\u001b[0;34m\u001b[0m\u001b[0;34m\u001b[0m\u001b[0m\n\u001b[1;32m    162\u001b[0m             \u001b[0;32mif\u001b[0m \u001b[0;32mnot\u001b[0m \u001b[0mself\u001b[0m\u001b[0;34m.\u001b[0m\u001b[0mtraining\u001b[0m\u001b[0;34m:\u001b[0m \u001b[0;32mreturn\u001b[0m\u001b[0;34m\u001b[0m\u001b[0;34m\u001b[0m\u001b[0m\n\u001b[0;32m--> 163\u001b[0;31m             \u001b[0mself\u001b[0m\u001b[0;34m.\u001b[0m\u001b[0mloss\u001b[0m\u001b[0;34m.\u001b[0m\u001b[0mbackward\u001b[0m\u001b[0;34m(\u001b[0m\u001b[0;34m)\u001b[0m\u001b[0;34m;\u001b[0m                            \u001b[0mself\u001b[0m\u001b[0;34m(\u001b[0m\u001b[0;34m'after_backward'\u001b[0m\u001b[0;34m)\u001b[0m\u001b[0;34m\u001b[0m\u001b[0;34m\u001b[0m\u001b[0m\n\u001b[0m\u001b[1;32m    164\u001b[0m             \u001b[0mself\u001b[0m\u001b[0;34m.\u001b[0m\u001b[0mopt\u001b[0m\u001b[0;34m.\u001b[0m\u001b[0mstep\u001b[0m\u001b[0;34m(\u001b[0m\u001b[0;34m)\u001b[0m\u001b[0;34m;\u001b[0m                                 \u001b[0mself\u001b[0m\u001b[0;34m(\u001b[0m\u001b[0;34m'after_step'\u001b[0m\u001b[0;34m)\u001b[0m\u001b[0;34m\u001b[0m\u001b[0;34m\u001b[0m\u001b[0m\n\u001b[1;32m    165\u001b[0m             \u001b[0mself\u001b[0m\u001b[0;34m.\u001b[0m\u001b[0mopt\u001b[0m\u001b[0;34m.\u001b[0m\u001b[0mzero_grad\u001b[0m\u001b[0;34m(\u001b[0m\u001b[0;34m)\u001b[0m\u001b[0;34m\u001b[0m\u001b[0;34m\u001b[0m\u001b[0m\n",
            "\u001b[0;32m/usr/local/lib/python3.6/dist-packages/torch/tensor.py\u001b[0m in \u001b[0;36mbackward\u001b[0;34m(self, gradient, retain_graph, create_graph)\u001b[0m\n\u001b[1;32m    196\u001b[0m                 \u001b[0mproducts\u001b[0m\u001b[0;34m.\u001b[0m \u001b[0mDefaults\u001b[0m \u001b[0mto\u001b[0m\u001b[0;31m \u001b[0m\u001b[0;31m`\u001b[0m\u001b[0;31m`\u001b[0m\u001b[0;32mFalse\u001b[0m\u001b[0;31m`\u001b[0m\u001b[0;31m`\u001b[0m\u001b[0;34m.\u001b[0m\u001b[0;34m\u001b[0m\u001b[0;34m\u001b[0m\u001b[0m\n\u001b[1;32m    197\u001b[0m         \"\"\"\n\u001b[0;32m--> 198\u001b[0;31m         \u001b[0mtorch\u001b[0m\u001b[0;34m.\u001b[0m\u001b[0mautograd\u001b[0m\u001b[0;34m.\u001b[0m\u001b[0mbackward\u001b[0m\u001b[0;34m(\u001b[0m\u001b[0mself\u001b[0m\u001b[0;34m,\u001b[0m \u001b[0mgradient\u001b[0m\u001b[0;34m,\u001b[0m \u001b[0mretain_graph\u001b[0m\u001b[0;34m,\u001b[0m \u001b[0mcreate_graph\u001b[0m\u001b[0;34m)\u001b[0m\u001b[0;34m\u001b[0m\u001b[0;34m\u001b[0m\u001b[0m\n\u001b[0m\u001b[1;32m    199\u001b[0m \u001b[0;34m\u001b[0m\u001b[0m\n\u001b[1;32m    200\u001b[0m     \u001b[0;32mdef\u001b[0m \u001b[0mregister_hook\u001b[0m\u001b[0;34m(\u001b[0m\u001b[0mself\u001b[0m\u001b[0;34m,\u001b[0m \u001b[0mhook\u001b[0m\u001b[0;34m)\u001b[0m\u001b[0;34m:\u001b[0m\u001b[0;34m\u001b[0m\u001b[0;34m\u001b[0m\u001b[0m\n",
            "\u001b[0;32m/usr/local/lib/python3.6/dist-packages/torch/autograd/__init__.py\u001b[0m in \u001b[0;36mbackward\u001b[0;34m(tensors, grad_tensors, retain_graph, create_graph, grad_variables)\u001b[0m\n\u001b[1;32m     98\u001b[0m     Variable._execution_engine.run_backward(\n\u001b[1;32m     99\u001b[0m         \u001b[0mtensors\u001b[0m\u001b[0;34m,\u001b[0m \u001b[0mgrad_tensors\u001b[0m\u001b[0;34m,\u001b[0m \u001b[0mretain_graph\u001b[0m\u001b[0;34m,\u001b[0m \u001b[0mcreate_graph\u001b[0m\u001b[0;34m,\u001b[0m\u001b[0;34m\u001b[0m\u001b[0;34m\u001b[0m\u001b[0m\n\u001b[0;32m--> 100\u001b[0;31m         allow_unreachable=True)  # allow_unreachable flag\n\u001b[0m\u001b[1;32m    101\u001b[0m \u001b[0;34m\u001b[0m\u001b[0m\n\u001b[1;32m    102\u001b[0m \u001b[0;34m\u001b[0m\u001b[0m\n",
            "\u001b[0;31mKeyboardInterrupt\u001b[0m: "
          ]
        }
      ]
    },
    {
      "cell_type": "code",
      "metadata": {
        "id": "BZl2erOcWA1f",
        "colab_type": "code",
        "colab": {}
      },
      "source": [
        "learn.save(colab_path/'models/hybrid_model')"
      ],
      "execution_count": null,
      "outputs": []
    },
    {
      "cell_type": "markdown",
      "metadata": {
        "id": "sn8wszIoTmWX",
        "colab_type": "text"
      },
      "source": [
        "## EValuation"
      ]
    },
    {
      "cell_type": "code",
      "metadata": {
        "id": "eLctmJ4aTtqi",
        "colab_type": "code",
        "colab": {}
      },
      "source": [
        "TEST_FILENAME=colab_path/'SIGIR-2020-EComDC-release/data/x_test_task1_phase1.tsv'\n",
        "test_df = pd.read_csv(TEST_FILENAME, sep='\\t')"
      ],
      "execution_count": null,
      "outputs": []
    },
    {
      "cell_type": "code",
      "metadata": {
        "id": "HpAXJy64TtFE",
        "colab_type": "code",
        "colab": {}
      },
      "source": [
        "test_df['Description'] = test_df['Description'].fillna(' ')"
      ],
      "execution_count": null,
      "outputs": []
    },
    {
      "cell_type": "code",
      "metadata": {
        "id": "lryHcFZBXjqg",
        "colab_type": "code",
        "colab": {
          "base_uri": "https://localhost:8080/",
          "height": 1000
        },
        "outputId": "844fc32e-a739-4b69-e202-3f5c668cf157"
      },
      "source": [
        "test_df.head()"
      ],
      "execution_count": null,
      "outputs": [
        {
          "output_type": "execute_result",
          "data": {
            "text/html": [
              "<div>\n",
              "<style scoped>\n",
              "    .dataframe tbody tr th:only-of-type {\n",
              "        vertical-align: middle;\n",
              "    }\n",
              "\n",
              "    .dataframe tbody tr th {\n",
              "        vertical-align: top;\n",
              "    }\n",
              "\n",
              "    .dataframe thead th {\n",
              "        text-align: right;\n",
              "    }\n",
              "</style>\n",
              "<table border=\"1\" class=\"dataframe\">\n",
              "  <thead>\n",
              "    <tr style=\"text-align: right;\">\n",
              "      <th></th>\n",
              "      <th>Integer_id</th>\n",
              "      <th>Title</th>\n",
              "      <th>Description</th>\n",
              "      <th>Image_id</th>\n",
              "      <th>Product_id</th>\n",
              "    </tr>\n",
              "  </thead>\n",
              "  <tbody>\n",
              "    <tr>\n",
              "      <th>0</th>\n",
              "      <td>0</td>\n",
              "      <td>Jeep Police - Gevarm-Gevarm</td>\n",
              "      <td></td>\n",
              "      <td>1193217616</td>\n",
              "      <td>3136702026</td>\n",
              "    </tr>\n",
              "    <tr>\n",
              "      <th>1</th>\n",
              "      <td>1</td>\n",
              "      <td>Court Joyeux Noël En Peluche Taie Sofa Set Pad Décoration 18x18 Pouces Pillow Case 28537</td>\n",
              "      <td>Joyeux Noël en peluche court Taie Sofa Set Pad Décoration 18x18 pouces Spécification: Matériel: style court peluche: Taille de mode (approx.): 45x45cm La taille peut avoir un écart de 0.5-2cm en raison de produit par date. Entretien: Lavable à la main ou lavage à l&amp;#39;eau froide au cycle délicat. Ne pas utiliser l&amp;#39;eau de Javel. Fermeture à glissière cachée. Insérer est vendu séparément Il peut être utilisé pour décorer le salon faire paraître à la maison chaleur plus confortable. Remarque: S&amp;#39;il vous plaît permettre erreur mineure en raison de la mesure manuelle. En raison de la di...</td>\n",
              "      <td>1323615566</td>\n",
              "      <td>4231863665</td>\n",
              "    </tr>\n",
              "    <tr>\n",
              "      <th>2</th>\n",
              "      <td>2</td>\n",
              "      <td>Sauna infrarouge Largo - 170 x 105 x 190 - Pin blanc</td>\n",
              "      <td>Dimensions : 150x105x190 cm ou 170x105x190 cm //// Nombre de places : 2 - 3 places assises //// Extérieur : Au choix : érable ou pin blanc ou cèdre rouge //// Intérieur : Au choix : érable ou pin blanc ou cèdre rouge //// Verre : Verre trempé 8-10 mm //// Température ajustable : Oui //// Contrôles et réglages : Panneau de commande tactile GD530 //// Multimédia : Radio station à mémoire avec connexion CD //// Poêle : Conduite chauffante //// Lumières : Lampe à lumière colorée Panneau en bois rétroéclairé.</td>\n",
              "      <td>1158121321</td>\n",
              "      <td>2695198357</td>\n",
              "    </tr>\n",
              "    <tr>\n",
              "      <th>3</th>\n",
              "      <td>3</td>\n",
              "      <td>BAGUE POUR LAME SOUS-SOLEUSE G. ET D.</td>\n",
              "      <td></td>\n",
              "      <td>1096607258</td>\n",
              "      <td>1657064583</td>\n",
              "    </tr>\n",
              "    <tr>\n",
              "      <th>4</th>\n",
              "      <td>4</td>\n",
              "      <td>Carnet De Notes Bloc-Notes Cahierindian Squelette Flamen Pr¿º Tre Sacrifice Totem Taustration Sch¿¿Ma Les Carnets De Travail Classique Sur Support Papier Cadeau Tissu</td>\n",
              "      <td>Taille: En format A5 (144 cm x 21 cm) Caract¿¿ristique: -Excellente durabilit¿¿ avec couverture solide design. 96 pages jaune pale (recto et verso) -Texture de papier de haute qualit¿¿:  ¿¿crire facilement sur et assez ¿¿paisse.</td>\n",
              "      <td>1303625028</td>\n",
              "      <td>4159071068</td>\n",
              "    </tr>\n",
              "  </tbody>\n",
              "</table>\n",
              "</div>"
            ],
            "text/plain": [
              "   Integer_id  ...  Product_id\n",
              "0           0  ...  3136702026\n",
              "1           1  ...  4231863665\n",
              "2           2  ...  2695198357\n",
              "3           3  ...  1657064583\n",
              "4           4  ...  4159071068\n",
              "\n",
              "[5 rows x 5 columns]"
            ]
          },
          "metadata": {
            "tags": []
          },
          "execution_count": 69
        }
      ]
    },
    {
      "cell_type": "markdown",
      "metadata": {
        "id": "deXMVUJCYA_H",
        "colab_type": "text"
      },
      "source": [
        "add image path to the test_df"
      ]
    },
    {
      "cell_type": "code",
      "metadata": {
        "id": "YB1CklRvBKaA",
        "colab_type": "code",
        "colab": {}
      },
      "source": [
        "# all images in test set\n",
        "test_img_path = colab_path/'SIGIR-2020-EComDC-release/image/image_test'"
      ],
      "execution_count": null,
      "outputs": []
    },
    {
      "cell_type": "code",
      "metadata": {
        "id": "lo3QgN37C8ZR",
        "colab_type": "code",
        "colab": {
          "base_uri": "https://localhost:8080/",
          "height": 34
        },
        "outputId": "fd9514e0-2bb0-465e-f2be-c5f7a15ef170"
      },
      "source": [
        "test_files = get_image_files(test_img_path); len(test_files)"
      ],
      "execution_count": null,
      "outputs": [
        {
          "output_type": "execute_result",
          "data": {
            "text/plain": [
              "1381"
            ]
          },
          "metadata": {
            "tags": []
          },
          "execution_count": 74
        }
      ]
    },
    {
      "cell_type": "code",
      "metadata": {
        "id": "qGdWUNTjDLHp",
        "colab_type": "code",
        "colab": {
          "base_uri": "https://localhost:8080/",
          "height": 34
        },
        "outputId": "e6ea1845-cefc-4dfd-f228-cf67a40d73fa"
      },
      "source": [
        "test_df.shape"
      ],
      "execution_count": null,
      "outputs": [
        {
          "output_type": "execute_result",
          "data": {
            "text/plain": [
              "(937, 5)"
            ]
          },
          "metadata": {
            "tags": []
          },
          "execution_count": 75
        }
      ]
    },
    {
      "cell_type": "code",
      "metadata": {
        "id": "atROD0fRCFcu",
        "colab_type": "code",
        "colab": {}
      },
      "source": [
        "test_prdid2path_dict = dict()\n",
        "pat = r'([0-9]+).jpg$'\n",
        "for img_path in test_files:\n",
        "    idx = re.search(pat, str(img_path)).group(0)\n",
        "    # if int(idx[:-4]) == id_:\n",
        "    test_prdid2path_dict[int(idx[:-4])] = img_path"
      ],
      "execution_count": null,
      "outputs": []
    },
    {
      "cell_type": "code",
      "metadata": {
        "id": "tuAceUy6C0p1",
        "colab_type": "code",
        "colab": {}
      },
      "source": [
        "def add_img_path(id_):\n",
        "    return test_prdid2path_dict[id_]"
      ],
      "execution_count": null,
      "outputs": []
    },
    {
      "cell_type": "code",
      "metadata": {
        "id": "f0dtsPW1C1P3",
        "colab_type": "code",
        "colab": {}
      },
      "source": [
        "test_df['image_path'] = test_df.Product_id.apply(add_img_path)"
      ],
      "execution_count": null,
      "outputs": []
    },
    {
      "cell_type": "code",
      "metadata": {
        "id": "9qdrx3coR7IF",
        "colab_type": "code",
        "colab": {
          "base_uri": "https://localhost:8080/",
          "height": 17
        },
        "outputId": "2b8b8167-59c9-4927-c3e7-20d1111a19b1"
      },
      "source": [
        "test_items = tokenize_df(df=test_df[:6], text_cols=['Title', 'Description'], mark_fields=True, tok_func=SpacyTokenizer, lang='fr', res_col_name='text')"
      ],
      "execution_count": null,
      "outputs": [
        {
          "output_type": "display_data",
          "data": {
            "text/html": [
              ""
            ],
            "text/plain": [
              "<IPython.core.display.HTML object>"
            ]
          },
          "metadata": {
            "tags": []
          }
        }
      ]
    },
    {
      "cell_type": "code",
      "metadata": {
        "id": "H6CWisB8IIrp",
        "colab_type": "code",
        "colab": {}
      },
      "source": [
        "test_dl = learn.dls.test_dl(test_items = test_items[0])"
      ],
      "execution_count": null,
      "outputs": []
    },
    {
      "cell_type": "code",
      "metadata": {
        "id": "JvtAz1qWRsUK",
        "colab_type": "code",
        "colab": {}
      },
      "source": [
        "# test_dl.show_batch()   #yet to be implemented. Just use typedispatch"
      ],
      "execution_count": null,
      "outputs": []
    },
    {
      "cell_type": "code",
      "metadata": {
        "id": "5_eMNzcGS2cJ",
        "colab_type": "code",
        "colab": {}
      },
      "source": [
        "# test_dl.one_batch()"
      ],
      "execution_count": null,
      "outputs": []
    },
    {
      "cell_type": "code",
      "metadata": {
        "id": "19NUiMcBS8Rf",
        "colab_type": "code",
        "colab": {
          "base_uri": "https://localhost:8080/",
          "height": 17
        },
        "outputId": "dc226639-f233-46bb-8bb7-5aa1490a73b1"
      },
      "source": [
        "preds_raw, _, preds = learn.get_preds(dl=test_dl, with_decoded=True)"
      ],
      "execution_count": null,
      "outputs": [
        {
          "output_type": "display_data",
          "data": {
            "text/html": [
              ""
            ],
            "text/plain": [
              "<IPython.core.display.HTML object>"
            ]
          },
          "metadata": {
            "tags": []
          }
        }
      ]
    },
    {
      "cell_type": "code",
      "metadata": {
        "id": "X6dVCR89TCLJ",
        "colab_type": "code",
        "colab": {
          "base_uri": "https://localhost:8080/",
          "height": 34
        },
        "outputId": "b7138e14-70d1-45ef-f5cb-7ffe02a23ca6"
      },
      "source": [
        "learn.dls.categorize.vocab[preds]"
      ],
      "execution_count": null,
      "outputs": [
        {
          "output_type": "execute_result",
          "data": {
            "text/plain": [
              "(#6) [2705,2705,2705,2705,2705,2705]"
            ]
          },
          "metadata": {
            "tags": []
          },
          "execution_count": 88
        }
      ]
    },
    {
      "cell_type": "code",
      "metadata": {
        "id": "FzEo7ZJMTFsv",
        "colab_type": "code",
        "colab": {
          "base_uri": "https://localhost:8080/",
          "height": 138
        },
        "outputId": "d1b51846-654a-49d7-a009-6c30fbcf4bae"
      },
      "source": [
        "test_df.loc['Prdtypecode', :] = learn.dls.categorize.vocab[preds]"
      ],
      "execution_count": null,
      "outputs": [
        {
          "output_type": "stream",
          "text": [
            "/usr/local/lib/python3.6/dist-packages/ipykernel_launcher.py:1: SettingWithCopyWarning: \n",
            "A value is trying to be set on a copy of a slice from a DataFrame.\n",
            "Try using .loc[row_indexer,col_indexer] = value instead\n",
            "\n",
            "See the caveats in the documentation: https://pandas.pydata.org/pandas-docs/stable/user_guide/indexing.html#returning-a-view-versus-a-copy\n",
            "  \"\"\"Entry point for launching an IPython kernel.\n"
          ],
          "name": "stderr"
        }
      ]
    },
    {
      "cell_type": "code",
      "metadata": {
        "id": "-VUtTbeYTY1i",
        "colab_type": "code",
        "colab": {}
      },
      "source": [
        "test_df.head(2)"
      ],
      "execution_count": null,
      "outputs": []
    },
    {
      "cell_type": "code",
      "metadata": {
        "id": "F3m18fbJTamh",
        "colab_type": "code",
        "colab": {}
      },
      "source": [
        "test_df[['Integer_id', 'Image_id', 'Product_id', 'Prdtypecode']].to_csv(colab_path/'submission_baseline_10000_score_38.4.tsv', index=False, sep='\\t')"
      ],
      "execution_count": null,
      "outputs": []
    }
  ]
}