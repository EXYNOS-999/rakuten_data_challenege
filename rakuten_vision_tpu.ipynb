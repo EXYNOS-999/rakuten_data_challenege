{
  "nbformat": 4,
  "nbformat_minor": 0,
  "metadata": {
    "kernelspec": {
      "name": "python3",
      "display_name": "Python 3",
      "language": "python"
    },
    "language_info": {
      "name": "python",
      "version": "3.7.6",
      "mimetype": "text/x-python",
      "codemirror_mode": {
        "name": "ipython",
        "version": 3
      },
      "pygments_lexer": "ipython3",
      "nbconvert_exporter": "python",
      "file_extension": ".py"
    },
    "colab": {
      "name": "Copy of rakuten_vision.ipynb",
      "provenance": [],
      "collapsed_sections": [
        "H1CyZah0b5QF",
        "JpLkKN3a_XIf"
      ]
    },
    "widgets": {
      "application/vnd.jupyter.widget-state+json": {
        "79988a7d033640fc94ce17005747d7e3": {
          "model_module": "@jupyter-widgets/controls",
          "model_name": "HBoxModel",
          "state": {
            "_view_name": "HBoxView",
            "_dom_classes": [],
            "_model_name": "HBoxModel",
            "_view_module": "@jupyter-widgets/controls",
            "_model_module_version": "1.5.0",
            "_view_count": null,
            "_view_module_version": "1.5.0",
            "box_style": "",
            "layout": "IPY_MODEL_3ce10a0ae10c4eb3bc0d49ce1f14bea6",
            "_model_module": "@jupyter-widgets/controls",
            "children": [
              "IPY_MODEL_07a55ee2dfc44d9a8695776840d41fba",
              "IPY_MODEL_05b0ba0b113a454695d9a88c4d1831c7"
            ]
          }
        },
        "3ce10a0ae10c4eb3bc0d49ce1f14bea6": {
          "model_module": "@jupyter-widgets/base",
          "model_name": "LayoutModel",
          "state": {
            "_view_name": "LayoutView",
            "grid_template_rows": null,
            "right": null,
            "justify_content": null,
            "_view_module": "@jupyter-widgets/base",
            "overflow": null,
            "_model_module_version": "1.2.0",
            "_view_count": null,
            "flex_flow": null,
            "width": null,
            "min_width": null,
            "border": null,
            "align_items": null,
            "bottom": null,
            "_model_module": "@jupyter-widgets/base",
            "top": null,
            "grid_column": null,
            "overflow_y": null,
            "overflow_x": null,
            "grid_auto_flow": null,
            "grid_area": null,
            "grid_template_columns": null,
            "flex": null,
            "_model_name": "LayoutModel",
            "justify_items": null,
            "grid_row": null,
            "max_height": null,
            "align_content": null,
            "visibility": null,
            "align_self": null,
            "height": null,
            "min_height": null,
            "padding": null,
            "grid_auto_rows": null,
            "grid_gap": null,
            "max_width": null,
            "order": null,
            "_view_module_version": "1.2.0",
            "grid_template_areas": null,
            "object_position": null,
            "object_fit": null,
            "grid_auto_columns": null,
            "margin": null,
            "display": null,
            "left": null
          }
        },
        "07a55ee2dfc44d9a8695776840d41fba": {
          "model_module": "@jupyter-widgets/controls",
          "model_name": "FloatProgressModel",
          "state": {
            "_view_name": "ProgressView",
            "style": "IPY_MODEL_87ec2d5476434e29bce4acf25ae2e248",
            "_dom_classes": [],
            "description": "  0%",
            "_model_name": "FloatProgressModel",
            "bar_style": "",
            "max": 707,
            "_view_module": "@jupyter-widgets/controls",
            "_model_module_version": "1.5.0",
            "value": 0,
            "_view_count": null,
            "_view_module_version": "1.5.0",
            "orientation": "horizontal",
            "min": 0,
            "description_tooltip": null,
            "_model_module": "@jupyter-widgets/controls",
            "layout": "IPY_MODEL_8262ffef90ae4563a839a7e9797dfec4"
          }
        },
        "05b0ba0b113a454695d9a88c4d1831c7": {
          "model_module": "@jupyter-widgets/controls",
          "model_name": "HTMLModel",
          "state": {
            "_view_name": "HTMLView",
            "style": "IPY_MODEL_93eba47da6e84a459c41bac6a7ccbd3f",
            "_dom_classes": [],
            "description": "",
            "_model_name": "HTMLModel",
            "placeholder": "​",
            "_view_module": "@jupyter-widgets/controls",
            "_model_module_version": "1.5.0",
            "value": " 0/707 [24:31&lt;?, ?it/s, loss=2.3]",
            "_view_count": null,
            "_view_module_version": "1.5.0",
            "description_tooltip": null,
            "_model_module": "@jupyter-widgets/controls",
            "layout": "IPY_MODEL_b84ab32be7154a0198293295414edc1d"
          }
        },
        "87ec2d5476434e29bce4acf25ae2e248": {
          "model_module": "@jupyter-widgets/controls",
          "model_name": "ProgressStyleModel",
          "state": {
            "_view_name": "StyleView",
            "_model_name": "ProgressStyleModel",
            "description_width": "initial",
            "_view_module": "@jupyter-widgets/base",
            "_model_module_version": "1.5.0",
            "_view_count": null,
            "_view_module_version": "1.2.0",
            "bar_color": null,
            "_model_module": "@jupyter-widgets/controls"
          }
        },
        "8262ffef90ae4563a839a7e9797dfec4": {
          "model_module": "@jupyter-widgets/base",
          "model_name": "LayoutModel",
          "state": {
            "_view_name": "LayoutView",
            "grid_template_rows": null,
            "right": null,
            "justify_content": null,
            "_view_module": "@jupyter-widgets/base",
            "overflow": null,
            "_model_module_version": "1.2.0",
            "_view_count": null,
            "flex_flow": null,
            "width": null,
            "min_width": null,
            "border": null,
            "align_items": null,
            "bottom": null,
            "_model_module": "@jupyter-widgets/base",
            "top": null,
            "grid_column": null,
            "overflow_y": null,
            "overflow_x": null,
            "grid_auto_flow": null,
            "grid_area": null,
            "grid_template_columns": null,
            "flex": null,
            "_model_name": "LayoutModel",
            "justify_items": null,
            "grid_row": null,
            "max_height": null,
            "align_content": null,
            "visibility": null,
            "align_self": null,
            "height": null,
            "min_height": null,
            "padding": null,
            "grid_auto_rows": null,
            "grid_gap": null,
            "max_width": null,
            "order": null,
            "_view_module_version": "1.2.0",
            "grid_template_areas": null,
            "object_position": null,
            "object_fit": null,
            "grid_auto_columns": null,
            "margin": null,
            "display": null,
            "left": null
          }
        },
        "93eba47da6e84a459c41bac6a7ccbd3f": {
          "model_module": "@jupyter-widgets/controls",
          "model_name": "DescriptionStyleModel",
          "state": {
            "_view_name": "StyleView",
            "_model_name": "DescriptionStyleModel",
            "description_width": "",
            "_view_module": "@jupyter-widgets/base",
            "_model_module_version": "1.5.0",
            "_view_count": null,
            "_view_module_version": "1.2.0",
            "_model_module": "@jupyter-widgets/controls"
          }
        },
        "b84ab32be7154a0198293295414edc1d": {
          "model_module": "@jupyter-widgets/base",
          "model_name": "LayoutModel",
          "state": {
            "_view_name": "LayoutView",
            "grid_template_rows": null,
            "right": null,
            "justify_content": null,
            "_view_module": "@jupyter-widgets/base",
            "overflow": null,
            "_model_module_version": "1.2.0",
            "_view_count": null,
            "flex_flow": null,
            "width": null,
            "min_width": null,
            "border": null,
            "align_items": null,
            "bottom": null,
            "_model_module": "@jupyter-widgets/base",
            "top": null,
            "grid_column": null,
            "overflow_y": null,
            "overflow_x": null,
            "grid_auto_flow": null,
            "grid_area": null,
            "grid_template_columns": null,
            "flex": null,
            "_model_name": "LayoutModel",
            "justify_items": null,
            "grid_row": null,
            "max_height": null,
            "align_content": null,
            "visibility": null,
            "align_self": null,
            "height": null,
            "min_height": null,
            "padding": null,
            "grid_auto_rows": null,
            "grid_gap": null,
            "max_width": null,
            "order": null,
            "_view_module_version": "1.2.0",
            "grid_template_areas": null,
            "object_position": null,
            "object_fit": null,
            "grid_auto_columns": null,
            "margin": null,
            "display": null,
            "left": null
          }
        },
        "bf9b4df1f4534784b5f141237f698322": {
          "model_module": "@jupyter-widgets/controls",
          "model_name": "HBoxModel",
          "state": {
            "_view_name": "HBoxView",
            "_dom_classes": [],
            "_model_name": "HBoxModel",
            "_view_module": "@jupyter-widgets/controls",
            "_model_module_version": "1.5.0",
            "_view_count": null,
            "_view_module_version": "1.5.0",
            "box_style": "",
            "layout": "IPY_MODEL_187d2b815d8345aba75a2c0a6b0257a0",
            "_model_module": "@jupyter-widgets/controls",
            "children": [
              "IPY_MODEL_4c06fbc9306a45208daa75226516d88c",
              "IPY_MODEL_9b6cf97fbcd64acd9259426ef6cc5c7b"
            ]
          }
        },
        "187d2b815d8345aba75a2c0a6b0257a0": {
          "model_module": "@jupyter-widgets/base",
          "model_name": "LayoutModel",
          "state": {
            "_view_name": "LayoutView",
            "grid_template_rows": null,
            "right": null,
            "justify_content": null,
            "_view_module": "@jupyter-widgets/base",
            "overflow": null,
            "_model_module_version": "1.2.0",
            "_view_count": null,
            "flex_flow": null,
            "width": null,
            "min_width": null,
            "border": null,
            "align_items": null,
            "bottom": null,
            "_model_module": "@jupyter-widgets/base",
            "top": null,
            "grid_column": null,
            "overflow_y": null,
            "overflow_x": null,
            "grid_auto_flow": null,
            "grid_area": null,
            "grid_template_columns": null,
            "flex": null,
            "_model_name": "LayoutModel",
            "justify_items": null,
            "grid_row": null,
            "max_height": null,
            "align_content": null,
            "visibility": null,
            "align_self": null,
            "height": null,
            "min_height": null,
            "padding": null,
            "grid_auto_rows": null,
            "grid_gap": null,
            "max_width": null,
            "order": null,
            "_view_module_version": "1.2.0",
            "grid_template_areas": null,
            "object_position": null,
            "object_fit": null,
            "grid_auto_columns": null,
            "margin": null,
            "display": null,
            "left": null
          }
        },
        "4c06fbc9306a45208daa75226516d88c": {
          "model_module": "@jupyter-widgets/controls",
          "model_name": "FloatProgressModel",
          "state": {
            "_view_name": "ProgressView",
            "style": "IPY_MODEL_8434cb5b7263432fbcb0965847d9af8e",
            "_dom_classes": [],
            "description": "  0%",
            "_model_name": "FloatProgressModel",
            "bar_style": "",
            "max": 707,
            "_view_module": "@jupyter-widgets/controls",
            "_model_module_version": "1.5.0",
            "value": 0,
            "_view_count": null,
            "_view_module_version": "1.5.0",
            "orientation": "horizontal",
            "min": 0,
            "description_tooltip": null,
            "_model_module": "@jupyter-widgets/controls",
            "layout": "IPY_MODEL_db586f16baa64d56adefc3de0d46e5b9"
          }
        },
        "9b6cf97fbcd64acd9259426ef6cc5c7b": {
          "model_module": "@jupyter-widgets/controls",
          "model_name": "HTMLModel",
          "state": {
            "_view_name": "HTMLView",
            "style": "IPY_MODEL_9e97692b95ba40a1a7bfed486b9478a9",
            "_dom_classes": [],
            "description": "",
            "_model_name": "HTMLModel",
            "placeholder": "​",
            "_view_module": "@jupyter-widgets/controls",
            "_model_module_version": "1.5.0",
            "value": " 0/707 [25:07&lt;?, ?it/s, loss=2.03]",
            "_view_count": null,
            "_view_module_version": "1.5.0",
            "description_tooltip": null,
            "_model_module": "@jupyter-widgets/controls",
            "layout": "IPY_MODEL_d278b905910248c2aa9e082585141a37"
          }
        },
        "8434cb5b7263432fbcb0965847d9af8e": {
          "model_module": "@jupyter-widgets/controls",
          "model_name": "ProgressStyleModel",
          "state": {
            "_view_name": "StyleView",
            "_model_name": "ProgressStyleModel",
            "description_width": "initial",
            "_view_module": "@jupyter-widgets/base",
            "_model_module_version": "1.5.0",
            "_view_count": null,
            "_view_module_version": "1.2.0",
            "bar_color": null,
            "_model_module": "@jupyter-widgets/controls"
          }
        },
        "db586f16baa64d56adefc3de0d46e5b9": {
          "model_module": "@jupyter-widgets/base",
          "model_name": "LayoutModel",
          "state": {
            "_view_name": "LayoutView",
            "grid_template_rows": null,
            "right": null,
            "justify_content": null,
            "_view_module": "@jupyter-widgets/base",
            "overflow": null,
            "_model_module_version": "1.2.0",
            "_view_count": null,
            "flex_flow": null,
            "width": null,
            "min_width": null,
            "border": null,
            "align_items": null,
            "bottom": null,
            "_model_module": "@jupyter-widgets/base",
            "top": null,
            "grid_column": null,
            "overflow_y": null,
            "overflow_x": null,
            "grid_auto_flow": null,
            "grid_area": null,
            "grid_template_columns": null,
            "flex": null,
            "_model_name": "LayoutModel",
            "justify_items": null,
            "grid_row": null,
            "max_height": null,
            "align_content": null,
            "visibility": null,
            "align_self": null,
            "height": null,
            "min_height": null,
            "padding": null,
            "grid_auto_rows": null,
            "grid_gap": null,
            "max_width": null,
            "order": null,
            "_view_module_version": "1.2.0",
            "grid_template_areas": null,
            "object_position": null,
            "object_fit": null,
            "grid_auto_columns": null,
            "margin": null,
            "display": null,
            "left": null
          }
        },
        "9e97692b95ba40a1a7bfed486b9478a9": {
          "model_module": "@jupyter-widgets/controls",
          "model_name": "DescriptionStyleModel",
          "state": {
            "_view_name": "StyleView",
            "_model_name": "DescriptionStyleModel",
            "description_width": "",
            "_view_module": "@jupyter-widgets/base",
            "_model_module_version": "1.5.0",
            "_view_count": null,
            "_view_module_version": "1.2.0",
            "_model_module": "@jupyter-widgets/controls"
          }
        },
        "d278b905910248c2aa9e082585141a37": {
          "model_module": "@jupyter-widgets/base",
          "model_name": "LayoutModel",
          "state": {
            "_view_name": "LayoutView",
            "grid_template_rows": null,
            "right": null,
            "justify_content": null,
            "_view_module": "@jupyter-widgets/base",
            "overflow": null,
            "_model_module_version": "1.2.0",
            "_view_count": null,
            "flex_flow": null,
            "width": null,
            "min_width": null,
            "border": null,
            "align_items": null,
            "bottom": null,
            "_model_module": "@jupyter-widgets/base",
            "top": null,
            "grid_column": null,
            "overflow_y": null,
            "overflow_x": null,
            "grid_auto_flow": null,
            "grid_area": null,
            "grid_template_columns": null,
            "flex": null,
            "_model_name": "LayoutModel",
            "justify_items": null,
            "grid_row": null,
            "max_height": null,
            "align_content": null,
            "visibility": null,
            "align_self": null,
            "height": null,
            "min_height": null,
            "padding": null,
            "grid_auto_rows": null,
            "grid_gap": null,
            "max_width": null,
            "order": null,
            "_view_module_version": "1.2.0",
            "grid_template_areas": null,
            "object_position": null,
            "object_fit": null,
            "grid_auto_columns": null,
            "margin": null,
            "display": null,
            "left": null
          }
        },
        "a671220533ae4e77b115dbb424ea7ffd": {
          "model_module": "@jupyter-widgets/controls",
          "model_name": "HBoxModel",
          "state": {
            "_view_name": "HBoxView",
            "_dom_classes": [],
            "_model_name": "HBoxModel",
            "_view_module": "@jupyter-widgets/controls",
            "_model_module_version": "1.5.0",
            "_view_count": null,
            "_view_module_version": "1.5.0",
            "box_style": "",
            "layout": "IPY_MODEL_9d17d2b1b2eb40b9a6e56872e119c575",
            "_model_module": "@jupyter-widgets/controls",
            "children": [
              "IPY_MODEL_3c77360cc2cc46028ce67ddbebfc3a56",
              "IPY_MODEL_29fcced2a1ec4ec59d288f6e57a1d45f"
            ]
          }
        },
        "9d17d2b1b2eb40b9a6e56872e119c575": {
          "model_module": "@jupyter-widgets/base",
          "model_name": "LayoutModel",
          "state": {
            "_view_name": "LayoutView",
            "grid_template_rows": null,
            "right": null,
            "justify_content": null,
            "_view_module": "@jupyter-widgets/base",
            "overflow": null,
            "_model_module_version": "1.2.0",
            "_view_count": null,
            "flex_flow": null,
            "width": null,
            "min_width": null,
            "border": null,
            "align_items": null,
            "bottom": null,
            "_model_module": "@jupyter-widgets/base",
            "top": null,
            "grid_column": null,
            "overflow_y": null,
            "overflow_x": null,
            "grid_auto_flow": null,
            "grid_area": null,
            "grid_template_columns": null,
            "flex": null,
            "_model_name": "LayoutModel",
            "justify_items": null,
            "grid_row": null,
            "max_height": null,
            "align_content": null,
            "visibility": null,
            "align_self": null,
            "height": null,
            "min_height": null,
            "padding": null,
            "grid_auto_rows": null,
            "grid_gap": null,
            "max_width": null,
            "order": null,
            "_view_module_version": "1.2.0",
            "grid_template_areas": null,
            "object_position": null,
            "object_fit": null,
            "grid_auto_columns": null,
            "margin": null,
            "display": null,
            "left": null
          }
        },
        "3c77360cc2cc46028ce67ddbebfc3a56": {
          "model_module": "@jupyter-widgets/controls",
          "model_name": "FloatProgressModel",
          "state": {
            "_view_name": "ProgressView",
            "style": "IPY_MODEL_1cd7863525de4ee79eb6794a914ace16",
            "_dom_classes": [],
            "description": "  0%",
            "_model_name": "FloatProgressModel",
            "bar_style": "",
            "max": 707,
            "_view_module": "@jupyter-widgets/controls",
            "_model_module_version": "1.5.0",
            "value": 0,
            "_view_count": null,
            "_view_module_version": "1.5.0",
            "orientation": "horizontal",
            "min": 0,
            "description_tooltip": null,
            "_model_module": "@jupyter-widgets/controls",
            "layout": "IPY_MODEL_1f6cb6e1edcb469cbfadf7465a2796b4"
          }
        },
        "29fcced2a1ec4ec59d288f6e57a1d45f": {
          "model_module": "@jupyter-widgets/controls",
          "model_name": "HTMLModel",
          "state": {
            "_view_name": "HTMLView",
            "style": "IPY_MODEL_8200c0d3a89547b5b68438cd02cd0935",
            "_dom_classes": [],
            "description": "",
            "_model_name": "HTMLModel",
            "placeholder": "​",
            "_view_module": "@jupyter-widgets/controls",
            "_model_module_version": "1.5.0",
            "value": " 0/707 [23:26&lt;?, ?it/s, loss=1.87]",
            "_view_count": null,
            "_view_module_version": "1.5.0",
            "description_tooltip": null,
            "_model_module": "@jupyter-widgets/controls",
            "layout": "IPY_MODEL_3c028577572646c2b2fd4542ddc80655"
          }
        },
        "1cd7863525de4ee79eb6794a914ace16": {
          "model_module": "@jupyter-widgets/controls",
          "model_name": "ProgressStyleModel",
          "state": {
            "_view_name": "StyleView",
            "_model_name": "ProgressStyleModel",
            "description_width": "initial",
            "_view_module": "@jupyter-widgets/base",
            "_model_module_version": "1.5.0",
            "_view_count": null,
            "_view_module_version": "1.2.0",
            "bar_color": null,
            "_model_module": "@jupyter-widgets/controls"
          }
        },
        "1f6cb6e1edcb469cbfadf7465a2796b4": {
          "model_module": "@jupyter-widgets/base",
          "model_name": "LayoutModel",
          "state": {
            "_view_name": "LayoutView",
            "grid_template_rows": null,
            "right": null,
            "justify_content": null,
            "_view_module": "@jupyter-widgets/base",
            "overflow": null,
            "_model_module_version": "1.2.0",
            "_view_count": null,
            "flex_flow": null,
            "width": null,
            "min_width": null,
            "border": null,
            "align_items": null,
            "bottom": null,
            "_model_module": "@jupyter-widgets/base",
            "top": null,
            "grid_column": null,
            "overflow_y": null,
            "overflow_x": null,
            "grid_auto_flow": null,
            "grid_area": null,
            "grid_template_columns": null,
            "flex": null,
            "_model_name": "LayoutModel",
            "justify_items": null,
            "grid_row": null,
            "max_height": null,
            "align_content": null,
            "visibility": null,
            "align_self": null,
            "height": null,
            "min_height": null,
            "padding": null,
            "grid_auto_rows": null,
            "grid_gap": null,
            "max_width": null,
            "order": null,
            "_view_module_version": "1.2.0",
            "grid_template_areas": null,
            "object_position": null,
            "object_fit": null,
            "grid_auto_columns": null,
            "margin": null,
            "display": null,
            "left": null
          }
        },
        "8200c0d3a89547b5b68438cd02cd0935": {
          "model_module": "@jupyter-widgets/controls",
          "model_name": "DescriptionStyleModel",
          "state": {
            "_view_name": "StyleView",
            "_model_name": "DescriptionStyleModel",
            "description_width": "",
            "_view_module": "@jupyter-widgets/base",
            "_model_module_version": "1.5.0",
            "_view_count": null,
            "_view_module_version": "1.2.0",
            "_model_module": "@jupyter-widgets/controls"
          }
        },
        "3c028577572646c2b2fd4542ddc80655": {
          "model_module": "@jupyter-widgets/base",
          "model_name": "LayoutModel",
          "state": {
            "_view_name": "LayoutView",
            "grid_template_rows": null,
            "right": null,
            "justify_content": null,
            "_view_module": "@jupyter-widgets/base",
            "overflow": null,
            "_model_module_version": "1.2.0",
            "_view_count": null,
            "flex_flow": null,
            "width": null,
            "min_width": null,
            "border": null,
            "align_items": null,
            "bottom": null,
            "_model_module": "@jupyter-widgets/base",
            "top": null,
            "grid_column": null,
            "overflow_y": null,
            "overflow_x": null,
            "grid_auto_flow": null,
            "grid_area": null,
            "grid_template_columns": null,
            "flex": null,
            "_model_name": "LayoutModel",
            "justify_items": null,
            "grid_row": null,
            "max_height": null,
            "align_content": null,
            "visibility": null,
            "align_self": null,
            "height": null,
            "min_height": null,
            "padding": null,
            "grid_auto_rows": null,
            "grid_gap": null,
            "max_width": null,
            "order": null,
            "_view_module_version": "1.2.0",
            "grid_template_areas": null,
            "object_position": null,
            "object_fit": null,
            "grid_auto_columns": null,
            "margin": null,
            "display": null,
            "left": null
          }
        },
        "c1e397f2e0d44574ac49dc29f4ae7c63": {
          "model_module": "@jupyter-widgets/controls",
          "model_name": "HBoxModel",
          "state": {
            "_view_name": "HBoxView",
            "_dom_classes": [],
            "_model_name": "HBoxModel",
            "_view_module": "@jupyter-widgets/controls",
            "_model_module_version": "1.5.0",
            "_view_count": null,
            "_view_module_version": "1.5.0",
            "box_style": "",
            "layout": "IPY_MODEL_fbe593b9508848e2bef48b776d51a8ba",
            "_model_module": "@jupyter-widgets/controls",
            "children": [
              "IPY_MODEL_36075bb845d84a92945d10cd407398a6",
              "IPY_MODEL_6d286c24b3db4f63822dee9af25190d4"
            ]
          }
        },
        "fbe593b9508848e2bef48b776d51a8ba": {
          "model_module": "@jupyter-widgets/base",
          "model_name": "LayoutModel",
          "state": {
            "_view_name": "LayoutView",
            "grid_template_rows": null,
            "right": null,
            "justify_content": null,
            "_view_module": "@jupyter-widgets/base",
            "overflow": null,
            "_model_module_version": "1.2.0",
            "_view_count": null,
            "flex_flow": null,
            "width": null,
            "min_width": null,
            "border": null,
            "align_items": null,
            "bottom": null,
            "_model_module": "@jupyter-widgets/base",
            "top": null,
            "grid_column": null,
            "overflow_y": null,
            "overflow_x": null,
            "grid_auto_flow": null,
            "grid_area": null,
            "grid_template_columns": null,
            "flex": null,
            "_model_name": "LayoutModel",
            "justify_items": null,
            "grid_row": null,
            "max_height": null,
            "align_content": null,
            "visibility": null,
            "align_self": null,
            "height": null,
            "min_height": null,
            "padding": null,
            "grid_auto_rows": null,
            "grid_gap": null,
            "max_width": null,
            "order": null,
            "_view_module_version": "1.2.0",
            "grid_template_areas": null,
            "object_position": null,
            "object_fit": null,
            "grid_auto_columns": null,
            "margin": null,
            "display": null,
            "left": null
          }
        },
        "36075bb845d84a92945d10cd407398a6": {
          "model_module": "@jupyter-widgets/controls",
          "model_name": "FloatProgressModel",
          "state": {
            "_view_name": "ProgressView",
            "style": "IPY_MODEL_e252785efcd44ac3928516a068b78894",
            "_dom_classes": [],
            "description": "  0%",
            "_model_name": "FloatProgressModel",
            "bar_style": "",
            "max": 707,
            "_view_module": "@jupyter-widgets/controls",
            "_model_module_version": "1.5.0",
            "value": 0,
            "_view_count": null,
            "_view_module_version": "1.5.0",
            "orientation": "horizontal",
            "min": 0,
            "description_tooltip": null,
            "_model_module": "@jupyter-widgets/controls",
            "layout": "IPY_MODEL_94d0963d2d124362b97a8ba5eb49858c"
          }
        },
        "6d286c24b3db4f63822dee9af25190d4": {
          "model_module": "@jupyter-widgets/controls",
          "model_name": "HTMLModel",
          "state": {
            "_view_name": "HTMLView",
            "style": "IPY_MODEL_c087ff8e820b4d2fb449b1ebfb9acf9e",
            "_dom_classes": [],
            "description": "",
            "_model_name": "HTMLModel",
            "placeholder": "​",
            "_view_module": "@jupyter-widgets/controls",
            "_model_module_version": "1.5.0",
            "value": " 0/707 [11:51&lt;?, ?it/s, loss=1.78]",
            "_view_count": null,
            "_view_module_version": "1.5.0",
            "description_tooltip": null,
            "_model_module": "@jupyter-widgets/controls",
            "layout": "IPY_MODEL_13204845e4254482842e092bb6fb7944"
          }
        },
        "e252785efcd44ac3928516a068b78894": {
          "model_module": "@jupyter-widgets/controls",
          "model_name": "ProgressStyleModel",
          "state": {
            "_view_name": "StyleView",
            "_model_name": "ProgressStyleModel",
            "description_width": "initial",
            "_view_module": "@jupyter-widgets/base",
            "_model_module_version": "1.5.0",
            "_view_count": null,
            "_view_module_version": "1.2.0",
            "bar_color": null,
            "_model_module": "@jupyter-widgets/controls"
          }
        },
        "94d0963d2d124362b97a8ba5eb49858c": {
          "model_module": "@jupyter-widgets/base",
          "model_name": "LayoutModel",
          "state": {
            "_view_name": "LayoutView",
            "grid_template_rows": null,
            "right": null,
            "justify_content": null,
            "_view_module": "@jupyter-widgets/base",
            "overflow": null,
            "_model_module_version": "1.2.0",
            "_view_count": null,
            "flex_flow": null,
            "width": null,
            "min_width": null,
            "border": null,
            "align_items": null,
            "bottom": null,
            "_model_module": "@jupyter-widgets/base",
            "top": null,
            "grid_column": null,
            "overflow_y": null,
            "overflow_x": null,
            "grid_auto_flow": null,
            "grid_area": null,
            "grid_template_columns": null,
            "flex": null,
            "_model_name": "LayoutModel",
            "justify_items": null,
            "grid_row": null,
            "max_height": null,
            "align_content": null,
            "visibility": null,
            "align_self": null,
            "height": null,
            "min_height": null,
            "padding": null,
            "grid_auto_rows": null,
            "grid_gap": null,
            "max_width": null,
            "order": null,
            "_view_module_version": "1.2.0",
            "grid_template_areas": null,
            "object_position": null,
            "object_fit": null,
            "grid_auto_columns": null,
            "margin": null,
            "display": null,
            "left": null
          }
        },
        "c087ff8e820b4d2fb449b1ebfb9acf9e": {
          "model_module": "@jupyter-widgets/controls",
          "model_name": "DescriptionStyleModel",
          "state": {
            "_view_name": "StyleView",
            "_model_name": "DescriptionStyleModel",
            "description_width": "",
            "_view_module": "@jupyter-widgets/base",
            "_model_module_version": "1.5.0",
            "_view_count": null,
            "_view_module_version": "1.2.0",
            "_model_module": "@jupyter-widgets/controls"
          }
        },
        "13204845e4254482842e092bb6fb7944": {
          "model_module": "@jupyter-widgets/base",
          "model_name": "LayoutModel",
          "state": {
            "_view_name": "LayoutView",
            "grid_template_rows": null,
            "right": null,
            "justify_content": null,
            "_view_module": "@jupyter-widgets/base",
            "overflow": null,
            "_model_module_version": "1.2.0",
            "_view_count": null,
            "flex_flow": null,
            "width": null,
            "min_width": null,
            "border": null,
            "align_items": null,
            "bottom": null,
            "_model_module": "@jupyter-widgets/base",
            "top": null,
            "grid_column": null,
            "overflow_y": null,
            "overflow_x": null,
            "grid_auto_flow": null,
            "grid_area": null,
            "grid_template_columns": null,
            "flex": null,
            "_model_name": "LayoutModel",
            "justify_items": null,
            "grid_row": null,
            "max_height": null,
            "align_content": null,
            "visibility": null,
            "align_self": null,
            "height": null,
            "min_height": null,
            "padding": null,
            "grid_auto_rows": null,
            "grid_gap": null,
            "max_width": null,
            "order": null,
            "_view_module_version": "1.2.0",
            "grid_template_areas": null,
            "object_position": null,
            "object_fit": null,
            "grid_auto_columns": null,
            "margin": null,
            "display": null,
            "left": null
          }
        }
      }
    }
  },
  "cells": [
    {
      "cell_type": "code",
      "metadata": {
        "trusted": true,
        "id": "RJhCHgNK6704",
        "colab_type": "code",
        "colab": {}
      },
      "source": [
        "import os\n",
        "assert os.environ['COLAB_TPU_ADDR'], 'Make sure to select TPU from Edit > Notebook settings > Hardware accelerator'"
      ],
      "execution_count": null,
      "outputs": []
    },
    {
      "cell_type": "code",
      "metadata": {
        "trusted": true,
        "id": "Tg6-7T2S671C",
        "colab_type": "code",
        "colab": {
          "base_uri": "https://localhost:8080/",
          "height": 1000
        },
        "outputId": "caf9cfaf-f108-4f4b-c2bf-262837353241"
      },
      "source": [
        "VERSION = \"nightly\"  #@param [\"1.5\" , \"20200516\", \"nightly\"]\n",
        "!curl https://raw.githubusercontent.com/pytorch/xla/master/contrib/scripts/env-setup.py -o pytorch-xla-env-setup.py\n",
        "!python pytorch-xla-env-setup.py --version $VERSION"
      ],
      "execution_count": null,
      "outputs": [
        {
          "output_type": "stream",
          "text": [
            "  % Total    % Received % Xferd  Average Speed   Time    Time     Time  Current\n",
            "                                 Dload  Upload   Total   Spent    Left  Speed\n",
            "\r  0     0    0     0    0     0      0      0 --:--:-- --:--:-- --:--:--     0\r100  4139  100  4139    0     0  26876      0 --:--:-- --:--:-- --:--:-- 27052\n",
            "Updating TPU and VM. This may take around 2 minutes.\n",
            "Updating TPU runtime to pytorch-nightly ...\n",
            "Collecting cloud-tpu-client\n",
            "  Downloading https://files.pythonhosted.org/packages/56/9f/7b1958c2886db06feb5de5b2c191096f9e619914b6c31fdf93999fdbbd8b/cloud_tpu_client-0.10-py3-none-any.whl\n",
            "Requirement already satisfied: oauth2client in /usr/local/lib/python3.6/dist-packages (from cloud-tpu-client) (4.1.3)\n",
            "Collecting google-api-python-client==1.8.0\n",
            "\u001b[?25l  Downloading https://files.pythonhosted.org/packages/9a/b4/a955f393b838bc47cbb6ae4643b9d0f90333d3b4db4dc1e819f36aad18cc/google_api_python_client-1.8.0-py3-none-any.whl (57kB)\n",
            "\u001b[K     |████████████████████████████████| 61kB 2.9MB/s \n",
            "\u001b[?25hRequirement already satisfied: rsa>=3.1.4 in /usr/local/lib/python3.6/dist-packages (from oauth2client->cloud-tpu-client) (4.6)\n",
            "Requirement already satisfied: six>=1.6.1 in /usr/local/lib/python3.6/dist-packages (from oauth2client->cloud-tpu-client) (1.12.0)\n",
            "Requirement already satisfied: pyasn1>=0.1.7 in /usr/local/lib/python3.6/dist-packages (from oauth2client->cloud-tpu-client) (0.4.8)\n",
            "Requirement already satisfied: httplib2>=0.9.1 in /usr/local/lib/python3.6/dist-packages (from oauth2client->cloud-tpu-client) (0.17.4)\n",
            "Requirement already satisfied: pyasn1-modules>=0.0.5 in /usr/local/lib/python3.6/dist-packages (from oauth2client->cloud-tpu-client) (0.2.8)\n",
            "Requirement already satisfied: uritemplate<4dev,>=3.0.0 in /usr/local/lib/python3.6/dist-packages (from google-api-python-client==1.8.0->cloud-tpu-client) (3.0.1)\n",
            "Requirement already satisfied: google-auth>=1.4.1 in /usr/local/lib/python3.6/dist-packages (from google-api-python-client==1.8.0->cloud-tpu-client) (1.17.2)\n",
            "Requirement already satisfied: google-auth-httplib2>=0.0.3 in /usr/local/lib/python3.6/dist-packages (from google-api-python-client==1.8.0->cloud-tpu-client) (0.0.3)\n",
            "Requirement already satisfied: google-api-core<2dev,>=1.13.0 in /usr/local/lib/python3.6/dist-packages (from google-api-python-client==1.8.0->cloud-tpu-client) (1.16.0)\n",
            "Uninstalling torch-1.5.1+cu101:\n",
            "Requirement already satisfied: cachetools<5.0,>=2.0.0 in /usr/local/lib/python3.6/dist-packages (from google-auth>=1.4.1->google-api-python-client==1.8.0->cloud-tpu-client) (4.1.0)\n",
            "Requirement already satisfied: setuptools>=40.3.0 in /usr/local/lib/python3.6/dist-packages (from google-auth>=1.4.1->google-api-python-client==1.8.0->cloud-tpu-client) (47.3.1)\n",
            "Requirement already satisfied: googleapis-common-protos<2.0dev,>=1.6.0 in /usr/local/lib/python3.6/dist-packages (from google-api-core<2dev,>=1.13.0->google-api-python-client==1.8.0->cloud-tpu-client) (1.52.0)\n",
            "Requirement already satisfied: pytz in /usr/local/lib/python3.6/dist-packages (from google-api-core<2dev,>=1.13.0->google-api-python-client==1.8.0->cloud-tpu-client) (2018.9)\n",
            "Requirement already satisfied: requests<3.0.0dev,>=2.18.0 in /usr/local/lib/python3.6/dist-packages (from google-api-core<2dev,>=1.13.0->google-api-python-client==1.8.0->cloud-tpu-client) (2.23.0)\n",
            "Requirement already satisfied: protobuf>=3.4.0 in /usr/local/lib/python3.6/dist-packages (from google-api-core<2dev,>=1.13.0->google-api-python-client==1.8.0->cloud-tpu-client) (3.10.0)\n",
            "Requirement already satisfied: urllib3!=1.25.0,!=1.25.1,<1.26,>=1.21.1 in /usr/local/lib/python3.6/dist-packages (from requests<3.0.0dev,>=2.18.0->google-api-core<2dev,>=1.13.0->google-api-python-client==1.8.0->cloud-tpu-client) (1.24.3)\n",
            "Requirement already satisfied: idna<3,>=2.5 in /usr/local/lib/python3.6/dist-packages (from requests<3.0.0dev,>=2.18.0->google-api-core<2dev,>=1.13.0->google-api-python-client==1.8.0->cloud-tpu-client) (2.9)\n",
            "Requirement already satisfied: chardet<4,>=3.0.2 in /usr/local/lib/python3.6/dist-packages (from requests<3.0.0dev,>=2.18.0->google-api-core<2dev,>=1.13.0->google-api-python-client==1.8.0->cloud-tpu-client) (3.0.4)\n",
            "Requirement already satisfied: certifi>=2017.4.17 in /usr/local/lib/python3.6/dist-packages (from requests<3.0.0dev,>=2.18.0->google-api-core<2dev,>=1.13.0->google-api-python-client==1.8.0->cloud-tpu-client) (2020.6.20)\n",
            "Installing collected packages: google-api-python-client, cloud-tpu-client\n",
            "  Found existing installation: google-api-python-client 1.7.12\n",
            "    Uninstalling google-api-python-client-1.7.12:\n",
            "      Successfully uninstalled google-api-python-client-1.7.12\n",
            "Successfully installed cloud-tpu-client-0.10 google-api-python-client-1.8.0\n",
            "Done updating TPU runtime\n",
            "  Successfully uninstalled torch-1.5.1+cu101\n",
            "Uninstalling torchvision-0.6.1+cu101:\n",
            "  Successfully uninstalled torchvision-0.6.1+cu101\n",
            "Copying gs://tpu-pytorch/wheels/torch-nightly-cp36-cp36m-linux_x86_64.whl...\n",
            "- [1 files][107.5 MiB/107.5 MiB]                                                \n",
            "Operation completed over 1 objects/107.5 MiB.                                    \n",
            "Copying gs://tpu-pytorch/wheels/torch_xla-nightly-cp36-cp36m-linux_x86_64.whl...\n",
            "- [1 files][123.8 MiB/123.8 MiB]                                                \n",
            "Operation completed over 1 objects/123.8 MiB.                                    \n",
            "Copying gs://tpu-pytorch/wheels/torchvision-nightly-cp36-cp36m-linux_x86_64.whl...\n",
            "/ [1 files][  1.8 MiB/  1.8 MiB]                                                \n",
            "Operation completed over 1 objects/1.8 MiB.                                      \n",
            "Processing ./torch-nightly-cp36-cp36m-linux_x86_64.whl\n",
            "Requirement already satisfied: numpy in /usr/local/lib/python3.6/dist-packages (from torch==nightly) (1.18.5)\n",
            "Requirement already satisfied: future in /usr/local/lib/python3.6/dist-packages (from torch==nightly) (0.16.0)\n",
            "\u001b[31mERROR: fastai 1.0.61 requires torchvision, which is not installed.\u001b[0m\n",
            "Installing collected packages: torch\n",
            "Successfully installed torch-1.7.0a0+a6a31bc\n",
            "Processing ./torch_xla-nightly-cp36-cp36m-linux_x86_64.whl\n",
            "Installing collected packages: torch-xla\n",
            "Successfully installed torch-xla-1.6+71579ee\n",
            "Processing ./torchvision-nightly-cp36-cp36m-linux_x86_64.whl\n",
            "Requirement already satisfied: numpy in /usr/local/lib/python3.6/dist-packages (from torchvision==nightly) (1.18.5)\n",
            "Requirement already satisfied: torch in /usr/local/lib/python3.6/dist-packages (from torchvision==nightly) (1.7.0a0+a6a31bc)\n",
            "Requirement already satisfied: pillow>=4.1.1 in /usr/local/lib/python3.6/dist-packages (from torchvision==nightly) (7.0.0)\n",
            "Requirement already satisfied: future in /usr/local/lib/python3.6/dist-packages (from torch->torchvision==nightly) (0.16.0)\n",
            "Installing collected packages: torchvision\n",
            "Successfully installed torchvision-0.8.0a0+9d9e716\n",
            "Reading package lists... Done\n",
            "Building dependency tree       \n",
            "Reading state information... Done\n",
            "The following package was automatically installed and is no longer required:\n",
            "  libnvidia-common-440\n",
            "Use 'apt autoremove' to remove it.\n",
            "The following NEW packages will be installed:\n",
            "  libomp5\n",
            "0 upgraded, 1 newly installed, 0 to remove and 33 not upgraded.\n",
            "Need to get 234 kB of archives.\n",
            "After this operation, 774 kB of additional disk space will be used.\n",
            "Get:1 http://archive.ubuntu.com/ubuntu bionic/universe amd64 libomp5 amd64 5.0.1-1 [234 kB]\n",
            "Fetched 234 kB in 1s (309 kB/s)\n",
            "Selecting previously unselected package libomp5:amd64.\n",
            "(Reading database ... 144379 files and directories currently installed.)\n",
            "Preparing to unpack .../libomp5_5.0.1-1_amd64.deb ...\n",
            "Unpacking libomp5:amd64 (5.0.1-1) ...\n",
            "Setting up libomp5:amd64 (5.0.1-1) ...\n",
            "Processing triggers for libc-bin (2.27-3ubuntu1) ...\n",
            "/sbin/ldconfig.real: /usr/local/lib/python3.6/dist-packages/ideep4py/lib/libmkldnn.so.0 is not a symbolic link\n",
            "\n"
          ],
          "name": "stdout"
        }
      ]
    },
    {
      "cell_type": "code",
      "metadata": {
        "id": "unhm4rty2mar",
        "colab_type": "code",
        "colab": {
          "base_uri": "https://localhost:8080/",
          "height": 50
        },
        "outputId": "4b8ddf84-5e5d-49c0-ced2-749569e8f99b"
      },
      "source": [
        "# !pip install pretrainedmodels timm -q"
      ],
      "execution_count": null,
      "outputs": [
        {
          "output_type": "stream",
          "text": [
            "\u001b[?25l\r\u001b[K     |█████▋                          | 10kB 18.4MB/s eta 0:00:01\r\u001b[K     |███████████▏                    | 20kB 2.2MB/s eta 0:00:01\r\u001b[K     |████████████████▊               | 30kB 2.5MB/s eta 0:00:01\r\u001b[K     |██████████████████████▎         | 40kB 2.8MB/s eta 0:00:01\r\u001b[K     |███████████████████████████▉    | 51kB 2.5MB/s eta 0:00:01\r\u001b[K     |████████████████████████████████| 61kB 2.1MB/s \n",
            "\u001b[?25h  Building wheel for pretrainedmodels (setup.py) ... \u001b[?25l\u001b[?25hdone\n"
          ],
          "name": "stdout"
        }
      ]
    },
    {
      "cell_type": "code",
      "metadata": {
        "id": "0s29BtVjVana",
        "colab_type": "code",
        "colab": {}
      },
      "source": [
        "import os\n",
        "from pathlib import Path\n",
        "from google.colab import drive\n",
        "import shutil\n",
        "\n",
        "def create_path(path):\n",
        "    if not os.path.isdir(path):\n",
        "        path.mkdir(parents=True, exist_ok=True)\n",
        "    return path\n",
        "\n",
        "colab_path = Path(Path(os.path.abspath(os.curdir)))"
      ],
      "execution_count": 13,
      "outputs": []
    },
    {
      "cell_type": "code",
      "metadata": {
        "id": "jjp17fM_VU-R",
        "colab_type": "code",
        "colab": {}
      },
      "source": [
        "create_path(colab_path/'dataset');\n",
        "create_path(colab_path/'models');\n",
        "\n",
        "!git clone --quiet 'https://github.com/tezike/download_google_drive.git'\n",
        "os.chdir('download_google_drive')\n",
        "!python download_gdrive.py '10rH0nAxa7mWS289xIyRP-mOOowqiIolL' '../dataset/temp.tgz'\n",
        "shutil.rmtree('../download_google_drive')\n",
        "os.chdir('..')"
      ],
      "execution_count": null,
      "outputs": []
    },
    {
      "cell_type": "markdown",
      "metadata": {
        "id": "yQNK70EuxrRr",
        "colab_type": "text"
      },
      "source": [
        "## Colab_setup"
      ]
    },
    {
      "cell_type": "code",
      "metadata": {
        "id": "GdKS3nNT0IKp",
        "colab_type": "code",
        "colab": {
          "base_uri": "https://localhost:8080/",
          "height": 50
        },
        "outputId": "5e1643f1-18c9-415e-fda0-2185285c9a46"
      },
      "source": [
        "# from google.colab import drive\n",
        "# drive.mount('/content/drive')\n",
        "\n",
        "# root_dir = Path('/content/drive/My Drive')\n",
        "\n",
        "root_dir = os.path.abspath(os.curdir)\n",
        "base_path = create_path(root_dir/'Rakuten')\n",
        "base_path"
      ],
      "execution_count": null,
      "outputs": [
        {
          "output_type": "stream",
          "text": [
            "Drive already mounted at /content/drive; to attempt to forcibly remount, call drive.mount(\"/content/drive\", force_remount=True).\n"
          ],
          "name": "stdout"
        },
        {
          "output_type": "execute_result",
          "data": {
            "text/plain": [
              "PosixPath('/content/drive/My Drive/Rakuten')"
            ]
          },
          "metadata": {
            "tags": []
          },
          "execution_count": 2
        }
      ]
    },
    {
      "cell_type": "code",
      "metadata": {
        "id": "N25e_EyG6W3X",
        "trusted": true,
        "colab_type": "code",
        "colab": {}
      },
      "source": [
        "!pip install catalyst -q"
      ],
      "execution_count": null,
      "outputs": []
    },
    {
      "cell_type": "code",
      "metadata": {
        "id": "ftl7rU0r1DUN",
        "trusted": true,
        "colab_type": "code",
        "colab": {}
      },
      "source": [
        "import os\n",
        "import PIL\n",
        "from tqdm.notebook import tqdm\n",
        "\n",
        "import time\n",
        "import torch\n",
        "import torch.nn as nn\n",
        "import torch.nn.functional as F\n",
        "import torchvision\n",
        "\n",
        "from timm import create_model\n",
        "import albumentations as A\n",
        "# from efficientnet_pytorch import EfficientNet\n",
        "import pretrainedmodels\n",
        "import pandas as pd\n",
        "import numpy as np\n",
        "from pathlib import Path\n",
        "import gc; gc.collect()\n",
        "from collections import Counter\n",
        "\n",
        "from catalyst.data.sampler import DistributedSamplerWrapper\n",
        "\n",
        "from sklearn.preprocessing import LabelEncoder\n",
        "from sklearn.model_selection import train_test_split\n",
        "from sklearn.metrics import f1_score, accuracy_score\n",
        "from sklearn.model_selection import StratifiedKFold\n",
        "import matplotlib.pyplot as plt\n",
        "\n",
        "import warnings\n",
        "warnings.filterwarnings(\"ignore\", category=DeprecationWarning) "
      ],
      "execution_count": null,
      "outputs": []
    },
    {
      "cell_type": "markdown",
      "metadata": {
        "id": "9qgifLYS671Q",
        "colab_type": "text"
      },
      "source": [
        "## Set up XLA"
      ]
    },
    {
      "cell_type": "code",
      "metadata": {
        "trusted": true,
        "id": "KmvxFl7B671R",
        "colab_type": "code",
        "colab": {}
      },
      "source": [
        "import torch_xla.core.xla_model as xm\n",
        "import torch_xla.distributed.parallel_loader as pl\n",
        "import torch_xla.distributed.xla_multiprocessing as xmp"
      ],
      "execution_count": null,
      "outputs": []
    },
    {
      "cell_type": "markdown",
      "metadata": {
        "id": "Q71zCSzL8d0Y",
        "colab_type": "text"
      },
      "source": [
        "## Config"
      ]
    },
    {
      "cell_type": "code",
      "metadata": {
        "id": "uKiEw-EQ8gME",
        "trusted": true,
        "colab_type": "code",
        "colab": {}
      },
      "source": [
        "class Config():\n",
        "    def __init__(self):\n",
        "        self.COLAB_PATH = Path(os.path.abspath(os.curdir))\n",
        "        self.BASE_PATH = base_path\n",
        "        self.DATA_PATH = create_path(base_path/'dataset')\n",
        "        self.MODEL_PATH = create_path(base_path/'models')\n",
        "        self.IMAGE_TRAIN_PATH = self.COLAB_PATH/'SIGIR-2020-EComDC-release/image/image_training'\n",
        "        self.IMAGE_TEST_PATH = self.COLAB_PATH/'SIGIR-2020-EComDC-release/image/image_test'\n",
        "        self.TEST_FILE = self.COLAB_PATH/'SIGIR-2020-EComDC-release/data/x_test_task1_phase1.tsv'\n",
        "        self.CLEAN_DF = self.DATA_PATH/'clean_folds_df.csv'\n",
        "        self.TRAIN_BS = 16\n",
        "        self.VALID_BS = 16\n",
        "        self.NUM_EPOCHS = 12\n",
        "        self.sz = 400\n",
        "        self.MEAN = (0.485, 0.456, 0.406)\n",
        "        self.STD = (0.229, 0.224, 0.225)\n",
        "        self.lr = 7e-05\n",
        "\n",
        "config = Config()"
      ],
      "execution_count": null,
      "outputs": []
    },
    {
      "cell_type": "markdown",
      "metadata": {
        "id": "H1CyZah0b5QF",
        "colab_type": "text"
      },
      "source": [
        "## Model"
      ]
    },
    {
      "cell_type": "code",
      "metadata": {
        "id": "dQBuiC3VUOw1",
        "colab_type": "code",
        "colab": {}
      },
      "source": [
        "# class Model(nn.Module):\n",
        "#     def __init__(self, pretrained='imagenet'):\n",
        "#         super(Model, self).__init__()\n",
        "        \n",
        "#         self.base_model = pretrainedmodels.__dict__[\n",
        "#             \"se_resnext50_32x4d\"\n",
        "#         ](pretrained=pretrained)\n",
        "\n",
        "#         self.l0 = nn.Linear(2048, 1)\n",
        "    \n",
        "#     def forward(self, image):\n",
        "#         batch_size, _, _, _ = image.shape\n",
        "        \n",
        "#         x = self.base_model.features(image)\n",
        "#         x = F.adaptive_avg_pool2d(x, 1).reshape(batch_size, -1)\n",
        "        \n",
        "#         out = self.l0(x)\n",
        "#         return out"
      ],
      "execution_count": null,
      "outputs": []
    },
    {
      "cell_type": "code",
      "metadata": {
        "id": "9IkPyOFHb7Yi",
        "colab_type": "code",
        "colab": {}
      },
      "source": [
        "class Model(nn.Module):\n",
        "    def __init__(self, pretrained=False):\n",
        "        super(Model, self).__init__()\n",
        "        self.model = torchvision.models.resnet50(pretrained=pretrained)\n",
        "        self.model.fc = nn.Linear(in_features=2048, out_features=27)\n",
        "\n",
        "    def forward(self, x):\n",
        "        out = self.model(x)\n",
        "        return out"
      ],
      "execution_count": null,
      "outputs": []
    },
    {
      "cell_type": "markdown",
      "metadata": {
        "id": "OtNk1hUM6n9p",
        "colab_type": "text"
      },
      "source": [
        "## Dataset"
      ]
    },
    {
      "cell_type": "code",
      "metadata": {
        "id": "kcUbe6ko7b43",
        "trusted": true,
        "colab_type": "code",
        "colab": {}
      },
      "source": [
        "def onehot(size, target):\n",
        "    vec = np.zeros(size, dtype=np.float32)\n",
        "    vec[target] = 1.\n",
        "    return vec\n",
        "\n",
        "class Dataset(torch.utils.data.Dataset):\n",
        "    def __init__(self, img_paths, lbls, augs=True, resize=False, is_train=True):\n",
        "\n",
        "        self.img_paths = img_paths\n",
        "        self.lbls = lbls\n",
        "        self.augs = augs\n",
        "        self.is_train = is_train\n",
        "        self.resize = resize\n",
        "\n",
        "    def __getitem__(self, i):\n",
        "        img_path = self.img_paths[i]\n",
        "        lbl = self.lbls[i]\n",
        "\n",
        "        img = PIL.Image.open(img_path)\n",
        "\n",
        "        if self.resize:\n",
        "            img = img.resize((config.sz, config.sz), resample=PIL.Image.LANCZOS)\n",
        "           \n",
        "        img = np.asarray(img).astype(np.uint8)\n",
        "\n",
        "        \n",
        "        if self.augs:\n",
        "            if self.is_train:\n",
        "                data = {'image' : img}            \n",
        "                data = self.get_train_transforms()(**data)\n",
        "                img = data['image']\n",
        "            elif not self.is_train:\n",
        "                data = {'image':img}            \n",
        "                data = self.get_valid_transforms()(**data)\n",
        "                img = data['image']\n",
        "\n",
        "        # img = np.array(img)/255.\n",
        "\n",
        "        lbl = onehot(27, lbl)\n",
        "\n",
        "        return {\n",
        "            'image' : torch.tensor(img, dtype=torch.float).permute(2, 0, 1),\n",
        "            'target' : torch.tensor(lbl, dtype=torch.float)\n",
        "            }\n",
        "\n",
        "        \n",
        "    def __len__(self):\n",
        "        return len(self.lbls)\n",
        "\n",
        "    def get_train_transforms(self):\n",
        "        return A.Compose([\n",
        "                A.Normalize(config.MEAN, config.STD, max_pixel_value=255.0, always_apply=True),\n",
        "                # A.RandomSizedCrop(min_max_height=(180, 180), height=224, width=224, p=0.5),\n",
        "                # A.CenterCrop(config.sz, config.sz, always_apply=True),\n",
        "                # A.CenterCrop(224, 224, always_apply=True),\n",
        "                A.RandomRotate90(p=0.5),\n",
        "                A.HorizontalFlip(p=0.5),\n",
        "                A.VerticalFlip(p=0.5),\n",
        "                # A.ShiftScaleRotate(p=0.9),\n",
        "                # A.RandomBrightnessContrast(),\n",
        "                # A.Resize(height=512, width=512, p=1),\n",
        "                # A.CoarseDropout(max_holes=8, max_height=32, max_width=32, min_holes=3, min_height=8, min_width=8, fill_value=0),                  \n",
        "            ], p=1.0)\n",
        "\n",
        "    def get_valid_transforms(self):\n",
        "        return A.Compose([\n",
        "                A.Normalize(config.MEAN, config.STD, max_pixel_value=255.0, always_apply=True),\n",
        "                # A.CenterCrop(config.sz, config.sz, always_apply=True),\n",
        "                # A.Resize(height=400, width=400, p=1.0),\n",
        "            ], p=1.0)\n",
        "    \n",
        "    def get_labels(self):\n",
        "        return list(self.lbls)"
      ],
      "execution_count": null,
      "outputs": []
    },
    {
      "cell_type": "markdown",
      "metadata": {
        "id": "JpLkKN3a_XIf",
        "colab_type": "text"
      },
      "source": [
        "## Prep Data"
      ]
    },
    {
      "cell_type": "code",
      "metadata": {
        "id": "hlw-2cwy9IH5",
        "colab_type": "code",
        "colab": {}
      },
      "source": [
        "!tar -xzf 'dataset/temp.tgz'"
      ],
      "execution_count": null,
      "outputs": []
    },
    {
      "cell_type": "code",
      "metadata": {
        "id": "6gtKJd1ftdmM",
        "colab_type": "code",
        "colab": {}
      },
      "source": [
        "##NOTE: Put the df all file I sent to you inside the folder root/Rakuten/Dataset/df_all.csv"
      ],
      "execution_count": null,
      "outputs": []
    },
    {
      "cell_type": "code",
      "metadata": {
        "id": "VgBNDQuBPk81",
        "colab_type": "code",
        "colab": {
          "base_uri": "https://localhost:8080/",
          "height": 164
        },
        "outputId": "b84cc522-bbf2-43e1-b238-bd178f8762ae"
      },
      "source": [
        "df_all = pd.read_csv(config.DATA_PATH/'df_all.csv'); df_all.sample(1)"
      ],
      "execution_count": null,
      "outputs": [
        {
          "output_type": "execute_result",
          "data": {
            "text/html": [
              "<div>\n",
              "<style scoped>\n",
              "    .dataframe tbody tr th:only-of-type {\n",
              "        vertical-align: middle;\n",
              "    }\n",
              "\n",
              "    .dataframe tbody tr th {\n",
              "        vertical-align: top;\n",
              "    }\n",
              "\n",
              "    .dataframe thead th {\n",
              "        text-align: right;\n",
              "    }\n",
              "</style>\n",
              "<table border=\"1\" class=\"dataframe\">\n",
              "  <thead>\n",
              "    <tr style=\"text-align: right;\">\n",
              "      <th></th>\n",
              "      <th>Title</th>\n",
              "      <th>Description</th>\n",
              "      <th>Image_id</th>\n",
              "      <th>Product_id</th>\n",
              "      <th>Prdtypecode</th>\n",
              "      <th>Prdlbl</th>\n",
              "      <th>image_path</th>\n",
              "    </tr>\n",
              "  </thead>\n",
              "  <tbody>\n",
              "    <tr>\n",
              "      <th>61569</th>\n",
              "      <td>Les Contes Populaires Du Languedoc</td>\n",
              "      <td>Le conte populaire est un conte oral tradition...</td>\n",
              "      <td>1270098765</td>\n",
              "      <td>298031778</td>\n",
              "      <td>2705</td>\n",
              "      <td>2705</td>\n",
              "      <td>/content/SIGIR-2020-EComDC-release/image/image...</td>\n",
              "    </tr>\n",
              "  </tbody>\n",
              "</table>\n",
              "</div>"
            ],
            "text/plain": [
              "                                    Title  ...                                         image_path\n",
              "61569  Les Contes Populaires Du Languedoc  ...  /content/SIGIR-2020-EComDC-release/image/image...\n",
              "\n",
              "[1 rows x 7 columns]"
            ]
          },
          "metadata": {
            "tags": []
          },
          "execution_count": 10
        }
      ]
    },
    {
      "cell_type": "code",
      "metadata": {
        "id": "tbTkjPuJSul0",
        "colab_type": "code",
        "colab": {
          "base_uri": "https://localhost:8080/",
          "height": 650
        },
        "outputId": "77f4dc30-177f-4941-a9fe-c0bbcf191254"
      },
      "source": [
        "df_all.Prdlbl.value_counts(ascending=True).plot.barh(figsize=(12,12))"
      ],
      "execution_count": null,
      "outputs": [
        {
          "output_type": "execute_result",
          "data": {
            "text/plain": [
              "<matplotlib.axes._subplots.AxesSubplot at 0x7ff5e99317b8>"
            ]
          },
          "metadata": {
            "tags": []
          },
          "execution_count": 11
        },
        {
          "output_type": "display_data",
          "data": {
            "image/png": "[encoded data removed]",
            "text/plain": [
              "<Figure size 864x864 with 1 Axes>"
            ]
          },
          "metadata": {
            "tags": [],
            "needs_background": "light"
          }
        }
      ]
    },
    {
      "cell_type": "markdown",
      "metadata": {
        "id": "7CyYHpYVUojD",
        "colab_type": "text"
      },
      "source": [
        "NB: The Dataset is highly imbalanced so we will need a form of weighting or smapling"
      ]
    },
    {
      "cell_type": "code",
      "metadata": {
        "id": "nUDfkrVTgpHJ",
        "colab_type": "code",
        "colab": {}
      },
      "source": [
        "le = LabelEncoder()"
      ],
      "execution_count": null,
      "outputs": []
    },
    {
      "cell_type": "code",
      "metadata": {
        "id": "eNHuXu3hDD20",
        "colab_type": "code",
        "colab": {
          "base_uri": "https://localhost:8080/",
          "height": 67
        },
        "outputId": "9b77d8e6-31ef-4c92-8972-9aaed0f1c526"
      },
      "source": [
        "le.fit(df_all.Prdlbl)\n",
        "le.classes_"
      ],
      "execution_count": null,
      "outputs": [
        {
          "output_type": "execute_result",
          "data": {
            "text/plain": [
              "array([  10,   40,   50,   60, 1140, 1160, 1180, 1280, 1281, 1300, 1301,\n",
              "       1302, 1320, 1560, 1920, 1940, 2060, 2220, 2280, 2403, 2462, 2522,\n",
              "       2582, 2583, 2585, 2705, 2905])"
            ]
          },
          "metadata": {
            "tags": []
          },
          "execution_count": 14
        }
      ]
    },
    {
      "cell_type": "code",
      "metadata": {
        "id": "LjsKY3AnDDqo",
        "colab_type": "code",
        "colab": {}
      },
      "source": [
        "df_all.Prdlbl = le.transform(df_all.Prdlbl)"
      ],
      "execution_count": null,
      "outputs": []
    },
    {
      "cell_type": "code",
      "metadata": {
        "id": "2FRgaOS6gpQt",
        "colab_type": "code",
        "colab": {
          "base_uri": "https://localhost:8080/",
          "height": 34
        },
        "outputId": "bac1cdae-ca69-49e5-ac32-78ef4e271e58"
      },
      "source": [
        "df_all.shape"
      ],
      "execution_count": null,
      "outputs": [
        {
          "output_type": "execute_result",
          "data": {
            "text/plain": [
              "(84916, 7)"
            ]
          },
          "metadata": {
            "tags": []
          },
          "execution_count": 16
        }
      ]
    },
    {
      "cell_type": "markdown",
      "metadata": {
        "id": "DMpgcXdxCp2-",
        "colab_type": "text"
      },
      "source": [
        "## Utils"
      ]
    },
    {
      "cell_type": "code",
      "metadata": {
        "id": "gmORdiu_MfMF",
        "colab_type": "code",
        "colab": {}
      },
      "source": [
        "class FocalLoss(nn.Module):\n",
        "    def __init__(self, alpha=1, gamma=2, logits=False, reduce=True):\n",
        "        super(FocalLoss, self).__init__()\n",
        "        self.alpha = alpha\n",
        "        self.gamma = gamma\n",
        "        self.logits = logits\n",
        "        self.reduce = reduce\n",
        "\n",
        "    def forward(self, inputs, targets):\n",
        "        if self.logits:\n",
        "            BCE_loss = F.binary_cross_entropy_with_logits(inputs, targets)\n",
        "        else:\n",
        "            BCE_loss = F.binary_cross_entropy(inputs, targets)\n",
        "\n",
        "        pt = torch.exp(-BCE_loss)\n",
        "        F_loss = self.alpha * (1-pt)**self.gamma * BCE_loss\n",
        "\n",
        "        if self.reduce:\n",
        "            return torch.mean(F_loss)\n",
        "        else:\n",
        "            return F_loss\n",
        "        \n",
        "class LabelSmoothing(nn.Module):\n",
        "    def __init__(self, smoothing = 0.1):\n",
        "        super(LabelSmoothing, self).__init__()\n",
        "        self.confidence = 1.0 - smoothing\n",
        "        self.smoothing = smoothing\n",
        "\n",
        "    def forward(self, x, target):\n",
        "        if self.training:\n",
        "            x = x.float()\n",
        "            target = target.float()\n",
        "            logprobs = torch.nn.functional.log_softmax(x, dim = -1)\n",
        "\n",
        "            nll_loss = -logprobs * target\n",
        "            nll_loss = nll_loss.sum(-1)\n",
        "    \n",
        "            smooth_loss = -logprobs.mean(dim=-1)\n",
        "\n",
        "            loss = self.confidence * nll_loss + self.smoothing * smooth_loss\n",
        "\n",
        "            return loss.mean()\n",
        "        else:\n",
        "            return torch.nn.functional.cross_entropy(x, target)"
      ],
      "execution_count": null,
      "outputs": []
    },
    {
      "cell_type": "code",
      "metadata": {
        "id": "Fn5sBnqSCr-B",
        "trusted": true,
        "colab_type": "code",
        "colab": {}
      },
      "source": [
        "def calc_metric(y_pred, y_true):\n",
        "    return f1_score(y_true, y_pred, average='macro'), accuracy_score(y_true, y_pred)\n",
        "\n",
        "def cross_entropy_loss(y_pred, y_true):\n",
        "    return nn.CrossEntropyLoss()(y_pred, y_true.argmax(1).to(y_pred.device).long())\n",
        "\n",
        "def focal_loss(y_pred, y_true):\n",
        "    return FocalLoss(logits=True)(y_pred, y_true.to(y_pred.device))\n",
        "\n",
        "def label_smoothing_loss(y_pred, y_true):\n",
        "    return LabelSmoothing()(y_pred, y_true.to(y_pred.device))\n",
        "\n",
        "def to_device(tensor_, device):\n",
        "    return tensor_.to(device)"
      ],
      "execution_count": null,
      "outputs": []
    },
    {
      "cell_type": "code",
      "metadata": {
        "id": "_gsQk2N3DMV1",
        "trusted": true,
        "colab_type": "code",
        "colab": {}
      },
      "source": [
        "class AverageMeter:\n",
        "    def __init__(self):\n",
        "        self.reset()\n",
        "    \n",
        "    def reset(self):\n",
        "        self.val = 0\n",
        "        self.avg = 0\n",
        "        self.sum = 0\n",
        "        self.count = 0\n",
        "    \n",
        "    def update(self, val, n=1):\n",
        "        self.val = val\n",
        "        self.sum += val * n\n",
        "        self.count += n\n",
        "        self.avg = self.sum / self.count"
      ],
      "execution_count": null,
      "outputs": []
    },
    {
      "cell_type": "markdown",
      "metadata": {
        "id": "o3N_RD52MUNd",
        "colab_type": "text"
      },
      "source": [
        "## Trainer(TPU)"
      ]
    },
    {
      "cell_type": "code",
      "metadata": {
        "trusted": true,
        "id": "Rv6e3Bvr672b",
        "colab_type": "code",
        "colab": {}
      },
      "source": [
        "WRAPPED_MODEL = xmp.MpModelWrapper(Model(pretrained=True))\n",
        "\n",
        "def _run():\n",
        "    xm.master_print(f'Setting up...')\n",
        "    \n",
        "    device = xm.xla_device()\n",
        "    \n",
        "    global WRAPPED_MODEL\n",
        "    model = WRAPPED_MODEL.to(device)\n",
        "    \n",
        "    model_path = config.MODEL_PATH/'model_resnet50.bin'\n",
        "\n",
        "    # do the split just once and it'l be saved\n",
        "    train_df, valid_df = train_test_split(df_all, test_size=0.2, stratify=df_all.Prdlbl, shuffle=True)\n",
        "\n",
        "    # save the split ids so we can reuse the same split\n",
        "    np.save(str(config.DATA_PATH/'train_index.npy'), train_df.index.values)\n",
        "    np.save(str(config.DATA_PATH/'valid_index.npy'), valid_df.index.values)\n",
        "    \n",
        "    train_df_idx = np.load(str(config.DATA_PATH/'train_index.npy'), allow_pickle=True)\n",
        "    valid_df_idx = np.load(str(config.DATA_PATH/'valid_index.npy'), allow_pickle=True)\n",
        "    train_df = df_all.iloc[train_df_idx].reset_index(drop=True)\n",
        "    valid_df = df_all.iloc[valid_df_idx].reset_index(drop=True)\n",
        "\n",
        "    train_df, valid_df = train_df.reset_index(drop=True), valid_df.reset_index(drop=True)\n",
        "    \n",
        "    train_ds = Dataset(train_df.image_path, train_df.Prdlbl, resize=True)\n",
        "    valid_ds = Dataset(valid_df.image_path, valid_df.Prdlbl, resize=True, is_train=False)\n",
        "    \n",
        "    weights = 1./ np.array(list(map(lambda x: x[1], sorted(Counter(train_df.Prdlbl.values).items(), key=lambda x: x[0]))))\n",
        "    each_weight = np.array([weights[i] for i in train_df.Prdlbl.values])\n",
        "    each_weight = torch.from_numpy(each_weight)\n",
        "\n",
        "    train_sampler = DistributedSamplerWrapper(sampler=torch.utils.data.WeightedRandomSampler(each_weight.double(), len(each_weight)), \n",
        "                                                        num_replicas=xm.xrt_world_size(),\n",
        "                                                        rank=xm.get_ordinal(),\n",
        "                                                        shuffle=True)\n",
        "\n",
        "    \n",
        "    train_dl = torch.utils.data.DataLoader(train_ds, batch_size=config.TRAIN_BS, drop_last=True, \n",
        "                                           num_workers=0, sampler=train_sampler)\n",
        "    \n",
        "    valid_sampler = torch.utils.data.distributed.DistributedSampler(valid_ds, \n",
        "                                                                    num_replicas=xm.xrt_world_size(),\n",
        "                                                                    rank=xm.get_ordinal(),\n",
        "                                                                    shuffle=False)\n",
        "\n",
        "    valid_sampler = torch.utils.data.distributed.DistributedSampler(valid_ds, \n",
        "                                                                    num_replicas=xm.xrt_world_size(),\n",
        "                                                                    rank=xm.get_ordinal(),\n",
        "                                                                    shuffle=False)\n",
        "\n",
        "    \n",
        "    valid_dl = torch.utils.data.DataLoader(valid_ds, batch_size=config.VALID_BS, drop_last=False, \n",
        "                                           num_workers=0, sampler=valid_sampler)\n",
        "    \n",
        "    def train(dl, model, opt, device, sched=None):\n",
        "        xm.master_print('TRAINING...')\n",
        "        model.train()\n",
        "        loss_meter = AverageMeter()\n",
        "        all_losses = []\n",
        "\n",
        "        p_bar = tqdm(dl, total = len(dl), disable=not xm.is_master_ordinal())\n",
        "\n",
        "        for i, batch in enumerate(dl):\n",
        "            images = batch['image']\n",
        "            targets = batch['target']\n",
        "\n",
        "            images = to_device(images, device)\n",
        "            targets = to_device(targets, device)\n",
        "\n",
        "            opt.zero_grad()\n",
        "\n",
        "            out = model(images)\n",
        "            # loss = cross_entropy_loss(out, targets)\n",
        "            loss = label_smoothing_loss(out, targets)\n",
        "\n",
        "            loss_meter.update(loss.item(), images.shape[0])\n",
        "            \n",
        "            if i % 4000 == 0:\n",
        "                xm.master_print(f'Batch: {i}, Training loss: {loss_meter.avg}')\n",
        "\n",
        "            all_losses.append(loss.item())    \n",
        "\n",
        "            loss.backward()\n",
        "            xm.optimizer_step(opt)\n",
        "\n",
        "            p_bar.set_postfix(loss=loss_meter.avg)\n",
        "            # break\n",
        "\n",
        "        return all_losses\n",
        "\n",
        "\n",
        "    def evaluate(dl, model, device, metrics=False):\n",
        "        model.eval()\n",
        "        xm.master_print('EVALUATING...')\n",
        "        loss_meter = AverageMeter()\n",
        "\n",
        "        all_outs = []\n",
        "        all_targets = []\n",
        "\n",
        "        p_bar = tqdm(dl, total = len(dl), disable=not xm.is_master_ordinal())\n",
        "\n",
        "        with torch.no_grad():\n",
        "\n",
        "            for i, batch in enumerate(dl):\n",
        "                images = batch['image']\n",
        "                targets = batch['target']\n",
        "\n",
        "                images = to_device(images, device)\n",
        "                targets = to_device(targets, device)\n",
        "                \n",
        "                out = model(images)\n",
        "                \n",
        "                # loss = cross_entropy_loss(out, targets)\n",
        "                loss = label_smoothing_loss(out, targets)\n",
        "\n",
        "                loss_meter.update(loss.item(), images.shape[0])\n",
        "                \n",
        "                if i % 4000 == 0:\n",
        "                    xm.master_print(f'Batch: {i}, Evaluation loss: {loss_meter.avg}')\n",
        "\n",
        "                out = F.softmax(out, dim=1).argmax(1)\n",
        "\n",
        "                all_outs.extend(out.cpu().detach().tolist())\n",
        "                all_targets.extend(targets.argmax(1).cpu().detach().tolist())\n",
        "                # break\n",
        "\n",
        "                p_bar.set_postfix(loss=loss_meter.avg)\n",
        "\n",
        "\n",
        "        xm.master_print(f'VALID LOSS = {loss_meter.avg}')\n",
        "\n",
        "        return loss_meter.avg, all_outs, all_targets\n",
        "    \n",
        "    \n",
        "    lr = config.lr * xm.xrt_world_size()\n",
        "    \n",
        "    opt = torch.optim.AdamW(model.parameters(), lr = lr)\n",
        "    # opt = torch.optim.SGD(model.parameters(), lr = lr, momentum=0.9, weight_decay=0.1, nesterov=True)\n",
        "    sched = torch.optim.lr_scheduler.ReduceLROnPlateau(opt, patience=3, mode='min')\n",
        "    # sched = torch.optim.lr_scheduler.OneCycleLR(opt, max_lr=lr, total_steps=10000, epochs=3, steps_per_epoch=len(train_ds))\n",
        "    \n",
        "    \n",
        "    best_metric = 0\n",
        "\n",
        "    for epoch in range(config.NUM_EPOCHS):\n",
        "        epoch_start = time.time()\n",
        "        xm.master_print('-'*50)\n",
        "        xm.master_print(f'Running Epoch #{epoch} {\"🔥\"*epoch}')\n",
        "        xm.master_print(f'{\"-\"*50} \\n')\n",
        "\n",
        "        train_para_loader = pl.ParallelLoader(train_dl, [device])\n",
        "        valid_para_loader = pl.ParallelLoader(valid_dl, [device])\n",
        "        \n",
        "        start = time.time()\n",
        "        all_train_losses = train(train_para_loader.per_device_loader(device), model, opt, device, sched)\n",
        "        end = time.time()\n",
        "        xm.master_print(f'Training time: {round(end-start, 2)} secs')\n",
        "        \n",
        "        start = time.time()\n",
        "        loss, all_outs, all_targets = evaluate(valid_para_loader.per_device_loader(device), model, device)\n",
        "        end = time.time()\n",
        "        xm.master_print(f'Evaluation time: {round(end-start, 2)} secs \\n')\n",
        "        \n",
        "        f1_score_, accuracy = calc_metric(all_outs, all_targets)\n",
        "\n",
        "\n",
        "        xm.master_print(f'VALID F1-SCORE: {f1_score_}')\n",
        "        xm.master_print(f'ACCURACY SCORE: {accuracy}')\n",
        "\n",
        "\n",
        "        if f1_score_ > best_metric:\n",
        "            torch.save(model.state_dict(), model_path)\n",
        "            xm.master_print('Validation score improved ({} --> {}). Saving model!'.format(best_metric, f1_score_))\n",
        "            best_metric = f1_score_\n",
        "\n",
        "        epoch_end = time.time()\n",
        "        \n",
        "        xm.master_print('-'*50)\n",
        "        xm.master_print(f'TOTAL EPOCH TIME: {round(epoch_end-epoch_start, 2)} secs \\n')\n",
        "        \n",
        "        # if sched is not None:\n",
        "        sched.step(loss)\n",
        "        # break"
      ],
      "execution_count": null,
      "outputs": []
    },
    {
      "cell_type": "code",
      "metadata": {
        "id": "Gj4HtJ87a5MW",
        "colab_type": "code",
        "colab": {
          "base_uri": "https://localhost:8080/",
          "height": 34
        },
        "outputId": "faa65de1-612e-4035-c690-ab8c887fed2c"
      },
      "source": [
        "gc.collect()"
      ],
      "execution_count": null,
      "outputs": [
        {
          "output_type": "execute_result",
          "data": {
            "text/plain": [
              "41"
            ]
          },
          "metadata": {
            "tags": []
          },
          "execution_count": 25
        }
      ]
    },
    {
      "cell_type": "code",
      "metadata": {
        "trusted": true,
        "id": "53qcFBHv672h",
        "colab_type": "code",
        "colab": {
          "base_uri": "https://localhost:8080/",
          "height": 1000,
          "referenced_widgets": [
            "79988a7d033640fc94ce17005747d7e3",
            "3ce10a0ae10c4eb3bc0d49ce1f14bea6",
            "07a55ee2dfc44d9a8695776840d41fba",
            "05b0ba0b113a454695d9a88c4d1831c7",
            "87ec2d5476434e29bce4acf25ae2e248",
            "8262ffef90ae4563a839a7e9797dfec4",
            "93eba47da6e84a459c41bac6a7ccbd3f",
            "b84ab32be7154a0198293295414edc1d",
            "bf9b4df1f4534784b5f141237f698322",
            "187d2b815d8345aba75a2c0a6b0257a0",
            "4c06fbc9306a45208daa75226516d88c",
            "9b6cf97fbcd64acd9259426ef6cc5c7b",
            "8434cb5b7263432fbcb0965847d9af8e",
            "db586f16baa64d56adefc3de0d46e5b9",
            "9e97692b95ba40a1a7bfed486b9478a9",
            "d278b905910248c2aa9e082585141a37",
            "a671220533ae4e77b115dbb424ea7ffd",
            "9d17d2b1b2eb40b9a6e56872e119c575",
            "3c77360cc2cc46028ce67ddbebfc3a56",
            "29fcced2a1ec4ec59d288f6e57a1d45f",
            "1cd7863525de4ee79eb6794a914ace16",
            "1f6cb6e1edcb469cbfadf7465a2796b4",
            "8200c0d3a89547b5b68438cd02cd0935",
            "3c028577572646c2b2fd4542ddc80655",
            "c1e397f2e0d44574ac49dc29f4ae7c63",
            "fbe593b9508848e2bef48b776d51a8ba",
            "36075bb845d84a92945d10cd407398a6",
            "6d286c24b3db4f63822dee9af25190d4",
            "e252785efcd44ac3928516a068b78894",
            "94d0963d2d124362b97a8ba5eb49858c",
            "c087ff8e820b4d2fb449b1ebfb9acf9e",
            "13204845e4254482842e092bb6fb7944"
          ]
        },
        "outputId": "92c0a6fe-95f2-43ee-d290-1af899d1c668"
      },
      "source": [
        "# fold = 0\n",
        "FLAGS = {}\n",
        "def mp_wrapper(rank, flags):\n",
        "    torch.set_default_tensor_type('torch.FloatTensor')\n",
        "    _run()\n",
        "    \n",
        "xmp.spawn(mp_wrapper, args=(FLAGS, ), nprocs=8, start_method='fork')"
      ],
      "execution_count": null,
      "outputs": [
        {
          "output_type": "stream",
          "text": [
            "Setting up...\n",
            "--------------------------------------------------\n",
            "Running Epoch #0 \n",
            "-------------------------------------------------- \n",
            "\n",
            "TRAINING...\n"
          ],
          "name": "stdout"
        },
        {
          "output_type": "display_data",
          "data": {
            "application/vnd.jupyter.widget-view+json": {
              "model_id": "79988a7d033640fc94ce17005747d7e3",
              "version_minor": 0,
              "version_major": 2
            },
            "text/plain": [
              "HBox(children=(FloatProgress(value=0.0, max=707.0), HTML(value='')))"
            ]
          },
          "metadata": {
            "tags": []
          }
        },
        {
          "output_type": "stream",
          "text": [
            "Batch: 0, Training loss: 3.3881049156188965\n",
            "Training time: 1471.9 secs\n",
            "EVALUATING...\n",
            "Batch: 0, Evaluation loss: 1.9932258129119873\n",
            "VALID LOSS = 2.4450175608321847\n",
            "Evaluation time: 295.29 secs \n",
            "\n",
            "VALID F1-SCORE: 0.35526982270841956\n",
            "ACCURACY SCORE: 0.39849269901083373\n",
            "Validation score improved (0 --> 0.35526982270841956). Saving model!\n",
            "--------------------------------------------------\n",
            "TOTAL EPOCH TIME: 1784.58 secs \n",
            "\n",
            "--------------------------------------------------\n",
            "Running Epoch #1 🔥\n",
            "-------------------------------------------------- \n",
            "\n",
            "TRAINING...\n"
          ],
          "name": "stdout"
        },
        {
          "output_type": "display_data",
          "data": {
            "application/vnd.jupyter.widget-view+json": {
              "model_id": "bf9b4df1f4534784b5f141237f698322",
              "version_minor": 0,
              "version_major": 2
            },
            "text/plain": [
              "HBox(children=(FloatProgress(value=0.0, max=707.0), HTML(value='')))"
            ]
          },
          "metadata": {
            "tags": []
          }
        },
        {
          "output_type": "stream",
          "text": [
            "Batch: 0, Training loss: 2.2590765953063965\n",
            "Training time: 1507.63 secs\n",
            "EVALUATING...\n",
            "Batch: 0, Evaluation loss: 2.3472695350646973\n",
            "VALID LOSS = 2.1592694711303353\n",
            "Evaluation time: 278.78 secs \n",
            "\n",
            "VALID F1-SCORE: 0.45534947711182705\n",
            "ACCURACY SCORE: 0.4936410739519548\n",
            "Validation score improved (0.35526982270841956 --> 0.45534947711182705). Saving model!\n",
            "--------------------------------------------------\n",
            "TOTAL EPOCH TIME: 1803.6 secs \n",
            "\n",
            "--------------------------------------------------\n",
            "Running Epoch #2 🔥🔥\n",
            "-------------------------------------------------- \n",
            "\n",
            "TRAINING...\n"
          ],
          "name": "stdout"
        },
        {
          "output_type": "display_data",
          "data": {
            "application/vnd.jupyter.widget-view+json": {
              "model_id": "a671220533ae4e77b115dbb424ea7ffd",
              "version_minor": 0,
              "version_major": 2
            },
            "text/plain": [
              "HBox(children=(FloatProgress(value=0.0, max=707.0), HTML(value='')))"
            ]
          },
          "metadata": {
            "tags": []
          }
        },
        {
          "output_type": "stream",
          "text": [
            "Batch: 0, Training loss: 1.7821650505065918\n",
            "Training time: 1406.41 secs\n",
            "EVALUATING...\n",
            "Batch: 0, Evaluation loss: 2.0636157989501953\n",
            "VALID LOSS = 2.010485548710295\n",
            "Evaluation time: 265.68 secs \n",
            "\n",
            "VALID F1-SCORE: 0.5150043709217603\n",
            "ACCURACY SCORE: 0.5369759773904852\n",
            "Validation score improved (0.45534947711182705 --> 0.5150043709217603). Saving model!\n",
            "--------------------------------------------------\n",
            "TOTAL EPOCH TIME: 1688.04 secs \n",
            "\n",
            "--------------------------------------------------\n",
            "Running Epoch #3 🔥🔥🔥\n",
            "-------------------------------------------------- \n",
            "\n",
            "TRAINING...\n"
          ],
          "name": "stdout"
        },
        {
          "output_type": "display_data",
          "data": {
            "application/vnd.jupyter.widget-view+json": {
              "model_id": "c1e397f2e0d44574ac49dc29f4ae7c63",
              "version_minor": 0,
              "version_major": 2
            },
            "text/plain": [
              "HBox(children=(FloatProgress(value=0.0, max=707.0), HTML(value='')))"
            ]
          },
          "metadata": {
            "tags": []
          }
        },
        {
          "output_type": "stream",
          "text": [
            "Batch: 0, Training loss: 1.5487674474716187\n"
          ],
          "name": "stdout"
        }
      ]
    },
    {
      "cell_type": "code",
      "metadata": {
        "id": "NYt2K0vyvQ11",
        "colab_type": "code",
        "colab": {}
      },
      "source": [
        ""
      ],
      "execution_count": null,
      "outputs": []
    },
    {
      "cell_type": "code",
      "metadata": {
        "id": "X1Y9ecQ0vQxH",
        "colab_type": "code",
        "colab": {}
      },
      "source": [
        ""
      ],
      "execution_count": null,
      "outputs": []
    },
    {
      "cell_type": "code",
      "metadata": {
        "id": "ApkV1pQbt4z2",
        "colab_type": "code",
        "colab": {}
      },
      "source": [
        ""
      ],
      "execution_count": null,
      "outputs": []
    }
  ]
}