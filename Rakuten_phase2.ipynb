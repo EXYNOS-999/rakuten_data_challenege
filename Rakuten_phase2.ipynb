{
  "nbformat": 4,
  "nbformat_minor": 0,
  "metadata": {
    "colab": {
      "name": "Rakuten_phase2.ipynb",
      "provenance": [],
      "collapsed_sections": [
        "OtNk1hUM6n9p"
      ],
      "authorship_tag": "ABX9TyOqwh9jSAfOtY8VkkXuB9L8"
    },
    "kernelspec": {
      "name": "python3",
      "display_name": "Python 3"
    },
    "accelerator": "TPU",
    "widgets": {
      "application/vnd.jupyter.widget-state+json": {
        "db9389e3f13a4810947d150167bdd70d": {
          "model_module": "@jupyter-widgets/controls",
          "model_name": "HBoxModel",
          "state": {
            "_view_name": "HBoxView",
            "_dom_classes": [],
            "_model_name": "HBoxModel",
            "_view_module": "@jupyter-widgets/controls",
            "_model_module_version": "1.5.0",
            "_view_count": null,
            "_view_module_version": "1.5.0",
            "box_style": "",
            "layout": "IPY_MODEL_b07b5cbb25ef4ce48b211316f1b0714f",
            "_model_module": "@jupyter-widgets/controls",
            "children": [
              "IPY_MODEL_31c48d5a791646159e4ad7ddd036a46b",
              "IPY_MODEL_7d9af0ac033447889ae5525a888c994c"
            ]
          }
        },
        "b07b5cbb25ef4ce48b211316f1b0714f": {
          "model_module": "@jupyter-widgets/base",
          "model_name": "LayoutModel",
          "state": {
            "_view_name": "LayoutView",
            "grid_template_rows": null,
            "right": null,
            "justify_content": null,
            "_view_module": "@jupyter-widgets/base",
            "overflow": null,
            "_model_module_version": "1.2.0",
            "_view_count": null,
            "flex_flow": null,
            "width": null,
            "min_width": null,
            "border": null,
            "align_items": null,
            "bottom": null,
            "_model_module": "@jupyter-widgets/base",
            "top": null,
            "grid_column": null,
            "overflow_y": null,
            "overflow_x": null,
            "grid_auto_flow": null,
            "grid_area": null,
            "grid_template_columns": null,
            "flex": null,
            "_model_name": "LayoutModel",
            "justify_items": null,
            "grid_row": null,
            "max_height": null,
            "align_content": null,
            "visibility": null,
            "align_self": null,
            "height": null,
            "min_height": null,
            "padding": null,
            "grid_auto_rows": null,
            "grid_gap": null,
            "max_width": null,
            "order": null,
            "_view_module_version": "1.2.0",
            "grid_template_areas": null,
            "object_position": null,
            "object_fit": null,
            "grid_auto_columns": null,
            "margin": null,
            "display": null,
            "left": null
          }
        },
        "31c48d5a791646159e4ad7ddd036a46b": {
          "model_module": "@jupyter-widgets/controls",
          "model_name": "FloatProgressModel",
          "state": {
            "_view_name": "ProgressView",
            "style": "IPY_MODEL_9a576bdb624948a78f25c840e2d76944",
            "_dom_classes": [],
            "description": "100%",
            "_model_name": "FloatProgressModel",
            "bar_style": "success",
            "max": 1327,
            "_view_module": "@jupyter-widgets/controls",
            "_model_module_version": "1.5.0",
            "value": 1327,
            "_view_count": null,
            "_view_module_version": "1.5.0",
            "orientation": "horizontal",
            "min": 0,
            "description_tooltip": null,
            "_model_module": "@jupyter-widgets/controls",
            "layout": "IPY_MODEL_cf6faa46871744f7a79234ae8df37128"
          }
        },
        "7d9af0ac033447889ae5525a888c994c": {
          "model_module": "@jupyter-widgets/controls",
          "model_name": "HTMLModel",
          "state": {
            "_view_name": "HTMLView",
            "style": "IPY_MODEL_02373deffe3348cbb81ad6d2e458b3a5",
            "_dom_classes": [],
            "description": "",
            "_model_name": "HTMLModel",
            "placeholder": "​",
            "_view_module": "@jupyter-widgets/controls",
            "_model_module_version": "1.5.0",
            "value": " 1327/1327 [1:22:16&lt;00:00,  3.72s/it]",
            "_view_count": null,
            "_view_module_version": "1.5.0",
            "description_tooltip": null,
            "_model_module": "@jupyter-widgets/controls",
            "layout": "IPY_MODEL_60ddfefa71af458baea664ee2288ea3e"
          }
        },
        "9a576bdb624948a78f25c840e2d76944": {
          "model_module": "@jupyter-widgets/controls",
          "model_name": "ProgressStyleModel",
          "state": {
            "_view_name": "StyleView",
            "_model_name": "ProgressStyleModel",
            "description_width": "initial",
            "_view_module": "@jupyter-widgets/base",
            "_model_module_version": "1.5.0",
            "_view_count": null,
            "_view_module_version": "1.2.0",
            "bar_color": null,
            "_model_module": "@jupyter-widgets/controls"
          }
        },
        "cf6faa46871744f7a79234ae8df37128": {
          "model_module": "@jupyter-widgets/base",
          "model_name": "LayoutModel",
          "state": {
            "_view_name": "LayoutView",
            "grid_template_rows": null,
            "right": null,
            "justify_content": null,
            "_view_module": "@jupyter-widgets/base",
            "overflow": null,
            "_model_module_version": "1.2.0",
            "_view_count": null,
            "flex_flow": null,
            "width": null,
            "min_width": null,
            "border": null,
            "align_items": null,
            "bottom": null,
            "_model_module": "@jupyter-widgets/base",
            "top": null,
            "grid_column": null,
            "overflow_y": null,
            "overflow_x": null,
            "grid_auto_flow": null,
            "grid_area": null,
            "grid_template_columns": null,
            "flex": null,
            "_model_name": "LayoutModel",
            "justify_items": null,
            "grid_row": null,
            "max_height": null,
            "align_content": null,
            "visibility": null,
            "align_self": null,
            "height": null,
            "min_height": null,
            "padding": null,
            "grid_auto_rows": null,
            "grid_gap": null,
            "max_width": null,
            "order": null,
            "_view_module_version": "1.2.0",
            "grid_template_areas": null,
            "object_position": null,
            "object_fit": null,
            "grid_auto_columns": null,
            "margin": null,
            "display": null,
            "left": null
          }
        },
        "02373deffe3348cbb81ad6d2e458b3a5": {
          "model_module": "@jupyter-widgets/controls",
          "model_name": "DescriptionStyleModel",
          "state": {
            "_view_name": "StyleView",
            "_model_name": "DescriptionStyleModel",
            "description_width": "",
            "_view_module": "@jupyter-widgets/base",
            "_model_module_version": "1.5.0",
            "_view_count": null,
            "_view_module_version": "1.2.0",
            "_model_module": "@jupyter-widgets/controls"
          }
        },
        "60ddfefa71af458baea664ee2288ea3e": {
          "model_module": "@jupyter-widgets/base",
          "model_name": "LayoutModel",
          "state": {
            "_view_name": "LayoutView",
            "grid_template_rows": null,
            "right": null,
            "justify_content": null,
            "_view_module": "@jupyter-widgets/base",
            "overflow": null,
            "_model_module_version": "1.2.0",
            "_view_count": null,
            "flex_flow": null,
            "width": null,
            "min_width": null,
            "border": null,
            "align_items": null,
            "bottom": null,
            "_model_module": "@jupyter-widgets/base",
            "top": null,
            "grid_column": null,
            "overflow_y": null,
            "overflow_x": null,
            "grid_auto_flow": null,
            "grid_area": null,
            "grid_template_columns": null,
            "flex": null,
            "_model_name": "LayoutModel",
            "justify_items": null,
            "grid_row": null,
            "max_height": null,
            "align_content": null,
            "visibility": null,
            "align_self": null,
            "height": null,
            "min_height": null,
            "padding": null,
            "grid_auto_rows": null,
            "grid_gap": null,
            "max_width": null,
            "order": null,
            "_view_module_version": "1.2.0",
            "grid_template_areas": null,
            "object_position": null,
            "object_fit": null,
            "grid_auto_columns": null,
            "margin": null,
            "display": null,
            "left": null
          }
        },
        "2b30de500d834486b48126978d83359d": {
          "model_module": "@jupyter-widgets/controls",
          "model_name": "HBoxModel",
          "state": {
            "_view_name": "HBoxView",
            "_dom_classes": [],
            "_model_name": "HBoxModel",
            "_view_module": "@jupyter-widgets/controls",
            "_model_module_version": "1.5.0",
            "_view_count": null,
            "_view_module_version": "1.5.0",
            "box_style": "",
            "layout": "IPY_MODEL_e0df177c39a9441e80f25a63e636acb7",
            "_model_module": "@jupyter-widgets/controls",
            "children": [
              "IPY_MODEL_d6b39c6778014d72860e5a3c5d55ab1d",
              "IPY_MODEL_12f3310bd8364d99bd8fafa8d71a1d2f"
            ]
          }
        },
        "e0df177c39a9441e80f25a63e636acb7": {
          "model_module": "@jupyter-widgets/base",
          "model_name": "LayoutModel",
          "state": {
            "_view_name": "LayoutView",
            "grid_template_rows": null,
            "right": null,
            "justify_content": null,
            "_view_module": "@jupyter-widgets/base",
            "overflow": null,
            "_model_module_version": "1.2.0",
            "_view_count": null,
            "flex_flow": null,
            "width": null,
            "min_width": null,
            "border": null,
            "align_items": null,
            "bottom": null,
            "_model_module": "@jupyter-widgets/base",
            "top": null,
            "grid_column": null,
            "overflow_y": null,
            "overflow_x": null,
            "grid_auto_flow": null,
            "grid_area": null,
            "grid_template_columns": null,
            "flex": null,
            "_model_name": "LayoutModel",
            "justify_items": null,
            "grid_row": null,
            "max_height": null,
            "align_content": null,
            "visibility": null,
            "align_self": null,
            "height": null,
            "min_height": null,
            "padding": null,
            "grid_auto_rows": null,
            "grid_gap": null,
            "max_width": null,
            "order": null,
            "_view_module_version": "1.2.0",
            "grid_template_areas": null,
            "object_position": null,
            "object_fit": null,
            "grid_auto_columns": null,
            "margin": null,
            "display": null,
            "left": null
          }
        },
        "d6b39c6778014d72860e5a3c5d55ab1d": {
          "model_module": "@jupyter-widgets/controls",
          "model_name": "FloatProgressModel",
          "state": {
            "_view_name": "ProgressView",
            "style": "IPY_MODEL_44a293ae4fd644bdb5f43ff1c32299c8",
            "_dom_classes": [],
            "description": "100%",
            "_model_name": "FloatProgressModel",
            "bar_style": "success",
            "max": 31,
            "_view_module": "@jupyter-widgets/controls",
            "_model_module_version": "1.5.0",
            "value": 31,
            "_view_count": null,
            "_view_module_version": "1.5.0",
            "orientation": "horizontal",
            "min": 0,
            "description_tooltip": null,
            "_model_module": "@jupyter-widgets/controls",
            "layout": "IPY_MODEL_d35cb89bd20941e0983b9dc75f01eeea"
          }
        },
        "12f3310bd8364d99bd8fafa8d71a1d2f": {
          "model_module": "@jupyter-widgets/controls",
          "model_name": "HTMLModel",
          "state": {
            "_view_name": "HTMLView",
            "style": "IPY_MODEL_10052a758dd34f918c9736febf73309c",
            "_dom_classes": [],
            "description": "",
            "_model_name": "HTMLModel",
            "placeholder": "​",
            "_view_module": "@jupyter-widgets/controls",
            "_model_module_version": "1.5.0",
            "value": " 31/31 [21:09&lt;00:00, 40.95s/it, loss=0.384]",
            "_view_count": null,
            "_view_module_version": "1.5.0",
            "description_tooltip": null,
            "_model_module": "@jupyter-widgets/controls",
            "layout": "IPY_MODEL_2a529977632343bc8bbf54b81df5f88e"
          }
        },
        "44a293ae4fd644bdb5f43ff1c32299c8": {
          "model_module": "@jupyter-widgets/controls",
          "model_name": "ProgressStyleModel",
          "state": {
            "_view_name": "StyleView",
            "_model_name": "ProgressStyleModel",
            "description_width": "initial",
            "_view_module": "@jupyter-widgets/base",
            "_model_module_version": "1.5.0",
            "_view_count": null,
            "_view_module_version": "1.2.0",
            "bar_color": null,
            "_model_module": "@jupyter-widgets/controls"
          }
        },
        "d35cb89bd20941e0983b9dc75f01eeea": {
          "model_module": "@jupyter-widgets/base",
          "model_name": "LayoutModel",
          "state": {
            "_view_name": "LayoutView",
            "grid_template_rows": null,
            "right": null,
            "justify_content": null,
            "_view_module": "@jupyter-widgets/base",
            "overflow": null,
            "_model_module_version": "1.2.0",
            "_view_count": null,
            "flex_flow": null,
            "width": null,
            "min_width": null,
            "border": null,
            "align_items": null,
            "bottom": null,
            "_model_module": "@jupyter-widgets/base",
            "top": null,
            "grid_column": null,
            "overflow_y": null,
            "overflow_x": null,
            "grid_auto_flow": null,
            "grid_area": null,
            "grid_template_columns": null,
            "flex": null,
            "_model_name": "LayoutModel",
            "justify_items": null,
            "grid_row": null,
            "max_height": null,
            "align_content": null,
            "visibility": null,
            "align_self": null,
            "height": null,
            "min_height": null,
            "padding": null,
            "grid_auto_rows": null,
            "grid_gap": null,
            "max_width": null,
            "order": null,
            "_view_module_version": "1.2.0",
            "grid_template_areas": null,
            "object_position": null,
            "object_fit": null,
            "grid_auto_columns": null,
            "margin": null,
            "display": null,
            "left": null
          }
        },
        "10052a758dd34f918c9736febf73309c": {
          "model_module": "@jupyter-widgets/controls",
          "model_name": "DescriptionStyleModel",
          "state": {
            "_view_name": "StyleView",
            "_model_name": "DescriptionStyleModel",
            "description_width": "",
            "_view_module": "@jupyter-widgets/base",
            "_model_module_version": "1.5.0",
            "_view_count": null,
            "_view_module_version": "1.2.0",
            "_model_module": "@jupyter-widgets/controls"
          }
        },
        "2a529977632343bc8bbf54b81df5f88e": {
          "model_module": "@jupyter-widgets/base",
          "model_name": "LayoutModel",
          "state": {
            "_view_name": "LayoutView",
            "grid_template_rows": null,
            "right": null,
            "justify_content": null,
            "_view_module": "@jupyter-widgets/base",
            "overflow": null,
            "_model_module_version": "1.2.0",
            "_view_count": null,
            "flex_flow": null,
            "width": null,
            "min_width": null,
            "border": null,
            "align_items": null,
            "bottom": null,
            "_model_module": "@jupyter-widgets/base",
            "top": null,
            "grid_column": null,
            "overflow_y": null,
            "overflow_x": null,
            "grid_auto_flow": null,
            "grid_area": null,
            "grid_template_columns": null,
            "flex": null,
            "_model_name": "LayoutModel",
            "justify_items": null,
            "grid_row": null,
            "max_height": null,
            "align_content": null,
            "visibility": null,
            "align_self": null,
            "height": null,
            "min_height": null,
            "padding": null,
            "grid_auto_rows": null,
            "grid_gap": null,
            "max_width": null,
            "order": null,
            "_view_module_version": "1.2.0",
            "grid_template_areas": null,
            "object_position": null,
            "object_fit": null,
            "grid_auto_columns": null,
            "margin": null,
            "display": null,
            "left": null
          }
        },
        "ba8c6baf27f34781a2fdfc92969be859": {
          "model_module": "@jupyter-widgets/controls",
          "model_name": "HBoxModel",
          "state": {
            "_view_name": "HBoxView",
            "_dom_classes": [],
            "_model_name": "HBoxModel",
            "_view_module": "@jupyter-widgets/controls",
            "_model_module_version": "1.5.0",
            "_view_count": null,
            "_view_module_version": "1.5.0",
            "box_style": "",
            "layout": "IPY_MODEL_54e57470803e44088685d2c42ee8bd55",
            "_model_module": "@jupyter-widgets/controls",
            "children": [
              "IPY_MODEL_8ff894edd0924dcca632494df885ff76",
              "IPY_MODEL_b08f9c486d294888a3ebb8ae5e7b1403"
            ]
          }
        },
        "54e57470803e44088685d2c42ee8bd55": {
          "model_module": "@jupyter-widgets/base",
          "model_name": "LayoutModel",
          "state": {
            "_view_name": "LayoutView",
            "grid_template_rows": null,
            "right": null,
            "justify_content": null,
            "_view_module": "@jupyter-widgets/base",
            "overflow": null,
            "_model_module_version": "1.2.0",
            "_view_count": null,
            "flex_flow": null,
            "width": null,
            "min_width": null,
            "border": null,
            "align_items": null,
            "bottom": null,
            "_model_module": "@jupyter-widgets/base",
            "top": null,
            "grid_column": null,
            "overflow_y": null,
            "overflow_x": null,
            "grid_auto_flow": null,
            "grid_area": null,
            "grid_template_columns": null,
            "flex": null,
            "_model_name": "LayoutModel",
            "justify_items": null,
            "grid_row": null,
            "max_height": null,
            "align_content": null,
            "visibility": null,
            "align_self": null,
            "height": null,
            "min_height": null,
            "padding": null,
            "grid_auto_rows": null,
            "grid_gap": null,
            "max_width": null,
            "order": null,
            "_view_module_version": "1.2.0",
            "grid_template_areas": null,
            "object_position": null,
            "object_fit": null,
            "grid_auto_columns": null,
            "margin": null,
            "display": null,
            "left": null
          }
        },
        "8ff894edd0924dcca632494df885ff76": {
          "model_module": "@jupyter-widgets/controls",
          "model_name": "FloatProgressModel",
          "state": {
            "_view_name": "ProgressView",
            "style": "IPY_MODEL_932c674f63644ab7bb308b9748c0ede7",
            "_dom_classes": [],
            "description": "100%",
            "_model_name": "FloatProgressModel",
            "bar_style": "success",
            "max": 125,
            "_view_module": "@jupyter-widgets/controls",
            "_model_module_version": "1.5.0",
            "value": 125,
            "_view_count": null,
            "_view_module_version": "1.5.0",
            "orientation": "horizontal",
            "min": 0,
            "description_tooltip": null,
            "_model_module": "@jupyter-widgets/controls",
            "layout": "IPY_MODEL_557f69737b6f4263ab402e017197e322"
          }
        },
        "b08f9c486d294888a3ebb8ae5e7b1403": {
          "model_module": "@jupyter-widgets/controls",
          "model_name": "HTMLModel",
          "state": {
            "_view_name": "HTMLView",
            "style": "IPY_MODEL_888bcfba594543159505e450287dee53",
            "_dom_classes": [],
            "description": "",
            "_model_name": "HTMLModel",
            "placeholder": "​",
            "_view_module": "@jupyter-widgets/controls",
            "_model_module_version": "1.5.0",
            "value": " 125/125 [15:48&lt;00:00,  7.59s/it, loss=0.348]",
            "_view_count": null,
            "_view_module_version": "1.5.0",
            "description_tooltip": null,
            "_model_module": "@jupyter-widgets/controls",
            "layout": "IPY_MODEL_a5cd82e1842f4fd19f78aa99eea93ada"
          }
        },
        "932c674f63644ab7bb308b9748c0ede7": {
          "model_module": "@jupyter-widgets/controls",
          "model_name": "ProgressStyleModel",
          "state": {
            "_view_name": "StyleView",
            "_model_name": "ProgressStyleModel",
            "description_width": "initial",
            "_view_module": "@jupyter-widgets/base",
            "_model_module_version": "1.5.0",
            "_view_count": null,
            "_view_module_version": "1.2.0",
            "bar_color": null,
            "_model_module": "@jupyter-widgets/controls"
          }
        },
        "557f69737b6f4263ab402e017197e322": {
          "model_module": "@jupyter-widgets/base",
          "model_name": "LayoutModel",
          "state": {
            "_view_name": "LayoutView",
            "grid_template_rows": null,
            "right": null,
            "justify_content": null,
            "_view_module": "@jupyter-widgets/base",
            "overflow": null,
            "_model_module_version": "1.2.0",
            "_view_count": null,
            "flex_flow": null,
            "width": null,
            "min_width": null,
            "border": null,
            "align_items": null,
            "bottom": null,
            "_model_module": "@jupyter-widgets/base",
            "top": null,
            "grid_column": null,
            "overflow_y": null,
            "overflow_x": null,
            "grid_auto_flow": null,
            "grid_area": null,
            "grid_template_columns": null,
            "flex": null,
            "_model_name": "LayoutModel",
            "justify_items": null,
            "grid_row": null,
            "max_height": null,
            "align_content": null,
            "visibility": null,
            "align_self": null,
            "height": null,
            "min_height": null,
            "padding": null,
            "grid_auto_rows": null,
            "grid_gap": null,
            "max_width": null,
            "order": null,
            "_view_module_version": "1.2.0",
            "grid_template_areas": null,
            "object_position": null,
            "object_fit": null,
            "grid_auto_columns": null,
            "margin": null,
            "display": null,
            "left": null
          }
        },
        "888bcfba594543159505e450287dee53": {
          "model_module": "@jupyter-widgets/controls",
          "model_name": "DescriptionStyleModel",
          "state": {
            "_view_name": "StyleView",
            "_model_name": "DescriptionStyleModel",
            "description_width": "",
            "_view_module": "@jupyter-widgets/base",
            "_model_module_version": "1.5.0",
            "_view_count": null,
            "_view_module_version": "1.2.0",
            "_model_module": "@jupyter-widgets/controls"
          }
        },
        "a5cd82e1842f4fd19f78aa99eea93ada": {
          "model_module": "@jupyter-widgets/base",
          "model_name": "LayoutModel",
          "state": {
            "_view_name": "LayoutView",
            "grid_template_rows": null,
            "right": null,
            "justify_content": null,
            "_view_module": "@jupyter-widgets/base",
            "overflow": null,
            "_model_module_version": "1.2.0",
            "_view_count": null,
            "flex_flow": null,
            "width": null,
            "min_width": null,
            "border": null,
            "align_items": null,
            "bottom": null,
            "_model_module": "@jupyter-widgets/base",
            "top": null,
            "grid_column": null,
            "overflow_y": null,
            "overflow_x": null,
            "grid_auto_flow": null,
            "grid_area": null,
            "grid_template_columns": null,
            "flex": null,
            "_model_name": "LayoutModel",
            "justify_items": null,
            "grid_row": null,
            "max_height": null,
            "align_content": null,
            "visibility": null,
            "align_self": null,
            "height": null,
            "min_height": null,
            "padding": null,
            "grid_auto_rows": null,
            "grid_gap": null,
            "max_width": null,
            "order": null,
            "_view_module_version": "1.2.0",
            "grid_template_areas": null,
            "object_position": null,
            "object_fit": null,
            "grid_auto_columns": null,
            "margin": null,
            "display": null,
            "left": null
          }
        },
        "f97b55f1c1a2469f8482f0b8580da368": {
          "model_module": "@jupyter-widgets/controls",
          "model_name": "HBoxModel",
          "state": {
            "_view_name": "HBoxView",
            "_dom_classes": [],
            "_model_name": "HBoxModel",
            "_view_module": "@jupyter-widgets/controls",
            "_model_module_version": "1.5.0",
            "_view_count": null,
            "_view_module_version": "1.5.0",
            "box_style": "",
            "layout": "IPY_MODEL_6e1a1c774a2e40a084ee7acb58679b7f",
            "_model_module": "@jupyter-widgets/controls",
            "children": [
              "IPY_MODEL_580efa6eb82f48d2bba4b5ed66b5ffae",
              "IPY_MODEL_bec92d376fcf485a81f58c2e99caaf4c"
            ]
          }
        },
        "6e1a1c774a2e40a084ee7acb58679b7f": {
          "model_module": "@jupyter-widgets/base",
          "model_name": "LayoutModel",
          "state": {
            "_view_name": "LayoutView",
            "grid_template_rows": null,
            "right": null,
            "justify_content": null,
            "_view_module": "@jupyter-widgets/base",
            "overflow": null,
            "_model_module_version": "1.2.0",
            "_view_count": null,
            "flex_flow": null,
            "width": null,
            "min_width": null,
            "border": null,
            "align_items": null,
            "bottom": null,
            "_model_module": "@jupyter-widgets/base",
            "top": null,
            "grid_column": null,
            "overflow_y": null,
            "overflow_x": null,
            "grid_auto_flow": null,
            "grid_area": null,
            "grid_template_columns": null,
            "flex": null,
            "_model_name": "LayoutModel",
            "justify_items": null,
            "grid_row": null,
            "max_height": null,
            "align_content": null,
            "visibility": null,
            "align_self": null,
            "height": null,
            "min_height": null,
            "padding": null,
            "grid_auto_rows": null,
            "grid_gap": null,
            "max_width": null,
            "order": null,
            "_view_module_version": "1.2.0",
            "grid_template_areas": null,
            "object_position": null,
            "object_fit": null,
            "grid_auto_columns": null,
            "margin": null,
            "display": null,
            "left": null
          }
        },
        "580efa6eb82f48d2bba4b5ed66b5ffae": {
          "model_module": "@jupyter-widgets/controls",
          "model_name": "FloatProgressModel",
          "state": {
            "_view_name": "ProgressView",
            "style": "IPY_MODEL_c56eba381db4466b9a235045d0dbbeb0",
            "_dom_classes": [],
            "description": "100%",
            "_model_name": "FloatProgressModel",
            "bar_style": "success",
            "max": 31,
            "_view_module": "@jupyter-widgets/controls",
            "_model_module_version": "1.5.0",
            "value": 31,
            "_view_count": null,
            "_view_module_version": "1.5.0",
            "orientation": "horizontal",
            "min": 0,
            "description_tooltip": null,
            "_model_module": "@jupyter-widgets/controls",
            "layout": "IPY_MODEL_e9c02495218c4393b89e73039368308f"
          }
        },
        "bec92d376fcf485a81f58c2e99caaf4c": {
          "model_module": "@jupyter-widgets/controls",
          "model_name": "HTMLModel",
          "state": {
            "_view_name": "HTMLView",
            "style": "IPY_MODEL_5231e384d65744c7816840f114e991e4",
            "_dom_classes": [],
            "description": "",
            "_model_name": "HTMLModel",
            "placeholder": "​",
            "_view_module": "@jupyter-widgets/controls",
            "_model_module_version": "1.5.0",
            "value": " 31/31 [13:24&lt;00:00, 25.94s/it, loss=0.329]",
            "_view_count": null,
            "_view_module_version": "1.5.0",
            "description_tooltip": null,
            "_model_module": "@jupyter-widgets/controls",
            "layout": "IPY_MODEL_f96ea01eee994601a1bcdf469303b16f"
          }
        },
        "c56eba381db4466b9a235045d0dbbeb0": {
          "model_module": "@jupyter-widgets/controls",
          "model_name": "ProgressStyleModel",
          "state": {
            "_view_name": "StyleView",
            "_model_name": "ProgressStyleModel",
            "description_width": "initial",
            "_view_module": "@jupyter-widgets/base",
            "_model_module_version": "1.5.0",
            "_view_count": null,
            "_view_module_version": "1.2.0",
            "bar_color": null,
            "_model_module": "@jupyter-widgets/controls"
          }
        },
        "e9c02495218c4393b89e73039368308f": {
          "model_module": "@jupyter-widgets/base",
          "model_name": "LayoutModel",
          "state": {
            "_view_name": "LayoutView",
            "grid_template_rows": null,
            "right": null,
            "justify_content": null,
            "_view_module": "@jupyter-widgets/base",
            "overflow": null,
            "_model_module_version": "1.2.0",
            "_view_count": null,
            "flex_flow": null,
            "width": null,
            "min_width": null,
            "border": null,
            "align_items": null,
            "bottom": null,
            "_model_module": "@jupyter-widgets/base",
            "top": null,
            "grid_column": null,
            "overflow_y": null,
            "overflow_x": null,
            "grid_auto_flow": null,
            "grid_area": null,
            "grid_template_columns": null,
            "flex": null,
            "_model_name": "LayoutModel",
            "justify_items": null,
            "grid_row": null,
            "max_height": null,
            "align_content": null,
            "visibility": null,
            "align_self": null,
            "height": null,
            "min_height": null,
            "padding": null,
            "grid_auto_rows": null,
            "grid_gap": null,
            "max_width": null,
            "order": null,
            "_view_module_version": "1.2.0",
            "grid_template_areas": null,
            "object_position": null,
            "object_fit": null,
            "grid_auto_columns": null,
            "margin": null,
            "display": null,
            "left": null
          }
        },
        "5231e384d65744c7816840f114e991e4": {
          "model_module": "@jupyter-widgets/controls",
          "model_name": "DescriptionStyleModel",
          "state": {
            "_view_name": "StyleView",
            "_model_name": "DescriptionStyleModel",
            "description_width": "",
            "_view_module": "@jupyter-widgets/base",
            "_model_module_version": "1.5.0",
            "_view_count": null,
            "_view_module_version": "1.2.0",
            "_model_module": "@jupyter-widgets/controls"
          }
        },
        "f96ea01eee994601a1bcdf469303b16f": {
          "model_module": "@jupyter-widgets/base",
          "model_name": "LayoutModel",
          "state": {
            "_view_name": "LayoutView",
            "grid_template_rows": null,
            "right": null,
            "justify_content": null,
            "_view_module": "@jupyter-widgets/base",
            "overflow": null,
            "_model_module_version": "1.2.0",
            "_view_count": null,
            "flex_flow": null,
            "width": null,
            "min_width": null,
            "border": null,
            "align_items": null,
            "bottom": null,
            "_model_module": "@jupyter-widgets/base",
            "top": null,
            "grid_column": null,
            "overflow_y": null,
            "overflow_x": null,
            "grid_auto_flow": null,
            "grid_area": null,
            "grid_template_columns": null,
            "flex": null,
            "_model_name": "LayoutModel",
            "justify_items": null,
            "grid_row": null,
            "max_height": null,
            "align_content": null,
            "visibility": null,
            "align_self": null,
            "height": null,
            "min_height": null,
            "padding": null,
            "grid_auto_rows": null,
            "grid_gap": null,
            "max_width": null,
            "order": null,
            "_view_module_version": "1.2.0",
            "grid_template_areas": null,
            "object_position": null,
            "object_fit": null,
            "grid_auto_columns": null,
            "margin": null,
            "display": null,
            "left": null
          }
        },
        "6ec2b605e8bc4ce5829777abf08849b5": {
          "model_module": "@jupyter-widgets/controls",
          "model_name": "HBoxModel",
          "state": {
            "_view_name": "HBoxView",
            "_dom_classes": [],
            "_model_name": "HBoxModel",
            "_view_module": "@jupyter-widgets/controls",
            "_model_module_version": "1.5.0",
            "_view_count": null,
            "_view_module_version": "1.5.0",
            "box_style": "",
            "layout": "IPY_MODEL_1ad5f4a2f17c4bb8814a6aa40a99f95f",
            "_model_module": "@jupyter-widgets/controls",
            "children": [
              "IPY_MODEL_d757d710d3404fd8b98be9e793c58c9c",
              "IPY_MODEL_8a93be03a1084b52905b0eb984651c99"
            ]
          }
        },
        "1ad5f4a2f17c4bb8814a6aa40a99f95f": {
          "model_module": "@jupyter-widgets/base",
          "model_name": "LayoutModel",
          "state": {
            "_view_name": "LayoutView",
            "grid_template_rows": null,
            "right": null,
            "justify_content": null,
            "_view_module": "@jupyter-widgets/base",
            "overflow": null,
            "_model_module_version": "1.2.0",
            "_view_count": null,
            "flex_flow": null,
            "width": null,
            "min_width": null,
            "border": null,
            "align_items": null,
            "bottom": null,
            "_model_module": "@jupyter-widgets/base",
            "top": null,
            "grid_column": null,
            "overflow_y": null,
            "overflow_x": null,
            "grid_auto_flow": null,
            "grid_area": null,
            "grid_template_columns": null,
            "flex": null,
            "_model_name": "LayoutModel",
            "justify_items": null,
            "grid_row": null,
            "max_height": null,
            "align_content": null,
            "visibility": null,
            "align_self": null,
            "height": null,
            "min_height": null,
            "padding": null,
            "grid_auto_rows": null,
            "grid_gap": null,
            "max_width": null,
            "order": null,
            "_view_module_version": "1.2.0",
            "grid_template_areas": null,
            "object_position": null,
            "object_fit": null,
            "grid_auto_columns": null,
            "margin": null,
            "display": null,
            "left": null
          }
        },
        "d757d710d3404fd8b98be9e793c58c9c": {
          "model_module": "@jupyter-widgets/controls",
          "model_name": "FloatProgressModel",
          "state": {
            "_view_name": "ProgressView",
            "style": "IPY_MODEL_c7affcd143c24eb3ab46ebde884698a2",
            "_dom_classes": [],
            "description": "100%",
            "_model_name": "FloatProgressModel",
            "bar_style": "success",
            "max": 125,
            "_view_module": "@jupyter-widgets/controls",
            "_model_module_version": "1.5.0",
            "value": 125,
            "_view_count": null,
            "_view_module_version": "1.5.0",
            "orientation": "horizontal",
            "min": 0,
            "description_tooltip": null,
            "_model_module": "@jupyter-widgets/controls",
            "layout": "IPY_MODEL_c01778becd47481c8ac2e7f8a1a6d0ac"
          }
        },
        "8a93be03a1084b52905b0eb984651c99": {
          "model_module": "@jupyter-widgets/controls",
          "model_name": "HTMLModel",
          "state": {
            "_view_name": "HTMLView",
            "style": "IPY_MODEL_09f1cb4242944ef59c11727b1ec591f5",
            "_dom_classes": [],
            "description": "",
            "_model_name": "HTMLModel",
            "placeholder": "​",
            "_view_module": "@jupyter-widgets/controls",
            "_model_module_version": "1.5.0",
            "value": " 125/125 [02:29&lt;00:00,  1.20s/it, loss=0.331]",
            "_view_count": null,
            "_view_module_version": "1.5.0",
            "description_tooltip": null,
            "_model_module": "@jupyter-widgets/controls",
            "layout": "IPY_MODEL_baf55cce896d4804a90898683699e6cc"
          }
        },
        "c7affcd143c24eb3ab46ebde884698a2": {
          "model_module": "@jupyter-widgets/controls",
          "model_name": "ProgressStyleModel",
          "state": {
            "_view_name": "StyleView",
            "_model_name": "ProgressStyleModel",
            "description_width": "initial",
            "_view_module": "@jupyter-widgets/base",
            "_model_module_version": "1.5.0",
            "_view_count": null,
            "_view_module_version": "1.2.0",
            "bar_color": null,
            "_model_module": "@jupyter-widgets/controls"
          }
        },
        "c01778becd47481c8ac2e7f8a1a6d0ac": {
          "model_module": "@jupyter-widgets/base",
          "model_name": "LayoutModel",
          "state": {
            "_view_name": "LayoutView",
            "grid_template_rows": null,
            "right": null,
            "justify_content": null,
            "_view_module": "@jupyter-widgets/base",
            "overflow": null,
            "_model_module_version": "1.2.0",
            "_view_count": null,
            "flex_flow": null,
            "width": null,
            "min_width": null,
            "border": null,
            "align_items": null,
            "bottom": null,
            "_model_module": "@jupyter-widgets/base",
            "top": null,
            "grid_column": null,
            "overflow_y": null,
            "overflow_x": null,
            "grid_auto_flow": null,
            "grid_area": null,
            "grid_template_columns": null,
            "flex": null,
            "_model_name": "LayoutModel",
            "justify_items": null,
            "grid_row": null,
            "max_height": null,
            "align_content": null,
            "visibility": null,
            "align_self": null,
            "height": null,
            "min_height": null,
            "padding": null,
            "grid_auto_rows": null,
            "grid_gap": null,
            "max_width": null,
            "order": null,
            "_view_module_version": "1.2.0",
            "grid_template_areas": null,
            "object_position": null,
            "object_fit": null,
            "grid_auto_columns": null,
            "margin": null,
            "display": null,
            "left": null
          }
        },
        "09f1cb4242944ef59c11727b1ec591f5": {
          "model_module": "@jupyter-widgets/controls",
          "model_name": "DescriptionStyleModel",
          "state": {
            "_view_name": "StyleView",
            "_model_name": "DescriptionStyleModel",
            "description_width": "",
            "_view_module": "@jupyter-widgets/base",
            "_model_module_version": "1.5.0",
            "_view_count": null,
            "_view_module_version": "1.2.0",
            "_model_module": "@jupyter-widgets/controls"
          }
        },
        "baf55cce896d4804a90898683699e6cc": {
          "model_module": "@jupyter-widgets/base",
          "model_name": "LayoutModel",
          "state": {
            "_view_name": "LayoutView",
            "grid_template_rows": null,
            "right": null,
            "justify_content": null,
            "_view_module": "@jupyter-widgets/base",
            "overflow": null,
            "_model_module_version": "1.2.0",
            "_view_count": null,
            "flex_flow": null,
            "width": null,
            "min_width": null,
            "border": null,
            "align_items": null,
            "bottom": null,
            "_model_module": "@jupyter-widgets/base",
            "top": null,
            "grid_column": null,
            "overflow_y": null,
            "overflow_x": null,
            "grid_auto_flow": null,
            "grid_area": null,
            "grid_template_columns": null,
            "flex": null,
            "_model_name": "LayoutModel",
            "justify_items": null,
            "grid_row": null,
            "max_height": null,
            "align_content": null,
            "visibility": null,
            "align_self": null,
            "height": null,
            "min_height": null,
            "padding": null,
            "grid_auto_rows": null,
            "grid_gap": null,
            "max_width": null,
            "order": null,
            "_view_module_version": "1.2.0",
            "grid_template_areas": null,
            "object_position": null,
            "object_fit": null,
            "grid_auto_columns": null,
            "margin": null,
            "display": null,
            "left": null
          }
        },
        "241069fa2d114933b0780e53aafe454d": {
          "model_module": "@jupyter-widgets/controls",
          "model_name": "HBoxModel",
          "state": {
            "_view_name": "HBoxView",
            "_dom_classes": [],
            "_model_name": "HBoxModel",
            "_view_module": "@jupyter-widgets/controls",
            "_model_module_version": "1.5.0",
            "_view_count": null,
            "_view_module_version": "1.5.0",
            "box_style": "",
            "layout": "IPY_MODEL_79b047e64693423485f89103ea768a76",
            "_model_module": "@jupyter-widgets/controls",
            "children": [
              "IPY_MODEL_1ff5a485e76945ababe3f9f98d041d1c",
              "IPY_MODEL_655bf99367a546ec8e3b4e64414cb72f"
            ]
          }
        },
        "79b047e64693423485f89103ea768a76": {
          "model_module": "@jupyter-widgets/base",
          "model_name": "LayoutModel",
          "state": {
            "_view_name": "LayoutView",
            "grid_template_rows": null,
            "right": null,
            "justify_content": null,
            "_view_module": "@jupyter-widgets/base",
            "overflow": null,
            "_model_module_version": "1.2.0",
            "_view_count": null,
            "flex_flow": null,
            "width": null,
            "min_width": null,
            "border": null,
            "align_items": null,
            "bottom": null,
            "_model_module": "@jupyter-widgets/base",
            "top": null,
            "grid_column": null,
            "overflow_y": null,
            "overflow_x": null,
            "grid_auto_flow": null,
            "grid_area": null,
            "grid_template_columns": null,
            "flex": null,
            "_model_name": "LayoutModel",
            "justify_items": null,
            "grid_row": null,
            "max_height": null,
            "align_content": null,
            "visibility": null,
            "align_self": null,
            "height": null,
            "min_height": null,
            "padding": null,
            "grid_auto_rows": null,
            "grid_gap": null,
            "max_width": null,
            "order": null,
            "_view_module_version": "1.2.0",
            "grid_template_areas": null,
            "object_position": null,
            "object_fit": null,
            "grid_auto_columns": null,
            "margin": null,
            "display": null,
            "left": null
          }
        },
        "1ff5a485e76945ababe3f9f98d041d1c": {
          "model_module": "@jupyter-widgets/controls",
          "model_name": "FloatProgressModel",
          "state": {
            "_view_name": "ProgressView",
            "style": "IPY_MODEL_04ec1340d10048ee91c210a874127de4",
            "_dom_classes": [],
            "description": "100%",
            "_model_name": "FloatProgressModel",
            "bar_style": "success",
            "max": 31,
            "_view_module": "@jupyter-widgets/controls",
            "_model_module_version": "1.5.0",
            "value": 31,
            "_view_count": null,
            "_view_module_version": "1.5.0",
            "orientation": "horizontal",
            "min": 0,
            "description_tooltip": null,
            "_model_module": "@jupyter-widgets/controls",
            "layout": "IPY_MODEL_afd7a759b7d94a68bc032bc06b590272"
          }
        },
        "655bf99367a546ec8e3b4e64414cb72f": {
          "model_module": "@jupyter-widgets/controls",
          "model_name": "HTMLModel",
          "state": {
            "_view_name": "HTMLView",
            "style": "IPY_MODEL_f3915ef45e3140efa525129b36c62f29",
            "_dom_classes": [],
            "description": "",
            "_model_name": "HTMLModel",
            "placeholder": "​",
            "_view_module": "@jupyter-widgets/controls",
            "_model_module_version": "1.5.0",
            "value": " 31/31 [22:07&lt;00:00, 42.84s/it, loss=0.314]",
            "_view_count": null,
            "_view_module_version": "1.5.0",
            "description_tooltip": null,
            "_model_module": "@jupyter-widgets/controls",
            "layout": "IPY_MODEL_77e314ab637b489a97ea01aeac4898d5"
          }
        },
        "04ec1340d10048ee91c210a874127de4": {
          "model_module": "@jupyter-widgets/controls",
          "model_name": "ProgressStyleModel",
          "state": {
            "_view_name": "StyleView",
            "_model_name": "ProgressStyleModel",
            "description_width": "initial",
            "_view_module": "@jupyter-widgets/base",
            "_model_module_version": "1.5.0",
            "_view_count": null,
            "_view_module_version": "1.2.0",
            "bar_color": null,
            "_model_module": "@jupyter-widgets/controls"
          }
        },
        "afd7a759b7d94a68bc032bc06b590272": {
          "model_module": "@jupyter-widgets/base",
          "model_name": "LayoutModel",
          "state": {
            "_view_name": "LayoutView",
            "grid_template_rows": null,
            "right": null,
            "justify_content": null,
            "_view_module": "@jupyter-widgets/base",
            "overflow": null,
            "_model_module_version": "1.2.0",
            "_view_count": null,
            "flex_flow": null,
            "width": null,
            "min_width": null,
            "border": null,
            "align_items": null,
            "bottom": null,
            "_model_module": "@jupyter-widgets/base",
            "top": null,
            "grid_column": null,
            "overflow_y": null,
            "overflow_x": null,
            "grid_auto_flow": null,
            "grid_area": null,
            "grid_template_columns": null,
            "flex": null,
            "_model_name": "LayoutModel",
            "justify_items": null,
            "grid_row": null,
            "max_height": null,
            "align_content": null,
            "visibility": null,
            "align_self": null,
            "height": null,
            "min_height": null,
            "padding": null,
            "grid_auto_rows": null,
            "grid_gap": null,
            "max_width": null,
            "order": null,
            "_view_module_version": "1.2.0",
            "grid_template_areas": null,
            "object_position": null,
            "object_fit": null,
            "grid_auto_columns": null,
            "margin": null,
            "display": null,
            "left": null
          }
        },
        "f3915ef45e3140efa525129b36c62f29": {
          "model_module": "@jupyter-widgets/controls",
          "model_name": "DescriptionStyleModel",
          "state": {
            "_view_name": "StyleView",
            "_model_name": "DescriptionStyleModel",
            "description_width": "",
            "_view_module": "@jupyter-widgets/base",
            "_model_module_version": "1.5.0",
            "_view_count": null,
            "_view_module_version": "1.2.0",
            "_model_module": "@jupyter-widgets/controls"
          }
        },
        "77e314ab637b489a97ea01aeac4898d5": {
          "model_module": "@jupyter-widgets/base",
          "model_name": "LayoutModel",
          "state": {
            "_view_name": "LayoutView",
            "grid_template_rows": null,
            "right": null,
            "justify_content": null,
            "_view_module": "@jupyter-widgets/base",
            "overflow": null,
            "_model_module_version": "1.2.0",
            "_view_count": null,
            "flex_flow": null,
            "width": null,
            "min_width": null,
            "border": null,
            "align_items": null,
            "bottom": null,
            "_model_module": "@jupyter-widgets/base",
            "top": null,
            "grid_column": null,
            "overflow_y": null,
            "overflow_x": null,
            "grid_auto_flow": null,
            "grid_area": null,
            "grid_template_columns": null,
            "flex": null,
            "_model_name": "LayoutModel",
            "justify_items": null,
            "grid_row": null,
            "max_height": null,
            "align_content": null,
            "visibility": null,
            "align_self": null,
            "height": null,
            "min_height": null,
            "padding": null,
            "grid_auto_rows": null,
            "grid_gap": null,
            "max_width": null,
            "order": null,
            "_view_module_version": "1.2.0",
            "grid_template_areas": null,
            "object_position": null,
            "object_fit": null,
            "grid_auto_columns": null,
            "margin": null,
            "display": null,
            "left": null
          }
        },
        "6370c9fde9154012bdb111ac81607cac": {
          "model_module": "@jupyter-widgets/controls",
          "model_name": "HBoxModel",
          "state": {
            "_view_name": "HBoxView",
            "_dom_classes": [],
            "_model_name": "HBoxModel",
            "_view_module": "@jupyter-widgets/controls",
            "_model_module_version": "1.5.0",
            "_view_count": null,
            "_view_module_version": "1.5.0",
            "box_style": "",
            "layout": "IPY_MODEL_5b1f2b9168a6430f8a60faae91d5c7fb",
            "_model_module": "@jupyter-widgets/controls",
            "children": [
              "IPY_MODEL_ae72e2b4cc044f9c977e65adf028e04b",
              "IPY_MODEL_0b51fd6e48534d9882a84e3cbd08102e"
            ]
          }
        },
        "5b1f2b9168a6430f8a60faae91d5c7fb": {
          "model_module": "@jupyter-widgets/base",
          "model_name": "LayoutModel",
          "state": {
            "_view_name": "LayoutView",
            "grid_template_rows": null,
            "right": null,
            "justify_content": null,
            "_view_module": "@jupyter-widgets/base",
            "overflow": null,
            "_model_module_version": "1.2.0",
            "_view_count": null,
            "flex_flow": null,
            "width": null,
            "min_width": null,
            "border": null,
            "align_items": null,
            "bottom": null,
            "_model_module": "@jupyter-widgets/base",
            "top": null,
            "grid_column": null,
            "overflow_y": null,
            "overflow_x": null,
            "grid_auto_flow": null,
            "grid_area": null,
            "grid_template_columns": null,
            "flex": null,
            "_model_name": "LayoutModel",
            "justify_items": null,
            "grid_row": null,
            "max_height": null,
            "align_content": null,
            "visibility": null,
            "align_self": null,
            "height": null,
            "min_height": null,
            "padding": null,
            "grid_auto_rows": null,
            "grid_gap": null,
            "max_width": null,
            "order": null,
            "_view_module_version": "1.2.0",
            "grid_template_areas": null,
            "object_position": null,
            "object_fit": null,
            "grid_auto_columns": null,
            "margin": null,
            "display": null,
            "left": null
          }
        },
        "ae72e2b4cc044f9c977e65adf028e04b": {
          "model_module": "@jupyter-widgets/controls",
          "model_name": "FloatProgressModel",
          "state": {
            "_view_name": "ProgressView",
            "style": "IPY_MODEL_d81d550f5cbc40f7b4085b742a046ed6",
            "_dom_classes": [],
            "description": "100%",
            "_model_name": "FloatProgressModel",
            "bar_style": "success",
            "max": 125,
            "_view_module": "@jupyter-widgets/controls",
            "_model_module_version": "1.5.0",
            "value": 125,
            "_view_count": null,
            "_view_module_version": "1.5.0",
            "orientation": "horizontal",
            "min": 0,
            "description_tooltip": null,
            "_model_module": "@jupyter-widgets/controls",
            "layout": "IPY_MODEL_c7e5fae9620f4aaf92f814f439cd1efc"
          }
        },
        "0b51fd6e48534d9882a84e3cbd08102e": {
          "model_module": "@jupyter-widgets/controls",
          "model_name": "HTMLModel",
          "state": {
            "_view_name": "HTMLView",
            "style": "IPY_MODEL_a6b284c8ed924a73bdea9fdebf81923d",
            "_dom_classes": [],
            "description": "",
            "_model_name": "HTMLModel",
            "placeholder": "​",
            "_view_module": "@jupyter-widgets/controls",
            "_model_module_version": "1.5.0",
            "value": " 125/125 [03:51&lt;00:00,  1.85s/it, loss=0.325]",
            "_view_count": null,
            "_view_module_version": "1.5.0",
            "description_tooltip": null,
            "_model_module": "@jupyter-widgets/controls",
            "layout": "IPY_MODEL_f86c49bd2ac2422f8c6dd42cf108875f"
          }
        },
        "d81d550f5cbc40f7b4085b742a046ed6": {
          "model_module": "@jupyter-widgets/controls",
          "model_name": "ProgressStyleModel",
          "state": {
            "_view_name": "StyleView",
            "_model_name": "ProgressStyleModel",
            "description_width": "initial",
            "_view_module": "@jupyter-widgets/base",
            "_model_module_version": "1.5.0",
            "_view_count": null,
            "_view_module_version": "1.2.0",
            "bar_color": null,
            "_model_module": "@jupyter-widgets/controls"
          }
        },
        "c7e5fae9620f4aaf92f814f439cd1efc": {
          "model_module": "@jupyter-widgets/base",
          "model_name": "LayoutModel",
          "state": {
            "_view_name": "LayoutView",
            "grid_template_rows": null,
            "right": null,
            "justify_content": null,
            "_view_module": "@jupyter-widgets/base",
            "overflow": null,
            "_model_module_version": "1.2.0",
            "_view_count": null,
            "flex_flow": null,
            "width": null,
            "min_width": null,
            "border": null,
            "align_items": null,
            "bottom": null,
            "_model_module": "@jupyter-widgets/base",
            "top": null,
            "grid_column": null,
            "overflow_y": null,
            "overflow_x": null,
            "grid_auto_flow": null,
            "grid_area": null,
            "grid_template_columns": null,
            "flex": null,
            "_model_name": "LayoutModel",
            "justify_items": null,
            "grid_row": null,
            "max_height": null,
            "align_content": null,
            "visibility": null,
            "align_self": null,
            "height": null,
            "min_height": null,
            "padding": null,
            "grid_auto_rows": null,
            "grid_gap": null,
            "max_width": null,
            "order": null,
            "_view_module_version": "1.2.0",
            "grid_template_areas": null,
            "object_position": null,
            "object_fit": null,
            "grid_auto_columns": null,
            "margin": null,
            "display": null,
            "left": null
          }
        },
        "a6b284c8ed924a73bdea9fdebf81923d": {
          "model_module": "@jupyter-widgets/controls",
          "model_name": "DescriptionStyleModel",
          "state": {
            "_view_name": "StyleView",
            "_model_name": "DescriptionStyleModel",
            "description_width": "",
            "_view_module": "@jupyter-widgets/base",
            "_model_module_version": "1.5.0",
            "_view_count": null,
            "_view_module_version": "1.2.0",
            "_model_module": "@jupyter-widgets/controls"
          }
        },
        "f86c49bd2ac2422f8c6dd42cf108875f": {
          "model_module": "@jupyter-widgets/base",
          "model_name": "LayoutModel",
          "state": {
            "_view_name": "LayoutView",
            "grid_template_rows": null,
            "right": null,
            "justify_content": null,
            "_view_module": "@jupyter-widgets/base",
            "overflow": null,
            "_model_module_version": "1.2.0",
            "_view_count": null,
            "flex_flow": null,
            "width": null,
            "min_width": null,
            "border": null,
            "align_items": null,
            "bottom": null,
            "_model_module": "@jupyter-widgets/base",
            "top": null,
            "grid_column": null,
            "overflow_y": null,
            "overflow_x": null,
            "grid_auto_flow": null,
            "grid_area": null,
            "grid_template_columns": null,
            "flex": null,
            "_model_name": "LayoutModel",
            "justify_items": null,
            "grid_row": null,
            "max_height": null,
            "align_content": null,
            "visibility": null,
            "align_self": null,
            "height": null,
            "min_height": null,
            "padding": null,
            "grid_auto_rows": null,
            "grid_gap": null,
            "max_width": null,
            "order": null,
            "_view_module_version": "1.2.0",
            "grid_template_areas": null,
            "object_position": null,
            "object_fit": null,
            "grid_auto_columns": null,
            "margin": null,
            "display": null,
            "left": null
          }
        },
        "1871a8cfc24e438093b231efe51af17f": {
          "model_module": "@jupyter-widgets/controls",
          "model_name": "HBoxModel",
          "state": {
            "_view_name": "HBoxView",
            "_dom_classes": [],
            "_model_name": "HBoxModel",
            "_view_module": "@jupyter-widgets/controls",
            "_model_module_version": "1.5.0",
            "_view_count": null,
            "_view_module_version": "1.5.0",
            "box_style": "",
            "layout": "IPY_MODEL_6216d8e4278d4cf6831cfa89991b8916",
            "_model_module": "@jupyter-widgets/controls",
            "children": [
              "IPY_MODEL_f15a700ebd6e41359e3206a65db49300",
              "IPY_MODEL_719eae27c9c0476b8ba47ade982d7234"
            ]
          }
        },
        "6216d8e4278d4cf6831cfa89991b8916": {
          "model_module": "@jupyter-widgets/base",
          "model_name": "LayoutModel",
          "state": {
            "_view_name": "LayoutView",
            "grid_template_rows": null,
            "right": null,
            "justify_content": null,
            "_view_module": "@jupyter-widgets/base",
            "overflow": null,
            "_model_module_version": "1.2.0",
            "_view_count": null,
            "flex_flow": null,
            "width": null,
            "min_width": null,
            "border": null,
            "align_items": null,
            "bottom": null,
            "_model_module": "@jupyter-widgets/base",
            "top": null,
            "grid_column": null,
            "overflow_y": null,
            "overflow_x": null,
            "grid_auto_flow": null,
            "grid_area": null,
            "grid_template_columns": null,
            "flex": null,
            "_model_name": "LayoutModel",
            "justify_items": null,
            "grid_row": null,
            "max_height": null,
            "align_content": null,
            "visibility": null,
            "align_self": null,
            "height": null,
            "min_height": null,
            "padding": null,
            "grid_auto_rows": null,
            "grid_gap": null,
            "max_width": null,
            "order": null,
            "_view_module_version": "1.2.0",
            "grid_template_areas": null,
            "object_position": null,
            "object_fit": null,
            "grid_auto_columns": null,
            "margin": null,
            "display": null,
            "left": null
          }
        },
        "f15a700ebd6e41359e3206a65db49300": {
          "model_module": "@jupyter-widgets/controls",
          "model_name": "FloatProgressModel",
          "state": {
            "_view_name": "ProgressView",
            "style": "IPY_MODEL_1f3fef69aa594bafb531463d1213bd78",
            "_dom_classes": [],
            "description": "  6%",
            "_model_name": "FloatProgressModel",
            "bar_style": "",
            "max": 31,
            "_view_module": "@jupyter-widgets/controls",
            "_model_module_version": "1.5.0",
            "value": 2,
            "_view_count": null,
            "_view_module_version": "1.5.0",
            "orientation": "horizontal",
            "min": 0,
            "description_tooltip": null,
            "_model_module": "@jupyter-widgets/controls",
            "layout": "IPY_MODEL_45886383fd7c42c087c69b87853a4be7"
          }
        },
        "719eae27c9c0476b8ba47ade982d7234": {
          "model_module": "@jupyter-widgets/controls",
          "model_name": "HTMLModel",
          "state": {
            "_view_name": "HTMLView",
            "style": "IPY_MODEL_0b7380a2a4ba4e1791f2e6b13036b121",
            "_dom_classes": [],
            "description": "",
            "_model_name": "HTMLModel",
            "placeholder": "​",
            "_view_module": "@jupyter-widgets/controls",
            "_model_module_version": "1.5.0",
            "value": " 2/31 [01:36&lt;23:24, 48.45s/it, loss=0.31]",
            "_view_count": null,
            "_view_module_version": "1.5.0",
            "description_tooltip": null,
            "_model_module": "@jupyter-widgets/controls",
            "layout": "IPY_MODEL_a82cad6895234b42a7898733ed373574"
          }
        },
        "1f3fef69aa594bafb531463d1213bd78": {
          "model_module": "@jupyter-widgets/controls",
          "model_name": "ProgressStyleModel",
          "state": {
            "_view_name": "StyleView",
            "_model_name": "ProgressStyleModel",
            "description_width": "initial",
            "_view_module": "@jupyter-widgets/base",
            "_model_module_version": "1.5.0",
            "_view_count": null,
            "_view_module_version": "1.2.0",
            "bar_color": null,
            "_model_module": "@jupyter-widgets/controls"
          }
        },
        "45886383fd7c42c087c69b87853a4be7": {
          "model_module": "@jupyter-widgets/base",
          "model_name": "LayoutModel",
          "state": {
            "_view_name": "LayoutView",
            "grid_template_rows": null,
            "right": null,
            "justify_content": null,
            "_view_module": "@jupyter-widgets/base",
            "overflow": null,
            "_model_module_version": "1.2.0",
            "_view_count": null,
            "flex_flow": null,
            "width": null,
            "min_width": null,
            "border": null,
            "align_items": null,
            "bottom": null,
            "_model_module": "@jupyter-widgets/base",
            "top": null,
            "grid_column": null,
            "overflow_y": null,
            "overflow_x": null,
            "grid_auto_flow": null,
            "grid_area": null,
            "grid_template_columns": null,
            "flex": null,
            "_model_name": "LayoutModel",
            "justify_items": null,
            "grid_row": null,
            "max_height": null,
            "align_content": null,
            "visibility": null,
            "align_self": null,
            "height": null,
            "min_height": null,
            "padding": null,
            "grid_auto_rows": null,
            "grid_gap": null,
            "max_width": null,
            "order": null,
            "_view_module_version": "1.2.0",
            "grid_template_areas": null,
            "object_position": null,
            "object_fit": null,
            "grid_auto_columns": null,
            "margin": null,
            "display": null,
            "left": null
          }
        },
        "0b7380a2a4ba4e1791f2e6b13036b121": {
          "model_module": "@jupyter-widgets/controls",
          "model_name": "DescriptionStyleModel",
          "state": {
            "_view_name": "StyleView",
            "_model_name": "DescriptionStyleModel",
            "description_width": "",
            "_view_module": "@jupyter-widgets/base",
            "_model_module_version": "1.5.0",
            "_view_count": null,
            "_view_module_version": "1.2.0",
            "_model_module": "@jupyter-widgets/controls"
          }
        },
        "a82cad6895234b42a7898733ed373574": {
          "model_module": "@jupyter-widgets/base",
          "model_name": "LayoutModel",
          "state": {
            "_view_name": "LayoutView",
            "grid_template_rows": null,
            "right": null,
            "justify_content": null,
            "_view_module": "@jupyter-widgets/base",
            "overflow": null,
            "_model_module_version": "1.2.0",
            "_view_count": null,
            "flex_flow": null,
            "width": null,
            "min_width": null,
            "border": null,
            "align_items": null,
            "bottom": null,
            "_model_module": "@jupyter-widgets/base",
            "top": null,
            "grid_column": null,
            "overflow_y": null,
            "overflow_x": null,
            "grid_auto_flow": null,
            "grid_area": null,
            "grid_template_columns": null,
            "flex": null,
            "_model_name": "LayoutModel",
            "justify_items": null,
            "grid_row": null,
            "max_height": null,
            "align_content": null,
            "visibility": null,
            "align_self": null,
            "height": null,
            "min_height": null,
            "padding": null,
            "grid_auto_rows": null,
            "grid_gap": null,
            "max_width": null,
            "order": null,
            "_view_module_version": "1.2.0",
            "grid_template_areas": null,
            "object_position": null,
            "object_fit": null,
            "grid_auto_columns": null,
            "margin": null,
            "display": null,
            "left": null
          }
        }
      }
    }
  },
  "cells": [
    {
      "cell_type": "markdown",
      "metadata": {
        "id": "aF2Iu019qImC",
        "colab_type": "text"
      },
      "source": [
        "## SET up TPU. \n",
        "I get a bug when i try to use a TPU trained model on GPU or CPU"
      ]
    },
    {
      "cell_type": "code",
      "metadata": {
        "id": "Ga69MZG2OgYi",
        "colab_type": "code",
        "colab": {}
      },
      "source": [
        "import os\n",
        "assert os.environ['COLAB_TPU_ADDR'], 'Make sure to select TPU from Edit > Notebook settings > Hardware accelerator'"
      ],
      "execution_count": null,
      "outputs": []
    },
    {
      "cell_type": "code",
      "metadata": {
        "id": "J5NpJHrwOh1c",
        "colab_type": "code",
        "colab": {
          "base_uri": "https://localhost:8080/",
          "height": 1000
        },
        "outputId": "6e260f06-015c-4a66-e4b7-72c39820eb34"
      },
      "source": [
        "VERSION = \"nightly\"  #@param [\"1.5\" , \"20200516\", \"nightly\"]\n",
        "!curl https://raw.githubusercontent.com/pytorch/xla/master/contrib/scripts/env-setup.py -o pytorch-xla-env-setup.py\n",
        "!python pytorch-xla-env-setup.py --version $VERSION"
      ],
      "execution_count": null,
      "outputs": [
        {
          "output_type": "stream",
          "text": [
            "  % Total    % Received % Xferd  Average Speed   Time    Time     Time  Current\n",
            "                                 Dload  Upload   Total   Spent    Left  Speed\n",
            "\r  0     0    0     0    0     0      0      0 --:--:-- --:--:-- --:--:--     0\r100  4139  100  4139    0     0  54460      0 --:--:-- --:--:-- --:--:-- 55186\n",
            "Updating TPU and VM. This may take around 2 minutes.\n",
            "Updating TPU runtime to pytorch-nightly ...\n",
            "Collecting cloud-tpu-client\n",
            "  Downloading https://files.pythonhosted.org/packages/56/9f/7b1958c2886db06feb5de5b2c191096f9e619914b6c31fdf93999fdbbd8b/cloud_tpu_client-0.10-py3-none-any.whl\n",
            "Requirement already satisfied: oauth2client in /usr/local/lib/python3.6/dist-packages (from cloud-tpu-client) (4.1.3)\n",
            "Collecting google-api-python-client==1.8.0\n",
            "\u001b[?25l  Downloading https://files.pythonhosted.org/packages/9a/b4/a955f393b838bc47cbb6ae4643b9d0f90333d3b4db4dc1e819f36aad18cc/google_api_python_client-1.8.0-py3-none-any.whl (57kB)\n",
            "\u001b[K     |████████████████████████████████| 61kB 2.5MB/s \n",
            "\u001b[?25hRequirement already satisfied: pyasn1-modules>=0.0.5 in /usr/local/lib/python3.6/dist-packages (from oauth2client->cloud-tpu-client) (0.2.8)\n",
            "Requirement already satisfied: rsa>=3.1.4 in /usr/local/lib/python3.6/dist-packages (from oauth2client->cloud-tpu-client) (4.6)\n",
            "Requirement already satisfied: six>=1.6.1 in /usr/local/lib/python3.6/dist-packages (from oauth2client->cloud-tpu-client) (1.12.0)\n",
            "Requirement already satisfied: httplib2>=0.9.1 in /usr/local/lib/python3.6/dist-packages (from oauth2client->cloud-tpu-client) (0.17.4)\n",
            "Requirement already satisfied: pyasn1>=0.1.7 in /usr/local/lib/python3.6/dist-packages (from oauth2client->cloud-tpu-client) (0.4.8)\n",
            "Requirement already satisfied: google-auth-httplib2>=0.0.3 in /usr/local/lib/python3.6/dist-packages (from google-api-python-client==1.8.0->cloud-tpu-client) (0.0.3)\n",
            "Requirement already satisfied: google-auth>=1.4.1 in /usr/local/lib/python3.6/dist-packages (from google-api-python-client==1.8.0->cloud-tpu-client) (1.17.2)\n",
            "Requirement already satisfied: uritemplate<4dev,>=3.0.0 in /usr/local/lib/python3.6/dist-packages (from google-api-python-client==1.8.0->cloud-tpu-client) (3.0.1)\n",
            "Requirement already satisfied: google-api-core<2dev,>=1.13.0 in /usr/local/lib/python3.6/dist-packages (from google-api-python-client==1.8.0->cloud-tpu-client) (1.16.0)\n",
            "Requirement already satisfied: setuptools>=40.3.0 in /usr/local/lib/python3.6/dist-packages (from google-auth>=1.4.1->google-api-python-client==1.8.0->cloud-tpu-client) (47.3.1)\n",
            "Uninstalling torch-1.5.1+cu101:\n",
            "Requirement already satisfied: cachetools<5.0,>=2.0.0 in /usr/local/lib/python3.6/dist-packages (from google-auth>=1.4.1->google-api-python-client==1.8.0->cloud-tpu-client) (4.1.0)\n",
            "Requirement already satisfied: requests<3.0.0dev,>=2.18.0 in /usr/local/lib/python3.6/dist-packages (from google-api-core<2dev,>=1.13.0->google-api-python-client==1.8.0->cloud-tpu-client) (2.23.0)\n",
            "Requirement already satisfied: pytz in /usr/local/lib/python3.6/dist-packages (from google-api-core<2dev,>=1.13.0->google-api-python-client==1.8.0->cloud-tpu-client) (2018.9)\n",
            "Requirement already satisfied: googleapis-common-protos<2.0dev,>=1.6.0 in /usr/local/lib/python3.6/dist-packages (from google-api-core<2dev,>=1.13.0->google-api-python-client==1.8.0->cloud-tpu-client) (1.52.0)\n",
            "Requirement already satisfied: protobuf>=3.4.0 in /usr/local/lib/python3.6/dist-packages (from google-api-core<2dev,>=1.13.0->google-api-python-client==1.8.0->cloud-tpu-client) (3.10.0)\n",
            "Requirement already satisfied: certifi>=2017.4.17 in /usr/local/lib/python3.6/dist-packages (from requests<3.0.0dev,>=2.18.0->google-api-core<2dev,>=1.13.0->google-api-python-client==1.8.0->cloud-tpu-client) (2020.6.20)\n",
            "Requirement already satisfied: idna<3,>=2.5 in /usr/local/lib/python3.6/dist-packages (from requests<3.0.0dev,>=2.18.0->google-api-core<2dev,>=1.13.0->google-api-python-client==1.8.0->cloud-tpu-client) (2.9)\n",
            "Requirement already satisfied: urllib3!=1.25.0,!=1.25.1,<1.26,>=1.21.1 in /usr/local/lib/python3.6/dist-packages (from requests<3.0.0dev,>=2.18.0->google-api-core<2dev,>=1.13.0->google-api-python-client==1.8.0->cloud-tpu-client) (1.24.3)\n",
            "Requirement already satisfied: chardet<4,>=3.0.2 in /usr/local/lib/python3.6/dist-packages (from requests<3.0.0dev,>=2.18.0->google-api-core<2dev,>=1.13.0->google-api-python-client==1.8.0->cloud-tpu-client) (3.0.4)\n",
            "Installing collected packages: google-api-python-client, cloud-tpu-client\n",
            "  Found existing installation: google-api-python-client 1.7.12\n",
            "    Uninstalling google-api-python-client-1.7.12:\n",
            "      Successfully uninstalled google-api-python-client-1.7.12\n",
            "Successfully installed cloud-tpu-client-0.10 google-api-python-client-1.8.0\n",
            "Done updating TPU runtime\n",
            "  Successfully uninstalled torch-1.5.1+cu101\n",
            "Uninstalling torchvision-0.6.1+cu101:\n",
            "  Successfully uninstalled torchvision-0.6.1+cu101\n",
            "Copying gs://tpu-pytorch/wheels/torch-nightly-cp36-cp36m-linux_x86_64.whl...\n",
            "- [1 files][107.4 MiB/107.4 MiB]                                                \n",
            "Operation completed over 1 objects/107.4 MiB.                                    \n",
            "Copying gs://tpu-pytorch/wheels/torch_xla-nightly-cp36-cp36m-linux_x86_64.whl...\n",
            "\\ [1 files][123.8 MiB/123.8 MiB]                                                \n",
            "Operation completed over 1 objects/123.8 MiB.                                    \n",
            "Copying gs://tpu-pytorch/wheels/torchvision-nightly-cp36-cp36m-linux_x86_64.whl...\n",
            "/ [1 files][  2.2 MiB/  2.2 MiB]                                                \n",
            "Operation completed over 1 objects/2.2 MiB.                                      \n",
            "Processing ./torch-nightly-cp36-cp36m-linux_x86_64.whl\n",
            "Requirement already satisfied: future in /usr/local/lib/python3.6/dist-packages (from torch==nightly) (0.16.0)\n",
            "Requirement already satisfied: numpy in /usr/local/lib/python3.6/dist-packages (from torch==nightly) (1.18.5)\n",
            "\u001b[31mERROR: fastai 1.0.61 requires torchvision, which is not installed.\u001b[0m\n",
            "Installing collected packages: torch\n",
            "Successfully installed torch-1.7.0a0+0fc0a93\n",
            "Processing ./torch_xla-nightly-cp36-cp36m-linux_x86_64.whl\n",
            "Installing collected packages: torch-xla\n",
            "Successfully installed torch-xla-1.6+4836f30\n",
            "Processing ./torchvision-nightly-cp36-cp36m-linux_x86_64.whl\n",
            "Requirement already satisfied: numpy in /usr/local/lib/python3.6/dist-packages (from torchvision==nightly) (1.18.5)\n",
            "Requirement already satisfied: torch in /usr/local/lib/python3.6/dist-packages (from torchvision==nightly) (1.7.0a0+0fc0a93)\n",
            "Requirement already satisfied: pillow>=4.1.1 in /usr/local/lib/python3.6/dist-packages (from torchvision==nightly) (7.0.0)\n",
            "Requirement already satisfied: future in /usr/local/lib/python3.6/dist-packages (from torch->torchvision==nightly) (0.16.0)\n",
            "Installing collected packages: torchvision\n",
            "Successfully installed torchvision-0.8.0a0+75f5b57\n",
            "Reading package lists... Done\n",
            "Building dependency tree       \n",
            "Reading state information... Done\n",
            "The following package was automatically installed and is no longer required:\n",
            "  libnvidia-common-440\n",
            "Use 'apt autoremove' to remove it.\n",
            "The following NEW packages will be installed:\n",
            "  libomp5\n",
            "0 upgraded, 1 newly installed, 0 to remove and 33 not upgraded.\n",
            "Need to get 234 kB of archives.\n",
            "After this operation, 774 kB of additional disk space will be used.\n",
            "Get:1 http://archive.ubuntu.com/ubuntu bionic/universe amd64 libomp5 amd64 5.0.1-1 [234 kB]\n",
            "Fetched 234 kB in 1s (379 kB/s)\n",
            "Selecting previously unselected package libomp5:amd64.\n",
            "(Reading database ... 144379 files and directories currently installed.)\n",
            "Preparing to unpack .../libomp5_5.0.1-1_amd64.deb ...\n",
            "Unpacking libomp5:amd64 (5.0.1-1) ...\n",
            "Setting up libomp5:amd64 (5.0.1-1) ...\n",
            "Processing triggers for libc-bin (2.27-3ubuntu1) ...\n",
            "/sbin/ldconfig.real: /usr/local/lib/python3.6/dist-packages/ideep4py/lib/libmkldnn.so.0 is not a symbolic link\n",
            "\n"
          ],
          "name": "stdout"
        }
      ]
    },
    {
      "cell_type": "code",
      "metadata": {
        "id": "1t9yDuRfOBom",
        "colab_type": "code",
        "colab": {}
      },
      "source": [
        "import torch_xla\n",
        "import torch_xla.core.xla_model as xm #handles most of the basic tasks\n",
        "import torch_xla.debug.metrics as met\n",
        "import torch_xla.distributed.parallel_loader as pl #handles dataloading on multiple processes\n",
        "import torch_xla.distributed.xla_multiprocessing as xmp"
      ],
      "execution_count": null,
      "outputs": []
    },
    {
      "cell_type": "markdown",
      "metadata": {
        "id": "MVpqAMUEOeZL",
        "colab_type": "text"
      },
      "source": [
        "## Pre-Config"
      ]
    },
    {
      "cell_type": "code",
      "metadata": {
        "id": "0s29BtVjVana",
        "colab_type": "code",
        "colab": {}
      },
      "source": [
        "import os\n",
        "from pathlib import Path\n",
        "from google.colab import drive\n",
        "import shutil\n",
        "\n",
        "def create_path(path):\n",
        "    if not os.path.isdir(path):\n",
        "        path.mkdir(parents=True, exist_ok=True)\n",
        "    return path\n",
        "\n",
        "colab_path = Path('/content')"
      ],
      "execution_count": null,
      "outputs": []
    },
    {
      "cell_type": "code",
      "metadata": {
        "id": "jjp17fM_VU-R",
        "colab_type": "code",
        "colab": {}
      },
      "source": [
        "create_path(colab_path/'dataset');\n",
        "create_path(colab_path/'models');\n",
        "\n",
        "!git clone --quiet 'https://github.com/tezike/download_google_drive.git'\n",
        "os.chdir('download_google_drive')\n",
        "!python download_gdrive.py '10rH0nAxa7mWS289xIyRP-mOOowqiIolL' '../dataset/temp.tgz'\n",
        "shutil.rmtree('../download_google_drive')\n",
        "os.chdir('..')"
      ],
      "execution_count": null,
      "outputs": []
    },
    {
      "cell_type": "code",
      "metadata": {
        "id": "m4TXSELgq9e0",
        "colab_type": "code",
        "colab": {
          "base_uri": "https://localhost:8080/",
          "height": 134
        },
        "outputId": "f0d11aab-ac83-4302-fca1-305369bed386"
      },
      "source": [
        "!pip install bcolz transformers -q"
      ],
      "execution_count": null,
      "outputs": [
        {
          "output_type": "stream",
          "text": [
            "\u001b[K     |████████████████████████████████| 1.5MB 3.4MB/s \n",
            "\u001b[K     |████████████████████████████████| 757kB 23.2MB/s \n",
            "\u001b[K     |████████████████████████████████| 1.1MB 34.3MB/s \n",
            "\u001b[K     |████████████████████████████████| 890kB 37.1MB/s \n",
            "\u001b[K     |████████████████████████████████| 3.0MB 47.7MB/s \n",
            "\u001b[?25h  Building wheel for bcolz (setup.py) ... \u001b[?25l\u001b[?25hdone\n",
            "  Building wheel for sacremoses (setup.py) ... \u001b[?25l\u001b[?25hdone\n"
          ],
          "name": "stdout"
        }
      ]
    },
    {
      "cell_type": "markdown",
      "metadata": {
        "id": "yQNK70EuxrRr",
        "colab_type": "text"
      },
      "source": [
        "## Colab_setup"
      ]
    },
    {
      "cell_type": "code",
      "metadata": {
        "id": "GdKS3nNT0IKp",
        "colab_type": "code",
        "colab": {
          "base_uri": "https://localhost:8080/",
          "height": 50
        },
        "outputId": "fe8f56a9-9f49-4758-db29-9501548d3909"
      },
      "source": [
        "from google.colab import drive\n",
        "drive.mount('/content/drive')\n",
        "root_dir = Path('/content/drive/My Drive')\n",
        "base_path = create_path(root_dir/'Rakuten')\n",
        "base_path"
      ],
      "execution_count": null,
      "outputs": [
        {
          "output_type": "stream",
          "text": [
            "Drive already mounted at /content/drive; to attempt to forcibly remount, call drive.mount(\"/content/drive\", force_remount=True).\n"
          ],
          "name": "stdout"
        },
        {
          "output_type": "execute_result",
          "data": {
            "text/plain": [
              "PosixPath('/content/drive/My Drive/Rakuten')"
            ]
          },
          "metadata": {
            "tags": []
          },
          "execution_count": 3
        }
      ]
    },
    {
      "cell_type": "code",
      "metadata": {
        "id": "lFZ3TUKpe-rK",
        "colab_type": "code",
        "colab": {}
      },
      "source": [
        ""
      ],
      "execution_count": null,
      "outputs": []
    },
    {
      "cell_type": "markdown",
      "metadata": {
        "id": "Py8roRZZUi3x",
        "colab_type": "text"
      },
      "source": [
        "## Imports"
      ]
    },
    {
      "cell_type": "code",
      "metadata": {
        "id": "n9OAJLM-Ukc8",
        "colab_type": "code",
        "colab": {}
      },
      "source": [
        "import os\n",
        "import PIL\n",
        "import bcolz\n",
        "import shutil\n",
        "import pandas as pd\n",
        "import numpy as np\n",
        "import albumentations as A\n",
        "\n",
        "from tqdm.notebook import tqdm\n",
        "\n",
        "from pathlib import Path\n",
        "\n",
        "import torch\n",
        "import torch.nn as nn\n",
        "import torch.nn.functional as F\n",
        "import torch.optim as optim\n",
        "from torch.utils.data import SequentialSampler, DataLoader\n",
        "import torchvision\n",
        "\n",
        "import transformers\n",
        "\n",
        "from fastai.vision.data import get_image_files\n",
        "\n",
        "from sklearn.model_selection import train_test_split"
      ],
      "execution_count": null,
      "outputs": []
    },
    {
      "cell_type": "markdown",
      "metadata": {
        "id": "Q71zCSzL8d0Y",
        "colab_type": "text"
      },
      "source": [
        "## Config"
      ]
    },
    {
      "cell_type": "code",
      "metadata": {
        "id": "uKiEw-EQ8gME",
        "trusted": true,
        "colab_type": "code",
        "colab": {}
      },
      "source": [
        "class Config():\n",
        "    def __init__(self):\n",
        "        self.COLAB_PATH = Path('/content/')\n",
        "        self.BASE_PATH = base_path\n",
        "        self.DATA_PATH = create_path(base_path/'dataset')\n",
        "        self.MODEL_PATH = create_path(base_path/'models')\n",
        "        self.IMAGE_TRAIN_PATH = self.COLAB_PATH/'SIGIR-2020-EComDC-release/image/image_training'\n",
        "        self.IMAGE_TEST_PATH = self.COLAB_PATH/'SIGIR-2020-EComDC-release/image/image_test'\n",
        "        self.TEST_FILE = self.COLAB_PATH/'SIGIR-2020-EComDC-release/data/x_test_task1_phase1.tsv'\n",
        "        self.CLEAN_DF = self.DATA_PATH/'clean_folds_df.csv'\n",
        "        \n",
        "        self.MODEL_NAME = 'camembert-base'\n",
        "        # self.LM_MODEL = transformers.CambertForMaskedLM.from_pretrained(self.MODEL_NAME)\n",
        "        self.CLAS_MODEL = transformers.CamembertModel #.from_pretrained(MODEL_NAME)\n",
        "        self.TOKENIZER = transformers.CamembertTokenizer.from_pretrained(\n",
        "                    pretrained_model_name_or_path=self.MODEL_NAME,\n",
        "                    do_lower_case=True,\n",
        "                    )\n",
        "        self.MODEL_CONFIG = transformers.CamembertConfig.from_pretrained(self.MODEL_NAME)\n",
        "        self.MAX_SEQ_LEN = 256\n",
        "        self.BATCH_SIZE = 64\n",
        "        self.TRAIN_BS = 16\n",
        "        self.VALID_BS = 16\n",
        "        self.NUM_EPOCHS = 4\n",
        "        self.sz = 400\n",
        "        self.MEAN = (0.485, 0.456, 0.406)\n",
        "        self.STD = (0.229, 0.224, 0.225)\n",
        "        self.lr = 7e-05\n",
        "\n",
        "config = Config()"
      ],
      "execution_count": null,
      "outputs": []
    },
    {
      "cell_type": "code",
      "metadata": {
        "id": "WtvJtHMNKios",
        "colab_type": "code",
        "colab": {}
      },
      "source": [
        "device = xm.xla_device()"
      ],
      "execution_count": null,
      "outputs": []
    },
    {
      "cell_type": "markdown",
      "metadata": {
        "id": "JpLkKN3a_XIf",
        "colab_type": "text"
      },
      "source": [
        "## Prep Data"
      ]
    },
    {
      "cell_type": "code",
      "metadata": {
        "id": "hlw-2cwy9IH5",
        "colab_type": "code",
        "colab": {}
      },
      "source": [
        "!tar -xzf 'dataset/temp.tgz'"
      ],
      "execution_count": null,
      "outputs": []
    },
    {
      "cell_type": "markdown",
      "metadata": {
        "id": "PThaD3Wv9Hpq",
        "colab_type": "text"
      },
      "source": [
        "## Utils"
      ]
    },
    {
      "cell_type": "code",
      "metadata": {
        "id": "cBMPgrvQ9Gwu",
        "colab_type": "code",
        "colab": {}
      },
      "source": [
        "class AverageMeter():\n",
        "    \"\"\"Computes and stores the average and current value\"\"\"\n",
        "    def __init__(self):\n",
        "        self.reset()\n",
        "\n",
        "    def reset(self):\n",
        "        self.val = 0\n",
        "        self.avg = 0\n",
        "        self.sum = 0\n",
        "        self.count = 0\n",
        "\n",
        "    def update(self, val, n=1):\n",
        "        self.val = val\n",
        "        self.sum += val * n\n",
        "        self.count += n\n",
        "        self.avg = self.sum / self.count"
      ],
      "execution_count": null,
      "outputs": []
    },
    {
      "cell_type": "markdown",
      "metadata": {
        "id": "dHZrOSv4gZ49",
        "colab_type": "text"
      },
      "source": [
        "## Fasttext"
      ]
    },
    {
      "cell_type": "markdown",
      "metadata": {
        "id": "DI2GYZi2Vpa2",
        "colab_type": "text"
      },
      "source": [
        "If running for first time, remove all the comments else run only the uncommented one"
      ]
    },
    {
      "cell_type": "code",
      "metadata": {
        "id": "faIAWXE0gb5m",
        "colab_type": "code",
        "colab": {
          "base_uri": "https://localhost:8080/",
          "height": 118
        },
        "outputId": "0fddd988-c7c6-43b8-acac-a8913d68e0fc"
      },
      "source": [
        "# !git clone https://github.com/facebookresearch/fastText.git\n",
        "# os.chdir('fastText')\n",
        "# !pip install '.' -q"
      ],
      "execution_count": null,
      "outputs": [
        {
          "output_type": "stream",
          "text": [
            "Cloning into 'fastText'...\n",
            "remote: Enumerating objects: 3840, done.\u001b[K\n",
            "remote: Total 3840 (delta 0), reused 0 (delta 0), pack-reused 3840\u001b[K\n",
            "Receiving objects: 100% (3840/3840), 8.21 MiB | 33.77 MiB/s, done.\n",
            "Resolving deltas: 100% (2412/2412), done.\n",
            "  Building wheel for fasttext (setup.py) ... \u001b[?25l\u001b[?25hdone\n"
          ],
          "name": "stdout"
        }
      ]
    },
    {
      "cell_type": "code",
      "metadata": {
        "id": "hogWRPmMghfV",
        "colab_type": "code",
        "colab": {}
      },
      "source": [
        "# os.chdir(config.COLAB_PATH)\n",
        "# !wget https://dl.fbaipublicfiles.com/fasttext/vectors-crawl/cc.en.300.bin.gz -q\n",
        "# # os.chdir(path)"
      ],
      "execution_count": null,
      "outputs": []
    },
    {
      "cell_type": "code",
      "metadata": {
        "id": "ryVSnBIspaQd",
        "colab_type": "code",
        "colab": {}
      },
      "source": [
        "# !gunzip $config.COLAB_PATH/'cc.en.300.bin.gz'"
      ],
      "execution_count": null,
      "outputs": []
    },
    {
      "cell_type": "code",
      "metadata": {
        "id": "gCxiktinhY8L",
        "colab_type": "code",
        "colab": {}
      },
      "source": [
        "# import fasttext as ft\n",
        "# en_vecs = ft.load_model(str((config.COLAB_PATH/'cc.en.300.bin')))"
      ],
      "execution_count": null,
      "outputs": []
    },
    {
      "cell_type": "code",
      "metadata": {
        "id": "2MlpIkJ6oze3",
        "colab_type": "code",
        "colab": {}
      },
      "source": [
        "# categories = df_all.Prdlbl"
      ],
      "execution_count": null,
      "outputs": []
    },
    {
      "cell_type": "code",
      "metadata": {
        "id": "X9_w28sLoqwA",
        "colab_type": "code",
        "colab": {}
      },
      "source": [
        "# vecs = []\n",
        "# for n in categories:\n",
        "#     vecs.append(en_vecs.get_sentence_vector(str(n)))"
      ],
      "execution_count": null,
      "outputs": []
    },
    {
      "cell_type": "code",
      "metadata": {
        "id": "1t2MyoiBqjJB",
        "colab_type": "code",
        "colab": {}
      },
      "source": [
        "# all_label_vecs = np.save(str(config.DATA_PATH/'all_label_vecs.npy'), vecs)"
      ],
      "execution_count": null,
      "outputs": []
    },
    {
      "cell_type": "code",
      "metadata": {
        "id": "zhXFFSEFwEsH",
        "colab_type": "code",
        "colab": {}
      },
      "source": [
        "all_label_vecs = np.load(str(config.DATA_PATH/'all_label_vecs.npy'))"
      ],
      "execution_count": null,
      "outputs": []
    },
    {
      "cell_type": "markdown",
      "metadata": {
        "id": "vOtU6UwCP4sC",
        "colab_type": "text"
      },
      "source": [
        "## Image and text pretrained classifier models (can be skipped)\n",
        "I'll remove their heads and load their pretrained dicts"
      ]
    },
    {
      "cell_type": "code",
      "metadata": {
        "id": "K1Q-9xG6QYHO",
        "colab_type": "code",
        "colab": {}
      },
      "source": [
        "#export\n",
        "class ImageNoClasModel(nn.Module):\n",
        "    def __init__(self, pretrained=False):\n",
        "        super(ImageNoClasModel, self).__init__()\n",
        "        model = torchvision.models.resnet50(pretrained=pretrained)\n",
        "        self.model = nn.Sequential(*list(model.children())[:-1])\n",
        "        # self.model.fc = nn.Linear(in_features=2048, out_features=27)\n",
        "\n",
        "    def forward(self, x):\n",
        "        out = self.model(x)\n",
        "        return out"
      ],
      "execution_count": null,
      "outputs": []
    },
    {
      "cell_type": "code",
      "metadata": {
        "id": "TrUQ44-FQK78",
        "colab_type": "code",
        "colab": {}
      },
      "source": [
        "# export\n",
        "class TextNoClasModel(nn.Module):\n",
        "    def __init__(self, pretrained=True, num_classes=27):\n",
        "        super(TextNoClasModel, self).__init__()\n",
        "        if pretrained:\n",
        "            self.model = config.CLAS_MODEL.from_pretrained(config.MODEL_NAME, config=config.MODEL_CONFIG)\n",
        "        else: \n",
        "            self.model = config.CLAS_MODEL(config.MODEL_CONFIG)\n",
        "                  \n",
        "        self.drop = nn.Dropout(0.4)\n",
        "\n",
        "        # self.lin = nn.Linear(768*2, num_classes)\n",
        "    \n",
        "    def forward(self, ids, mask):\n",
        "\n",
        "        h_0, _ = self.model(ids, attention_mask=mask)\n",
        "        \n",
        "        mean_pool = torch.mean(h_0, 1)\n",
        "\n",
        "        max_pool = torch.max(h_0, 1)[0]\n",
        "\n",
        "        out = torch.cat([mean_pool, max_pool], 1)\n",
        "\n",
        "        # out = self.lin(self.drop(out))\n",
        "        out = self.drop(out)\n",
        "\n",
        "        return out"
      ],
      "execution_count": null,
      "outputs": []
    },
    {
      "cell_type": "code",
      "metadata": {
        "id": "OkDg_7DlR9eB",
        "colab_type": "code",
        "colab": {}
      },
      "source": [
        "def load_model_dict(model, dict_path):\n",
        "    model_dict = model.state_dict()\n",
        "    pretrained_dict = torch.load(dict_path)\n",
        "    needed_dict = {k:v for k, v in pretrained_dict.items() if k in model_dict.keys()}\n",
        "    model_dict.update(needed_dict)\n",
        "    model.load_state_dict(model_dict)\n",
        "    print('Loaded successfully!!')"
      ],
      "execution_count": null,
      "outputs": []
    },
    {
      "cell_type": "code",
      "metadata": {
        "id": "r94yQxywQENS",
        "colab_type": "code",
        "colab": {
          "base_uri": "https://localhost:8080/",
          "height": 50
        },
        "outputId": "ee93f05b-6318-4f1b-a4f0-f31eba935a72"
      },
      "source": [
        "image_model = ImageNoClasModel(pretrained=False)\n",
        "load_model_dict(image_model, config.MODEL_PATH/'model_resnet50.bin')\n",
        "text_model = TextNoClasModel(pretrained=False)\n",
        "load_model_dict(text_model, config.MODEL_PATH/f'torch_xla_pretrained_camembert_fold1.bin')"
      ],
      "execution_count": null,
      "outputs": [
        {
          "output_type": "stream",
          "text": [
            "Loaded successfully!!\n",
            "Loaded successfully!!\n"
          ],
          "name": "stdout"
        }
      ]
    },
    {
      "cell_type": "markdown",
      "metadata": {
        "id": "SBu5zjUL7YUN",
        "colab_type": "text"
      },
      "source": [
        "## Get dataloaders for images and text(can be skipped)"
      ]
    },
    {
      "cell_type": "code",
      "metadata": {
        "id": "3LYQRs3K7t74",
        "colab_type": "code",
        "colab": {}
      },
      "source": [
        "#export\n",
        "def onehot(size, target):\n",
        "    vec = np.zeros(size, dtype=np.float32)\n",
        "    vec[target] = 1.\n",
        "    return vec\n",
        "\n",
        "class ImageDataset(torch.utils.data.Dataset):\n",
        "    def __init__(self, img_paths, lbls, augs=True, resize=False, is_train=True):\n",
        "\n",
        "        self.img_paths = img_paths\n",
        "        self.lbls = lbls\n",
        "        self.augs = augs\n",
        "        self.is_train = is_train\n",
        "        self.resize = resize\n",
        "\n",
        "    def __getitem__(self, i):\n",
        "        img_path = self.img_paths[i]\n",
        "        lbl = self.lbls[i]\n",
        "\n",
        "        img = PIL.Image.open(img_path)\n",
        "\n",
        "        if self.resize:\n",
        "            img = img.resize((config.sz, config.sz), resample=PIL.Image.LANCZOS)\n",
        "           \n",
        "        img = np.asarray(img).astype(np.uint8)\n",
        "\n",
        "        \n",
        "        if self.augs:\n",
        "            if self.is_train:\n",
        "                data = {'image' : img}            \n",
        "                data = self.get_train_transforms()(**data)\n",
        "                img = data['image']\n",
        "            elif not self.is_train:\n",
        "                data = {'image':img}            \n",
        "                data = self.get_valid_transforms()(**data)\n",
        "                img = data['image']\n",
        "\n",
        "        # img = np.array(img)/255.\n",
        "\n",
        "        lbl = onehot(27, lbl)\n",
        "\n",
        "        return {\n",
        "            'image' : torch.tensor(img, dtype=torch.float).permute(2, 0, 1),\n",
        "            'target' : torch.tensor(lbl, dtype=torch.float)\n",
        "            }\n",
        "\n",
        "        \n",
        "    def __len__(self):\n",
        "        return len(self.lbls)\n",
        "\n",
        "    def get_train_transforms(self):\n",
        "        return A.Compose([\n",
        "                A.Normalize(config.MEAN, config.STD, max_pixel_value=255.0, always_apply=True),\n",
        "                # A.RandomSizedCrop(min_max_height=(180, 180), height=224, width=224, p=0.5),\n",
        "                # A.CenterCrop(config.sz, config.sz, always_apply=True),\n",
        "                # A.CenterCrop(224, 224, always_apply=True),\n",
        "                A.RandomRotate90(p=0.5),\n",
        "                A.HorizontalFlip(p=0.5),\n",
        "                A.VerticalFlip(p=0.5),\n",
        "                # A.ShiftScaleRotate(p=0.9),\n",
        "                # A.RandomBrightnessContrast(),\n",
        "                # A.Resize(height=512, width=512, p=1),\n",
        "                # A.CoarseDropout(max_holes=8, max_height=32, max_width=32, min_holes=3, min_height=8, min_width=8, fill_value=0),                  \n",
        "            ], p=1.0)\n",
        "\n",
        "    def get_valid_transforms(self):\n",
        "        return A.Compose([\n",
        "                A.Normalize(config.MEAN, config.STD, max_pixel_value=255.0, always_apply=True),\n",
        "                # A.CenterCrop(config.sz, config.sz, always_apply=True),\n",
        "                # A.Resize(height=400, width=400, p=1.0),\n",
        "            ], p=1.0)\n",
        "    \n",
        "    def get_labels(self):\n",
        "        return list(self.lbls)"
      ],
      "execution_count": null,
      "outputs": []
    },
    {
      "cell_type": "code",
      "metadata": {
        "id": "C6cF3iQX73GE",
        "colab_type": "code",
        "colab": {}
      },
      "source": [
        "# export\n",
        "class TextDataset(torch.utils.data.Dataset):\n",
        "    def __init__(self, text, label):\n",
        "        self.text, self.label = text, label\n",
        "        self.tokenizer = config.TOKENIZER\n",
        "        self.max_len = config.MAX_SEQ_LEN\n",
        "\n",
        "    def __len__(self):\n",
        "        return len(self.label)\n",
        "\n",
        "    def __getitem__(self, i):\n",
        "        # sanity check\n",
        "        text = ' '.join(self.text[i].split())\n",
        "\n",
        "        # tokenize using Huggingface tokenizers\n",
        "        out = self.tokenizer.encode_plus(text, None, \n",
        "                                   add_special_tokens=True, \n",
        "                                   max_length = self.max_len,\n",
        "                                   truncation=True)\n",
        "        \n",
        "        ids = out['input_ids']\n",
        "        mask = out['attention_mask']\n",
        "        \n",
        "        padding_length = self.max_len - len(ids)\n",
        "        ids = ids + ([0] * padding_length)\n",
        "        mask = mask + ([0] * padding_length)\n",
        "\n",
        "        return {\n",
        "            'ids': torch.tensor(ids, dtype=torch.long),\n",
        "            'mask': torch.tensor(mask, dtype=torch.long),\n",
        "            'targets': torch.tensor(self.label[i], dtype=torch.float)\n",
        "        }"
      ],
      "execution_count": null,
      "outputs": []
    },
    {
      "cell_type": "code",
      "metadata": {
        "id": "JimR4YaUOvt2",
        "colab_type": "code",
        "colab": {}
      },
      "source": [
        "df_all = pd.read_csv(config.DATA_PATH/'df_all.csv').fillna(' ')\n",
        "df_all['Prdlbl'] = 0\n",
        "\n",
        "image_ds = ImageDataset(df_all.image_path, df_all.Prdlbl, resize=True, is_train=False)\n",
        "\n",
        "image_dl = torch.utils.data.DataLoader(image_ds, batch_size=config.BATCH_SIZE, drop_last=False,\n",
        "                                        num_workers=0, shuffle=False)"
      ],
      "execution_count": null,
      "outputs": []
    },
    {
      "cell_type": "code",
      "metadata": {
        "id": "b3gAEroYN_Hx",
        "colab_type": "code",
        "colab": {}
      },
      "source": [
        "text_ds = TextDataset((df_all.Title + 'xxfld' + df_all.Description).values, df_all.Prdlbl.values)\n",
        "\n",
        "text_dl = torch.utils.data.DataLoader(text_ds, batch_size=config.BATCH_SIZE, drop_last=False,\n",
        "                                        num_workers=0, shuffle=False)"
      ],
      "execution_count": null,
      "outputs": []
    },
    {
      "cell_type": "markdown",
      "metadata": {
        "id": "tWxraHf_xqpQ",
        "colab_type": "text"
      },
      "source": [
        "## Precompute vectors image and text for train(can be skipped)"
      ]
    },
    {
      "cell_type": "code",
      "metadata": {
        "id": "5XboNqv7xuu4",
        "colab_type": "code",
        "colab": {}
      },
      "source": [
        "def precompute_image_vectors(image_dl, model, path, force):\n",
        "    model.eval()\n",
        "    if os.path.exists(path) and not force: return\n",
        "    arr = bcolz.carray(np.zeros((0,2048), np.float32), chunklen=1, mode='w', rootdir=path)\n",
        "\n",
        "    with torch.no_grad():\n",
        "        for batch in tqdm(image_dl):\n",
        "            img = batch['image'].to(device)\n",
        "            out = model.to(device)(img)\n",
        "            out = out.squeeze(-1).squeeze(-1)\n",
        "            # print(out.shape)\n",
        "            arr.append(out.cpu().numpy())\n",
        "            arr.flush()\n",
        "            # break"
      ],
      "execution_count": null,
      "outputs": []
    },
    {
      "cell_type": "code",
      "metadata": {
        "id": "MULaJbECy8f0",
        "colab_type": "code",
        "colab": {}
      },
      "source": [
        "def precompute_text_vectors(text_dl, model, path, force):\n",
        "    model.eval()\n",
        "    if os.path.exists(path) and not force: return\n",
        "    arr = bcolz.carray(np.zeros((0,768*2), np.float32), chunklen=1, mode='w', rootdir=path)\n",
        "\n",
        "    with torch.no_grad():\n",
        "        for batch in tqdm(text_dl):\n",
        "            ids = batch['ids'].to(device)\n",
        "            mask = batch['mask'].to(device)\n",
        "            out = model.to(device)(ids, mask)\n",
        "            # print(out.shape)\n",
        "            # out = out.squeeze(-1).squeeze(-1)\n",
        "            arr.append(out.cpu().numpy())\n",
        "            arr.flush()\n",
        "            # break"
      ],
      "execution_count": null,
      "outputs": []
    },
    {
      "cell_type": "code",
      "metadata": {
        "id": "2VkOFjekzatw",
        "colab_type": "code",
        "colab": {
          "base_uri": "https://localhost:8080/",
          "referenced_widgets": [
            "db9389e3f13a4810947d150167bdd70d",
            "b07b5cbb25ef4ce48b211316f1b0714f",
            "31c48d5a791646159e4ad7ddd036a46b",
            "7d9af0ac033447889ae5525a888c994c",
            "9a576bdb624948a78f25c840e2d76944",
            "cf6faa46871744f7a79234ae8df37128",
            "02373deffe3348cbb81ad6d2e458b3a5",
            "60ddfefa71af458baea664ee2288ea3e"
          ]
        },
        "outputId": "63d2b0e1-1c1c-43e5-e3bb-ff8086da4499"
      },
      "source": [
        "precompute_image_vectors(image_dl, image_model, config.COLAB_PATH/'train_image_vecs', True)\n",
        "precompute_text_vectors(text_dl, text_model, config.COLAB_PATH/'train_text_vecs', True)"
      ],
      "execution_count": null,
      "outputs": [
        {
          "output_type": "display_data",
          "data": {
            "application/vnd.jupyter.widget-view+json": {
              "model_id": "db9389e3f13a4810947d150167bdd70d",
              "version_minor": 0,
              "version_major": 2
            },
            "text/plain": [
              "HBox(children=(FloatProgress(value=0.0, max=1327.0), HTML(value='')))"
            ]
          },
          "metadata": {
            "tags": []
          }
        },
        {
          "output_type": "stream",
          "text": [
            "\n"
          ],
          "name": "stdout"
        }
      ]
    },
    {
      "cell_type": "code",
      "metadata": {
        "id": "F6SqKR-x0taW",
        "colab_type": "code",
        "colab": {}
      },
      "source": [
        "image_vec_precomputed = bcolz.open(config.COLAB_PATH/'train_image_vecs')\n",
        "text_vec_precomputed = bcolz.open(config.COLAB_PATH/'train_text_vecs')"
      ],
      "execution_count": null,
      "outputs": []
    },
    {
      "cell_type": "markdown",
      "metadata": {
        "id": "7snQQyA0pCKv",
        "colab_type": "text"
      },
      "source": [
        "due to I/O latency when reading files from drive, i've settled to create the procompute image and text vectors in the colab env and then tar it up and copy to gdrive so i can simply download them when needed"
      ]
    },
    {
      "cell_type": "code",
      "metadata": {
        "id": "e2LW6Yi5pr4M",
        "colab_type": "code",
        "colab": {
          "base_uri": "https://localhost:8080/",
          "height": 34
        },
        "outputId": "f3fb0d49-b35c-49d9-9d2a-ee7669780c61"
      },
      "source": [
        "# test (can be removed)\n",
        "\n",
        "# shutil.copytree(config.COLAB_PATH/'train_image_vecs', config.COLAB_PATH/'train_image_vecs2')\n",
        "# shutil.copytree(config.COLAB_PATH/'train_text_vecs', config.COLAB_PATH/'train_text_vecs2')"
      ],
      "execution_count": null,
      "outputs": [
        {
          "output_type": "execute_result",
          "data": {
            "text/plain": [
              "PosixPath('/content/train_text_vecs2')"
            ]
          },
          "metadata": {
            "tags": []
          },
          "execution_count": 57
        }
      ]
    },
    {
      "cell_type": "code",
      "metadata": {
        "id": "A1WhUDvqCk2W",
        "colab_type": "code",
        "colab": {}
      },
      "source": [
        "# test (can be removed)\n",
        "\n",
        "# shutil.rmtree(config.COLAB_PATH/'train_image_vecs2')\n",
        "# shutil.rmtree(config.COLAB_PATH/'train_text_vecs2')"
      ],
      "execution_count": null,
      "outputs": []
    },
    {
      "cell_type": "code",
      "metadata": {
        "id": "WN9jdyWDpfIH",
        "colab_type": "code",
        "colab": {}
      },
      "source": [
        "!tar -czf 'train_image_vecs.tgz' $'train_image_vecs'\n",
        "!tar -czf 'train_text_vecs.tgz' $'train_text_vecs'"
      ],
      "execution_count": null,
      "outputs": []
    },
    {
      "cell_type": "markdown",
      "metadata": {
        "id": "l2UIV7u6qXHX",
        "colab_type": "text"
      },
      "source": [
        "Push tar files into drive"
      ]
    },
    {
      "cell_type": "code",
      "metadata": {
        "id": "D_0CGAR2qjMG",
        "colab_type": "code",
        "colab": {
          "base_uri": "https://localhost:8080/",
          "height": 35
        },
        "outputId": "dbea69b1-b90a-4210-bcdc-4f2b84229446"
      },
      "source": [
        "shutil.copy(config.COLAB_PATH/'train_image_vecs.tgz', config.MODEL_PATH)\n",
        "shutil.copy(config.COLAB_PATH/'train_text_vecs.tgz', config.MODEL_PATH)"
      ],
      "execution_count": null,
      "outputs": [
        {
          "output_type": "execute_result",
          "data": {
            "application/vnd.google.colaboratory.intrinsic": {
              "type": "string"
            },
            "text/plain": [
              "'/content/drive/My Drive/Rakuten/models/train_image_vecs.tgz'"
            ]
          },
          "metadata": {
            "tags": []
          },
          "execution_count": 27
        }
      ]
    },
    {
      "cell_type": "markdown",
      "metadata": {
        "id": "fIqQ2gNAJwa2",
        "colab_type": "text"
      },
      "source": [
        "## Precomputed vecs from drive"
      ]
    },
    {
      "cell_type": "code",
      "metadata": {
        "id": "RAcy9EjgrCHX",
        "colab_type": "code",
        "colab": {}
      },
      "source": [
        "# TODO: Add the path ids to these files to the github downloader"
      ],
      "execution_count": null,
      "outputs": []
    },
    {
      "cell_type": "code",
      "metadata": {
        "id": "j53DRP0FZ41Y",
        "colab_type": "code",
        "colab": {}
      },
      "source": [
        "!git clone --quiet 'https://github.com/tezike/download_google_drive.git'\n",
        "os.chdir('download_google_drive')\n",
        "!python download_gdrive.py '1pn98vCPS_PvB6wOHXUuS2ITGt6LzPNAD' '../train_image_vecs.tgz'\n",
        "!python download_gdrive.py '14aYrg4uaki3Ej_FASF2-T-q0lW1L2tPZ' '../train_text_vecs.tgz'\n",
        "shutil.rmtree('../download_google_drive')\n",
        "os.chdir('..')"
      ],
      "execution_count": null,
      "outputs": []
    },
    {
      "cell_type": "code",
      "metadata": {
        "id": "eV4oq_wyrOMQ",
        "colab_type": "code",
        "colab": {}
      },
      "source": [
        "# uncomment this and run if files are sucessfully downloaded from above\n",
        "\n",
        "!tar -xzf 'train_image_vecs.tgz'\n",
        "!tar -xzf 'train_text_vecs.tgz'"
      ],
      "execution_count": null,
      "outputs": []
    },
    {
      "cell_type": "code",
      "metadata": {
        "id": "UHMqGO7OrpXv",
        "colab_type": "code",
        "colab": {}
      },
      "source": [
        "image_vec_precomputed = bcolz.open(config.COLAB_PATH/'train_image_vecs')\n",
        "text_vec_precomputed = bcolz.open(config.COLAB_PATH/'train_text_vecs')"
      ],
      "execution_count": null,
      "outputs": []
    },
    {
      "cell_type": "markdown",
      "metadata": {
        "id": "qzsO0DcdqewD",
        "colab_type": "text"
      },
      "source": [
        "## input vector to fasttext vector mapping"
      ]
    },
    {
      "cell_type": "code",
      "metadata": {
        "id": "cpjjXyl3wKD_",
        "colab_type": "code",
        "colab": {}
      },
      "source": [
        "class VectorDataset(torch.utils.data.Dataset):\n",
        "    def __init__(self, inp_vecs, targ_vecs):\n",
        "        self.inp_vecs = inp_vecs\n",
        "        self.targ_vecs = targ_vecs\n",
        "\n",
        "    def __len__(self):\n",
        "        return len(self.inp_vecs)\n",
        "\n",
        "    def __getitem__(self, i):\n",
        "        inp_vecs = self.inp_vecs[i]\n",
        "        targ_vecs = self.targ_vecs[i]\n",
        "\n",
        "        return {\n",
        "                'inp_vecs': torch.tensor(inp_vecs, dtype=torch.float), \n",
        "                'targ_vecs': torch.tensor(targ_vecs, dtype=torch.float)\n",
        "                }"
      ],
      "execution_count": null,
      "outputs": []
    },
    {
      "cell_type": "code",
      "metadata": {
        "id": "25I0dV-s-_Ev",
        "colab_type": "code",
        "colab": {}
      },
      "source": [
        "image_vec_precomputed_train, image_vec_precomputed_valid = train_test_split(image_vec_precomputed, test_size=0.2, shuffle=False)\n",
        "text_vec_precomputed_train, text_vec_precomputed_valid = train_test_split(text_vec_precomputed, test_size=0.2, shuffle=False)"
      ],
      "execution_count": null,
      "outputs": []
    },
    {
      "cell_type": "code",
      "metadata": {
        "id": "Xq5JDqQyxYHu",
        "colab_type": "code",
        "colab": {}
      },
      "source": [
        "image_train_dataset = VectorDataset(image_vec_precomputed_train[:2000], all_label_vecs[:2000])\n",
        "image_valid_dataset = VectorDataset(image_vec_precomputed_valid[:2000], all_label_vecs[:2000])\n",
        "\n",
        "text_train_dataset = VectorDataset(text_vec_precomputed_train[:2000], all_label_vecs[:2000])\n",
        "text_valid_dataset = VectorDataset(text_vec_precomputed_train[:2000], all_label_vecs[:2000])"
      ],
      "execution_count": null,
      "outputs": []
    },
    {
      "cell_type": "code",
      "metadata": {
        "id": "NyAn_xFebDte",
        "colab_type": "code",
        "colab": {}
      },
      "source": [
        ""
      ],
      "execution_count": null,
      "outputs": []
    },
    {
      "cell_type": "code",
      "metadata": {
        "id": "wjqeHJjC2CYz",
        "colab_type": "code",
        "colab": {}
      },
      "source": [
        "# from torch.utils.data import SequentialSampler, DataLoader"
      ],
      "execution_count": null,
      "outputs": []
    },
    {
      "cell_type": "code",
      "metadata": {
        "id": "vuYA7BGN18cK",
        "colab_type": "code",
        "colab": {}
      },
      "source": [
        "# image_train_dl = DataLoader(image_train_dataset, batch_size=32, shuffle=False)\n",
        "image_train_dl = DataLoader(image_train_dataset, batch_size=32*2, shuffle=True, drop_last=True)\n",
        "image_valid_dl = DataLoader(image_valid_dataset, batch_size=32//2, shuffle=False, drop_last=False)\n",
        "\n",
        "# text_train_dl = DataLoader(text_train_dataset, batch_size=32, shuffle=False)\n",
        "text_train_dl = DataLoader(text_train_dataset, batch_size=32*2, shuffle=True, drop_last=True)\n",
        "text_valid_dl = DataLoader(text_valid_dataset, batch_size=32//2, shuffle=False, drop_last=False)"
      ],
      "execution_count": null,
      "outputs": []
    },
    {
      "cell_type": "code",
      "metadata": {
        "id": "oWVVTZmC212C",
        "colab_type": "code",
        "colab": {}
      },
      "source": [
        "class VectorNet(nn.Module):\n",
        "    def __init__(self, inp_feat, mid_feat = 1024, out_feat=300):\n",
        "        super(VectorNet, self).__init__()\n",
        "        self.lin1 = nn.Linear(inp_feat, mid_feat, bias=True)\n",
        "        self.bn = nn.BatchNorm1d(mid_feat)\n",
        "        self.relu = nn.ReLU(inplace=True)\n",
        "        self.drop = nn.Dropout(p=0.25, inplace=False)\n",
        "\n",
        "        self.lin2 = nn.Linear(mid_feat, out_feat, bias=True)\n",
        "\n",
        "    def forward(self, inp):\n",
        "        out = self.lin1(inp)\n",
        "        out = self.bn(out)\n",
        "        out = self.relu(out)\n",
        "        out = self.drop(out)\n",
        "        out = self.lin2(out)\n",
        "        return out"
      ],
      "execution_count": null,
      "outputs": []
    },
    {
      "cell_type": "code",
      "metadata": {
        "id": "vD79Cnrm7fyO",
        "colab_type": "code",
        "colab": {}
      },
      "source": [
        "image_net = VectorNet(2048).to(device)\n",
        "text_net = VectorNet(768*2).to(device)"
      ],
      "execution_count": null,
      "outputs": []
    },
    {
      "cell_type": "code",
      "metadata": {
        "id": "hj42WAtG8Zxa",
        "colab_type": "code",
        "colab": {}
      },
      "source": [
        "def cos_loss(inp,targ):\n",
        "    return 1 - F.cosine_similarity(inp,targ).mean()"
      ],
      "execution_count": null,
      "outputs": []
    },
    {
      "cell_type": "code",
      "metadata": {
        "id": "iQXzdXwO8dvJ",
        "colab_type": "code",
        "colab": {}
      },
      "source": [
        "def train(dl, model, optimizer, device):\n",
        "    model.train()\n",
        "    loss_meter = AverageMeter()\n",
        "    p_bar = tqdm(dl, total=len(dl))\n",
        "\n",
        "    for i, batch in enumerate(p_bar):\n",
        "        inp_vecs = batch['inp_vecs']\n",
        "        targ_vecs = batch['targ_vecs']\n",
        "\n",
        "        inp_vecs = inp_vecs.to(device, dtype=torch.float)\n",
        "        targ_vecs = targ_vecs.to(device, dtype=torch.float)\n",
        "\n",
        "        optimizer.zero_grad()\n",
        "        out = model.to(device)(inp_vecs)\n",
        "        loss = cos_loss(out, targ_vecs)\n",
        "        loss_meter.update(loss.item())\n",
        "\n",
        "        if i % 100 == 1: print(f'Training Loss: {loss_meter.avg}')\n",
        "        \n",
        "        loss.backward()\n",
        "        # optimizer.step()\n",
        "        xm.optimizer_step(optimizer)\n",
        "\n",
        "        del out\n",
        "        del inp_vecs\n",
        "        del targ_vecs\n",
        "\n",
        "        p_bar.set_postfix(loss=loss_meter.avg)\n",
        "\n",
        "def evaluate(dl, model, device):\n",
        "    model.eval()\n",
        "    loss_meter = AverageMeter()\n",
        "    p_bar = tqdm(dl, total=len(dl))\n",
        "\n",
        "    all_outs, all_targets = [], []\n",
        "\n",
        "    with torch.no_grad():\n",
        "    \n",
        "        for i, batch in enumerate(p_bar):\n",
        "            inp_vecs = batch['inp_vecs']\n",
        "            targ_vecs = batch['targ_vecs']\n",
        "\n",
        "            inp_vecs = inp_vecs.to(device)\n",
        "            targ_vecs = targ_vecs.to(device)\n",
        "\n",
        "            out = model.to(device)(inp_vecs)\n",
        "            loss = cos_loss(out, targ_vecs)\n",
        "            loss_meter.update(loss.item())\n",
        "\n",
        "            if i % 100 == 1: print(f'Evaluation Loss: {loss_meter.avg}')\n",
        "\n",
        "            # xm.master_print('before append')\n",
        "            all_outs.append(out.cpu().numpy().tolist())\n",
        "            # xm.master_print('after append0')\n",
        "            all_targets.append(targ_vecs.cpu().numpy().tolist())\n",
        "            # xm.master_print('after append1')\n",
        "\n",
        "            del out\n",
        "            del inp_vecs\n",
        "            del targ_vecs\n",
        "\n",
        "            p_bar.set_postfix(loss=loss_meter.avg)\n",
        "\n",
        "        return all_outs, all_targets"
      ],
      "execution_count": null,
      "outputs": []
    },
    {
      "cell_type": "code",
      "metadata": {
        "id": "6jzHl_bBPgYr",
        "colab_type": "code",
        "colab": {
          "base_uri": "https://localhost:8080/",
          "height": 34
        },
        "outputId": "b1689236-b405-4f93-817c-62300a3de61d"
      },
      "source": [
        "import gc; gc.collect()"
      ],
      "execution_count": null,
      "outputs": [
        {
          "output_type": "execute_result",
          "data": {
            "text/plain": [
              "404"
            ]
          },
          "metadata": {
            "tags": []
          },
          "execution_count": 32
        }
      ]
    },
    {
      "cell_type": "code",
      "metadata": {
        "id": "il02DOncA9aL",
        "colab_type": "code",
        "colab": {
          "base_uri": "https://localhost:8080/",
          "height": 661,
          "referenced_widgets": [
            "2b30de500d834486b48126978d83359d",
            "e0df177c39a9441e80f25a63e636acb7",
            "d6b39c6778014d72860e5a3c5d55ab1d",
            "12f3310bd8364d99bd8fafa8d71a1d2f",
            "44a293ae4fd644bdb5f43ff1c32299c8",
            "d35cb89bd20941e0983b9dc75f01eeea",
            "10052a758dd34f918c9736febf73309c",
            "2a529977632343bc8bbf54b81df5f88e",
            "ba8c6baf27f34781a2fdfc92969be859",
            "54e57470803e44088685d2c42ee8bd55",
            "8ff894edd0924dcca632494df885ff76",
            "b08f9c486d294888a3ebb8ae5e7b1403",
            "932c674f63644ab7bb308b9748c0ede7",
            "557f69737b6f4263ab402e017197e322",
            "888bcfba594543159505e450287dee53",
            "a5cd82e1842f4fd19f78aa99eea93ada",
            "f97b55f1c1a2469f8482f0b8580da368",
            "6e1a1c774a2e40a084ee7acb58679b7f",
            "580efa6eb82f48d2bba4b5ed66b5ffae",
            "bec92d376fcf485a81f58c2e99caaf4c",
            "c56eba381db4466b9a235045d0dbbeb0",
            "e9c02495218c4393b89e73039368308f",
            "5231e384d65744c7816840f114e991e4",
            "f96ea01eee994601a1bcdf469303b16f",
            "6ec2b605e8bc4ce5829777abf08849b5",
            "1ad5f4a2f17c4bb8814a6aa40a99f95f",
            "d757d710d3404fd8b98be9e793c58c9c",
            "8a93be03a1084b52905b0eb984651c99",
            "c7affcd143c24eb3ab46ebde884698a2",
            "c01778becd47481c8ac2e7f8a1a6d0ac",
            "09f1cb4242944ef59c11727b1ec591f5",
            "baf55cce896d4804a90898683699e6cc",
            "241069fa2d114933b0780e53aafe454d",
            "79b047e64693423485f89103ea768a76",
            "1ff5a485e76945ababe3f9f98d041d1c",
            "655bf99367a546ec8e3b4e64414cb72f",
            "04ec1340d10048ee91c210a874127de4",
            "afd7a759b7d94a68bc032bc06b590272",
            "f3915ef45e3140efa525129b36c62f29",
            "77e314ab637b489a97ea01aeac4898d5",
            "6370c9fde9154012bdb111ac81607cac",
            "5b1f2b9168a6430f8a60faae91d5c7fb",
            "ae72e2b4cc044f9c977e65adf028e04b",
            "0b51fd6e48534d9882a84e3cbd08102e",
            "d81d550f5cbc40f7b4085b742a046ed6",
            "c7e5fae9620f4aaf92f814f439cd1efc",
            "a6b284c8ed924a73bdea9fdebf81923d",
            "f86c49bd2ac2422f8c6dd42cf108875f",
            "1871a8cfc24e438093b231efe51af17f",
            "6216d8e4278d4cf6831cfa89991b8916",
            "f15a700ebd6e41359e3206a65db49300",
            "719eae27c9c0476b8ba47ade982d7234",
            "1f3fef69aa594bafb531463d1213bd78",
            "45886383fd7c42c087c69b87853a4be7",
            "0b7380a2a4ba4e1791f2e6b13036b121",
            "a82cad6895234b42a7898733ed373574"
          ]
        },
        "outputId": "6de81807-2ab6-4c5e-a1b6-b674c7f3809b"
      },
      "source": [
        "image_lr = 2e-02 * xm.xrt_world_size()\n",
        "optimizer = torch.optim.Adam(image_net.parameters(), lr=image_lr)\n",
        "\n",
        "model_path  = config.MODEL_PATH/'image2fasttext.bin'\n",
        "\n",
        "best_metric = float('-inf')\n",
        "for epoch in range(config.NUM_EPOCHS):\n",
        "    train(image_train_dl, image_net, optimizer, device)\n",
        "    all_outs, all_targs = evaluate(image_valid_dl, image_net, device)\n",
        "\n",
        "    xm.master_print('here0')\n",
        "\n",
        "    similarity = F.cosine_similarity(torch.tensor(all_outs), torch.tensor(all_targs)).mean()\n",
        "    xm.master_print('here1')\n",
        "\n",
        "    if similarity > best_metric:\n",
        "        xm.master_print('Similarity score increased from ({} --> {}). Saving model!'.format(best_metric, similarity))\n",
        "        best_metric = similarity\n",
        "        # xm.save(image_net.state_dict(), model_path)"
      ],
      "execution_count": null,
      "outputs": [
        {
          "output_type": "display_data",
          "data": {
            "application/vnd.jupyter.widget-view+json": {
              "model_id": "2b30de500d834486b48126978d83359d",
              "version_minor": 0,
              "version_major": 2
            },
            "text/plain": [
              "HBox(children=(FloatProgress(value=0.0, max=31.0), HTML(value='')))"
            ]
          },
          "metadata": {
            "tags": []
          }
        },
        {
          "output_type": "stream",
          "text": [
            "Training Loss: 0.5851026177406311\n",
            "\n"
          ],
          "name": "stdout"
        },
        {
          "output_type": "display_data",
          "data": {
            "application/vnd.jupyter.widget-view+json": {
              "model_id": "ba8c6baf27f34781a2fdfc92969be859",
              "version_minor": 0,
              "version_major": 2
            },
            "text/plain": [
              "HBox(children=(FloatProgress(value=0.0, max=125.0), HTML(value='')))"
            ]
          },
          "metadata": {
            "tags": []
          }
        },
        {
          "output_type": "stream",
          "text": [
            "Evaluation Loss: 0.3421779274940491\n",
            "Evaluation Loss: 0.34644026382296694\n",
            "\n",
            "here0\n",
            "here1\n",
            "Similarity score increased from (-inf --> 0.4356200397014618). Saving model!\n"
          ],
          "name": "stdout"
        },
        {
          "output_type": "display_data",
          "data": {
            "application/vnd.jupyter.widget-view+json": {
              "model_id": "f97b55f1c1a2469f8482f0b8580da368",
              "version_minor": 0,
              "version_major": 2
            },
            "text/plain": [
              "HBox(children=(FloatProgress(value=0.0, max=31.0), HTML(value='')))"
            ]
          },
          "metadata": {
            "tags": []
          }
        },
        {
          "output_type": "stream",
          "text": [
            "Training Loss: 0.3480779826641083\n",
            "\n"
          ],
          "name": "stdout"
        },
        {
          "output_type": "display_data",
          "data": {
            "application/vnd.jupyter.widget-view+json": {
              "model_id": "6ec2b605e8bc4ce5829777abf08849b5",
              "version_minor": 0,
              "version_major": 2
            },
            "text/plain": [
              "HBox(children=(FloatProgress(value=0.0, max=125.0), HTML(value='')))"
            ]
          },
          "metadata": {
            "tags": []
          }
        },
        {
          "output_type": "stream",
          "text": [
            "Evaluation Loss: 0.3284217119216919\n",
            "Evaluation Loss: 0.32945774758563323\n",
            "\n",
            "here0\n",
            "here1\n",
            "Similarity score increased from (0.4356200397014618 --> 0.44807374477386475). Saving model!\n"
          ],
          "name": "stdout"
        },
        {
          "output_type": "display_data",
          "data": {
            "application/vnd.jupyter.widget-view+json": {
              "model_id": "241069fa2d114933b0780e53aafe454d",
              "version_minor": 0,
              "version_major": 2
            },
            "text/plain": [
              "HBox(children=(FloatProgress(value=0.0, max=31.0), HTML(value='')))"
            ]
          },
          "metadata": {
            "tags": []
          }
        },
        {
          "output_type": "stream",
          "text": [
            "Training Loss: 0.3360714316368103\n",
            "\n"
          ],
          "name": "stdout"
        },
        {
          "output_type": "display_data",
          "data": {
            "application/vnd.jupyter.widget-view+json": {
              "model_id": "6370c9fde9154012bdb111ac81607cac",
              "version_minor": 0,
              "version_major": 2
            },
            "text/plain": [
              "HBox(children=(FloatProgress(value=0.0, max=125.0), HTML(value='')))"
            ]
          },
          "metadata": {
            "tags": []
          }
        },
        {
          "output_type": "stream",
          "text": [
            "Evaluation Loss: 0.3219001591205597\n",
            "Evaluation Loss: 0.323193266695621\n",
            "\n",
            "here0\n",
            "here1\n",
            "Similarity score increased from (0.44807374477386475 --> 0.45931363105773926). Saving model!\n"
          ],
          "name": "stdout"
        },
        {
          "output_type": "display_data",
          "data": {
            "application/vnd.jupyter.widget-view+json": {
              "model_id": "1871a8cfc24e438093b231efe51af17f",
              "version_minor": 0,
              "version_major": 2
            },
            "text/plain": [
              "HBox(children=(FloatProgress(value=0.0, max=31.0), HTML(value='')))"
            ]
          },
          "metadata": {
            "tags": []
          }
        },
        {
          "output_type": "stream",
          "text": [
            "Training Loss: 0.310409814119339\n"
          ],
          "name": "stdout"
        }
      ]
    },
    {
      "cell_type": "code",
      "metadata": {
        "id": "Pi2oOqrIDALt",
        "colab_type": "code",
        "colab": {}
      },
      "source": [
        "test_lr = 1e-05 * xm.xrt_world_size()\n",
        "optimizer = torch.optim.Adam(text_net.parameters(), lr=test_lr)\n",
        "\n",
        "model_path  = config.MODEL_PATH/'text2fasttext.bin'\n",
        "\n",
        "best_metric = float('-inf')\n",
        "\n",
        "for epoch in range(config.NUM_EPOCHS):\n",
        "    train(text_train_dl, text_net, optimizer, device)\n",
        "    all_outs, all_targs = evaluate(text_valid_dl, text_net, device)\n",
        "\n",
        "    similarity = F.cosine_similarity(tensor(all_outs), tensor(all_targs))\n",
        "    \n",
        "    if similarity > best_metric:\n",
        "        best_metric = similarity\n",
        "        xm.master_print('Similarity score increased from ({} --> {}). Saving model!'.format(best_metric, similarity))\n",
        "        xm.save(text_net.state_dict(), model_path)"
      ],
      "execution_count": null,
      "outputs": []
    },
    {
      "cell_type": "code",
      "metadata": {
        "id": "SrjX6Awn5G_X",
        "colab_type": "code",
        "colab": {}
      },
      "source": [
        "def precompute_fasttextlike_vectors(test_dl, model, path, force):\n",
        "    model.eval()\n",
        "    if os.path.exists(path) and not force: return\n",
        "    arr = bcolz.carray(np.zeros((0,768*2), np.float32), chunklen=1, mode='w', rootdir=path)\n",
        "\n",
        "    with torch.no_grad():\n",
        "        for batch in tqdm(test_dl):\n",
        "            inp_vecs = batch['inp_vecs']\n",
        "\n",
        "            inp_vecs = inp_vecs.to(device)\n",
        "            targ_vecs = targ_vecs.to(device)\n",
        "\n",
        "            out = model(inp_vecs)\n",
        "\n",
        "            arr.append(out.cpu().numpy())\n",
        "            arr.flush()"
      ],
      "execution_count": null,
      "outputs": []
    },
    {
      "cell_type": "markdown",
      "metadata": {
        "id": "XrcHMYUO5GXs",
        "colab_type": "text"
      },
      "source": [
        "## Image Vector to fasttext vector (inference kinda)"
      ]
    },
    {
      "cell_type": "code",
      "metadata": {
        "id": "oaqv-_g2Ayhn",
        "colab_type": "code",
        "colab": {}
      },
      "source": [
        "def get_image_dl(bs):\n",
        "    image_path = config.COLAB_PATH/'SIGIR-2020-EComDC-release/image/image_test/image_test.cross-modal_phase1'\n",
        "\n",
        "    img_files = get_image_files(image_path)\n",
        "    lbls = [0]* len(img_files)\n",
        "\n",
        "    test_ds = ImageDataset(img_files, lbls, resize=True, is_train=False)\n",
        "    \n",
        "    test_dl = torch.utils.data.DataLoader(test_ds, batch_size=bs, drop_last=False, \n",
        "                                           num_workers=0, shuffle=False)\n",
        "    return test_dl"
      ],
      "execution_count": null,
      "outputs": []
    },
    {
      "cell_type": "code",
      "metadata": {
        "id": "84A-R1Tw7YI3",
        "colab_type": "code",
        "colab": {}
      },
      "source": [
        "def get_text_dl(bs):\n",
        "    test_df = pd.read_csv(config.COLAB_PATH/'SIGIR-2020-EComDC-release/data/x_test_task2_phase1.tsv', sep='\\t').fillna(' ')\n",
        "    # test_df = pd.read_csv(data_path, sep='\\t').fillna(' ')\n",
        "    test_df['Prdlbl'] = 0\n",
        "\n",
        "    test_ds = TextDataset((test_df.Title + 'xxfld' + test_df.Description).values, test_df.Prdlbl.values)\n",
        "\n",
        "    test_dl = torch.utils.data.DataLoader(test_ds, batch_size=bs, drop_last=False,\n",
        "                                            num_workers=0, shuffle=False)\n",
        "    return test_dl"
      ],
      "execution_count": null,
      "outputs": []
    },
    {
      "cell_type": "code",
      "metadata": {
        "id": "6bCQXGxf5F6r",
        "colab_type": "code",
        "colab": {}
      },
      "source": [
        "image_net = VectorNet(2048).to(device)\n",
        "image_net.load_state_dict(torch.load(config.MODEL_PATH/'image2fasttext.bin'))\n",
        "\n",
        "text_net = VectorNet(768*2).to(device)\n",
        "text_net.load_state_dict(torch.load(config.MODEL_PATH/'text2fasttext.bin'))"
      ],
      "execution_count": null,
      "outputs": []
    },
    {
      "cell_type": "code",
      "metadata": {
        "id": "_LIPVhJSH6sz",
        "colab_type": "code",
        "colab": {}
      },
      "source": [
        "test_image_dl = get_image_dl(bs)\n",
        "test_text_dl = get_text_dl(bs)"
      ],
      "execution_count": null,
      "outputs": []
    },
    {
      "cell_type": "markdown",
      "metadata": {
        "id": "HQVZUM7LImPJ",
        "colab_type": "text"
      },
      "source": [
        "### precompute the normal image and text vectors"
      ]
    },
    {
      "cell_type": "code",
      "metadata": {
        "colab_type": "code",
        "id": "4s5RPuCkI4JW",
        "colab": {}
      },
      "source": [
        "precompute_image_vectors(test_image_dl, image_model, config.COLAB_PATH/'test_image_vecs', False)\n",
        "precompute_text_vectors(test_text_dl, text_model, config.COLAB_PATH/'test_text_vecs', False)"
      ],
      "execution_count": null,
      "outputs": []
    },
    {
      "cell_type": "code",
      "metadata": {
        "colab_type": "code",
        "id": "wZhFKS6tI4Jo",
        "colab": {}
      },
      "source": [
        "test_image_vec_precomputed = bcolz.open(config.COLAB_PATH/'test_image_vecs')\n",
        "test_text_vec_precomputed = bcolz.open(config.COLAB_PATH/'test_text_vecs')"
      ],
      "execution_count": null,
      "outputs": []
    },
    {
      "cell_type": "code",
      "metadata": {
        "id": "zNxOxxlPm3I_",
        "colab_type": "code",
        "colab": {}
      },
      "source": [
        ""
      ],
      "execution_count": null,
      "outputs": []
    },
    {
      "cell_type": "code",
      "metadata": {
        "colab_type": "code",
        "id": "wOm9WE0qm3nb",
        "colab": {}
      },
      "source": [
        "# !tar -czf 'test_image_vecs.tgz' $'test_image_vecs'\n",
        "# !tar -czf 'test_text_vecs.tgz' $'test_text_vecs'"
      ],
      "execution_count": null,
      "outputs": []
    },
    {
      "cell_type": "markdown",
      "metadata": {
        "colab_type": "text",
        "id": "2RtV1l-mm3np"
      },
      "source": [
        "Push tar files into drive"
      ]
    },
    {
      "cell_type": "code",
      "metadata": {
        "colab_type": "code",
        "id": "5bVLfx92m3nq",
        "colab": {
          "base_uri": "https://localhost:8080/",
          "height": 35
        },
        "outputId": "dbea69b1-b90a-4210-bcdc-4f2b84229446"
      },
      "source": [
        "# shutil.copy(config.COLAB_PATH/'test_image_vecs.tgz', config.MODEL_PATH)\n",
        "# shutil.copy(config.COLAB_PATH/'test_text_vecs.tgz', config.MODEL_PATH)"
      ],
      "execution_count": null,
      "outputs": [
        {
          "output_type": "execute_result",
          "data": {
            "application/vnd.google.colaboratory.intrinsic": {
              "type": "string"
            },
            "text/plain": [
              "'/content/drive/My Drive/Rakuten/models/train_image_vecs.tgz'"
            ]
          },
          "metadata": {
            "tags": []
          },
          "execution_count": 27
        }
      ]
    },
    {
      "cell_type": "markdown",
      "metadata": {
        "id": "MToz7sJQINjc",
        "colab_type": "text"
      },
      "source": [
        "### convert those vectors to fasttextlike vectors"
      ]
    },
    {
      "cell_type": "code",
      "metadata": {
        "id": "12Vsv5hu5yyP",
        "colab_type": "code",
        "colab": {}
      },
      "source": [
        "test_all_label_vecs = [0] * len(test_image_vec_precomputed)\n",
        "\n",
        "test_image_vec_dataset = VectorDataset(test_image_vec_precomputed, test_all_label_vecs)\n",
        "\n",
        "test_text_vec_dataset = VectorDataset(test_text_vec_precomputed, test_all_label_vecs)"
      ],
      "execution_count": null,
      "outputs": []
    },
    {
      "cell_type": "code",
      "metadata": {
        "id": "zhgJiDPlLLEg",
        "colab_type": "code",
        "colab": {}
      },
      "source": [
        "test_image_vec_dl = DataLoader(test_image_vec_dataset, batch_size=64, sampler=SequentialSampler)\n",
        "\n",
        "test_text_vec_dl = DataLoader(test_text_vec_dataset, batch_size=64, sampler=SequentialSampler)"
      ],
      "execution_count": null,
      "outputs": []
    },
    {
      "cell_type": "code",
      "metadata": {
        "id": "ha1_veTqLe9a",
        "colab_type": "code",
        "colab": {}
      },
      "source": [
        "precompute_fasttextlike_vectors(test_image_vec_dl, image_net, config.COLAB_PATH/'fasttext_image_vecs', False)\n",
        "precompute_fasttextlike_vectors(test_text_vec_dl, text_net, config.COLAB_PATH/'fasttext_text_vecs', False)"
      ],
      "execution_count": null,
      "outputs": []
    },
    {
      "cell_type": "code",
      "metadata": {
        "id": "vg9MkGQNL_Ta",
        "colab_type": "code",
        "colab": {}
      },
      "source": [
        "fasttext_image_vec_precomputed = bcolz.open(config.COLAB_PATH/'tmp/fasttext_image_vecs')\n",
        "fasttext_text_vec_precomputed = bcolz.open(config.COLAB_PATH/'tmp/fasttext_text_vecs')"
      ],
      "execution_count": null,
      "outputs": []
    }
  ]
}